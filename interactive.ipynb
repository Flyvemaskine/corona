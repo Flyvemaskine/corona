{
 "cells": [
  {
   "cell_type": "code",
   "execution_count": 23,
   "metadata": {},
   "outputs": [],
   "source": [
    "import pandas as pd\n",
    "import datetime as dt\n",
    "import seaborn as sns\n",
    "import os\n",
    "import subprocess\n",
    "import matplotlib.pyplot as plt\n",
    "import re\n",
    "import numpy as np\n",
    "import plotly.express as px"
   ]
  },
  {
   "cell_type": "code",
   "execution_count": 7,
   "metadata": {},
   "outputs": [],
   "source": [
    "tracking_df = pd.read_csv(\"https://covidtracking.com/api/v1/states/daily.csv\")"
   ]
  },
  {
   "cell_type": "code",
   "execution_count": 15,
   "metadata": {},
   "outputs": [],
   "source": [
    "state = pd.read_csv('/Users/CharlesFederici/corona_python/dash_app/states.csv')"
   ]
  },
  {
   "cell_type": "code",
   "execution_count": 9,
   "metadata": {},
   "outputs": [],
   "source": [
    "tracking_df['date'] = pd.to_datetime(tracking_df['date'], format='%Y%m%d')"
   ]
  },
  {
   "cell_type": "code",
   "execution_count": 18,
   "metadata": {},
   "outputs": [
    {
     "data": {
      "text/html": [
       "<div>\n",
       "<style scoped>\n",
       "    .dataframe tbody tr th:only-of-type {\n",
       "        vertical-align: middle;\n",
       "    }\n",
       "\n",
       "    .dataframe tbody tr th {\n",
       "        vertical-align: top;\n",
       "    }\n",
       "\n",
       "    .dataframe thead th {\n",
       "        text-align: right;\n",
       "    }\n",
       "</style>\n",
       "<table border=\"1\" class=\"dataframe\">\n",
       "  <thead>\n",
       "    <tr style=\"text-align: right;\">\n",
       "      <th></th>\n",
       "      <th>0</th>\n",
       "      <th>1</th>\n",
       "      <th>2</th>\n",
       "      <th>3</th>\n",
       "      <th>4</th>\n",
       "    </tr>\n",
       "  </thead>\n",
       "  <tbody>\n",
       "    <tr>\n",
       "      <th>date</th>\n",
       "      <td>2020-06-12 00:00:00</td>\n",
       "      <td>2020-06-12 00:00:00</td>\n",
       "      <td>2020-06-12 00:00:00</td>\n",
       "      <td>2020-06-12 00:00:00</td>\n",
       "      <td>2020-06-12 00:00:00</td>\n",
       "    </tr>\n",
       "    <tr>\n",
       "      <th>state</th>\n",
       "      <td>AK</td>\n",
       "      <td>AL</td>\n",
       "      <td>AR</td>\n",
       "      <td>AS</td>\n",
       "      <td>AZ</td>\n",
       "    </tr>\n",
       "    <tr>\n",
       "      <th>positive</th>\n",
       "      <td>625</td>\n",
       "      <td>23710</td>\n",
       "      <td>11547</td>\n",
       "      <td>0</td>\n",
       "      <td>32918</td>\n",
       "    </tr>\n",
       "    <tr>\n",
       "      <th>negative</th>\n",
       "      <td>70255</td>\n",
       "      <td>262675</td>\n",
       "      <td>169575</td>\n",
       "      <td>174</td>\n",
       "      <td>278318</td>\n",
       "    </tr>\n",
       "    <tr>\n",
       "      <th>pending</th>\n",
       "      <td>NaN</td>\n",
       "      <td>NaN</td>\n",
       "      <td>NaN</td>\n",
       "      <td>NaN</td>\n",
       "      <td>NaN</td>\n",
       "    </tr>\n",
       "    <tr>\n",
       "      <th>hospitalizedCurrently</th>\n",
       "      <td>15</td>\n",
       "      <td>622</td>\n",
       "      <td>203</td>\n",
       "      <td>NaN</td>\n",
       "      <td>1336</td>\n",
       "    </tr>\n",
       "    <tr>\n",
       "      <th>hospitalizedCumulative</th>\n",
       "      <td>NaN</td>\n",
       "      <td>2202</td>\n",
       "      <td>961</td>\n",
       "      <td>NaN</td>\n",
       "      <td>3622</td>\n",
       "    </tr>\n",
       "    <tr>\n",
       "      <th>inIcuCurrently</th>\n",
       "      <td>NaN</td>\n",
       "      <td>NaN</td>\n",
       "      <td>NaN</td>\n",
       "      <td>NaN</td>\n",
       "      <td>429</td>\n",
       "    </tr>\n",
       "    <tr>\n",
       "      <th>inIcuCumulative</th>\n",
       "      <td>NaN</td>\n",
       "      <td>658</td>\n",
       "      <td>NaN</td>\n",
       "      <td>NaN</td>\n",
       "      <td>NaN</td>\n",
       "    </tr>\n",
       "    <tr>\n",
       "      <th>onVentilatorCurrently</th>\n",
       "      <td>3</td>\n",
       "      <td>NaN</td>\n",
       "      <td>49</td>\n",
       "      <td>NaN</td>\n",
       "      <td>278</td>\n",
       "    </tr>\n",
       "    <tr>\n",
       "      <th>onVentilatorCumulative</th>\n",
       "      <td>NaN</td>\n",
       "      <td>384</td>\n",
       "      <td>157</td>\n",
       "      <td>NaN</td>\n",
       "      <td>NaN</td>\n",
       "    </tr>\n",
       "    <tr>\n",
       "      <th>recovered</th>\n",
       "      <td>403</td>\n",
       "      <td>13508</td>\n",
       "      <td>7607</td>\n",
       "      <td>NaN</td>\n",
       "      <td>5980</td>\n",
       "    </tr>\n",
       "    <tr>\n",
       "      <th>dataQualityGrade</th>\n",
       "      <td>A</td>\n",
       "      <td>B</td>\n",
       "      <td>A</td>\n",
       "      <td>C</td>\n",
       "      <td>A+</td>\n",
       "    </tr>\n",
       "    <tr>\n",
       "      <th>lastUpdateEt</th>\n",
       "      <td>6/12/2020 00:00</td>\n",
       "      <td>6/12/2020 11:00</td>\n",
       "      <td>6/12/2020 15:10</td>\n",
       "      <td>6/1/2020 00:00</td>\n",
       "      <td>6/12/2020 00:00</td>\n",
       "    </tr>\n",
       "    <tr>\n",
       "      <th>dateModified</th>\n",
       "      <td>2020-06-12T00:00:00Z</td>\n",
       "      <td>2020-06-12T11:00:00Z</td>\n",
       "      <td>2020-06-12T15:10:00Z</td>\n",
       "      <td>2020-06-01T00:00:00Z</td>\n",
       "      <td>2020-06-12T00:00:00Z</td>\n",
       "    </tr>\n",
       "    <tr>\n",
       "      <th>checkTimeEt</th>\n",
       "      <td>06/11 20:00</td>\n",
       "      <td>06/12 07:00</td>\n",
       "      <td>06/12 11:10</td>\n",
       "      <td>05/31 20:00</td>\n",
       "      <td>06/11 20:00</td>\n",
       "    </tr>\n",
       "    <tr>\n",
       "      <th>death</th>\n",
       "      <td>12</td>\n",
       "      <td>769</td>\n",
       "      <td>176</td>\n",
       "      <td>0</td>\n",
       "      <td>1144</td>\n",
       "    </tr>\n",
       "    <tr>\n",
       "      <th>hospitalized</th>\n",
       "      <td>NaN</td>\n",
       "      <td>2202</td>\n",
       "      <td>961</td>\n",
       "      <td>NaN</td>\n",
       "      <td>3622</td>\n",
       "    </tr>\n",
       "    <tr>\n",
       "      <th>dateChecked</th>\n",
       "      <td>2020-06-12T00:00:00Z</td>\n",
       "      <td>2020-06-12T11:00:00Z</td>\n",
       "      <td>2020-06-12T15:10:00Z</td>\n",
       "      <td>2020-06-01T00:00:00Z</td>\n",
       "      <td>2020-06-12T00:00:00Z</td>\n",
       "    </tr>\n",
       "    <tr>\n",
       "      <th>totalTestsViral</th>\n",
       "      <td>70880</td>\n",
       "      <td>NaN</td>\n",
       "      <td>NaN</td>\n",
       "      <td>NaN</td>\n",
       "      <td>320816</td>\n",
       "    </tr>\n",
       "    <tr>\n",
       "      <th>positiveTestsViral</th>\n",
       "      <td>NaN</td>\n",
       "      <td>NaN</td>\n",
       "      <td>NaN</td>\n",
       "      <td>NaN</td>\n",
       "      <td>NaN</td>\n",
       "    </tr>\n",
       "    <tr>\n",
       "      <th>negativeTestsViral</th>\n",
       "      <td>NaN</td>\n",
       "      <td>NaN</td>\n",
       "      <td>NaN</td>\n",
       "      <td>NaN</td>\n",
       "      <td>NaN</td>\n",
       "    </tr>\n",
       "    <tr>\n",
       "      <th>positiveCasesViral</th>\n",
       "      <td>NaN</td>\n",
       "      <td>23333</td>\n",
       "      <td>11547</td>\n",
       "      <td>NaN</td>\n",
       "      <td>30955</td>\n",
       "    </tr>\n",
       "    <tr>\n",
       "      <th>fips</th>\n",
       "      <td>2</td>\n",
       "      <td>1</td>\n",
       "      <td>5</td>\n",
       "      <td>60</td>\n",
       "      <td>4</td>\n",
       "    </tr>\n",
       "    <tr>\n",
       "      <th>positiveIncrease</th>\n",
       "      <td>14</td>\n",
       "      <td>865</td>\n",
       "      <td>731</td>\n",
       "      <td>0</td>\n",
       "      <td>1654</td>\n",
       "    </tr>\n",
       "    <tr>\n",
       "      <th>negativeIncrease</th>\n",
       "      <td>1855</td>\n",
       "      <td>6694</td>\n",
       "      <td>3726</td>\n",
       "      <td>0</td>\n",
       "      <td>0</td>\n",
       "    </tr>\n",
       "    <tr>\n",
       "      <th>total</th>\n",
       "      <td>70880</td>\n",
       "      <td>286385</td>\n",
       "      <td>181122</td>\n",
       "      <td>174</td>\n",
       "      <td>311236</td>\n",
       "    </tr>\n",
       "    <tr>\n",
       "      <th>totalTestResults</th>\n",
       "      <td>70880</td>\n",
       "      <td>286385</td>\n",
       "      <td>181122</td>\n",
       "      <td>174</td>\n",
       "      <td>311236</td>\n",
       "    </tr>\n",
       "    <tr>\n",
       "      <th>totalTestResultsIncrease</th>\n",
       "      <td>1869</td>\n",
       "      <td>7559</td>\n",
       "      <td>4457</td>\n",
       "      <td>0</td>\n",
       "      <td>1654</td>\n",
       "    </tr>\n",
       "    <tr>\n",
       "      <th>posNeg</th>\n",
       "      <td>70880</td>\n",
       "      <td>286385</td>\n",
       "      <td>181122</td>\n",
       "      <td>174</td>\n",
       "      <td>311236</td>\n",
       "    </tr>\n",
       "    <tr>\n",
       "      <th>deathIncrease</th>\n",
       "      <td>1</td>\n",
       "      <td>14</td>\n",
       "      <td>5</td>\n",
       "      <td>0</td>\n",
       "      <td>17</td>\n",
       "    </tr>\n",
       "    <tr>\n",
       "      <th>hospitalizedIncrease</th>\n",
       "      <td>0</td>\n",
       "      <td>37</td>\n",
       "      <td>36</td>\n",
       "      <td>0</td>\n",
       "      <td>91</td>\n",
       "    </tr>\n",
       "    <tr>\n",
       "      <th>hash</th>\n",
       "      <td>5f1a4d5e430995ef9030e190ec73783f54ae0d34</td>\n",
       "      <td>dcbcb0ffeb87d85d6579b48479e7c00de3059a96</td>\n",
       "      <td>4bee2db901732ed74238ccbf11e271ba60bcc9fe</td>\n",
       "      <td>ba79cae0ba7e6ce817ec720ab5b17bca838471c3</td>\n",
       "      <td>7e588d0ceb11906740fae70a21bf967f3b6bed91</td>\n",
       "    </tr>\n",
       "    <tr>\n",
       "      <th>commercialScore</th>\n",
       "      <td>0</td>\n",
       "      <td>0</td>\n",
       "      <td>0</td>\n",
       "      <td>0</td>\n",
       "      <td>0</td>\n",
       "    </tr>\n",
       "    <tr>\n",
       "      <th>negativeRegularScore</th>\n",
       "      <td>0</td>\n",
       "      <td>0</td>\n",
       "      <td>0</td>\n",
       "      <td>0</td>\n",
       "      <td>0</td>\n",
       "    </tr>\n",
       "    <tr>\n",
       "      <th>negativeScore</th>\n",
       "      <td>0</td>\n",
       "      <td>0</td>\n",
       "      <td>0</td>\n",
       "      <td>0</td>\n",
       "      <td>0</td>\n",
       "    </tr>\n",
       "    <tr>\n",
       "      <th>positiveScore</th>\n",
       "      <td>0</td>\n",
       "      <td>0</td>\n",
       "      <td>0</td>\n",
       "      <td>0</td>\n",
       "      <td>0</td>\n",
       "    </tr>\n",
       "    <tr>\n",
       "      <th>score</th>\n",
       "      <td>0</td>\n",
       "      <td>0</td>\n",
       "      <td>0</td>\n",
       "      <td>0</td>\n",
       "      <td>0</td>\n",
       "    </tr>\n",
       "    <tr>\n",
       "      <th>grade</th>\n",
       "      <td>NaN</td>\n",
       "      <td>NaN</td>\n",
       "      <td>NaN</td>\n",
       "      <td>NaN</td>\n",
       "      <td>NaN</td>\n",
       "    </tr>\n",
       "  </tbody>\n",
       "</table>\n",
       "</div>"
      ],
      "text/plain": [
       "                                                                 0  \\\n",
       "date                                           2020-06-12 00:00:00   \n",
       "state                                                           AK   \n",
       "positive                                                       625   \n",
       "negative                                                     70255   \n",
       "pending                                                        NaN   \n",
       "hospitalizedCurrently                                           15   \n",
       "hospitalizedCumulative                                         NaN   \n",
       "inIcuCurrently                                                 NaN   \n",
       "inIcuCumulative                                                NaN   \n",
       "onVentilatorCurrently                                            3   \n",
       "onVentilatorCumulative                                         NaN   \n",
       "recovered                                                      403   \n",
       "dataQualityGrade                                                 A   \n",
       "lastUpdateEt                                       6/12/2020 00:00   \n",
       "dateModified                                  2020-06-12T00:00:00Z   \n",
       "checkTimeEt                                            06/11 20:00   \n",
       "death                                                           12   \n",
       "hospitalized                                                   NaN   \n",
       "dateChecked                                   2020-06-12T00:00:00Z   \n",
       "totalTestsViral                                              70880   \n",
       "positiveTestsViral                                             NaN   \n",
       "negativeTestsViral                                             NaN   \n",
       "positiveCasesViral                                             NaN   \n",
       "fips                                                             2   \n",
       "positiveIncrease                                                14   \n",
       "negativeIncrease                                              1855   \n",
       "total                                                        70880   \n",
       "totalTestResults                                             70880   \n",
       "totalTestResultsIncrease                                      1869   \n",
       "posNeg                                                       70880   \n",
       "deathIncrease                                                    1   \n",
       "hospitalizedIncrease                                             0   \n",
       "hash                      5f1a4d5e430995ef9030e190ec73783f54ae0d34   \n",
       "commercialScore                                                  0   \n",
       "negativeRegularScore                                             0   \n",
       "negativeScore                                                    0   \n",
       "positiveScore                                                    0   \n",
       "score                                                            0   \n",
       "grade                                                          NaN   \n",
       "\n",
       "                                                                 1  \\\n",
       "date                                           2020-06-12 00:00:00   \n",
       "state                                                           AL   \n",
       "positive                                                     23710   \n",
       "negative                                                    262675   \n",
       "pending                                                        NaN   \n",
       "hospitalizedCurrently                                          622   \n",
       "hospitalizedCumulative                                        2202   \n",
       "inIcuCurrently                                                 NaN   \n",
       "inIcuCumulative                                                658   \n",
       "onVentilatorCurrently                                          NaN   \n",
       "onVentilatorCumulative                                         384   \n",
       "recovered                                                    13508   \n",
       "dataQualityGrade                                                 B   \n",
       "lastUpdateEt                                       6/12/2020 11:00   \n",
       "dateModified                                  2020-06-12T11:00:00Z   \n",
       "checkTimeEt                                            06/12 07:00   \n",
       "death                                                          769   \n",
       "hospitalized                                                  2202   \n",
       "dateChecked                                   2020-06-12T11:00:00Z   \n",
       "totalTestsViral                                                NaN   \n",
       "positiveTestsViral                                             NaN   \n",
       "negativeTestsViral                                             NaN   \n",
       "positiveCasesViral                                           23333   \n",
       "fips                                                             1   \n",
       "positiveIncrease                                               865   \n",
       "negativeIncrease                                              6694   \n",
       "total                                                       286385   \n",
       "totalTestResults                                            286385   \n",
       "totalTestResultsIncrease                                      7559   \n",
       "posNeg                                                      286385   \n",
       "deathIncrease                                                   14   \n",
       "hospitalizedIncrease                                            37   \n",
       "hash                      dcbcb0ffeb87d85d6579b48479e7c00de3059a96   \n",
       "commercialScore                                                  0   \n",
       "negativeRegularScore                                             0   \n",
       "negativeScore                                                    0   \n",
       "positiveScore                                                    0   \n",
       "score                                                            0   \n",
       "grade                                                          NaN   \n",
       "\n",
       "                                                                 2  \\\n",
       "date                                           2020-06-12 00:00:00   \n",
       "state                                                           AR   \n",
       "positive                                                     11547   \n",
       "negative                                                    169575   \n",
       "pending                                                        NaN   \n",
       "hospitalizedCurrently                                          203   \n",
       "hospitalizedCumulative                                         961   \n",
       "inIcuCurrently                                                 NaN   \n",
       "inIcuCumulative                                                NaN   \n",
       "onVentilatorCurrently                                           49   \n",
       "onVentilatorCumulative                                         157   \n",
       "recovered                                                     7607   \n",
       "dataQualityGrade                                                 A   \n",
       "lastUpdateEt                                       6/12/2020 15:10   \n",
       "dateModified                                  2020-06-12T15:10:00Z   \n",
       "checkTimeEt                                            06/12 11:10   \n",
       "death                                                          176   \n",
       "hospitalized                                                   961   \n",
       "dateChecked                                   2020-06-12T15:10:00Z   \n",
       "totalTestsViral                                                NaN   \n",
       "positiveTestsViral                                             NaN   \n",
       "negativeTestsViral                                             NaN   \n",
       "positiveCasesViral                                           11547   \n",
       "fips                                                             5   \n",
       "positiveIncrease                                               731   \n",
       "negativeIncrease                                              3726   \n",
       "total                                                       181122   \n",
       "totalTestResults                                            181122   \n",
       "totalTestResultsIncrease                                      4457   \n",
       "posNeg                                                      181122   \n",
       "deathIncrease                                                    5   \n",
       "hospitalizedIncrease                                            36   \n",
       "hash                      4bee2db901732ed74238ccbf11e271ba60bcc9fe   \n",
       "commercialScore                                                  0   \n",
       "negativeRegularScore                                             0   \n",
       "negativeScore                                                    0   \n",
       "positiveScore                                                    0   \n",
       "score                                                            0   \n",
       "grade                                                          NaN   \n",
       "\n",
       "                                                                 3  \\\n",
       "date                                           2020-06-12 00:00:00   \n",
       "state                                                           AS   \n",
       "positive                                                         0   \n",
       "negative                                                       174   \n",
       "pending                                                        NaN   \n",
       "hospitalizedCurrently                                          NaN   \n",
       "hospitalizedCumulative                                         NaN   \n",
       "inIcuCurrently                                                 NaN   \n",
       "inIcuCumulative                                                NaN   \n",
       "onVentilatorCurrently                                          NaN   \n",
       "onVentilatorCumulative                                         NaN   \n",
       "recovered                                                      NaN   \n",
       "dataQualityGrade                                                 C   \n",
       "lastUpdateEt                                        6/1/2020 00:00   \n",
       "dateModified                                  2020-06-01T00:00:00Z   \n",
       "checkTimeEt                                            05/31 20:00   \n",
       "death                                                            0   \n",
       "hospitalized                                                   NaN   \n",
       "dateChecked                                   2020-06-01T00:00:00Z   \n",
       "totalTestsViral                                                NaN   \n",
       "positiveTestsViral                                             NaN   \n",
       "negativeTestsViral                                             NaN   \n",
       "positiveCasesViral                                             NaN   \n",
       "fips                                                            60   \n",
       "positiveIncrease                                                 0   \n",
       "negativeIncrease                                                 0   \n",
       "total                                                          174   \n",
       "totalTestResults                                               174   \n",
       "totalTestResultsIncrease                                         0   \n",
       "posNeg                                                         174   \n",
       "deathIncrease                                                    0   \n",
       "hospitalizedIncrease                                             0   \n",
       "hash                      ba79cae0ba7e6ce817ec720ab5b17bca838471c3   \n",
       "commercialScore                                                  0   \n",
       "negativeRegularScore                                             0   \n",
       "negativeScore                                                    0   \n",
       "positiveScore                                                    0   \n",
       "score                                                            0   \n",
       "grade                                                          NaN   \n",
       "\n",
       "                                                                 4  \n",
       "date                                           2020-06-12 00:00:00  \n",
       "state                                                           AZ  \n",
       "positive                                                     32918  \n",
       "negative                                                    278318  \n",
       "pending                                                        NaN  \n",
       "hospitalizedCurrently                                         1336  \n",
       "hospitalizedCumulative                                        3622  \n",
       "inIcuCurrently                                                 429  \n",
       "inIcuCumulative                                                NaN  \n",
       "onVentilatorCurrently                                          278  \n",
       "onVentilatorCumulative                                         NaN  \n",
       "recovered                                                     5980  \n",
       "dataQualityGrade                                                A+  \n",
       "lastUpdateEt                                       6/12/2020 00:00  \n",
       "dateModified                                  2020-06-12T00:00:00Z  \n",
       "checkTimeEt                                            06/11 20:00  \n",
       "death                                                         1144  \n",
       "hospitalized                                                  3622  \n",
       "dateChecked                                   2020-06-12T00:00:00Z  \n",
       "totalTestsViral                                             320816  \n",
       "positiveTestsViral                                             NaN  \n",
       "negativeTestsViral                                             NaN  \n",
       "positiveCasesViral                                           30955  \n",
       "fips                                                             4  \n",
       "positiveIncrease                                              1654  \n",
       "negativeIncrease                                                 0  \n",
       "total                                                       311236  \n",
       "totalTestResults                                            311236  \n",
       "totalTestResultsIncrease                                      1654  \n",
       "posNeg                                                      311236  \n",
       "deathIncrease                                                   17  \n",
       "hospitalizedIncrease                                            91  \n",
       "hash                      7e588d0ceb11906740fae70a21bf967f3b6bed91  \n",
       "commercialScore                                                  0  \n",
       "negativeRegularScore                                             0  \n",
       "negativeScore                                                    0  \n",
       "positiveScore                                                    0  \n",
       "score                                                            0  \n",
       "grade                                                          NaN  "
      ]
     },
     "execution_count": 18,
     "metadata": {},
     "output_type": "execute_result"
    }
   ],
   "source": [
    "tracking_df.head().transpose()"
   ]
  },
  {
   "cell_type": "code",
   "execution_count": 23,
   "metadata": {},
   "outputs": [],
   "source": [
    "tracking_df[['date', 'state', 'positive', \n",
    "             'negative', 'positiveIncrease', \n",
    "             'negativeIncrease','dataQualityGrade']] \\\n",
    "    .to_csv(\"/Users/CharlesFederici/corona_python/data/testing.csv\")"
   ]
  },
  {
   "cell_type": "code",
   "execution_count": 29,
   "metadata": {},
   "outputs": [],
   "source": [
    "tracking_df_total = pd.read_csv(\"https://covidtracking.com/api/v1/us/daily.csv\")\n",
    "tracking_df_total['date'] = pd.to_datetime(tracking_df_total['date'], format='%Y%m%d')"
   ]
  },
  {
   "cell_type": "code",
   "execution_count": 36,
   "metadata": {},
   "outputs": [
    {
     "data": {
      "text/plain": [
       "<matplotlib.legend.Legend at 0x1a21267210>"
      ]
     },
     "execution_count": 36,
     "metadata": {},
     "output_type": "execute_result"
    },
    {
     "data": {
      "image/png": "[encoded data removed]",
      "text/plain": [
       "<Figure size 432x288 with 1 Axes>"
      ]
     },
     "metadata": {
      "needs_background": "light"
     },
     "output_type": "display_data"
    }
   ],
   "source": [
    "fig, ax = plt.subplots()\n",
    "ax.plot(tracking_df_total['date'], tracking_df_total['positive'], label=\"positives\")\n",
    "ax.legend()"
   ]
  },
  {
   "cell_type": "code",
   "execution_count": 31,
   "metadata": {},
   "outputs": [
    {
     "data": {
      "text/html": [
       "<div>\n",
       "<style scoped>\n",
       "    .dataframe tbody tr th:only-of-type {\n",
       "        vertical-align: middle;\n",
       "    }\n",
       "\n",
       "    .dataframe tbody tr th {\n",
       "        vertical-align: top;\n",
       "    }\n",
       "\n",
       "    .dataframe thead th {\n",
       "        text-align: right;\n",
       "    }\n",
       "</style>\n",
       "<table border=\"1\" class=\"dataframe\">\n",
       "  <thead>\n",
       "    <tr style=\"text-align: right;\">\n",
       "      <th></th>\n",
       "      <th>0</th>\n",
       "      <th>1</th>\n",
       "      <th>2</th>\n",
       "      <th>3</th>\n",
       "      <th>4</th>\n",
       "    </tr>\n",
       "  </thead>\n",
       "  <tbody>\n",
       "    <tr>\n",
       "      <th>date</th>\n",
       "      <td>2020-06-12 00:00:00</td>\n",
       "      <td>2020-06-11 00:00:00</td>\n",
       "      <td>2020-06-10 00:00:00</td>\n",
       "      <td>2020-06-09 00:00:00</td>\n",
       "      <td>2020-06-08 00:00:00</td>\n",
       "    </tr>\n",
       "    <tr>\n",
       "      <th>states</th>\n",
       "      <td>56</td>\n",
       "      <td>56</td>\n",
       "      <td>56</td>\n",
       "      <td>56</td>\n",
       "      <td>56</td>\n",
       "    </tr>\n",
       "    <tr>\n",
       "      <th>positive</th>\n",
       "      <td>2037530</td>\n",
       "      <td>2013778</td>\n",
       "      <td>1991527</td>\n",
       "      <td>1970765</td>\n",
       "      <td>1953730</td>\n",
       "    </tr>\n",
       "    <tr>\n",
       "      <th>negative</th>\n",
       "      <td>2.04797e+07</td>\n",
       "      <td>1.99195e+07</td>\n",
       "      <td>1.9495e+07</td>\n",
       "      <td>1.90963e+07</td>\n",
       "      <td>1.86996e+07</td>\n",
       "    </tr>\n",
       "    <tr>\n",
       "      <th>pending</th>\n",
       "      <td>1783</td>\n",
       "      <td>1816</td>\n",
       "      <td>1737</td>\n",
       "      <td>1661</td>\n",
       "      <td>1606</td>\n",
       "    </tr>\n",
       "    <tr>\n",
       "      <th>hospitalizedCurrently</th>\n",
       "      <td>28524</td>\n",
       "      <td>29064</td>\n",
       "      <td>30203</td>\n",
       "      <td>30547</td>\n",
       "      <td>29969</td>\n",
       "    </tr>\n",
       "    <tr>\n",
       "      <th>hospitalizedCumulative</th>\n",
       "      <td>223281</td>\n",
       "      <td>221983</td>\n",
       "      <td>220602</td>\n",
       "      <td>219089</td>\n",
       "      <td>217581</td>\n",
       "    </tr>\n",
       "    <tr>\n",
       "      <th>inIcuCurrently</th>\n",
       "      <td>6012</td>\n",
       "      <td>6067</td>\n",
       "      <td>6242</td>\n",
       "      <td>6450</td>\n",
       "      <td>6394</td>\n",
       "    </tr>\n",
       "    <tr>\n",
       "      <th>inIcuCumulative</th>\n",
       "      <td>9373</td>\n",
       "      <td>9295</td>\n",
       "      <td>9225</td>\n",
       "      <td>9141</td>\n",
       "      <td>9013</td>\n",
       "    </tr>\n",
       "    <tr>\n",
       "      <th>onVentilatorCurrently</th>\n",
       "      <td>2734</td>\n",
       "      <td>2886</td>\n",
       "      <td>3020</td>\n",
       "      <td>3090</td>\n",
       "      <td>3240</td>\n",
       "    </tr>\n",
       "    <tr>\n",
       "      <th>onVentilatorCumulative</th>\n",
       "      <td>814</td>\n",
       "      <td>792</td>\n",
       "      <td>780</td>\n",
       "      <td>771</td>\n",
       "      <td>762</td>\n",
       "    </tr>\n",
       "    <tr>\n",
       "      <th>recovered</th>\n",
       "      <td>547386</td>\n",
       "      <td>540292</td>\n",
       "      <td>533504</td>\n",
       "      <td>524855</td>\n",
       "      <td>518522</td>\n",
       "    </tr>\n",
       "    <tr>\n",
       "      <th>dateChecked</th>\n",
       "      <td>2020-06-12T00:00:00Z</td>\n",
       "      <td>2020-06-11T00:00:00Z</td>\n",
       "      <td>2020-06-10T00:00:00Z</td>\n",
       "      <td>2020-06-09T00:00:00Z</td>\n",
       "      <td>2020-06-08T00:00:00Z</td>\n",
       "    </tr>\n",
       "    <tr>\n",
       "      <th>death</th>\n",
       "      <td>108554</td>\n",
       "      <td>107803</td>\n",
       "      <td>106867</td>\n",
       "      <td>105989</td>\n",
       "      <td>105087</td>\n",
       "    </tr>\n",
       "    <tr>\n",
       "      <th>hospitalized</th>\n",
       "      <td>223281</td>\n",
       "      <td>221983</td>\n",
       "      <td>220602</td>\n",
       "      <td>219089</td>\n",
       "      <td>217581</td>\n",
       "    </tr>\n",
       "    <tr>\n",
       "      <th>lastModified</th>\n",
       "      <td>2020-06-12T00:00:00Z</td>\n",
       "      <td>2020-06-11T00:00:00Z</td>\n",
       "      <td>2020-06-10T00:00:00Z</td>\n",
       "      <td>2020-06-09T00:00:00Z</td>\n",
       "      <td>2020-06-08T00:00:00Z</td>\n",
       "    </tr>\n",
       "    <tr>\n",
       "      <th>total</th>\n",
       "      <td>22519045</td>\n",
       "      <td>21935117</td>\n",
       "      <td>21488273</td>\n",
       "      <td>21068729</td>\n",
       "      <td>20654908</td>\n",
       "    </tr>\n",
       "    <tr>\n",
       "      <th>totalTestResults</th>\n",
       "      <td>22517262</td>\n",
       "      <td>21933301</td>\n",
       "      <td>21486536</td>\n",
       "      <td>21067068</td>\n",
       "      <td>20653302</td>\n",
       "    </tr>\n",
       "    <tr>\n",
       "      <th>posNeg</th>\n",
       "      <td>22517262</td>\n",
       "      <td>21933301</td>\n",
       "      <td>21486536</td>\n",
       "      <td>21067068</td>\n",
       "      <td>20653302</td>\n",
       "    </tr>\n",
       "    <tr>\n",
       "      <th>deathIncrease</th>\n",
       "      <td>751</td>\n",
       "      <td>936</td>\n",
       "      <td>878</td>\n",
       "      <td>902</td>\n",
       "      <td>655</td>\n",
       "    </tr>\n",
       "    <tr>\n",
       "      <th>hospitalizedIncrease</th>\n",
       "      <td>1298</td>\n",
       "      <td>1381</td>\n",
       "      <td>1513</td>\n",
       "      <td>1508</td>\n",
       "      <td>675</td>\n",
       "    </tr>\n",
       "    <tr>\n",
       "      <th>negativeIncrease</th>\n",
       "      <td>560209</td>\n",
       "      <td>424514</td>\n",
       "      <td>398706</td>\n",
       "      <td>396731</td>\n",
       "      <td>385104</td>\n",
       "    </tr>\n",
       "    <tr>\n",
       "      <th>positiveIncrease</th>\n",
       "      <td>23752</td>\n",
       "      <td>22251</td>\n",
       "      <td>20762</td>\n",
       "      <td>17035</td>\n",
       "      <td>17013</td>\n",
       "    </tr>\n",
       "    <tr>\n",
       "      <th>totalTestResultsIncrease</th>\n",
       "      <td>583961</td>\n",
       "      <td>446765</td>\n",
       "      <td>419468</td>\n",
       "      <td>413766</td>\n",
       "      <td>402117</td>\n",
       "    </tr>\n",
       "    <tr>\n",
       "      <th>hash</th>\n",
       "      <td>0594e115c81f09c80e24f64a8699997163c3f4d7</td>\n",
       "      <td>22e0d9dd6b3d2cb6d2dc8988e6ed85c0a369e7a6</td>\n",
       "      <td>ee889a20c5fb39a6c863740f2e9baa4984f71546</td>\n",
       "      <td>c2868f3058c5715c78f1fdc25e9298dbe2baaf83</td>\n",
       "      <td>f3edbbf1f9ad6e0d1b3f37ca1d46e17f8e3f6336</td>\n",
       "    </tr>\n",
       "  </tbody>\n",
       "</table>\n",
       "</div>"
      ],
      "text/plain": [
       "                                                                 0  \\\n",
       "date                                           2020-06-12 00:00:00   \n",
       "states                                                          56   \n",
       "positive                                                   2037530   \n",
       "negative                                               2.04797e+07   \n",
       "pending                                                       1783   \n",
       "hospitalizedCurrently                                        28524   \n",
       "hospitalizedCumulative                                      223281   \n",
       "inIcuCurrently                                                6012   \n",
       "inIcuCumulative                                               9373   \n",
       "onVentilatorCurrently                                         2734   \n",
       "onVentilatorCumulative                                         814   \n",
       "recovered                                                   547386   \n",
       "dateChecked                                   2020-06-12T00:00:00Z   \n",
       "death                                                       108554   \n",
       "hospitalized                                                223281   \n",
       "lastModified                                  2020-06-12T00:00:00Z   \n",
       "total                                                     22519045   \n",
       "totalTestResults                                          22517262   \n",
       "posNeg                                                    22517262   \n",
       "deathIncrease                                                  751   \n",
       "hospitalizedIncrease                                          1298   \n",
       "negativeIncrease                                            560209   \n",
       "positiveIncrease                                             23752   \n",
       "totalTestResultsIncrease                                    583961   \n",
       "hash                      0594e115c81f09c80e24f64a8699997163c3f4d7   \n",
       "\n",
       "                                                                 1  \\\n",
       "date                                           2020-06-11 00:00:00   \n",
       "states                                                          56   \n",
       "positive                                                   2013778   \n",
       "negative                                               1.99195e+07   \n",
       "pending                                                       1816   \n",
       "hospitalizedCurrently                                        29064   \n",
       "hospitalizedCumulative                                      221983   \n",
       "inIcuCurrently                                                6067   \n",
       "inIcuCumulative                                               9295   \n",
       "onVentilatorCurrently                                         2886   \n",
       "onVentilatorCumulative                                         792   \n",
       "recovered                                                   540292   \n",
       "dateChecked                                   2020-06-11T00:00:00Z   \n",
       "death                                                       107803   \n",
       "hospitalized                                                221983   \n",
       "lastModified                                  2020-06-11T00:00:00Z   \n",
       "total                                                     21935117   \n",
       "totalTestResults                                          21933301   \n",
       "posNeg                                                    21933301   \n",
       "deathIncrease                                                  936   \n",
       "hospitalizedIncrease                                          1381   \n",
       "negativeIncrease                                            424514   \n",
       "positiveIncrease                                             22251   \n",
       "totalTestResultsIncrease                                    446765   \n",
       "hash                      22e0d9dd6b3d2cb6d2dc8988e6ed85c0a369e7a6   \n",
       "\n",
       "                                                                 2  \\\n",
       "date                                           2020-06-10 00:00:00   \n",
       "states                                                          56   \n",
       "positive                                                   1991527   \n",
       "negative                                                1.9495e+07   \n",
       "pending                                                       1737   \n",
       "hospitalizedCurrently                                        30203   \n",
       "hospitalizedCumulative                                      220602   \n",
       "inIcuCurrently                                                6242   \n",
       "inIcuCumulative                                               9225   \n",
       "onVentilatorCurrently                                         3020   \n",
       "onVentilatorCumulative                                         780   \n",
       "recovered                                                   533504   \n",
       "dateChecked                                   2020-06-10T00:00:00Z   \n",
       "death                                                       106867   \n",
       "hospitalized                                                220602   \n",
       "lastModified                                  2020-06-10T00:00:00Z   \n",
       "total                                                     21488273   \n",
       "totalTestResults                                          21486536   \n",
       "posNeg                                                    21486536   \n",
       "deathIncrease                                                  878   \n",
       "hospitalizedIncrease                                          1513   \n",
       "negativeIncrease                                            398706   \n",
       "positiveIncrease                                             20762   \n",
       "totalTestResultsIncrease                                    419468   \n",
       "hash                      ee889a20c5fb39a6c863740f2e9baa4984f71546   \n",
       "\n",
       "                                                                 3  \\\n",
       "date                                           2020-06-09 00:00:00   \n",
       "states                                                          56   \n",
       "positive                                                   1970765   \n",
       "negative                                               1.90963e+07   \n",
       "pending                                                       1661   \n",
       "hospitalizedCurrently                                        30547   \n",
       "hospitalizedCumulative                                      219089   \n",
       "inIcuCurrently                                                6450   \n",
       "inIcuCumulative                                               9141   \n",
       "onVentilatorCurrently                                         3090   \n",
       "onVentilatorCumulative                                         771   \n",
       "recovered                                                   524855   \n",
       "dateChecked                                   2020-06-09T00:00:00Z   \n",
       "death                                                       105989   \n",
       "hospitalized                                                219089   \n",
       "lastModified                                  2020-06-09T00:00:00Z   \n",
       "total                                                     21068729   \n",
       "totalTestResults                                          21067068   \n",
       "posNeg                                                    21067068   \n",
       "deathIncrease                                                  902   \n",
       "hospitalizedIncrease                                          1508   \n",
       "negativeIncrease                                            396731   \n",
       "positiveIncrease                                             17035   \n",
       "totalTestResultsIncrease                                    413766   \n",
       "hash                      c2868f3058c5715c78f1fdc25e9298dbe2baaf83   \n",
       "\n",
       "                                                                 4  \n",
       "date                                           2020-06-08 00:00:00  \n",
       "states                                                          56  \n",
       "positive                                                   1953730  \n",
       "negative                                               1.86996e+07  \n",
       "pending                                                       1606  \n",
       "hospitalizedCurrently                                        29969  \n",
       "hospitalizedCumulative                                      217581  \n",
       "inIcuCurrently                                                6394  \n",
       "inIcuCumulative                                               9013  \n",
       "onVentilatorCurrently                                         3240  \n",
       "onVentilatorCumulative                                         762  \n",
       "recovered                                                   518522  \n",
       "dateChecked                                   2020-06-08T00:00:00Z  \n",
       "death                                                       105087  \n",
       "hospitalized                                                217581  \n",
       "lastModified                                  2020-06-08T00:00:00Z  \n",
       "total                                                     20654908  \n",
       "totalTestResults                                          20653302  \n",
       "posNeg                                                    20653302  \n",
       "deathIncrease                                                  655  \n",
       "hospitalizedIncrease                                           675  \n",
       "negativeIncrease                                            385104  \n",
       "positiveIncrease                                             17013  \n",
       "totalTestResultsIncrease                                    402117  \n",
       "hash                      f3edbbf1f9ad6e0d1b3f37ca1d46e17f8e3f6336  "
      ]
     },
     "execution_count": 31,
     "metadata": {},
     "output_type": "execute_result"
    }
   ],
   "source": [
    "tracking_df_total.head().transpose()"
   ]
  },
  {
   "cell_type": "code",
   "execution_count": 97,
   "metadata": {},
   "outputs": [
    {
     "data": {
      "text/plain": [
       "<subprocess.Popen at 0x1a28814a90>"
      ]
     },
     "execution_count": 97,
     "metadata": {},
     "output_type": "execute_result"
    }
   ],
   "source": []
  },
  {
   "cell_type": "code",
   "execution_count": 126,
   "metadata": {},
   "outputs": [],
   "source": [
    "# Separate data frames for begin - 3/21 and 3/22 to current\n",
    "\n",
    "folder_location = '/Users/CharlesFederici/corona_python/data/COVID-19/csse_covid_19_data/csse_covid_19_daily_reports/'\n",
    "\n",
    "files_to_read = os.listdir(folder_location)\n",
    "case_reports_a = []\n",
    "case_reports_b = []\n",
    "for file_to_read in files_to_read:\n",
    "    if re.match(r'.*.csv', file_to_read):\n",
    "        df = pd.read_csv(folder_location + file_to_read)\n",
    "        file_date = re.search(r\"(.*)\\.csv\", file_to_read)\n",
    "        df['report_date'] = pd.to_datetime(file_date.group(1))\n",
    "        if pd.to_datetime(file_date.group(1)) <= pd.to_datetime(\"2020-03-21\"):\n",
    "            case_reports_a.append(df)\n",
    "        else:\n",
    "            case_reports_b.append(df)\n",
    "\n",
    "case_reports_a = pd.concat(case_reports_a, axis=0, ignore_index=True)\n",
    "case_reports_b = pd.concat(case_reports_b, axis=0, ignore_index=True)"
   ]
  },
  {
   "cell_type": "code",
   "execution_count": 99,
   "metadata": {},
   "outputs": [
    {
     "name": "stdout",
     "output_type": "stream",
     "text": [
      "Province/State\n",
      "Country/Region\n",
      "Last Update\n",
      "Confirmed\n",
      "Deaths\n",
      "Recovered\n",
      "report_date\n",
      "Latitude\n",
      "Longitude\n"
     ]
    }
   ],
   "source": [
    "for col in case_reports_a.columns:\n",
    "    print(col)"
   ]
  },
  {
   "cell_type": "code",
   "execution_count": 98,
   "metadata": {},
   "outputs": [
    {
     "name": "stdout",
     "output_type": "stream",
     "text": [
      "FIPS\n",
      "Admin2\n",
      "Province_State\n",
      "Country_Region\n",
      "Last_Update\n",
      "Lat\n",
      "Long_\n",
      "Confirmed\n",
      "Deaths\n",
      "Recovered\n",
      "Active\n",
      "Combined_Key\n",
      "Incidence_Rate\n",
      "Case-Fatality_Ratio\n",
      "report_date\n"
     ]
    }
   ],
   "source": [
    "for col in case_reports_b.columns:\n",
    "    print(col)"
   ]
  },
  {
   "cell_type": "code",
   "execution_count": 127,
   "metadata": {},
   "outputs": [],
   "source": [
    "case_reports_a=case_reports_a.rename(columns={'Province/State':'province_state',\n",
    "                                              'Country/Region':'country_region'}) \\\n",
    "                             .rename(str.lower, axis='columns') \\\n",
    "                             [['province_state', 'country_region', 'confirmed',\n",
    "                               'deaths', 'recovered', 'report_date', 'latitude',\n",
    "                               'longitude']]\n",
    "\n",
    "case_reports_b['Province_State'] = case_reports_b[\"Province_State\"].fillna(\"NA\")\n",
    "case_reports_b=case_reports_b.rename(str.lower, axis='columns') \\\n",
    "                             .rename(columns={'lat':'latitude',\n",
    "                                              'long_':'longitude'}) \\\n",
    "                             .groupby(['province_state','country_region','report_date'], as_index=False) \\\n",
    "                             .agg({'confirmed':'sum',\n",
    "                                   'deaths':'sum',\n",
    "                                   'recovered':'sum',\n",
    "                                   'longitude':'mean',\n",
    "                                   'latitude':'mean'}) \\\n",
    "                             [['province_state', 'country_region', 'confirmed',\n",
    "                               'deaths', 'recovered', 'report_date', 'latitude',\n",
    "                               'longitude']]\n",
    "\n",
    "case_reports_joined = pd.concat([case_reports_a, case_reports_b], axis=0)\n",
    "\n",
    "case_reports_joined[\"country_region\"] = case_reports_joined[\"country_region\"].str.replace(r'(.*)?(Korea)(.*)?', \"South Korea\")\n",
    "case_reports_joined[\"country_region\"] = case_reports_joined[\"country_region\"].str.replace(r'(.*)?(China)(.*)?', \"China\")\n",
    "\n",
    "\n",
    "case_reports_joined = case_reports_joined \\\n",
    "                            .groupby(['province_state','country_region','report_date'], as_index=False) \\\n",
    "                            .agg({'confirmed':'sum',\n",
    "                                   'deaths':'sum',\n",
    "                                   'recovered':'sum',\n",
    "                                   'longitude':'mean',\n",
    "                                   'latitude':'mean'})"
   ]
  },
  {
   "cell_type": "code",
   "execution_count": 128,
   "metadata": {},
   "outputs": [
    {
     "data": {
      "text/html": [
       "<div>\n",
       "<style scoped>\n",
       "    .dataframe tbody tr th:only-of-type {\n",
       "        vertical-align: middle;\n",
       "    }\n",
       "\n",
       "    .dataframe tbody tr th {\n",
       "        vertical-align: top;\n",
       "    }\n",
       "\n",
       "    .dataframe thead th {\n",
       "        text-align: right;\n",
       "    }\n",
       "</style>\n",
       "<table border=\"1\" class=\"dataframe\">\n",
       "  <thead>\n",
       "    <tr style=\"text-align: right;\">\n",
       "      <th></th>\n",
       "      <th>province_state</th>\n",
       "      <th>country_region</th>\n",
       "      <th>report_date</th>\n",
       "      <th>confirmed</th>\n",
       "      <th>deaths</th>\n",
       "      <th>recovered</th>\n",
       "      <th>longitude</th>\n",
       "      <th>latitude</th>\n",
       "    </tr>\n",
       "  </thead>\n",
       "  <tbody>\n",
       "    <tr>\n",
       "      <th>28123</th>\n",
       "      <td>NA</td>\n",
       "      <td>South Korea</td>\n",
       "      <td>2020-03-22</td>\n",
       "      <td>8897.0</td>\n",
       "      <td>104.0</td>\n",
       "      <td>2909.0</td>\n",
       "      <td>127.766922</td>\n",
       "      <td>35.907757</td>\n",
       "    </tr>\n",
       "    <tr>\n",
       "      <th>28124</th>\n",
       "      <td>NA</td>\n",
       "      <td>South Korea</td>\n",
       "      <td>2020-03-23</td>\n",
       "      <td>8961.0</td>\n",
       "      <td>111.0</td>\n",
       "      <td>3166.0</td>\n",
       "      <td>127.766922</td>\n",
       "      <td>35.907757</td>\n",
       "    </tr>\n",
       "    <tr>\n",
       "      <th>28125</th>\n",
       "      <td>NA</td>\n",
       "      <td>South Korea</td>\n",
       "      <td>2020-03-24</td>\n",
       "      <td>9037.0</td>\n",
       "      <td>120.0</td>\n",
       "      <td>3507.0</td>\n",
       "      <td>127.766922</td>\n",
       "      <td>35.907757</td>\n",
       "    </tr>\n",
       "    <tr>\n",
       "      <th>28126</th>\n",
       "      <td>NA</td>\n",
       "      <td>South Korea</td>\n",
       "      <td>2020-03-25</td>\n",
       "      <td>9137.0</td>\n",
       "      <td>126.0</td>\n",
       "      <td>3730.0</td>\n",
       "      <td>127.766922</td>\n",
       "      <td>35.907757</td>\n",
       "    </tr>\n",
       "    <tr>\n",
       "      <th>28127</th>\n",
       "      <td>NA</td>\n",
       "      <td>South Korea</td>\n",
       "      <td>2020-03-26</td>\n",
       "      <td>9241.0</td>\n",
       "      <td>131.0</td>\n",
       "      <td>4144.0</td>\n",
       "      <td>127.766922</td>\n",
       "      <td>35.907757</td>\n",
       "    </tr>\n",
       "    <tr>\n",
       "      <th>...</th>\n",
       "      <td>...</td>\n",
       "      <td>...</td>\n",
       "      <td>...</td>\n",
       "      <td>...</td>\n",
       "      <td>...</td>\n",
       "      <td>...</td>\n",
       "      <td>...</td>\n",
       "      <td>...</td>\n",
       "    </tr>\n",
       "    <tr>\n",
       "      <th>28208</th>\n",
       "      <td>NA</td>\n",
       "      <td>South Korea</td>\n",
       "      <td>2020-06-15</td>\n",
       "      <td>12155.0</td>\n",
       "      <td>278.0</td>\n",
       "      <td>10760.0</td>\n",
       "      <td>127.766922</td>\n",
       "      <td>35.907757</td>\n",
       "    </tr>\n",
       "    <tr>\n",
       "      <th>28209</th>\n",
       "      <td>NA</td>\n",
       "      <td>South Korea</td>\n",
       "      <td>2020-06-16</td>\n",
       "      <td>12198.0</td>\n",
       "      <td>279.0</td>\n",
       "      <td>10774.0</td>\n",
       "      <td>127.766922</td>\n",
       "      <td>35.907757</td>\n",
       "    </tr>\n",
       "    <tr>\n",
       "      <th>28210</th>\n",
       "      <td>NA</td>\n",
       "      <td>South Korea</td>\n",
       "      <td>2020-06-17</td>\n",
       "      <td>12257.0</td>\n",
       "      <td>280.0</td>\n",
       "      <td>10800.0</td>\n",
       "      <td>127.766922</td>\n",
       "      <td>35.907757</td>\n",
       "    </tr>\n",
       "    <tr>\n",
       "      <th>28211</th>\n",
       "      <td>NA</td>\n",
       "      <td>South Korea</td>\n",
       "      <td>2020-06-18</td>\n",
       "      <td>12306.0</td>\n",
       "      <td>280.0</td>\n",
       "      <td>10835.0</td>\n",
       "      <td>127.766922</td>\n",
       "      <td>35.907757</td>\n",
       "    </tr>\n",
       "    <tr>\n",
       "      <th>28212</th>\n",
       "      <td>NA</td>\n",
       "      <td>South Korea</td>\n",
       "      <td>2020-06-19</td>\n",
       "      <td>12373.0</td>\n",
       "      <td>280.0</td>\n",
       "      <td>10856.0</td>\n",
       "      <td>127.766922</td>\n",
       "      <td>35.907757</td>\n",
       "    </tr>\n",
       "  </tbody>\n",
       "</table>\n",
       "<p>90 rows × 8 columns</p>\n",
       "</div>"
      ],
      "text/plain": [
       "      province_state country_region report_date  confirmed  deaths  recovered  \\\n",
       "28123             NA    South Korea  2020-03-22     8897.0   104.0     2909.0   \n",
       "28124             NA    South Korea  2020-03-23     8961.0   111.0     3166.0   \n",
       "28125             NA    South Korea  2020-03-24     9037.0   120.0     3507.0   \n",
       "28126             NA    South Korea  2020-03-25     9137.0   126.0     3730.0   \n",
       "28127             NA    South Korea  2020-03-26     9241.0   131.0     4144.0   \n",
       "...              ...            ...         ...        ...     ...        ...   \n",
       "28208             NA    South Korea  2020-06-15    12155.0   278.0    10760.0   \n",
       "28209             NA    South Korea  2020-06-16    12198.0   279.0    10774.0   \n",
       "28210             NA    South Korea  2020-06-17    12257.0   280.0    10800.0   \n",
       "28211             NA    South Korea  2020-06-18    12306.0   280.0    10835.0   \n",
       "28212             NA    South Korea  2020-06-19    12373.0   280.0    10856.0   \n",
       "\n",
       "        longitude   latitude  \n",
       "28123  127.766922  35.907757  \n",
       "28124  127.766922  35.907757  \n",
       "28125  127.766922  35.907757  \n",
       "28126  127.766922  35.907757  \n",
       "28127  127.766922  35.907757  \n",
       "...           ...        ...  \n",
       "28208  127.766922  35.907757  \n",
       "28209  127.766922  35.907757  \n",
       "28210  127.766922  35.907757  \n",
       "28211  127.766922  35.907757  \n",
       "28212  127.766922  35.907757  \n",
       "\n",
       "[90 rows x 8 columns]"
      ]
     },
     "execution_count": 128,
     "metadata": {},
     "output_type": "execute_result"
    }
   ],
   "source": [
    "case_reports_joined[case_reports_joined['country_region'] == \"South Korea\"]"
   ]
  },
  {
   "cell_type": "code",
   "execution_count": 110,
   "metadata": {},
   "outputs": [
    {
     "data": {
      "text/plain": [
       "['Italy',\n",
       " 'Brazil',\n",
       " 'Russia',\n",
       " 'Mexico',\n",
       " 'Japan',\n",
       " 'US',\n",
       " 'Canada',\n",
       " 'Colombia',\n",
       " 'Peru',\n",
       " 'Spain',\n",
       " 'India',\n",
       " 'United Kingdom',\n",
       " 'China',\n",
       " 'Chile',\n",
       " 'Netherlands',\n",
       " 'Australia',\n",
       " 'Pakistan',\n",
       " 'Germany',\n",
       " 'Sweden',\n",
       " 'Ukraine',\n",
       " 'Cruise Ship',\n",
       " 'Denmark',\n",
       " 'France']"
      ]
     },
     "execution_count": 110,
     "metadata": {},
     "output_type": "execute_result"
    }
   ],
   "source": [
    "case_reports_b['country_region'].unique().tolist()"
   ]
  },
  {
   "cell_type": "code",
   "execution_count": 129,
   "metadata": {},
   "outputs": [
    {
     "data": {
      "text/html": [
       "<div>\n",
       "<style scoped>\n",
       "    .dataframe tbody tr th:only-of-type {\n",
       "        vertical-align: middle;\n",
       "    }\n",
       "\n",
       "    .dataframe tbody tr th {\n",
       "        vertical-align: top;\n",
       "    }\n",
       "\n",
       "    .dataframe thead th {\n",
       "        text-align: right;\n",
       "    }\n",
       "</style>\n",
       "<table border=\"1\" class=\"dataframe\">\n",
       "  <thead>\n",
       "    <tr style=\"text-align: right;\">\n",
       "      <th></th>\n",
       "      <th>province_state</th>\n",
       "      <th>country_region</th>\n",
       "      <th>report_date</th>\n",
       "      <th>confirmed_pd</th>\n",
       "      <th>deaths_pd</th>\n",
       "      <th>recovered_pd</th>\n",
       "    </tr>\n",
       "  </thead>\n",
       "  <tbody>\n",
       "    <tr>\n",
       "      <th>0</th>\n",
       "      <td>Montreal, QC</td>\n",
       "      <td>Canada</td>\n",
       "      <td>2020-02-29</td>\n",
       "      <td>1.0</td>\n",
       "      <td>0.0</td>\n",
       "      <td>0.0</td>\n",
       "    </tr>\n",
       "    <tr>\n",
       "      <th>1</th>\n",
       "      <td>Montreal, QC</td>\n",
       "      <td>Canada</td>\n",
       "      <td>2020-03-01</td>\n",
       "      <td>1.0</td>\n",
       "      <td>0.0</td>\n",
       "      <td>0.0</td>\n",
       "    </tr>\n",
       "    <tr>\n",
       "      <th>2</th>\n",
       "      <td>Montreal, QC</td>\n",
       "      <td>Canada</td>\n",
       "      <td>2020-03-02</td>\n",
       "      <td>1.0</td>\n",
       "      <td>0.0</td>\n",
       "      <td>0.0</td>\n",
       "    </tr>\n",
       "    <tr>\n",
       "      <th>3</th>\n",
       "      <td>Montreal, QC</td>\n",
       "      <td>Canada</td>\n",
       "      <td>2020-03-03</td>\n",
       "      <td>1.0</td>\n",
       "      <td>0.0</td>\n",
       "      <td>0.0</td>\n",
       "    </tr>\n",
       "    <tr>\n",
       "      <th>4</th>\n",
       "      <td>Montreal, QC</td>\n",
       "      <td>Canada</td>\n",
       "      <td>2020-03-04</td>\n",
       "      <td>1.0</td>\n",
       "      <td>0.0</td>\n",
       "      <td>0.0</td>\n",
       "    </tr>\n",
       "    <tr>\n",
       "      <th>...</th>\n",
       "      <td>...</td>\n",
       "      <td>...</td>\n",
       "      <td>...</td>\n",
       "      <td>...</td>\n",
       "      <td>...</td>\n",
       "      <td>...</td>\n",
       "    </tr>\n",
       "    <tr>\n",
       "      <th>42640</th>\n",
       "      <td>Zhytomyr Oblast</td>\n",
       "      <td>Ukraine</td>\n",
       "      <td>2020-06-16</td>\n",
       "      <td>1087.0</td>\n",
       "      <td>19.0</td>\n",
       "      <td>547.0</td>\n",
       "    </tr>\n",
       "    <tr>\n",
       "      <th>42641</th>\n",
       "      <td>Zhytomyr Oblast</td>\n",
       "      <td>Ukraine</td>\n",
       "      <td>2020-06-17</td>\n",
       "      <td>1101.0</td>\n",
       "      <td>20.0</td>\n",
       "      <td>559.0</td>\n",
       "    </tr>\n",
       "    <tr>\n",
       "      <th>42642</th>\n",
       "      <td>Zhytomyr Oblast</td>\n",
       "      <td>Ukraine</td>\n",
       "      <td>2020-06-18</td>\n",
       "      <td>1147.0</td>\n",
       "      <td>21.0</td>\n",
       "      <td>574.0</td>\n",
       "    </tr>\n",
       "    <tr>\n",
       "      <th>42643</th>\n",
       "      <td>Zhytomyr Oblast</td>\n",
       "      <td>Ukraine</td>\n",
       "      <td>2020-06-19</td>\n",
       "      <td>1154.0</td>\n",
       "      <td>21.0</td>\n",
       "      <td>583.0</td>\n",
       "    </tr>\n",
       "    <tr>\n",
       "      <th>42644</th>\n",
       "      <td>Zhytomyr Oblast</td>\n",
       "      <td>Ukraine</td>\n",
       "      <td>2020-06-20</td>\n",
       "      <td>1201.0</td>\n",
       "      <td>21.0</td>\n",
       "      <td>609.0</td>\n",
       "    </tr>\n",
       "  </tbody>\n",
       "</table>\n",
       "<p>42645 rows × 6 columns</p>\n",
       "</div>"
      ],
      "text/plain": [
       "        province_state country_region report_date  confirmed_pd  deaths_pd  \\\n",
       "0         Montreal, QC         Canada  2020-02-29           1.0        0.0   \n",
       "1         Montreal, QC         Canada  2020-03-01           1.0        0.0   \n",
       "2         Montreal, QC         Canada  2020-03-02           1.0        0.0   \n",
       "3         Montreal, QC         Canada  2020-03-03           1.0        0.0   \n",
       "4         Montreal, QC         Canada  2020-03-04           1.0        0.0   \n",
       "...                ...            ...         ...           ...        ...   \n",
       "42640  Zhytomyr Oblast        Ukraine  2020-06-16        1087.0       19.0   \n",
       "42641  Zhytomyr Oblast        Ukraine  2020-06-17        1101.0       20.0   \n",
       "42642  Zhytomyr Oblast        Ukraine  2020-06-18        1147.0       21.0   \n",
       "42643  Zhytomyr Oblast        Ukraine  2020-06-19        1154.0       21.0   \n",
       "42644  Zhytomyr Oblast        Ukraine  2020-06-20        1201.0       21.0   \n",
       "\n",
       "       recovered_pd  \n",
       "0               0.0  \n",
       "1               0.0  \n",
       "2               0.0  \n",
       "3               0.0  \n",
       "4               0.0  \n",
       "...             ...  \n",
       "42640         547.0  \n",
       "42641         559.0  \n",
       "42642         574.0  \n",
       "42643         583.0  \n",
       "42644         609.0  \n",
       "\n",
       "[42645 rows x 6 columns]"
      ]
     },
     "execution_count": 129,
     "metadata": {},
     "output_type": "execute_result"
    }
   ],
   "source": [
    "case_reports_prior_day = case_reports_joined.copy()\n",
    "case_reports_prior_day['report_date'] = case_reports_prior_day['report_date'] + dt.timedelta(days=1)\n",
    "case_reports_prior_day = case_reports_prior_day.rename({'confirmed':'confirmed_pd',\n",
    "                                                        'deaths':'deaths_pd',\n",
    "                                                        'recovered':'recovered_pd'}, axis=\"columns\") \\\n",
    "                                               .drop(['latitude', 'longitude'], axis=1)\n",
    "case_reports_prior_day"
   ]
  },
  {
   "cell_type": "code",
   "execution_count": 130,
   "metadata": {},
   "outputs": [],
   "source": [
    "case_reports_joined = case_reports_joined.merge(case_reports_prior_day,\n",
    "                                                how='left',\n",
    "                                                left_on=['province_state','country_region','report_date'],\n",
    "                                                right_on=['province_state','country_region','report_date'],\n",
    "                                               validate='one_to_one')\n",
    "\n",
    "case_reports_joined['incremental_confirmed'] = case_reports_joined['confirmed'] - case_reports_joined['confirmed_pd']\n",
    "case_reports_joined['incremental_deaths'] = case_reports_joined['deaths'] - case_reports_joined['deaths_pd']\n",
    "case_reports_joined['incremental_recovered'] = case_reports_joined['recovered'] - case_reports_joined['recovered_pd']"
   ]
  },
  {
   "cell_type": "code",
   "execution_count": 131,
   "metadata": {},
   "outputs": [],
   "source": [
    "def make_keep_col(df, province_col, country_col):\n",
    "    df['keep'] = np.where(df[country_col] == 'US',\n",
    "                          np.where(df[province_col].isin(state.State),\n",
    "                                   1, 0),1)\n",
    "    return(df)\n",
    "\n",
    "case_reports_joined = make_keep_col(case_reports_joined, 'province_state', 'country_region')\n",
    "\n",
    "#Step 5: Create country set\n",
    "case_reports_country = case_reports_joined[(case_reports_joined['keep'] == 1) | (case_reports_joined['province_state'] == \"Recovered\")] \\\n",
    "                            .groupby(['country_region', 'report_date'], as_index=False) \\\n",
    "                            .agg({'confirmed':'sum',\n",
    "                                  'deaths':'sum',\n",
    "                                  'recovered':'sum',\n",
    "                                  'incremental_confirmed':'sum',\n",
    "                                  'incremental_deaths':'sum',\n",
    "                                  'incremental_recovered':'sum'})\n",
    "case_reports_country['active'] = case_reports_country['confirmed'] - case_reports_country['deaths'] - case_reports_country['recovered']\n",
    "case_reports_country['incremental_active'] = case_reports_country['incremental_confirmed'] - case_reports_country['incremental_deaths'] - case_reports_country['incremental_recovered']\n",
    "\n",
    "case_reports_states=case_reports_joined[(case_reports_joined['country_region']=='US') & (case_reports_joined['keep']==1)]\n"
   ]
  },
  {
   "cell_type": "code",
   "execution_count": 136,
   "metadata": {},
   "outputs": [
    {
     "data": {
      "application/vnd.plotly.v1+json": {
       "config": {
        "plotlyServerURL": "https://plot.ly"
       },
       "data": [
        {
         "alignmentgroup": "True",
         "hovertemplate": "report_date=%{x}<br>active=%{y}<extra></extra>",
         "legendgroup": "",
         "marker": {
          "color": "#636efa"
         },
         "name": "",
         "offsetgroup": "",
         "orientation": "v",
         "showlegend": false,
         "textposition": "auto",
         "type": "bar",
         "x": [
          "2020-01-22T00:00:00",
          "2020-01-23T00:00:00",
          "2020-01-24T00:00:00",
          "2020-01-25T00:00:00",
          "2020-01-26T00:00:00",
          "2020-01-27T00:00:00",
          "2020-01-28T00:00:00",
          "2020-01-29T00:00:00",
          "2020-01-30T00:00:00",
          "2020-01-31T00:00:00",
          "2020-02-01T00:00:00",
          "2020-02-02T00:00:00",
          "2020-02-03T00:00:00",
          "2020-02-04T00:00:00",
          "2020-02-05T00:00:00",
          "2020-02-06T00:00:00",
          "2020-02-07T00:00:00",
          "2020-02-08T00:00:00",
          "2020-02-09T00:00:00",
          "2020-02-10T00:00:00",
          "2020-02-11T00:00:00",
          "2020-02-12T00:00:00",
          "2020-02-13T00:00:00",
          "2020-02-14T00:00:00",
          "2020-02-15T00:00:00",
          "2020-02-16T00:00:00",
          "2020-02-17T00:00:00",
          "2020-02-18T00:00:00",
          "2020-02-19T00:00:00",
          "2020-02-20T00:00:00",
          "2020-02-21T00:00:00",
          "2020-02-22T00:00:00",
          "2020-02-23T00:00:00",
          "2020-02-24T00:00:00",
          "2020-02-25T00:00:00",
          "2020-02-26T00:00:00",
          "2020-02-27T00:00:00",
          "2020-02-28T00:00:00",
          "2020-02-29T00:00:00",
          "2020-03-01T00:00:00",
          "2020-03-02T00:00:00",
          "2020-03-03T00:00:00",
          "2020-03-04T00:00:00",
          "2020-03-05T00:00:00",
          "2020-03-06T00:00:00",
          "2020-03-07T00:00:00",
          "2020-03-08T00:00:00",
          "2020-03-09T00:00:00",
          "2020-03-10T00:00:00",
          "2020-03-11T00:00:00",
          "2020-03-12T00:00:00",
          "2020-03-13T00:00:00",
          "2020-03-14T00:00:00",
          "2020-03-15T00:00:00",
          "2020-03-16T00:00:00",
          "2020-03-17T00:00:00",
          "2020-03-18T00:00:00",
          "2020-03-19T00:00:00",
          "2020-03-20T00:00:00",
          "2020-03-21T00:00:00",
          "2020-03-22T00:00:00",
          "2020-03-23T00:00:00",
          "2020-03-24T00:00:00",
          "2020-03-25T00:00:00",
          "2020-03-26T00:00:00",
          "2020-03-27T00:00:00",
          "2020-03-28T00:00:00",
          "2020-03-29T00:00:00",
          "2020-03-30T00:00:00",
          "2020-03-31T00:00:00",
          "2020-04-01T00:00:00",
          "2020-04-02T00:00:00",
          "2020-04-03T00:00:00",
          "2020-04-04T00:00:00",
          "2020-04-05T00:00:00",
          "2020-04-06T00:00:00",
          "2020-04-07T00:00:00",
          "2020-04-08T00:00:00",
          "2020-04-09T00:00:00",
          "2020-04-10T00:00:00",
          "2020-04-11T00:00:00",
          "2020-04-12T00:00:00",
          "2020-04-13T00:00:00",
          "2020-04-14T00:00:00",
          "2020-04-15T00:00:00",
          "2020-04-16T00:00:00",
          "2020-04-17T00:00:00",
          "2020-04-18T00:00:00",
          "2020-04-19T00:00:00",
          "2020-04-20T00:00:00",
          "2020-04-21T00:00:00",
          "2020-04-22T00:00:00",
          "2020-04-23T00:00:00",
          "2020-04-24T00:00:00",
          "2020-04-25T00:00:00",
          "2020-04-26T00:00:00",
          "2020-04-27T00:00:00",
          "2020-04-28T00:00:00",
          "2020-04-29T00:00:00",
          "2020-04-30T00:00:00",
          "2020-05-01T00:00:00",
          "2020-05-02T00:00:00",
          "2020-05-03T00:00:00",
          "2020-05-04T00:00:00",
          "2020-05-05T00:00:00",
          "2020-05-06T00:00:00",
          "2020-05-07T00:00:00",
          "2020-05-08T00:00:00",
          "2020-05-09T00:00:00",
          "2020-05-10T00:00:00",
          "2020-05-11T00:00:00",
          "2020-05-12T00:00:00",
          "2020-05-13T00:00:00",
          "2020-05-14T00:00:00",
          "2020-05-15T00:00:00",
          "2020-05-16T00:00:00",
          "2020-05-17T00:00:00",
          "2020-05-18T00:00:00",
          "2020-05-19T00:00:00",
          "2020-05-20T00:00:00",
          "2020-05-21T00:00:00",
          "2020-05-22T00:00:00",
          "2020-05-23T00:00:00",
          "2020-05-24T00:00:00",
          "2020-05-25T00:00:00",
          "2020-05-26T00:00:00",
          "2020-05-27T00:00:00",
          "2020-05-28T00:00:00",
          "2020-05-29T00:00:00",
          "2020-05-30T00:00:00",
          "2020-05-31T00:00:00",
          "2020-06-01T00:00:00",
          "2020-06-02T00:00:00",
          "2020-06-03T00:00:00",
          "2020-06-04T00:00:00",
          "2020-06-05T00:00:00",
          "2020-06-06T00:00:00",
          "2020-06-07T00:00:00",
          "2020-06-08T00:00:00",
          "2020-06-09T00:00:00",
          "2020-06-10T00:00:00",
          "2020-06-11T00:00:00",
          "2020-06-12T00:00:00",
          "2020-06-13T00:00:00",
          "2020-06-14T00:00:00",
          "2020-06-15T00:00:00",
          "2020-06-16T00:00:00",
          "2020-06-17T00:00:00",
          "2020-06-18T00:00:00",
          "2020-06-19T00:00:00"
         ],
         "xaxis": "x",
         "y": [
          502,
          591,
          854,
          1318,
          1957,
          2723,
          5262,
          5817,
          7818,
          9356,
          11337,
          15783,
          18654,
          22347,
          25732,
          28445,
          31360,
          33379,
          35668,
          37378,
          38581,
          38504,
          52251,
          56799,
          57391,
          57933,
          58046,
          57938,
          56480,
          54761,
          54543,
          51794,
          51325,
          49569,
          47347,
          45297,
          42856,
          39745,
          37137,
          34838,
          32304,
          29802,
          27335,
          25169,
          23643,
          22104,
          20282,
          18880,
          17515,
          16116,
          14859,
          13569,
          12124,
          10783,
          9906,
          9030,
          8106,
          7372,
          6731,
          6189,
          5770,
          5403,
          5036,
          4609,
          4316,
          3887,
          3606,
          3242,
          2973,
          2770,
          2646,
          2545,
          2425,
          2267,
          2062,
          2020,
          1973,
          1905,
          1865,
          1810,
          1794,
          1835,
          1829,
          1761,
          1699,
          1656,
          1572,
          1537,
          1479,
          1436,
          1418,
          1371,
          1265,
          1154,
          1098,
          998,
          907,
          881,
          833,
          796,
          749,
          736,
          643,
          537,
          461,
          404,
          361,
          346,
          226,
          206,
          176,
          159,
          141,
          131,
          120,
          113,
          110,
          115,
          115,
          115,
          115,
          111,
          111,
          114,
          112,
          107,
          101,
          97,
          103,
          104,
          119,
          118,
          123,
          118,
          118,
          119,
          124,
          119,
          113,
          109,
          115,
          114,
          118,
          173,
          215,
          251,
          291,
          310,
          341,
          341
         ],
         "yaxis": "y"
        }
       ],
       "layout": {
        "autosize": true,
        "barmode": "relative",
        "legend": {
         "tracegroupgap": 0
        },
        "margin": {
         "t": 60
        },
        "template": {
         "data": {
          "bar": [
           {
            "error_x": {
             "color": "#2a3f5f"
            },
            "error_y": {
             "color": "#2a3f5f"
            },
            "marker": {
             "line": {
              "color": "#E5ECF6",
              "width": 0.5
             }
            },
            "type": "bar"
           }
          ],
          "barpolar": [
           {
            "marker": {
             "line": {
              "color": "#E5ECF6",
              "width": 0.5
             }
            },
            "type": "barpolar"
           }
          ],
          "carpet": [
           {
            "aaxis": {
             "endlinecolor": "#2a3f5f",
             "gridcolor": "white",
             "linecolor": "white",
             "minorgridcolor": "white",
             "startlinecolor": "#2a3f5f"
            },
            "baxis": {
             "endlinecolor": "#2a3f5f",
             "gridcolor": "white",
             "linecolor": "white",
             "minorgridcolor": "white",
             "startlinecolor": "#2a3f5f"
            },
            "type": "carpet"
           }
          ],
          "choropleth": [
           {
            "colorbar": {
             "outlinewidth": 0,
             "ticks": ""
            },
            "type": "choropleth"
           }
          ],
          "contour": [
           {
            "colorbar": {
             "outlinewidth": 0,
             "ticks": ""
            },
            "colorscale": [
             [
              0,
              "#0d0887"
             ],
             [
              0.1111111111111111,
              "#46039f"
             ],
             [
              0.2222222222222222,
              "#7201a8"
             ],
             [
              0.3333333333333333,
              "#9c179e"
             ],
             [
              0.4444444444444444,
              "#bd3786"
             ],
             [
              0.5555555555555556,
              "#d8576b"
             ],
             [
              0.6666666666666666,
              "#ed7953"
             ],
             [
              0.7777777777777778,
              "#fb9f3a"
             ],
             [
              0.8888888888888888,
              "#fdca26"
             ],
             [
              1,
              "#f0f921"
             ]
            ],
            "type": "contour"
           }
          ],
          "contourcarpet": [
           {
            "colorbar": {
             "outlinewidth": 0,
             "ticks": ""
            },
            "type": "contourcarpet"
           }
          ],
          "heatmap": [
           {
            "colorbar": {
             "outlinewidth": 0,
             "ticks": ""
            },
            "colorscale": [
             [
              0,
              "#0d0887"
             ],
             [
              0.1111111111111111,
              "#46039f"
             ],
             [
              0.2222222222222222,
              "#7201a8"
             ],
             [
              0.3333333333333333,
              "#9c179e"
             ],
             [
              0.4444444444444444,
              "#bd3786"
             ],
             [
              0.5555555555555556,
              "#d8576b"
             ],
             [
              0.6666666666666666,
              "#ed7953"
             ],
             [
              0.7777777777777778,
              "#fb9f3a"
             ],
             [
              0.8888888888888888,
              "#fdca26"
             ],
             [
              1,
              "#f0f921"
             ]
            ],
            "type": "heatmap"
           }
          ],
          "heatmapgl": [
           {
            "colorbar": {
             "outlinewidth": 0,
             "ticks": ""
            },
            "colorscale": [
             [
              0,
              "#0d0887"
             ],
             [
              0.1111111111111111,
              "#46039f"
             ],
             [
              0.2222222222222222,
              "#7201a8"
             ],
             [
              0.3333333333333333,
              "#9c179e"
             ],
             [
              0.4444444444444444,
              "#bd3786"
             ],
             [
              0.5555555555555556,
              "#d8576b"
             ],
             [
              0.6666666666666666,
              "#ed7953"
             ],
             [
              0.7777777777777778,
              "#fb9f3a"
             ],
             [
              0.8888888888888888,
              "#fdca26"
             ],
             [
              1,
              "#f0f921"
             ]
            ],
            "type": "heatmapgl"
           }
          ],
          "histogram": [
           {
            "marker": {
             "colorbar": {
              "outlinewidth": 0,
              "ticks": ""
             }
            },
            "type": "histogram"
           }
          ],
          "histogram2d": [
           {
            "colorbar": {
             "outlinewidth": 0,
             "ticks": ""
            },
            "colorscale": [
             [
              0,
              "#0d0887"
             ],
             [
              0.1111111111111111,
              "#46039f"
             ],
             [
              0.2222222222222222,
              "#7201a8"
             ],
             [
              0.3333333333333333,
              "#9c179e"
             ],
             [
              0.4444444444444444,
              "#bd3786"
             ],
             [
              0.5555555555555556,
              "#d8576b"
             ],
             [
              0.6666666666666666,
              "#ed7953"
             ],
             [
              0.7777777777777778,
              "#fb9f3a"
             ],
             [
              0.8888888888888888,
              "#fdca26"
             ],
             [
              1,
              "#f0f921"
             ]
            ],
            "type": "histogram2d"
           }
          ],
          "histogram2dcontour": [
           {
            "colorbar": {
             "outlinewidth": 0,
             "ticks": ""
            },
            "colorscale": [
             [
              0,
              "#0d0887"
             ],
             [
              0.1111111111111111,
              "#46039f"
             ],
             [
              0.2222222222222222,
              "#7201a8"
             ],
             [
              0.3333333333333333,
              "#9c179e"
             ],
             [
              0.4444444444444444,
              "#bd3786"
             ],
             [
              0.5555555555555556,
              "#d8576b"
             ],
             [
              0.6666666666666666,
              "#ed7953"
             ],
             [
              0.7777777777777778,
              "#fb9f3a"
             ],
             [
              0.8888888888888888,
              "#fdca26"
             ],
             [
              1,
              "#f0f921"
             ]
            ],
            "type": "histogram2dcontour"
           }
          ],
          "mesh3d": [
           {
            "colorbar": {
             "outlinewidth": 0,
             "ticks": ""
            },
            "type": "mesh3d"
           }
          ],
          "parcoords": [
           {
            "line": {
             "colorbar": {
              "outlinewidth": 0,
              "ticks": ""
             }
            },
            "type": "parcoords"
           }
          ],
          "pie": [
           {
            "automargin": true,
            "type": "pie"
           }
          ],
          "scatter": [
           {
            "marker": {
             "colorbar": {
              "outlinewidth": 0,
              "ticks": ""
             }
            },
            "type": "scatter"
           }
          ],
          "scatter3d": [
           {
            "line": {
             "colorbar": {
              "outlinewidth": 0,
              "ticks": ""
             }
            },
            "marker": {
             "colorbar": {
              "outlinewidth": 0,
              "ticks": ""
             }
            },
            "type": "scatter3d"
           }
          ],
          "scattercarpet": [
           {
            "marker": {
             "colorbar": {
              "outlinewidth": 0,
              "ticks": ""
             }
            },
            "type": "scattercarpet"
           }
          ],
          "scattergeo": [
           {
            "marker": {
             "colorbar": {
              "outlinewidth": 0,
              "ticks": ""
             }
            },
            "type": "scattergeo"
           }
          ],
          "scattergl": [
           {
            "marker": {
             "colorbar": {
              "outlinewidth": 0,
              "ticks": ""
             }
            },
            "type": "scattergl"
           }
          ],
          "scattermapbox": [
           {
            "marker": {
             "colorbar": {
              "outlinewidth": 0,
              "ticks": ""
             }
            },
            "type": "scattermapbox"
           }
          ],
          "scatterpolar": [
           {
            "marker": {
             "colorbar": {
              "outlinewidth": 0,
              "ticks": ""
             }
            },
            "type": "scatterpolar"
           }
          ],
          "scatterpolargl": [
           {
            "marker": {
             "colorbar": {
              "outlinewidth": 0,
              "ticks": ""
             }
            },
            "type": "scatterpolargl"
           }
          ],
          "scatterternary": [
           {
            "marker": {
             "colorbar": {
              "outlinewidth": 0,
              "ticks": ""
             }
            },
            "type": "scatterternary"
           }
          ],
          "surface": [
           {
            "colorbar": {
             "outlinewidth": 0,
             "ticks": ""
            },
            "colorscale": [
             [
              0,
              "#0d0887"
             ],
             [
              0.1111111111111111,
              "#46039f"
             ],
             [
              0.2222222222222222,
              "#7201a8"
             ],
             [
              0.3333333333333333,
              "#9c179e"
             ],
             [
              0.4444444444444444,
              "#bd3786"
             ],
             [
              0.5555555555555556,
              "#d8576b"
             ],
             [
              0.6666666666666666,
              "#ed7953"
             ],
             [
              0.7777777777777778,
              "#fb9f3a"
             ],
             [
              0.8888888888888888,
              "#fdca26"
             ],
             [
              1,
              "#f0f921"
             ]
            ],
            "type": "surface"
           }
          ],
          "table": [
           {
            "cells": {
             "fill": {
              "color": "#EBF0F8"
             },
             "line": {
              "color": "white"
             }
            },
            "header": {
             "fill": {
              "color": "#C8D4E3"
             },
             "line": {
              "color": "white"
             }
            },
            "type": "table"
           }
          ]
         },
         "layout": {
          "annotationdefaults": {
           "arrowcolor": "#2a3f5f",
           "arrowhead": 0,
           "arrowwidth": 1
          },
          "coloraxis": {
           "colorbar": {
            "outlinewidth": 0,
            "ticks": ""
           }
          },
          "colorscale": {
           "diverging": [
            [
             0,
             "#8e0152"
            ],
            [
             0.1,
             "#c51b7d"
            ],
            [
             0.2,
             "#de77ae"
            ],
            [
             0.3,
             "#f1b6da"
            ],
            [
             0.4,
             "#fde0ef"
            ],
            [
             0.5,
             "#f7f7f7"
            ],
            [
             0.6,
             "#e6f5d0"
            ],
            [
             0.7,
             "#b8e186"
            ],
            [
             0.8,
             "#7fbc41"
            ],
            [
             0.9,
             "#4d9221"
            ],
            [
             1,
             "#276419"
            ]
           ],
           "sequential": [
            [
             0,
             "#0d0887"
            ],
            [
             0.1111111111111111,
             "#46039f"
            ],
            [
             0.2222222222222222,
             "#7201a8"
            ],
            [
             0.3333333333333333,
             "#9c179e"
            ],
            [
             0.4444444444444444,
             "#bd3786"
            ],
            [
             0.5555555555555556,
             "#d8576b"
            ],
            [
             0.6666666666666666,
             "#ed7953"
            ],
            [
             0.7777777777777778,
             "#fb9f3a"
            ],
            [
             0.8888888888888888,
             "#fdca26"
            ],
            [
             1,
             "#f0f921"
            ]
           ],
           "sequentialminus": [
            [
             0,
             "#0d0887"
            ],
            [
             0.1111111111111111,
             "#46039f"
            ],
            [
             0.2222222222222222,
             "#7201a8"
            ],
            [
             0.3333333333333333,
             "#9c179e"
            ],
            [
             0.4444444444444444,
             "#bd3786"
            ],
            [
             0.5555555555555556,
             "#d8576b"
            ],
            [
             0.6666666666666666,
             "#ed7953"
            ],
            [
             0.7777777777777778,
             "#fb9f3a"
            ],
            [
             0.8888888888888888,
             "#fdca26"
            ],
            [
             1,
             "#f0f921"
            ]
           ]
          },
          "colorway": [
           "#636efa",
           "#EF553B",
           "#00cc96",
           "#ab63fa",
           "#FFA15A",
           "#19d3f3",
           "#FF6692",
           "#B6E880",
           "#FF97FF",
           "#FECB52"
          ],
          "font": {
           "color": "#2a3f5f"
          },
          "geo": {
           "bgcolor": "white",
           "lakecolor": "white",
           "landcolor": "#E5ECF6",
           "showlakes": true,
           "showland": true,
           "subunitcolor": "white"
          },
          "hoverlabel": {
           "align": "left"
          },
          "hovermode": "closest",
          "mapbox": {
           "style": "light"
          },
          "paper_bgcolor": "white",
          "plot_bgcolor": "#E5ECF6",
          "polar": {
           "angularaxis": {
            "gridcolor": "white",
            "linecolor": "white",
            "ticks": ""
           },
           "bgcolor": "#E5ECF6",
           "radialaxis": {
            "gridcolor": "white",
            "linecolor": "white",
            "ticks": ""
           }
          },
          "scene": {
           "xaxis": {
            "backgroundcolor": "#E5ECF6",
            "gridcolor": "white",
            "gridwidth": 2,
            "linecolor": "white",
            "showbackground": true,
            "ticks": "",
            "zerolinecolor": "white"
           },
           "yaxis": {
            "backgroundcolor": "#E5ECF6",
            "gridcolor": "white",
            "gridwidth": 2,
            "linecolor": "white",
            "showbackground": true,
            "ticks": "",
            "zerolinecolor": "white"
           },
           "zaxis": {
            "backgroundcolor": "#E5ECF6",
            "gridcolor": "white",
            "gridwidth": 2,
            "linecolor": "white",
            "showbackground": true,
            "ticks": "",
            "zerolinecolor": "white"
           }
          },
          "shapedefaults": {
           "line": {
            "color": "#2a3f5f"
           }
          },
          "ternary": {
           "aaxis": {
            "gridcolor": "white",
            "linecolor": "white",
            "ticks": ""
           },
           "baxis": {
            "gridcolor": "white",
            "linecolor": "white",
            "ticks": ""
           },
           "bgcolor": "#E5ECF6",
           "caxis": {
            "gridcolor": "white",
            "linecolor": "white",
            "ticks": ""
           }
          },
          "title": {
           "x": 0.05
          },
          "xaxis": {
           "automargin": true,
           "gridcolor": "white",
           "linecolor": "white",
           "ticks": "",
           "title": {
            "standoff": 15
           },
           "zerolinecolor": "white",
           "zerolinewidth": 2
          },
          "yaxis": {
           "automargin": true,
           "gridcolor": "white",
           "linecolor": "white",
           "ticks": "",
           "title": {
            "standoff": 15
           },
           "zerolinecolor": "white",
           "zerolinewidth": 2
          }
         }
        },
        "xaxis": {
         "anchor": "y",
         "autorange": true,
         "domain": [
          0,
          1
         ],
         "range": [
          "2020-01-21 12:00",
          "2020-06-19 12:00"
         ],
         "title": {
          "text": "report_date"
         },
         "type": "date"
        },
        "yaxis": {
         "anchor": "x",
         "autorange": true,
         "domain": [
          0,
          1
         ],
         "range": [
          0,
          61101.05263157895
         ],
         "title": {
          "text": "active"
         },
         "type": "linear"
        }
       }
      },
      "image/png": "[encoded data removed]",
      "text/html": [
       "<div>\n",
       "        \n",
       "        \n",
       "            <div id=\"13b41b66-a1c2-4a82-94bd-6677b6599f49\" class=\"plotly-graph-div\" style=\"height:525px; width:100%;\"></div>\n",
       "            <script type=\"text/javascript\">\n",
       "                require([\"plotly\"], function(Plotly) {\n",
       "                    window.PLOTLYENV=window.PLOTLYENV || {};\n",
       "                    \n",
       "                if (document.getElementById(\"13b41b66-a1c2-4a82-94bd-6677b6599f49\")) {\n",
       "                    Plotly.newPlot(\n",
       "                        '13b41b66-a1c2-4a82-94bd-6677b6599f49',\n",
       "                        [{\"alignmentgroup\": \"True\", \"hovertemplate\": \"report_date=%{x}<br>active=%{y}<extra></extra>\", \"legendgroup\": \"\", \"marker\": {\"color\": \"#636efa\"}, \"name\": \"\", \"offsetgroup\": \"\", \"orientation\": \"v\", \"showlegend\": false, \"textposition\": \"auto\", \"type\": \"bar\", \"x\": [\"2020-01-22T00:00:00\", \"2020-01-23T00:00:00\", \"2020-01-24T00:00:00\", \"2020-01-25T00:00:00\", \"2020-01-26T00:00:00\", \"2020-01-27T00:00:00\", \"2020-01-28T00:00:00\", \"2020-01-29T00:00:00\", \"2020-01-30T00:00:00\", \"2020-01-31T00:00:00\", \"2020-02-01T00:00:00\", \"2020-02-02T00:00:00\", \"2020-02-03T00:00:00\", \"2020-02-04T00:00:00\", \"2020-02-05T00:00:00\", \"2020-02-06T00:00:00\", \"2020-02-07T00:00:00\", \"2020-02-08T00:00:00\", \"2020-02-09T00:00:00\", \"2020-02-10T00:00:00\", \"2020-02-11T00:00:00\", \"2020-02-12T00:00:00\", \"2020-02-13T00:00:00\", \"2020-02-14T00:00:00\", \"2020-02-15T00:00:00\", \"2020-02-16T00:00:00\", \"2020-02-17T00:00:00\", \"2020-02-18T00:00:00\", \"2020-02-19T00:00:00\", \"2020-02-20T00:00:00\", \"2020-02-21T00:00:00\", \"2020-02-22T00:00:00\", \"2020-02-23T00:00:00\", \"2020-02-24T00:00:00\", \"2020-02-25T00:00:00\", \"2020-02-26T00:00:00\", \"2020-02-27T00:00:00\", \"2020-02-28T00:00:00\", \"2020-02-29T00:00:00\", \"2020-03-01T00:00:00\", \"2020-03-02T00:00:00\", \"2020-03-03T00:00:00\", \"2020-03-04T00:00:00\", \"2020-03-05T00:00:00\", \"2020-03-06T00:00:00\", \"2020-03-07T00:00:00\", \"2020-03-08T00:00:00\", \"2020-03-09T00:00:00\", \"2020-03-10T00:00:00\", \"2020-03-11T00:00:00\", \"2020-03-12T00:00:00\", \"2020-03-13T00:00:00\", \"2020-03-14T00:00:00\", \"2020-03-15T00:00:00\", \"2020-03-16T00:00:00\", \"2020-03-17T00:00:00\", \"2020-03-18T00:00:00\", \"2020-03-19T00:00:00\", \"2020-03-20T00:00:00\", \"2020-03-21T00:00:00\", \"2020-03-22T00:00:00\", \"2020-03-23T00:00:00\", \"2020-03-24T00:00:00\", \"2020-03-25T00:00:00\", \"2020-03-26T00:00:00\", \"2020-03-27T00:00:00\", \"2020-03-28T00:00:00\", \"2020-03-29T00:00:00\", \"2020-03-30T00:00:00\", \"2020-03-31T00:00:00\", \"2020-04-01T00:00:00\", \"2020-04-02T00:00:00\", \"2020-04-03T00:00:00\", \"2020-04-04T00:00:00\", \"2020-04-05T00:00:00\", \"2020-04-06T00:00:00\", \"2020-04-07T00:00:00\", \"2020-04-08T00:00:00\", \"2020-04-09T00:00:00\", \"2020-04-10T00:00:00\", \"2020-04-11T00:00:00\", \"2020-04-12T00:00:00\", \"2020-04-13T00:00:00\", \"2020-04-14T00:00:00\", \"2020-04-15T00:00:00\", \"2020-04-16T00:00:00\", \"2020-04-17T00:00:00\", \"2020-04-18T00:00:00\", \"2020-04-19T00:00:00\", \"2020-04-20T00:00:00\", \"2020-04-21T00:00:00\", \"2020-04-22T00:00:00\", \"2020-04-23T00:00:00\", \"2020-04-24T00:00:00\", \"2020-04-25T00:00:00\", \"2020-04-26T00:00:00\", \"2020-04-27T00:00:00\", \"2020-04-28T00:00:00\", \"2020-04-29T00:00:00\", \"2020-04-30T00:00:00\", \"2020-05-01T00:00:00\", \"2020-05-02T00:00:00\", \"2020-05-03T00:00:00\", \"2020-05-04T00:00:00\", \"2020-05-05T00:00:00\", \"2020-05-06T00:00:00\", \"2020-05-07T00:00:00\", \"2020-05-08T00:00:00\", \"2020-05-09T00:00:00\", \"2020-05-10T00:00:00\", \"2020-05-11T00:00:00\", \"2020-05-12T00:00:00\", \"2020-05-13T00:00:00\", \"2020-05-14T00:00:00\", \"2020-05-15T00:00:00\", \"2020-05-16T00:00:00\", \"2020-05-17T00:00:00\", \"2020-05-18T00:00:00\", \"2020-05-19T00:00:00\", \"2020-05-20T00:00:00\", \"2020-05-21T00:00:00\", \"2020-05-22T00:00:00\", \"2020-05-23T00:00:00\", \"2020-05-24T00:00:00\", \"2020-05-25T00:00:00\", \"2020-05-26T00:00:00\", \"2020-05-27T00:00:00\", \"2020-05-28T00:00:00\", \"2020-05-29T00:00:00\", \"2020-05-30T00:00:00\", \"2020-05-31T00:00:00\", \"2020-06-01T00:00:00\", \"2020-06-02T00:00:00\", \"2020-06-03T00:00:00\", \"2020-06-04T00:00:00\", \"2020-06-05T00:00:00\", \"2020-06-06T00:00:00\", \"2020-06-07T00:00:00\", \"2020-06-08T00:00:00\", \"2020-06-09T00:00:00\", \"2020-06-10T00:00:00\", \"2020-06-11T00:00:00\", \"2020-06-12T00:00:00\", \"2020-06-13T00:00:00\", \"2020-06-14T00:00:00\", \"2020-06-15T00:00:00\", \"2020-06-16T00:00:00\", \"2020-06-17T00:00:00\", \"2020-06-18T00:00:00\", \"2020-06-19T00:00:00\"], \"xaxis\": \"x\", \"y\": [502.0, 591.0, 854.0, 1318.0, 1957.0, 2723.0, 5262.0, 5817.0, 7818.0, 9356.0, 11337.0, 15783.0, 18654.0, 22347.0, 25732.0, 28445.0, 31360.0, 33379.0, 35668.0, 37378.0, 38581.0, 38504.0, 52251.0, 56799.0, 57391.0, 57933.0, 58046.0, 57938.0, 56480.0, 54761.0, 54543.0, 51794.0, 51325.0, 49569.0, 47347.0, 45297.0, 42856.0, 39745.0, 37137.0, 34838.0, 32304.0, 29802.0, 27335.0, 25169.0, 23643.0, 22104.0, 20282.0, 18880.0, 17515.0, 16116.0, 14859.0, 13569.0, 12124.0, 10783.0, 9906.0, 9030.0, 8106.0, 7372.0, 6731.0, 6189.0, 5770.0, 5403.0, 5036.0, 4609.0, 4316.0, 3887.0, 3606.0, 3242.0, 2973.0, 2770.0, 2646.0, 2545.0, 2425.0, 2267.0, 2062.0, 2020.0, 1973.0, 1905.0, 1865.0, 1810.0, 1794.0, 1835.0, 1829.0, 1761.0, 1699.0, 1656.0, 1572.0, 1537.0, 1479.0, 1436.0, 1418.0, 1371.0, 1265.0, 1154.0, 1098.0, 998.0, 907.0, 881.0, 833.0, 796.0, 749.0, 736.0, 643.0, 537.0, 461.0, 404.0, 361.0, 346.0, 226.0, 206.0, 176.0, 159.0, 141.0, 131.0, 120.0, 113.0, 110.0, 115.0, 115.0, 115.0, 115.0, 111.0, 111.0, 114.0, 112.0, 107.0, 101.0, 97.0, 103.0, 104.0, 119.0, 118.0, 123.0, 118.0, 118.0, 119.0, 124.0, 119.0, 113.0, 109.0, 115.0, 114.0, 118.0, 173.0, 215.0, 251.0, 291.0, 310.0, 341.0, 341.0], \"yaxis\": \"y\"}],\n",
       "                        {\"barmode\": \"relative\", \"legend\": {\"tracegroupgap\": 0}, \"margin\": {\"t\": 60}, \"template\": {\"data\": {\"bar\": [{\"error_x\": {\"color\": \"#2a3f5f\"}, \"error_y\": {\"color\": \"#2a3f5f\"}, \"marker\": {\"line\": {\"color\": \"#E5ECF6\", \"width\": 0.5}}, \"type\": \"bar\"}], \"barpolar\": [{\"marker\": {\"line\": {\"color\": \"#E5ECF6\", \"width\": 0.5}}, \"type\": \"barpolar\"}], \"carpet\": [{\"aaxis\": {\"endlinecolor\": \"#2a3f5f\", \"gridcolor\": \"white\", \"linecolor\": \"white\", \"minorgridcolor\": \"white\", \"startlinecolor\": \"#2a3f5f\"}, \"baxis\": {\"endlinecolor\": \"#2a3f5f\", \"gridcolor\": \"white\", \"linecolor\": \"white\", \"minorgridcolor\": \"white\", \"startlinecolor\": \"#2a3f5f\"}, \"type\": \"carpet\"}], \"choropleth\": [{\"colorbar\": {\"outlinewidth\": 0, \"ticks\": \"\"}, \"type\": \"choropleth\"}], \"contour\": [{\"colorbar\": {\"outlinewidth\": 0, \"ticks\": \"\"}, \"colorscale\": [[0.0, \"#0d0887\"], [0.1111111111111111, \"#46039f\"], [0.2222222222222222, \"#7201a8\"], [0.3333333333333333, \"#9c179e\"], [0.4444444444444444, \"#bd3786\"], [0.5555555555555556, \"#d8576b\"], [0.6666666666666666, \"#ed7953\"], [0.7777777777777778, \"#fb9f3a\"], [0.8888888888888888, \"#fdca26\"], [1.0, \"#f0f921\"]], \"type\": \"contour\"}], \"contourcarpet\": [{\"colorbar\": {\"outlinewidth\": 0, \"ticks\": \"\"}, \"type\": \"contourcarpet\"}], \"heatmap\": [{\"colorbar\": {\"outlinewidth\": 0, \"ticks\": \"\"}, \"colorscale\": [[0.0, \"#0d0887\"], [0.1111111111111111, \"#46039f\"], [0.2222222222222222, \"#7201a8\"], [0.3333333333333333, \"#9c179e\"], [0.4444444444444444, \"#bd3786\"], [0.5555555555555556, \"#d8576b\"], [0.6666666666666666, \"#ed7953\"], [0.7777777777777778, \"#fb9f3a\"], [0.8888888888888888, \"#fdca26\"], [1.0, \"#f0f921\"]], \"type\": \"heatmap\"}], \"heatmapgl\": [{\"colorbar\": {\"outlinewidth\": 0, \"ticks\": \"\"}, \"colorscale\": [[0.0, \"#0d0887\"], [0.1111111111111111, \"#46039f\"], [0.2222222222222222, \"#7201a8\"], [0.3333333333333333, \"#9c179e\"], [0.4444444444444444, \"#bd3786\"], [0.5555555555555556, \"#d8576b\"], [0.6666666666666666, \"#ed7953\"], [0.7777777777777778, \"#fb9f3a\"], [0.8888888888888888, \"#fdca26\"], [1.0, \"#f0f921\"]], \"type\": \"heatmapgl\"}], \"histogram\": [{\"marker\": {\"colorbar\": {\"outlinewidth\": 0, \"ticks\": \"\"}}, \"type\": \"histogram\"}], \"histogram2d\": [{\"colorbar\": {\"outlinewidth\": 0, \"ticks\": \"\"}, \"colorscale\": [[0.0, \"#0d0887\"], [0.1111111111111111, \"#46039f\"], [0.2222222222222222, \"#7201a8\"], [0.3333333333333333, \"#9c179e\"], [0.4444444444444444, \"#bd3786\"], [0.5555555555555556, \"#d8576b\"], [0.6666666666666666, \"#ed7953\"], [0.7777777777777778, \"#fb9f3a\"], [0.8888888888888888, \"#fdca26\"], [1.0, \"#f0f921\"]], \"type\": \"histogram2d\"}], \"histogram2dcontour\": [{\"colorbar\": {\"outlinewidth\": 0, \"ticks\": \"\"}, \"colorscale\": [[0.0, \"#0d0887\"], [0.1111111111111111, \"#46039f\"], [0.2222222222222222, \"#7201a8\"], [0.3333333333333333, \"#9c179e\"], [0.4444444444444444, \"#bd3786\"], [0.5555555555555556, \"#d8576b\"], [0.6666666666666666, \"#ed7953\"], [0.7777777777777778, \"#fb9f3a\"], [0.8888888888888888, \"#fdca26\"], [1.0, \"#f0f921\"]], \"type\": \"histogram2dcontour\"}], \"mesh3d\": [{\"colorbar\": {\"outlinewidth\": 0, \"ticks\": \"\"}, \"type\": \"mesh3d\"}], \"parcoords\": [{\"line\": {\"colorbar\": {\"outlinewidth\": 0, \"ticks\": \"\"}}, \"type\": \"parcoords\"}], \"pie\": [{\"automargin\": true, \"type\": \"pie\"}], \"scatter\": [{\"marker\": {\"colorbar\": {\"outlinewidth\": 0, \"ticks\": \"\"}}, \"type\": \"scatter\"}], \"scatter3d\": [{\"line\": {\"colorbar\": {\"outlinewidth\": 0, \"ticks\": \"\"}}, \"marker\": {\"colorbar\": {\"outlinewidth\": 0, \"ticks\": \"\"}}, \"type\": \"scatter3d\"}], \"scattercarpet\": [{\"marker\": {\"colorbar\": {\"outlinewidth\": 0, \"ticks\": \"\"}}, \"type\": \"scattercarpet\"}], \"scattergeo\": [{\"marker\": {\"colorbar\": {\"outlinewidth\": 0, \"ticks\": \"\"}}, \"type\": \"scattergeo\"}], \"scattergl\": [{\"marker\": {\"colorbar\": {\"outlinewidth\": 0, \"ticks\": \"\"}}, \"type\": \"scattergl\"}], \"scattermapbox\": [{\"marker\": {\"colorbar\": {\"outlinewidth\": 0, \"ticks\": \"\"}}, \"type\": \"scattermapbox\"}], \"scatterpolar\": [{\"marker\": {\"colorbar\": {\"outlinewidth\": 0, \"ticks\": \"\"}}, \"type\": \"scatterpolar\"}], \"scatterpolargl\": [{\"marker\": {\"colorbar\": {\"outlinewidth\": 0, \"ticks\": \"\"}}, \"type\": \"scatterpolargl\"}], \"scatterternary\": [{\"marker\": {\"colorbar\": {\"outlinewidth\": 0, \"ticks\": \"\"}}, \"type\": \"scatterternary\"}], \"surface\": [{\"colorbar\": {\"outlinewidth\": 0, \"ticks\": \"\"}, \"colorscale\": [[0.0, \"#0d0887\"], [0.1111111111111111, \"#46039f\"], [0.2222222222222222, \"#7201a8\"], [0.3333333333333333, \"#9c179e\"], [0.4444444444444444, \"#bd3786\"], [0.5555555555555556, \"#d8576b\"], [0.6666666666666666, \"#ed7953\"], [0.7777777777777778, \"#fb9f3a\"], [0.8888888888888888, \"#fdca26\"], [1.0, \"#f0f921\"]], \"type\": \"surface\"}], \"table\": [{\"cells\": {\"fill\": {\"color\": \"#EBF0F8\"}, \"line\": {\"color\": \"white\"}}, \"header\": {\"fill\": {\"color\": \"#C8D4E3\"}, \"line\": {\"color\": \"white\"}}, \"type\": \"table\"}]}, \"layout\": {\"annotationdefaults\": {\"arrowcolor\": \"#2a3f5f\", \"arrowhead\": 0, \"arrowwidth\": 1}, \"coloraxis\": {\"colorbar\": {\"outlinewidth\": 0, \"ticks\": \"\"}}, \"colorscale\": {\"diverging\": [[0, \"#8e0152\"], [0.1, \"#c51b7d\"], [0.2, \"#de77ae\"], [0.3, \"#f1b6da\"], [0.4, \"#fde0ef\"], [0.5, \"#f7f7f7\"], [0.6, \"#e6f5d0\"], [0.7, \"#b8e186\"], [0.8, \"#7fbc41\"], [0.9, \"#4d9221\"], [1, \"#276419\"]], \"sequential\": [[0.0, \"#0d0887\"], [0.1111111111111111, \"#46039f\"], [0.2222222222222222, \"#7201a8\"], [0.3333333333333333, \"#9c179e\"], [0.4444444444444444, \"#bd3786\"], [0.5555555555555556, \"#d8576b\"], [0.6666666666666666, \"#ed7953\"], [0.7777777777777778, \"#fb9f3a\"], [0.8888888888888888, \"#fdca26\"], [1.0, \"#f0f921\"]], \"sequentialminus\": [[0.0, \"#0d0887\"], [0.1111111111111111, \"#46039f\"], [0.2222222222222222, \"#7201a8\"], [0.3333333333333333, \"#9c179e\"], [0.4444444444444444, \"#bd3786\"], [0.5555555555555556, \"#d8576b\"], [0.6666666666666666, \"#ed7953\"], [0.7777777777777778, \"#fb9f3a\"], [0.8888888888888888, \"#fdca26\"], [1.0, \"#f0f921\"]]}, \"colorway\": [\"#636efa\", \"#EF553B\", \"#00cc96\", \"#ab63fa\", \"#FFA15A\", \"#19d3f3\", \"#FF6692\", \"#B6E880\", \"#FF97FF\", \"#FECB52\"], \"font\": {\"color\": \"#2a3f5f\"}, \"geo\": {\"bgcolor\": \"white\", \"lakecolor\": \"white\", \"landcolor\": \"#E5ECF6\", \"showlakes\": true, \"showland\": true, \"subunitcolor\": \"white\"}, \"hoverlabel\": {\"align\": \"left\"}, \"hovermode\": \"closest\", \"mapbox\": {\"style\": \"light\"}, \"paper_bgcolor\": \"white\", \"plot_bgcolor\": \"#E5ECF6\", \"polar\": {\"angularaxis\": {\"gridcolor\": \"white\", \"linecolor\": \"white\", \"ticks\": \"\"}, \"bgcolor\": \"#E5ECF6\", \"radialaxis\": {\"gridcolor\": \"white\", \"linecolor\": \"white\", \"ticks\": \"\"}}, \"scene\": {\"xaxis\": {\"backgroundcolor\": \"#E5ECF6\", \"gridcolor\": \"white\", \"gridwidth\": 2, \"linecolor\": \"white\", \"showbackground\": true, \"ticks\": \"\", \"zerolinecolor\": \"white\"}, \"yaxis\": {\"backgroundcolor\": \"#E5ECF6\", \"gridcolor\": \"white\", \"gridwidth\": 2, \"linecolor\": \"white\", \"showbackground\": true, \"ticks\": \"\", \"zerolinecolor\": \"white\"}, \"zaxis\": {\"backgroundcolor\": \"#E5ECF6\", \"gridcolor\": \"white\", \"gridwidth\": 2, \"linecolor\": \"white\", \"showbackground\": true, \"ticks\": \"\", \"zerolinecolor\": \"white\"}}, \"shapedefaults\": {\"line\": {\"color\": \"#2a3f5f\"}}, \"ternary\": {\"aaxis\": {\"gridcolor\": \"white\", \"linecolor\": \"white\", \"ticks\": \"\"}, \"baxis\": {\"gridcolor\": \"white\", \"linecolor\": \"white\", \"ticks\": \"\"}, \"bgcolor\": \"#E5ECF6\", \"caxis\": {\"gridcolor\": \"white\", \"linecolor\": \"white\", \"ticks\": \"\"}}, \"title\": {\"x\": 0.05}, \"xaxis\": {\"automargin\": true, \"gridcolor\": \"white\", \"linecolor\": \"white\", \"ticks\": \"\", \"title\": {\"standoff\": 15}, \"zerolinecolor\": \"white\", \"zerolinewidth\": 2}, \"yaxis\": {\"automargin\": true, \"gridcolor\": \"white\", \"linecolor\": \"white\", \"ticks\": \"\", \"title\": {\"standoff\": 15}, \"zerolinecolor\": \"white\", \"zerolinewidth\": 2}}}, \"xaxis\": {\"anchor\": \"y\", \"domain\": [0.0, 1.0], \"title\": {\"text\": \"report_date\"}}, \"yaxis\": {\"anchor\": \"x\", \"domain\": [0.0, 1.0], \"title\": {\"text\": \"active\"}}},\n",
       "                        {\"responsive\": true}\n",
       "                    ).then(function(){\n",
       "                            \n",
       "var gd = document.getElementById('13b41b66-a1c2-4a82-94bd-6677b6599f49');\n",
       "var x = new MutationObserver(function (mutations, observer) {{\n",
       "        var display = window.getComputedStyle(gd).display;\n",
       "        if (!display || display === 'none') {{\n",
       "            console.log([gd, 'removed!']);\n",
       "            Plotly.purge(gd);\n",
       "            observer.disconnect();\n",
       "        }}\n",
       "}});\n",
       "\n",
       "// Listen for the removal of the full notebook cells\n",
       "var notebookContainer = gd.closest('#notebook-container');\n",
       "if (notebookContainer) {{\n",
       "    x.observe(notebookContainer, {childList: true});\n",
       "}}\n",
       "\n",
       "// Listen for the clearing of the current output cell\n",
       "var outputEl = gd.closest('.output');\n",
       "if (outputEl) {{\n",
       "    x.observe(outputEl, {childList: true});\n",
       "}}\n",
       "\n",
       "                        })\n",
       "                };\n",
       "                });\n",
       "            </script>\n",
       "        </div>"
      ]
     },
     "metadata": {},
     "output_type": "display_data"
    }
   ],
   "source": [
    "\n",
    "\n",
    "px.bar(case_reports_country[case_reports_country['country_region'] == \"China\"], x=\"report_date\", y=\"active\")"
   ]
  },
  {
   "cell_type": "code",
   "execution_count": 65,
   "metadata": {},
   "outputs": [
    {
     "data": {
      "text/plain": [
       "0        Mainland China\n",
       "1        Mainland China\n",
       "2        Mainland China\n",
       "3           South Korea\n",
       "4        Mainland China\n",
       "              ...      \n",
       "28284           Ukraine\n",
       "28285           Ukraine\n",
       "28286           Ukraine\n",
       "28287           Ukraine\n",
       "28288           Ukraine\n",
       "Name: country_region, Length: 28289, dtype: object"
      ]
     },
     "execution_count": 65,
     "metadata": {},
     "output_type": "execute_result"
    }
   ],
   "source": [
    "case_reports_joined[\"country_region\"].str.replace(r'(.*)(Korea)(.*)', \"South Korea\")\n",
    "case_reports_joined[\"country_region\"].str.replace(r'(.*)(China)(.*)', \"\")"
   ]
  },
  {
   "cell_type": "code",
   "execution_count": null,
   "metadata": {},
   "outputs": [],
   "source": [
    "# Create State Data Table"
   ]
  },
  {
   "cell_type": "code",
   "execution_count": null,
   "metadata": {},
   "outputs": [],
   "source": []
  }
 ],
 "metadata": {
  "kernelspec": {
   "display_name": "Python 3",
   "language": "python",
   "name": "python3"
  },
  "language_info": {
   "codemirror_mode": {
    "name": "ipython",
    "version": 3
   },
   "file_extension": ".py",
   "mimetype": "text/x-python",
   "name": "python",
   "nbconvert_exporter": "python",
   "pygments_lexer": "ipython3",
   "version": "3.7.6"
  }
 },
 "nbformat": 4,
 "nbformat_minor": 4
}
