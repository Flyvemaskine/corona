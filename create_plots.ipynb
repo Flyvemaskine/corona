{
 "cells": [
  {
   "cell_type": "code",
   "execution_count": 422,
   "metadata": {},
   "outputs": [],
   "source": [
    "from pymongo import MongoClient\n",
    "import json\n",
    "import pandas as pd\n",
    "import plotly.io as pio\n",
    "import plotly.graph_objects as go\n",
    "import copy\n",
    "import os\n",
    "import subprocess\n",
    "import re\n",
    "import numpy as np\n",
    "from datetime import date\n",
    "import dash\n",
    "import dash_table\n",
    "import plotly.express as px"
   ]
  },
  {
   "cell_type": "code",
   "execution_count": 330,
   "metadata": {},
   "outputs": [],
   "source": [
    "with open(\"example_master.json\", \"r\") as read_file:\n",
    "    example_json = json.load(read_file)\n"
   ]
  },
  {
   "cell_type": "code",
   "execution_count": 321,
   "metadata": {},
   "outputs": [
    {
     "data": {
      "text/plain": [
       "{'data': [{'x': ['2020-03-11', '2020-03-12', '2020-03-13'],\n",
       "   'y': [220, 320, 350],\n",
       "   'type': 'bar'}],\n",
       " 'layout': {'xaxis': {'title': 'Date'},\n",
       "  'yaxis': {'title': 'Cases', 'type': 'linear'},\n",
       "  'margin': {'l': 40, 'b': 40, 't': 10, 'r': 0},\n",
       "  'hovermode': 'closest'}}"
      ]
     },
     "execution_count": 321,
     "metadata": {},
     "output_type": "execute_result"
    }
   ],
   "source": [
    "example_json[\"incremental_plots\"][\"confirmed\"]"
   ]
  },
  {
   "cell_type": "code",
   "execution_count": null,
   "metadata": {},
   "outputs": [],
   "source": [
    "# Every state should be an object\n",
    "# Every state will have a name\n",
    "# -- Every state will have an incremental and a cumulative\n",
    "# -- -- Every cumulative will be split into the sub plots\n",
    "# -- -- Subplots: Deaths, Cases, Test Rates, Tests Administered\n",
    "# -- -- Plots will be named as such"
   ]
  },
  {
   "cell_type": "markdown",
   "metadata": {},
   "source": [
    "# Create Testing Plots"
   ]
  },
  {
   "cell_type": "code",
   "execution_count": 242,
   "metadata": {},
   "outputs": [],
   "source": [
    "testing = pd.read_csv(\"/Users/CharlesFederici/corona_python/data/testing.csv\")\n",
    "states = pd.read_csv(\"/Users/CharlesFederici/corona_python/dash_app/states.csv\").rename({\"State\":'state_full'}, axis=\"columns\")\n",
    "testing = testing.merge(states, how=\"left\", left_on=['state'], right_on=[\"Abbreviation\"])\n",
    "testing['dataQualityGrade'] = testing['dataQualityGrade'].str.extract(r'([A-Z])')\n",
    "testing['dataQualityGrade'] = testing['dataQualityGrade'].fillna('NA')\n",
    "\n",
    "\n",
    "testing['tests'] = testing['positive'] + testing['negative']\n",
    "testing['positive_rate'] = testing['positive'] / testing['tests']\n",
    "\n",
    "testing['incremental_tests'] = testing['positiveIncrease'] + testing['negativeIncrease']\n",
    "testing['incremental_positive_rate'] = testing['positiveIncrease'] / (testing['positiveIncrease'] + testing['negativeIncrease'])"
   ]
  },
  {
   "cell_type": "code",
   "execution_count": 243,
   "metadata": {},
   "outputs": [],
   "source": [
    "blue_color_mapping = {'F':\"#eff3ff\", 'NA':\"#eff3ff\", 'D': '#bdd7e7', 'C':'#6baed6', 'B':'#3182bd', 'A':'#08519c'}\n",
    "green_color_mapping = {'F':\"#edf8e9\", 'NA':\"#edf8e9\",'D': '#bae4b3', 'C':'#74c476', 'B':'#31a354', 'A':'#006d2c'}\n",
    "\n",
    "testing['positive_rate_color'] = testing['dataQualityGrade'].replace(blue_color_mapping)\n",
    "testing['incremental_positive_rate_color'] = testing['dataQualityGrade'].replace(green_color_mapping)"
   ]
  },
  {
   "cell_type": "code",
   "execution_count": 311,
   "metadata": {},
   "outputs": [],
   "source": [
    "def create_hover_text_rate(date, positive_rate, data_quality_score, incremental):\n",
    "    #  Date:2020-06-18 <br> Positive Rate: 5.1% <br> Data Quality: A\n",
    "    date_tag = \"Date: \" + date\n",
    "    if incremental:\n",
    "        positive_tag = \"Incremental Positive Rate: \" + np.round_(positive_rate*100, 1).astype(str) + \"%\"\n",
    "    else:\n",
    "        positive_tag  = \"Cumulative Positive Rate: \" + np.round_(positive_rate*100, 1).astype(str) + \"%\"\n",
    "    data_quality_tag = \"Data Quality Grade: \" + data_quality_score\n",
    "    return(date_tag + \"<br>\" + positive_tag + \"<br>\" + data_quality_tag)\n",
    "    \n",
    "    \n",
    "def create_hover_text_counts(date, counts, data_quality_score, incremental):\n",
    "    #  Date:2020-06-18 <br> Incremental Test: 500 <br> Data Quality: A\n",
    "    date_tag = \"Date: \" + date\n",
    "    if incremental:\n",
    "        tests_tag = \"Incremental Tests: \" + np.round((counts/1000), 3).astype(str) + \" K\"\n",
    "    else:\n",
    "        tests_tag  = \"Cumulative Tests: \" + np.round((counts/1000), 3).astype(str) + \" K\"\n",
    "    data_quality_tag = \"Data Quality Grade: \" + data_quality_score\n",
    "    return(date_tag + \"<br>\" + tests_tag + \"<br>\" + data_quality_tag)\n",
    "\n",
    "# create_hover_text(\"2020-06-18\", .051234422, \"A\", True)"
   ]
  },
  {
   "cell_type": "code",
   "execution_count": 312,
   "metadata": {},
   "outputs": [],
   "source": [
    "testing[\"positive_rate_flag\"] = create_hover_text_rate(testing[\"date\"], testing[\"positive_rate\"], testing['dataQualityGrade'], False)\n",
    "testing[\"incremental_positive_rate_flag\"] = create_hover_text_rate(testing[\"date\"], testing[\"incremental_positive_rate\"], testing['dataQualityGrade'], True)\n",
    "\n",
    "testing[\"tests_flag\"] = create_hover_text_counts(testing[\"date\"], testing[\"tests\"], testing['dataQualityGrade'], False)\n",
    "testing[\"incremental_tests_flag\"] = create_hover_text_counts(testing[\"date\"], testing[\"incremental_tests\"], testing['dataQualityGrade'], True)"
   ]
  },
  {
   "cell_type": "code",
   "execution_count": 313,
   "metadata": {},
   "outputs": [],
   "source": [
    "ny_tests = testing[testing[\"state_full\"]==\"New York\"].sort_values(['date'])"
   ]
  },
  {
   "cell_type": "code",
   "execution_count": 314,
   "metadata": {},
   "outputs": [
    {
     "data": {
      "text/html": [
       "<div>\n",
       "<style scoped>\n",
       "    .dataframe tbody tr th:only-of-type {\n",
       "        vertical-align: middle;\n",
       "    }\n",
       "\n",
       "    .dataframe tbody tr th {\n",
       "        vertical-align: top;\n",
       "    }\n",
       "\n",
       "    .dataframe thead th {\n",
       "        text-align: right;\n",
       "    }\n",
       "</style>\n",
       "<table border=\"1\" class=\"dataframe\">\n",
       "  <thead>\n",
       "    <tr style=\"text-align: right;\">\n",
       "      <th></th>\n",
       "      <th>Unnamed: 0</th>\n",
       "      <th>date</th>\n",
       "      <th>state</th>\n",
       "      <th>positive</th>\n",
       "      <th>negative</th>\n",
       "      <th>positiveIncrease</th>\n",
       "      <th>negativeIncrease</th>\n",
       "      <th>dataQualityGrade</th>\n",
       "      <th>state_full</th>\n",
       "      <th>Abbreviation</th>\n",
       "      <th>tests</th>\n",
       "      <th>positive_rate</th>\n",
       "      <th>incremental_tests</th>\n",
       "      <th>incremental_positive_rate</th>\n",
       "      <th>positive_rate_color</th>\n",
       "      <th>incremental_positive_rate_color</th>\n",
       "      <th>positive_rate_flag</th>\n",
       "      <th>incremental_positive_rate_flag</th>\n",
       "      <th>tests_flag</th>\n",
       "      <th>incremental_tests_flag</th>\n",
       "    </tr>\n",
       "  </thead>\n",
       "  <tbody>\n",
       "    <tr>\n",
       "      <th>5842</th>\n",
       "      <td>5842</td>\n",
       "      <td>2020-03-04</td>\n",
       "      <td>NY</td>\n",
       "      <td>6.0</td>\n",
       "      <td>48.0</td>\n",
       "      <td>0</td>\n",
       "      <td>0</td>\n",
       "      <td>NA</td>\n",
       "      <td>New York</td>\n",
       "      <td>NY</td>\n",
       "      <td>54.0</td>\n",
       "      <td>0.111111</td>\n",
       "      <td>0</td>\n",
       "      <td>NaN</td>\n",
       "      <td>#eff3ff</td>\n",
       "      <td>#edf8e9</td>\n",
       "      <td>Date: 2020-03-04&lt;br&gt;Cumulative Positive Rate: ...</td>\n",
       "      <td>Date: 2020-03-04&lt;br&gt;Incremental Positive Rate:...</td>\n",
       "      <td>Date: 2020-03-04&lt;br&gt;Cumulative Tests: 0.054 K&lt;...</td>\n",
       "      <td>Date: 2020-03-04&lt;br&gt;Incremental Tests: 0.0 K&lt;b...</td>\n",
       "    </tr>\n",
       "    <tr>\n",
       "      <th>5824</th>\n",
       "      <td>5824</td>\n",
       "      <td>2020-03-05</td>\n",
       "      <td>NY</td>\n",
       "      <td>22.0</td>\n",
       "      <td>76.0</td>\n",
       "      <td>16</td>\n",
       "      <td>28</td>\n",
       "      <td>NA</td>\n",
       "      <td>New York</td>\n",
       "      <td>NY</td>\n",
       "      <td>98.0</td>\n",
       "      <td>0.224490</td>\n",
       "      <td>44</td>\n",
       "      <td>0.363636</td>\n",
       "      <td>#eff3ff</td>\n",
       "      <td>#edf8e9</td>\n",
       "      <td>Date: 2020-03-05&lt;br&gt;Cumulative Positive Rate: ...</td>\n",
       "      <td>Date: 2020-03-05&lt;br&gt;Incremental Positive Rate:...</td>\n",
       "      <td>Date: 2020-03-05&lt;br&gt;Cumulative Tests: 0.098 K&lt;...</td>\n",
       "      <td>Date: 2020-03-05&lt;br&gt;Incremental Tests: 0.044 K...</td>\n",
       "    </tr>\n",
       "    <tr>\n",
       "      <th>5797</th>\n",
       "      <td>5797</td>\n",
       "      <td>2020-03-06</td>\n",
       "      <td>NY</td>\n",
       "      <td>33.0</td>\n",
       "      <td>92.0</td>\n",
       "      <td>11</td>\n",
       "      <td>16</td>\n",
       "      <td>NA</td>\n",
       "      <td>New York</td>\n",
       "      <td>NY</td>\n",
       "      <td>125.0</td>\n",
       "      <td>0.264000</td>\n",
       "      <td>27</td>\n",
       "      <td>0.407407</td>\n",
       "      <td>#eff3ff</td>\n",
       "      <td>#edf8e9</td>\n",
       "      <td>Date: 2020-03-06&lt;br&gt;Cumulative Positive Rate: ...</td>\n",
       "      <td>Date: 2020-03-06&lt;br&gt;Incremental Positive Rate:...</td>\n",
       "      <td>Date: 2020-03-06&lt;br&gt;Cumulative Tests: 0.125 K&lt;...</td>\n",
       "      <td>Date: 2020-03-06&lt;br&gt;Incremental Tests: 0.027 K...</td>\n",
       "    </tr>\n",
       "    <tr>\n",
       "      <th>5757</th>\n",
       "      <td>5757</td>\n",
       "      <td>2020-03-07</td>\n",
       "      <td>NY</td>\n",
       "      <td>76.0</td>\n",
       "      <td>92.0</td>\n",
       "      <td>43</td>\n",
       "      <td>0</td>\n",
       "      <td>NA</td>\n",
       "      <td>New York</td>\n",
       "      <td>NY</td>\n",
       "      <td>168.0</td>\n",
       "      <td>0.452381</td>\n",
       "      <td>43</td>\n",
       "      <td>1.000000</td>\n",
       "      <td>#eff3ff</td>\n",
       "      <td>#edf8e9</td>\n",
       "      <td>Date: 2020-03-07&lt;br&gt;Cumulative Positive Rate: ...</td>\n",
       "      <td>Date: 2020-03-07&lt;br&gt;Incremental Positive Rate:...</td>\n",
       "      <td>Date: 2020-03-07&lt;br&gt;Cumulative Tests: 0.168 K&lt;...</td>\n",
       "      <td>Date: 2020-03-07&lt;br&gt;Incremental Tests: 0.043 K...</td>\n",
       "    </tr>\n",
       "    <tr>\n",
       "      <th>5707</th>\n",
       "      <td>5707</td>\n",
       "      <td>2020-03-08</td>\n",
       "      <td>NY</td>\n",
       "      <td>105.0</td>\n",
       "      <td>92.0</td>\n",
       "      <td>29</td>\n",
       "      <td>0</td>\n",
       "      <td>NA</td>\n",
       "      <td>New York</td>\n",
       "      <td>NY</td>\n",
       "      <td>197.0</td>\n",
       "      <td>0.532995</td>\n",
       "      <td>29</td>\n",
       "      <td>1.000000</td>\n",
       "      <td>#eff3ff</td>\n",
       "      <td>#edf8e9</td>\n",
       "      <td>Date: 2020-03-08&lt;br&gt;Cumulative Positive Rate: ...</td>\n",
       "      <td>Date: 2020-03-08&lt;br&gt;Incremental Positive Rate:...</td>\n",
       "      <td>Date: 2020-03-08&lt;br&gt;Cumulative Tests: 0.197 K&lt;...</td>\n",
       "      <td>Date: 2020-03-08&lt;br&gt;Incremental Tests: 0.029 K...</td>\n",
       "    </tr>\n",
       "    <tr>\n",
       "      <th>...</th>\n",
       "      <td>...</td>\n",
       "      <td>...</td>\n",
       "      <td>...</td>\n",
       "      <td>...</td>\n",
       "      <td>...</td>\n",
       "      <td>...</td>\n",
       "      <td>...</td>\n",
       "      <td>...</td>\n",
       "      <td>...</td>\n",
       "      <td>...</td>\n",
       "      <td>...</td>\n",
       "      <td>...</td>\n",
       "      <td>...</td>\n",
       "      <td>...</td>\n",
       "      <td>...</td>\n",
       "      <td>...</td>\n",
       "      <td>...</td>\n",
       "      <td>...</td>\n",
       "      <td>...</td>\n",
       "      <td>...</td>\n",
       "    </tr>\n",
       "    <tr>\n",
       "      <th>261</th>\n",
       "      <td>261</td>\n",
       "      <td>2020-06-14</td>\n",
       "      <td>NY</td>\n",
       "      <td>383324.0</td>\n",
       "      <td>2551275.0</td>\n",
       "      <td>694</td>\n",
       "      <td>61665</td>\n",
       "      <td>A</td>\n",
       "      <td>New York</td>\n",
       "      <td>NY</td>\n",
       "      <td>2934599.0</td>\n",
       "      <td>0.130622</td>\n",
       "      <td>62359</td>\n",
       "      <td>0.011129</td>\n",
       "      <td>#08519c</td>\n",
       "      <td>#006d2c</td>\n",
       "      <td>Date: 2020-06-14&lt;br&gt;Cumulative Positive Rate: ...</td>\n",
       "      <td>Date: 2020-06-14&lt;br&gt;Incremental Positive Rate:...</td>\n",
       "      <td>Date: 2020-06-14&lt;br&gt;Cumulative Tests: 2934.599...</td>\n",
       "      <td>Date: 2020-06-14&lt;br&gt;Incremental Tests: 62.359 ...</td>\n",
       "    </tr>\n",
       "    <tr>\n",
       "      <th>205</th>\n",
       "      <td>205</td>\n",
       "      <td>2020-06-15</td>\n",
       "      <td>NY</td>\n",
       "      <td>383944.0</td>\n",
       "      <td>2607266.0</td>\n",
       "      <td>620</td>\n",
       "      <td>55991</td>\n",
       "      <td>A</td>\n",
       "      <td>New York</td>\n",
       "      <td>NY</td>\n",
       "      <td>2991210.0</td>\n",
       "      <td>0.128357</td>\n",
       "      <td>56611</td>\n",
       "      <td>0.010952</td>\n",
       "      <td>#08519c</td>\n",
       "      <td>#006d2c</td>\n",
       "      <td>Date: 2020-06-15&lt;br&gt;Cumulative Positive Rate: ...</td>\n",
       "      <td>Date: 2020-06-15&lt;br&gt;Incremental Positive Rate:...</td>\n",
       "      <td>Date: 2020-06-15&lt;br&gt;Cumulative Tests: 2991.21 ...</td>\n",
       "      <td>Date: 2020-06-15&lt;br&gt;Incremental Tests: 56.611 ...</td>\n",
       "    </tr>\n",
       "    <tr>\n",
       "      <th>149</th>\n",
       "      <td>149</td>\n",
       "      <td>2020-06-16</td>\n",
       "      <td>NY</td>\n",
       "      <td>384575.0</td>\n",
       "      <td>2667203.0</td>\n",
       "      <td>631</td>\n",
       "      <td>59937</td>\n",
       "      <td>A</td>\n",
       "      <td>New York</td>\n",
       "      <td>NY</td>\n",
       "      <td>3051778.0</td>\n",
       "      <td>0.126017</td>\n",
       "      <td>60568</td>\n",
       "      <td>0.010418</td>\n",
       "      <td>#08519c</td>\n",
       "      <td>#006d2c</td>\n",
       "      <td>Date: 2020-06-16&lt;br&gt;Cumulative Positive Rate: ...</td>\n",
       "      <td>Date: 2020-06-16&lt;br&gt;Incremental Positive Rate:...</td>\n",
       "      <td>Date: 2020-06-16&lt;br&gt;Cumulative Tests: 3051.778...</td>\n",
       "      <td>Date: 2020-06-16&lt;br&gt;Incremental Tests: 60.568 ...</td>\n",
       "    </tr>\n",
       "    <tr>\n",
       "      <th>93</th>\n",
       "      <td>93</td>\n",
       "      <td>2020-06-17</td>\n",
       "      <td>NY</td>\n",
       "      <td>385142.0</td>\n",
       "      <td>2725977.0</td>\n",
       "      <td>567</td>\n",
       "      <td>58774</td>\n",
       "      <td>A</td>\n",
       "      <td>New York</td>\n",
       "      <td>NY</td>\n",
       "      <td>3111119.0</td>\n",
       "      <td>0.123795</td>\n",
       "      <td>59341</td>\n",
       "      <td>0.009555</td>\n",
       "      <td>#08519c</td>\n",
       "      <td>#006d2c</td>\n",
       "      <td>Date: 2020-06-17&lt;br&gt;Cumulative Positive Rate: ...</td>\n",
       "      <td>Date: 2020-06-17&lt;br&gt;Incremental Positive Rate:...</td>\n",
       "      <td>Date: 2020-06-17&lt;br&gt;Cumulative Tests: 3111.119...</td>\n",
       "      <td>Date: 2020-06-17&lt;br&gt;Incremental Tests: 59.341 ...</td>\n",
       "    </tr>\n",
       "    <tr>\n",
       "      <th>37</th>\n",
       "      <td>37</td>\n",
       "      <td>2020-06-18</td>\n",
       "      <td>NY</td>\n",
       "      <td>385760.0</td>\n",
       "      <td>2793900.0</td>\n",
       "      <td>618</td>\n",
       "      <td>67923</td>\n",
       "      <td>A</td>\n",
       "      <td>New York</td>\n",
       "      <td>NY</td>\n",
       "      <td>3179660.0</td>\n",
       "      <td>0.121321</td>\n",
       "      <td>68541</td>\n",
       "      <td>0.009017</td>\n",
       "      <td>#08519c</td>\n",
       "      <td>#006d2c</td>\n",
       "      <td>Date: 2020-06-18&lt;br&gt;Cumulative Positive Rate: ...</td>\n",
       "      <td>Date: 2020-06-18&lt;br&gt;Incremental Positive Rate:...</td>\n",
       "      <td>Date: 2020-06-18&lt;br&gt;Cumulative Tests: 3179.66 ...</td>\n",
       "      <td>Date: 2020-06-18&lt;br&gt;Incremental Tests: 68.541 ...</td>\n",
       "    </tr>\n",
       "  </tbody>\n",
       "</table>\n",
       "<p>107 rows × 20 columns</p>\n",
       "</div>"
      ],
      "text/plain": [
       "      Unnamed: 0        date state  positive   negative  positiveIncrease  \\\n",
       "5842        5842  2020-03-04    NY       6.0       48.0                 0   \n",
       "5824        5824  2020-03-05    NY      22.0       76.0                16   \n",
       "5797        5797  2020-03-06    NY      33.0       92.0                11   \n",
       "5757        5757  2020-03-07    NY      76.0       92.0                43   \n",
       "5707        5707  2020-03-08    NY     105.0       92.0                29   \n",
       "...          ...         ...   ...       ...        ...               ...   \n",
       "261          261  2020-06-14    NY  383324.0  2551275.0               694   \n",
       "205          205  2020-06-15    NY  383944.0  2607266.0               620   \n",
       "149          149  2020-06-16    NY  384575.0  2667203.0               631   \n",
       "93            93  2020-06-17    NY  385142.0  2725977.0               567   \n",
       "37            37  2020-06-18    NY  385760.0  2793900.0               618   \n",
       "\n",
       "      negativeIncrease dataQualityGrade state_full Abbreviation      tests  \\\n",
       "5842                 0               NA   New York           NY       54.0   \n",
       "5824                28               NA   New York           NY       98.0   \n",
       "5797                16               NA   New York           NY      125.0   \n",
       "5757                 0               NA   New York           NY      168.0   \n",
       "5707                 0               NA   New York           NY      197.0   \n",
       "...                ...              ...        ...          ...        ...   \n",
       "261              61665                A   New York           NY  2934599.0   \n",
       "205              55991                A   New York           NY  2991210.0   \n",
       "149              59937                A   New York           NY  3051778.0   \n",
       "93               58774                A   New York           NY  3111119.0   \n",
       "37               67923                A   New York           NY  3179660.0   \n",
       "\n",
       "      positive_rate  incremental_tests  incremental_positive_rate  \\\n",
       "5842       0.111111                  0                        NaN   \n",
       "5824       0.224490                 44                   0.363636   \n",
       "5797       0.264000                 27                   0.407407   \n",
       "5757       0.452381                 43                   1.000000   \n",
       "5707       0.532995                 29                   1.000000   \n",
       "...             ...                ...                        ...   \n",
       "261        0.130622              62359                   0.011129   \n",
       "205        0.128357              56611                   0.010952   \n",
       "149        0.126017              60568                   0.010418   \n",
       "93         0.123795              59341                   0.009555   \n",
       "37         0.121321              68541                   0.009017   \n",
       "\n",
       "     positive_rate_color incremental_positive_rate_color  \\\n",
       "5842             #eff3ff                         #edf8e9   \n",
       "5824             #eff3ff                         #edf8e9   \n",
       "5797             #eff3ff                         #edf8e9   \n",
       "5757             #eff3ff                         #edf8e9   \n",
       "5707             #eff3ff                         #edf8e9   \n",
       "...                  ...                             ...   \n",
       "261              #08519c                         #006d2c   \n",
       "205              #08519c                         #006d2c   \n",
       "149              #08519c                         #006d2c   \n",
       "93               #08519c                         #006d2c   \n",
       "37               #08519c                         #006d2c   \n",
       "\n",
       "                                     positive_rate_flag  \\\n",
       "5842  Date: 2020-03-04<br>Cumulative Positive Rate: ...   \n",
       "5824  Date: 2020-03-05<br>Cumulative Positive Rate: ...   \n",
       "5797  Date: 2020-03-06<br>Cumulative Positive Rate: ...   \n",
       "5757  Date: 2020-03-07<br>Cumulative Positive Rate: ...   \n",
       "5707  Date: 2020-03-08<br>Cumulative Positive Rate: ...   \n",
       "...                                                 ...   \n",
       "261   Date: 2020-06-14<br>Cumulative Positive Rate: ...   \n",
       "205   Date: 2020-06-15<br>Cumulative Positive Rate: ...   \n",
       "149   Date: 2020-06-16<br>Cumulative Positive Rate: ...   \n",
       "93    Date: 2020-06-17<br>Cumulative Positive Rate: ...   \n",
       "37    Date: 2020-06-18<br>Cumulative Positive Rate: ...   \n",
       "\n",
       "                         incremental_positive_rate_flag  \\\n",
       "5842  Date: 2020-03-04<br>Incremental Positive Rate:...   \n",
       "5824  Date: 2020-03-05<br>Incremental Positive Rate:...   \n",
       "5797  Date: 2020-03-06<br>Incremental Positive Rate:...   \n",
       "5757  Date: 2020-03-07<br>Incremental Positive Rate:...   \n",
       "5707  Date: 2020-03-08<br>Incremental Positive Rate:...   \n",
       "...                                                 ...   \n",
       "261   Date: 2020-06-14<br>Incremental Positive Rate:...   \n",
       "205   Date: 2020-06-15<br>Incremental Positive Rate:...   \n",
       "149   Date: 2020-06-16<br>Incremental Positive Rate:...   \n",
       "93    Date: 2020-06-17<br>Incremental Positive Rate:...   \n",
       "37    Date: 2020-06-18<br>Incremental Positive Rate:...   \n",
       "\n",
       "                                             tests_flag  \\\n",
       "5842  Date: 2020-03-04<br>Cumulative Tests: 0.054 K<...   \n",
       "5824  Date: 2020-03-05<br>Cumulative Tests: 0.098 K<...   \n",
       "5797  Date: 2020-03-06<br>Cumulative Tests: 0.125 K<...   \n",
       "5757  Date: 2020-03-07<br>Cumulative Tests: 0.168 K<...   \n",
       "5707  Date: 2020-03-08<br>Cumulative Tests: 0.197 K<...   \n",
       "...                                                 ...   \n",
       "261   Date: 2020-06-14<br>Cumulative Tests: 2934.599...   \n",
       "205   Date: 2020-06-15<br>Cumulative Tests: 2991.21 ...   \n",
       "149   Date: 2020-06-16<br>Cumulative Tests: 3051.778...   \n",
       "93    Date: 2020-06-17<br>Cumulative Tests: 3111.119...   \n",
       "37    Date: 2020-06-18<br>Cumulative Tests: 3179.66 ...   \n",
       "\n",
       "                                 incremental_tests_flag  \n",
       "5842  Date: 2020-03-04<br>Incremental Tests: 0.0 K<b...  \n",
       "5824  Date: 2020-03-05<br>Incremental Tests: 0.044 K...  \n",
       "5797  Date: 2020-03-06<br>Incremental Tests: 0.027 K...  \n",
       "5757  Date: 2020-03-07<br>Incremental Tests: 0.043 K...  \n",
       "5707  Date: 2020-03-08<br>Incremental Tests: 0.029 K...  \n",
       "...                                                 ...  \n",
       "261   Date: 2020-06-14<br>Incremental Tests: 62.359 ...  \n",
       "205   Date: 2020-06-15<br>Incremental Tests: 56.611 ...  \n",
       "149   Date: 2020-06-16<br>Incremental Tests: 60.568 ...  \n",
       "93    Date: 2020-06-17<br>Incremental Tests: 59.341 ...  \n",
       "37    Date: 2020-06-18<br>Incremental Tests: 68.541 ...  \n",
       "\n",
       "[107 rows x 20 columns]"
      ]
     },
     "execution_count": 314,
     "metadata": {},
     "output_type": "execute_result"
    }
   ],
   "source": [
    "ny_tests"
   ]
  },
  {
   "cell_type": "code",
   "execution_count": 12,
   "metadata": {},
   "outputs": [
    {
     "data": {
      "text/plain": [
       "618.0"
      ]
     },
     "execution_count": 12,
     "metadata": {},
     "output_type": "execute_result"
    }
   ],
   "source": []
  },
  {
   "cell_type": "code",
   "execution_count": 307,
   "metadata": {},
   "outputs": [],
   "source": [
    "def create_testing_rate_plot(df, example_json, state, incremental):\n",
    "    df = df[df['state_full'] == state]\n",
    "    out_json = copy.deepcopy(example_json[\"incremental_plots\"][\"testing_rate\"])\n",
    "    \n",
    "    out_json['data'][0]['x'] = df[\"date\"].tolist()\n",
    "    out_json['data'][0]['y'] = df[\"positive_rate\"].tolist()\n",
    "    \n",
    "    out_json['data'][0][\"type\"] = \"scatter\"\n",
    "    out_json['data'][0][\"mode\"] = \"markers+lines\" \n",
    "    # example_json[\"plot_contents\"]['data'][0][\"name\"] = \"Positive Rate\"\n",
    "    out_json['data'][0][\"showlegend\"] = False\n",
    "    out_json['data'][0][\"marker\"] = {}\n",
    "    out_json['data'][0][\"line\"] = {}\n",
    "    out_json['data'][0][\"line\"]['color'] = '#bdd7e7'\n",
    "    out_json['data'][0][\"marker\"][\"color\"] = df[\"positive_rate_color\"].tolist()\n",
    "    out_json['data'][0][\"hoverinfo\"] = \"text\"\n",
    "    out_json['data'][0][\"hovertext\"] = df[\"positive_rate_flag\"].tolist()\n",
    "    \n",
    "    out_json['data'].append({}) \n",
    "    out_json['data'][1][\"x\"] = df[\"date\"].tolist()\n",
    "    out_json['data'][1][\"y\"] = df[\"incremental_positive_rate\"].tolist()\n",
    "    out_json['data'][1][\"type\"] = \"scatter\"\n",
    "    out_json['data'][1][\"mode\"] = \"markers+lines\" \n",
    "    #out_json]['data'][1][\"name\"] = \"Incremental Positive Rate\"\n",
    "    out_json['data'][1][\"showlegend\"] = False\n",
    "    out_json['data'][1][\"marker\"] = {}\n",
    "    out_json['data'][1][\"line\"] = {}\n",
    "    out_json['data'][1][\"line\"]['color'] = '#bae4b3'\n",
    "    out_json['data'][1][\"marker\"][\"color\"] = df[\"incremental_positive_rate_color\"].tolist()\n",
    "    out_json['data'][1][\"hoverinfo\"] = \"text\"\n",
    "    out_json['data'][1][\"hovertext\"] = df[\"incremental_positive_rate_flag\"].tolist()\n",
    "    \n",
    "    if incremental == \"incremental\":\n",
    "        out_json['data'][0][\"marker\"][\"size\"] = 4\n",
    "    else:\n",
    "        out_json['data'][1][\"marker\"][\"size\"] = 4\n",
    "    \n",
    "    return(out_json)"
   ]
  },
  {
   "cell_type": "code",
   "execution_count": 308,
   "metadata": {},
   "outputs": [
    {
     "data": {
      "application/vnd.plotly.v1+json": {
       "config": {
        "plotlyServerURL": "https://plot.ly"
       },
       "data": [
        {
         "hoverinfo": "text",
         "hovertext": [
          "Date: 2020-06-18<br>Cumulative Positive Rate: 10.6%<br>Data Quality Grade: A",
          "Date: 2020-06-17<br>Cumulative Positive Rate: 10.7%<br>Data Quality Grade: A",
          "Date: 2020-06-16<br>Cumulative Positive Rate: 10.9%<br>Data Quality Grade: A",
          "Date: 2020-06-15<br>Cumulative Positive Rate: 11.1%<br>Data Quality Grade: A",
          "Date: 2020-06-14<br>Cumulative Positive Rate: 11.2%<br>Data Quality Grade: A",
          "Date: 2020-06-13<br>Cumulative Positive Rate: 11.3%<br>Data Quality Grade: A",
          "Date: 2020-06-12<br>Cumulative Positive Rate: 11.5%<br>Data Quality Grade: A",
          "Date: 2020-06-11<br>Cumulative Positive Rate: 11.7%<br>Data Quality Grade: B",
          "Date: 2020-06-10<br>Cumulative Positive Rate: 11.9%<br>Data Quality Grade: A",
          "Date: 2020-06-09<br>Cumulative Positive Rate: 12.0%<br>Data Quality Grade: A",
          "Date: 2020-06-08<br>Cumulative Positive Rate: 12.2%<br>Data Quality Grade: A",
          "Date: 2020-06-07<br>Cumulative Positive Rate: 12.3%<br>Data Quality Grade: A",
          "Date: 2020-06-06<br>Cumulative Positive Rate: 12.4%<br>Data Quality Grade: A",
          "Date: 2020-06-05<br>Cumulative Positive Rate: 12.6%<br>Data Quality Grade: A",
          "Date: 2020-06-04<br>Cumulative Positive Rate: 12.7%<br>Data Quality Grade: A",
          "Date: 2020-06-03<br>Cumulative Positive Rate: 12.9%<br>Data Quality Grade: A",
          "Date: 2020-06-02<br>Cumulative Positive Rate: 13.1%<br>Data Quality Grade: A",
          "Date: 2020-06-01<br>Cumulative Positive Rate: 13.2%<br>Data Quality Grade: A",
          "Date: 2020-05-31<br>Cumulative Positive Rate: 13.4%<br>Data Quality Grade: A",
          "Date: 2020-05-30<br>Cumulative Positive Rate: 13.6%<br>Data Quality Grade: A",
          "Date: 2020-05-29<br>Cumulative Positive Rate: 13.8%<br>Data Quality Grade: A",
          "Date: 2020-05-28<br>Cumulative Positive Rate: 14.0%<br>Data Quality Grade: A",
          "Date: 2020-05-27<br>Cumulative Positive Rate: 14.2%<br>Data Quality Grade: A",
          "Date: 2020-05-26<br>Cumulative Positive Rate: 14.4%<br>Data Quality Grade: A",
          "Date: 2020-05-25<br>Cumulative Positive Rate: 14.6%<br>Data Quality Grade: A",
          "Date: 2020-05-24<br>Cumulative Positive Rate: 14.7%<br>Data Quality Grade: A",
          "Date: 2020-05-23<br>Cumulative Positive Rate: 14.9%<br>Data Quality Grade: A",
          "Date: 2020-05-22<br>Cumulative Positive Rate: 15.1%<br>Data Quality Grade: A",
          "Date: 2020-05-21<br>Cumulative Positive Rate: 15.3%<br>Data Quality Grade: A",
          "Date: 2020-05-20<br>Cumulative Positive Rate: 15.6%<br>Data Quality Grade: A",
          "Date: 2020-05-19<br>Cumulative Positive Rate: 15.8%<br>Data Quality Grade: A",
          "Date: 2020-05-18<br>Cumulative Positive Rate: 16.0%<br>Data Quality Grade: A",
          "Date: 2020-05-17<br>Cumulative Positive Rate: 16.2%<br>Data Quality Grade: A",
          "Date: 2020-05-16<br>Cumulative Positive Rate: 16.5%<br>Data Quality Grade: A",
          "Date: 2020-05-15<br>Cumulative Positive Rate: 16.8%<br>Data Quality Grade: A",
          "Date: 2020-05-14<br>Cumulative Positive Rate: 17.2%<br>Data Quality Grade: A",
          "Date: 2020-05-13<br>Cumulative Positive Rate: 17.3%<br>Data Quality Grade: A",
          "Date: 2020-05-12<br>Cumulative Positive Rate: 17.6%<br>Data Quality Grade: A",
          "Date: 2020-05-11<br>Cumulative Positive Rate: 17.9%<br>Data Quality Grade: A",
          "Date: 2020-05-10<br>Cumulative Positive Rate: 18.1%<br>Data Quality Grade: A",
          "Date: 2020-05-09<br>Cumulative Positive Rate: 18.3%<br>Data Quality Grade: A",
          "Date: 2020-05-08<br>Cumulative Positive Rate: 18.5%<br>Data Quality Grade: A",
          "Date: 2020-05-07<br>Cumulative Positive Rate: 18.7%<br>Data Quality Grade: A",
          "Date: 2020-05-06<br>Cumulative Positive Rate: 18.9%<br>Data Quality Grade: A",
          "Date: 2020-05-05<br>Cumulative Positive Rate: 19.0%<br>Data Quality Grade: A",
          "Date: 2020-05-04<br>Cumulative Positive Rate: 19.2%<br>Data Quality Grade: A",
          "Date: 2020-05-03<br>Cumulative Positive Rate: 19.3%<br>Data Quality Grade: A",
          "Date: 2020-05-02<br>Cumulative Positive Rate: 19.5%<br>Data Quality Grade: A",
          "Date: 2020-05-01<br>Cumulative Positive Rate: 19.7%<br>Data Quality Grade: A",
          "Date: 2020-04-30<br>Cumulative Positive Rate: 19.6%<br>Data Quality Grade: A",
          "Date: 2020-04-29<br>Cumulative Positive Rate: 19.6%<br>Data Quality Grade: A",
          "Date: 2020-04-28<br>Cumulative Positive Rate: 19.9%<br>Data Quality Grade: A",
          "Date: 2020-04-27<br>Cumulative Positive Rate: 20.2%<br>Data Quality Grade: A",
          "Date: 2020-04-26<br>Cumulative Positive Rate: 20.4%<br>Data Quality Grade: A",
          "Date: 2020-04-25<br>Cumulative Positive Rate: 20.7%<br>Data Quality Grade: A",
          "Date: 2020-04-24<br>Cumulative Positive Rate: 20.9%<br>Data Quality Grade: A",
          "Date: 2020-04-23<br>Cumulative Positive Rate: 21.3%<br>Data Quality Grade: A",
          "Date: 2020-04-22<br>Cumulative Positive Rate: 21.4%<br>Data Quality Grade: A",
          "Date: 2020-04-21<br>Cumulative Positive Rate: 21.3%<br>Data Quality Grade: A",
          "Date: 2020-04-20<br>Cumulative Positive Rate: 21.2%<br>Data Quality Grade: A",
          "Date: 2020-04-19<br>Cumulative Positive Rate: 21.2%<br>Data Quality Grade: A",
          "Date: 2020-04-18<br>Cumulative Positive Rate: 21.2%<br>Data Quality Grade: A",
          "Date: 2020-04-17<br>Cumulative Positive Rate: 21.2%<br>Data Quality Grade: A",
          "Date: 2020-04-16<br>Cumulative Positive Rate: 21.0%<br>Data Quality Grade: A",
          "Date: 2020-04-15<br>Cumulative Positive Rate: 21.0%<br>Data Quality Grade: A",
          "Date: 2020-04-14<br>Cumulative Positive Rate: 21.0%<br>Data Quality Grade: A",
          "Date: 2020-04-13<br>Cumulative Positive Rate: 20.8%<br>Data Quality Grade: A",
          "Date: 2020-04-12<br>Cumulative Positive Rate: 20.7%<br>Data Quality Grade: A",
          "Date: 2020-04-11<br>Cumulative Positive Rate: 20.8%<br>Data Quality Grade: A",
          "Date: 2020-04-10<br>Cumulative Positive Rate: 20.4%<br>Data Quality Grade: A",
          "Date: 2020-04-09<br>Cumulative Positive Rate: 20.3%<br>Data Quality Grade: A",
          "Date: 2020-04-08<br>Cumulative Positive Rate: 20.1%<br>Data Quality Grade: A",
          "Date: 2020-04-07<br>Cumulative Positive Rate: 19.7%<br>Data Quality Grade: A",
          "Date: 2020-04-06<br>Cumulative Positive Rate: 19.5%<br>Data Quality Grade: A",
          "Date: 2020-04-05<br>Cumulative Positive Rate: 19.1%<br>Data Quality Grade: A",
          "Date: 2020-04-04<br>Cumulative Positive Rate: 19.3%<br>Data Quality Grade: A",
          "Date: 2020-04-03<br>Cumulative Positive Rate: 18.5%<br>Data Quality Grade: A",
          "Date: 2020-04-02<br>Cumulative Positive Rate: 17.6%<br>Data Quality Grade: A",
          "Date: 2020-04-01<br>Cumulative Positive Rate: 17.3%<br>Data Quality Grade: A",
          "Date: 2020-03-31<br>Cumulative Positive Rate: 17.0%<br>Data Quality Grade: A",
          "Date: 2020-03-30<br>Cumulative Positive Rate: 16.6%<br>Data Quality Grade: A",
          "Date: 2020-03-29<br>Cumulative Positive Rate: 16.6%<br>Data Quality Grade: A",
          "Date: 2020-03-28<br>Cumulative Positive Rate: 13.7%<br>Data Quality Grade: A",
          "Date: 2020-03-27<br>Cumulative Positive Rate: 14.0%<br>Data Quality Grade: A",
          "Date: 2020-03-26<br>Cumulative Positive Rate: 15.3%<br>Data Quality Grade: A",
          "Date: 2020-03-25<br>Cumulative Positive Rate: 13.1%<br>Data Quality Grade: A",
          "Date: 2020-03-24<br>Cumulative Positive Rate: 13.4%<br>Data Quality Grade: A",
          "Date: 2020-03-23<br>Cumulative Positive Rate: 12.9%<br>Data Quality Grade: A",
          "Date: 2020-03-22<br>Cumulative Positive Rate: 12.6%<br>Data Quality Grade: NA",
          "Date: 2020-03-21<br>Cumulative Positive Rate: 12.1%<br>Data Quality Grade: NA",
          "Date: 2020-03-20<br>Cumulative Positive Rate: 13.7%<br>Data Quality Grade: NA",
          "Date: 2020-03-19<br>Cumulative Positive Rate: 13.4%<br>Data Quality Grade: NA",
          "Date: 2020-03-18<br>Cumulative Positive Rate: 14.0%<br>Data Quality Grade: NA",
          "Date: 2020-03-17<br>Cumulative Positive Rate: 10.6%<br>Data Quality Grade: NA",
          "Date: 2020-03-16<br>Cumulative Positive Rate: 9.1%<br>Data Quality Grade: NA",
          "Date: 2020-03-15<br>Cumulative Positive Rate: 12.5%<br>Data Quality Grade: NA",
          "Date: 2020-03-14<br>Cumulative Positive Rate: 12.7%<br>Data Quality Grade: NA",
          "Date: 2020-03-13<br>Cumulative Positive Rate: 9.8%<br>Data Quality Grade: NA",
          "Date: 2020-03-12<br>Cumulative Positive Rate: 8.6%<br>Data Quality Grade: NA",
          "Date: 2020-03-11<br>Cumulative Positive Rate: 7.2%<br>Data Quality Grade: NA",
          "Date: 2020-03-10<br>Cumulative Positive Rate: 7.2%<br>Data Quality Grade: NA",
          "Date: 2020-03-09<br>Cumulative Positive Rate: 3.5%<br>Data Quality Grade: NA",
          "Date: 2020-03-08<br>Cumulative Positive Rate: 3.0%<br>Data Quality Grade: NA",
          "Date: 2020-03-07<br>Cumulative Positive Rate: 3.0%<br>Data Quality Grade: NA",
          "Date: 2020-03-06<br>Cumulative Positive Rate: 2.7%<br>Data Quality Grade: NA",
          "Date: 2020-03-05<br>Cumulative Positive Rate: 2.9%<br>Data Quality Grade: NA",
          "Date: 2020-03-04<br>Cumulative Positive Rate: 3.1%<br>Data Quality Grade: NA"
         ],
         "line": {
          "color": "#bdd7e7"
         },
         "marker": {
          "color": [
           "#08519c",
           "#08519c",
           "#08519c",
           "#08519c",
           "#08519c",
           "#08519c",
           "#08519c",
           "#3182bd",
           "#08519c",
           "#08519c",
           "#08519c",
           "#08519c",
           "#08519c",
           "#08519c",
           "#08519c",
           "#08519c",
           "#08519c",
           "#08519c",
           "#08519c",
           "#08519c",
           "#08519c",
           "#08519c",
           "#08519c",
           "#08519c",
           "#08519c",
           "#08519c",
           "#08519c",
           "#08519c",
           "#08519c",
           "#08519c",
           "#08519c",
           "#08519c",
           "#08519c",
           "#08519c",
           "#08519c",
           "#08519c",
           "#08519c",
           "#08519c",
           "#08519c",
           "#08519c",
           "#08519c",
           "#08519c",
           "#08519c",
           "#08519c",
           "#08519c",
           "#08519c",
           "#08519c",
           "#08519c",
           "#08519c",
           "#08519c",
           "#08519c",
           "#08519c",
           "#08519c",
           "#08519c",
           "#08519c",
           "#08519c",
           "#08519c",
           "#08519c",
           "#08519c",
           "#08519c",
           "#08519c",
           "#08519c",
           "#08519c",
           "#08519c",
           "#08519c",
           "#08519c",
           "#08519c",
           "#08519c",
           "#08519c",
           "#08519c",
           "#08519c",
           "#08519c",
           "#08519c",
           "#08519c",
           "#08519c",
           "#08519c",
           "#08519c",
           "#08519c",
           "#08519c",
           "#08519c",
           "#08519c",
           "#08519c",
           "#08519c",
           "#08519c",
           "#08519c",
           "#08519c",
           "#08519c",
           "#08519c",
           "#eff3ff",
           "#eff3ff",
           "#eff3ff",
           "#eff3ff",
           "#eff3ff",
           "#eff3ff",
           "#eff3ff",
           "#eff3ff",
           "#eff3ff",
           "#eff3ff",
           "#eff3ff",
           "#eff3ff",
           "#eff3ff",
           "#eff3ff",
           "#eff3ff",
           "#eff3ff",
           "#eff3ff",
           "#eff3ff",
           "#eff3ff"
          ]
         },
         "mode": "markers+lines",
         "showlegend": false,
         "type": "scatter",
         "x": [
          "2020-06-18",
          "2020-06-17",
          "2020-06-16",
          "2020-06-15",
          "2020-06-14",
          "2020-06-13",
          "2020-06-12",
          "2020-06-11",
          "2020-06-10",
          "2020-06-09",
          "2020-06-08",
          "2020-06-07",
          "2020-06-06",
          "2020-06-05",
          "2020-06-04",
          "2020-06-03",
          "2020-06-02",
          "2020-06-01",
          "2020-05-31",
          "2020-05-30",
          "2020-05-29",
          "2020-05-28",
          "2020-05-27",
          "2020-05-26",
          "2020-05-25",
          "2020-05-24",
          "2020-05-23",
          "2020-05-22",
          "2020-05-21",
          "2020-05-20",
          "2020-05-19",
          "2020-05-18",
          "2020-05-17",
          "2020-05-16",
          "2020-05-15",
          "2020-05-14",
          "2020-05-13",
          "2020-05-12",
          "2020-05-11",
          "2020-05-10",
          "2020-05-09",
          "2020-05-08",
          "2020-05-07",
          "2020-05-06",
          "2020-05-05",
          "2020-05-04",
          "2020-05-03",
          "2020-05-02",
          "2020-05-01",
          "2020-04-30",
          "2020-04-29",
          "2020-04-28",
          "2020-04-27",
          "2020-04-26",
          "2020-04-25",
          "2020-04-24",
          "2020-04-23",
          "2020-04-22",
          "2020-04-21",
          "2020-04-20",
          "2020-04-19",
          "2020-04-18",
          "2020-04-17",
          "2020-04-16",
          "2020-04-15",
          "2020-04-14",
          "2020-04-13",
          "2020-04-12",
          "2020-04-11",
          "2020-04-10",
          "2020-04-09",
          "2020-04-08",
          "2020-04-07",
          "2020-04-06",
          "2020-04-05",
          "2020-04-04",
          "2020-04-03",
          "2020-04-02",
          "2020-04-01",
          "2020-03-31",
          "2020-03-30",
          "2020-03-29",
          "2020-03-28",
          "2020-03-27",
          "2020-03-26",
          "2020-03-25",
          "2020-03-24",
          "2020-03-23",
          "2020-03-22",
          "2020-03-21",
          "2020-03-20",
          "2020-03-19",
          "2020-03-18",
          "2020-03-17",
          "2020-03-16",
          "2020-03-15",
          "2020-03-14",
          "2020-03-13",
          "2020-03-12",
          "2020-03-11",
          "2020-03-10",
          "2020-03-09",
          "2020-03-08",
          "2020-03-07",
          "2020-03-06",
          "2020-03-05",
          "2020-03-04"
         ],
         "y": [
          0.10558086640154496,
          0.10724839559430713,
          0.1094205834354321,
          0.11059891463915346,
          0.1119305682109937,
          0.11346496769549823,
          0.11503777999620196,
          0.11693769917839884,
          0.11861353324987327,
          0.12032158354523449,
          0.1218755809991912,
          0.12251648008101468,
          0.12414952342002634,
          0.12579939036025892,
          0.12704375488790406,
          0.1291005291005291,
          0.13142984303052088,
          0.13202391881281492,
          0.133881207981217,
          0.13557897857155074,
          0.1378965016049084,
          0.13956354838631943,
          0.1421764163721916,
          0.14386866193692377,
          0.1455590438222162,
          0.14748081682423678,
          0.14925087954674784,
          0.15125377797350004,
          0.15280199994047797,
          0.15624081043949634,
          0.15768461147463986,
          0.1599443671766342,
          0.16185577993758848,
          0.16461704730178456,
          0.16778437510443706,
          0.1717395422596414,
          0.17307947743885368,
          0.17600717418818676,
          0.1785771599706165,
          0.1807997506883977,
          0.18275122438636565,
          0.1845319403373412,
          0.18697878604802093,
          0.188872280352101,
          0.19048416626718956,
          0.19162711955983394,
          0.19259785852752628,
          0.19508429588924162,
          0.196899763952116,
          0.19608918467244976,
          0.1961880568986274,
          0.1986134795552234,
          0.20157010561090902,
          0.20424559901745507,
          0.207209709498703,
          0.2091313702328721,
          0.2131020794387131,
          0.2136224794032103,
          0.21328799912256366,
          0.21237816632739726,
          0.2118156826079069,
          0.2122208960437833,
          0.21184975761161007,
          0.20991279804876456,
          0.21032421383916736,
          0.21015947060099804,
          0.2082387867786098,
          0.20699856057973892,
          0.20814116268217778,
          0.20435979754818512,
          0.20309929876201194,
          0.20086324034849332,
          0.1971279753244486,
          0.1948142734581043,
          0.19083464727124766,
          0.19329613109124502,
          0.1853146853146853,
          0.17626443100604727,
          0.1728407290015848,
          0.17016323633782826,
          0.16609735269000853,
          0.16555003241841365,
          0.13695029618296653,
          0.14046977996472007,
          0.15260657807708497,
          0.13125483848265185,
          0.13383904438050398,
          0.1291599025974026,
          0.12608173076923077,
          0.12065374138759814,
          0.13665031534688157,
          0.13409596441054972,
          0.14041930765480254,
          0.10607071380920614,
          0.09073170731707317,
          0.12475633528265107,
          0.1270718232044199,
          0.09815950920245399,
          0.0859106529209622,
          0.07224334600760456,
          0.07224334600760456,
          0.03535353535353535,
          0.030456852791878174,
          0.030456852791878174,
          0.02702702702702703,
          0.029411764705882353,
          0.03125
         ]
        },
        {
         "hoverinfo": "text",
         "hovertext": [
          "Date: 2020-06-18<br>Incremental Positive Rate: 2.3%<br>Data Quality Grade: A",
          "Date: 2020-06-17<br>Incremental Positive Rate: 1.8%<br>Data Quality Grade: A",
          "Date: 2020-06-16<br>Incremental Positive Rate: 3.3%<br>Data Quality Grade: A",
          "Date: 2020-06-15<br>Incremental Positive Rate: 2.5%<br>Data Quality Grade: A",
          "Date: 2020-06-14<br>Incremental Positive Rate: 3.0%<br>Data Quality Grade: A",
          "Date: 2020-06-13<br>Incremental Positive Rate: 3.1%<br>Data Quality Grade: A",
          "Date: 2020-06-12<br>Incremental Positive Rate: 2.9%<br>Data Quality Grade: A",
          "Date: 2020-06-11<br>Incremental Positive Rate: 3.4%<br>Data Quality Grade: B",
          "Date: 2020-06-10<br>Incremental Positive Rate: 3.0%<br>Data Quality Grade: A",
          "Date: 2020-06-09<br>Incremental Positive Rate: 3.9%<br>Data Quality Grade: A",
          "Date: 2020-06-08<br>Incremental Positive Rate: 8.2%<br>Data Quality Grade: A",
          "Date: 2020-06-07<br>Incremental Positive Rate: 4.2%<br>Data Quality Grade: A",
          "Date: 2020-06-06<br>Incremental Positive Rate: 4.6%<br>Data Quality Grade: A",
          "Date: 2020-06-05<br>Incremental Positive Rate: 6.1%<br>Data Quality Grade: A",
          "Date: 2020-06-04<br>Incremental Positive Rate: 4.1%<br>Data Quality Grade: A",
          "Date: 2020-06-03<br>Incremental Positive Rate: 4.0%<br>Data Quality Grade: A",
          "Date: 2020-06-02<br>Incremental Positive Rate: 9.8%<br>Data Quality Grade: A",
          "Date: 2020-06-01<br>Incremental Positive Rate: 4.9%<br>Data Quality Grade: A",
          "Date: 2020-05-31<br>Incremental Positive Rate: 6.3%<br>Data Quality Grade: A",
          "Date: 2020-05-30<br>Incremental Positive Rate: 5.8%<br>Data Quality Grade: A",
          "Date: 2020-05-29<br>Incremental Positive Rate: 7.4%<br>Data Quality Grade: A",
          "Date: 2020-05-28<br>Incremental Positive Rate: 5.9%<br>Data Quality Grade: A",
          "Date: 2020-05-27<br>Incremental Positive Rate: 6.5%<br>Data Quality Grade: A",
          "Date: 2020-05-26<br>Incremental Positive Rate: 6.8%<br>Data Quality Grade: A",
          "Date: 2020-05-25<br>Incremental Positive Rate: 7.9%<br>Data Quality Grade: A",
          "Date: 2020-05-24<br>Incremental Positive Rate: 9.8%<br>Data Quality Grade: A",
          "Date: 2020-05-23<br>Incremental Positive Rate: 9.4%<br>Data Quality Grade: A",
          "Date: 2020-05-22<br>Incremental Positive Rate: 11.0%<br>Data Quality Grade: A",
          "Date: 2020-05-21<br>Incremental Positive Rate: 7.7%<br>Data Quality Grade: A",
          "Date: 2020-05-20<br>Incremental Positive Rate: 11.4%<br>Data Quality Grade: A",
          "Date: 2020-05-19<br>Incremental Positive Rate: 8.4%<br>Data Quality Grade: A",
          "Date: 2020-05-18<br>Incremental Positive Rate: 10.8%<br>Data Quality Grade: A",
          "Date: 2020-05-17<br>Incremental Positive Rate: 8.5%<br>Data Quality Grade: A",
          "Date: 2020-05-16<br>Incremental Positive Rate: 9.1%<br>Data Quality Grade: A",
          "Date: 2020-05-15<br>Incremental Positive Rate: 9.2%<br>Data Quality Grade: A",
          "Date: 2020-05-14<br>Incremental Positive Rate: 14.3%<br>Data Quality Grade: A",
          "Date: 2020-05-13<br>Incremental Positive Rate: 9.5%<br>Data Quality Grade: A",
          "Date: 2020-05-12<br>Incremental Positive Rate: 13.7%<br>Data Quality Grade: A",
          "Date: 2020-05-11<br>Incremental Positive Rate: 10.2%<br>Data Quality Grade: A",
          "Date: 2020-05-10<br>Incremental Positive Rate: 12.1%<br>Data Quality Grade: A",
          "Date: 2020-05-09<br>Incremental Positive Rate: 14.0%<br>Data Quality Grade: A",
          "Date: 2020-05-08<br>Incremental Positive Rate: 14.0%<br>Data Quality Grade: A",
          "Date: 2020-05-07<br>Incremental Positive Rate: 14.9%<br>Data Quality Grade: A",
          "Date: 2020-05-06<br>Incremental Positive Rate: 15.2%<br>Data Quality Grade: A",
          "Date: 2020-05-05<br>Incremental Positive Rate: 16.2%<br>Data Quality Grade: A",
          "Date: 2020-05-04<br>Incremental Positive Rate: 16.9%<br>Data Quality Grade: A",
          "Date: 2020-05-03<br>Incremental Positive Rate: 15.4%<br>Data Quality Grade: A",
          "Date: 2020-05-02<br>Incremental Positive Rate: 16.1%<br>Data Quality Grade: A",
          "Date: 2020-05-01<br>Incremental Positive Rate: 21.2%<br>Data Quality Grade: A",
          "Date: 2020-04-30<br>Incremental Positive Rate: 19.4%<br>Data Quality Grade: A",
          "Date: 2020-04-29<br>Incremental Positive Rate: 15.6%<br>Data Quality Grade: A",
          "Date: 2020-04-28<br>Incremental Positive Rate: 15.2%<br>Data Quality Grade: A",
          "Date: 2020-04-27<br>Incremental Positive Rate: 15.6%<br>Data Quality Grade: A",
          "Date: 2020-04-26<br>Incremental Positive Rate: 15.9%<br>Data Quality Grade: A",
          "Date: 2020-04-25<br>Incremental Positive Rate: 17.7%<br>Data Quality Grade: A",
          "Date: 2020-04-24<br>Incremental Positive Rate: 16.7%<br>Data Quality Grade: A",
          "Date: 2020-04-23<br>Incremental Positive Rate: 20.4%<br>Data Quality Grade: A",
          "Date: 2020-04-22<br>Incremental Positive Rate: 21.9%<br>Data Quality Grade: A",
          "Date: 2020-04-21<br>Incremental Positive Rate: 23.4%<br>Data Quality Grade: A",
          "Date: 2020-04-20<br>Incremental Positive Rate: 22.8%<br>Data Quality Grade: A",
          "Date: 2020-04-19<br>Incremental Positive Rate: 20.2%<br>Data Quality Grade: A",
          "Date: 2020-04-18<br>Incremental Positive Rate: 21.9%<br>Data Quality Grade: A",
          "Date: 2020-04-17<br>Incremental Positive Rate: 24.3%<br>Data Quality Grade: A",
          "Date: 2020-04-16<br>Incremental Positive Rate: 20.1%<br>Data Quality Grade: A",
          "Date: 2020-04-15<br>Incremental Positive Rate: 21.3%<br>Data Quality Grade: A",
          "Date: 2020-04-14<br>Incremental Positive Rate: 25.2%<br>Data Quality Grade: A",
          "Date: 2020-04-13<br>Incremental Positive Rate: 23.3%<br>Data Quality Grade: A",
          "Date: 2020-04-12<br>Incremental Positive Rate: 19.5%<br>Data Quality Grade: A",
          "Date: 2020-04-11<br>Incremental Positive Rate: 28.0%<br>Data Quality Grade: A",
          "Date: 2020-04-10<br>Incremental Positive Rate: 22.0%<br>Data Quality Grade: A",
          "Date: 2020-04-09<br>Incremental Positive Rate: 23.2%<br>Data Quality Grade: A",
          "Date: 2020-04-08<br>Incremental Positive Rate: 24.1%<br>Data Quality Grade: A",
          "Date: 2020-04-07<br>Incremental Positive Rate: 22.2%<br>Data Quality Grade: A",
          "Date: 2020-04-06<br>Incremental Positive Rate: 25.4%<br>Data Quality Grade: A",
          "Date: 2020-04-05<br>Incremental Positive Rate: 16.6%<br>Data Quality Grade: A",
          "Date: 2020-04-04<br>Incremental Positive Rate: 26.3%<br>Data Quality Grade: A",
          "Date: 2020-04-03<br>Incremental Positive Rate: 27.5%<br>Data Quality Grade: A",
          "Date: 2020-04-02<br>Incremental Positive Rate: 21.9%<br>Data Quality Grade: A",
          "Date: 2020-04-01<br>Incremental Positive Rate: 19.1%<br>Data Quality Grade: A",
          "Date: 2020-03-31<br>Incremental Positive Rate: 19.6%<br>Data Quality Grade: A",
          "Date: 2020-03-30<br>Incremental Positive Rate: 17.2%<br>Data Quality Grade: A",
          "Date: 2020-03-29<br>Incremental Positive Rate: 48.7%<br>Data Quality Grade: A",
          "Date: 2020-03-28<br>Incremental Positive Rate: 11.8%<br>Data Quality Grade: A",
          "Date: 2020-03-27<br>Incremental Positive Rate: 9.9%<br>Data Quality Grade: A",
          "Date: 2020-03-26<br>Incremental Positive Rate: 27.8%<br>Data Quality Grade: A",
          "Date: 2020-03-25<br>Incremental Positive Rate: 12.0%<br>Data Quality Grade: A",
          "Date: 2020-03-24<br>Incremental Positive Rate: 16.2%<br>Data Quality Grade: A",
          "Date: 2020-03-23<br>Incremental Positive Rate: 14.6%<br>Data Quality Grade: A",
          "Date: 2020-03-22<br>Incremental Positive Rate: 14.2%<br>Data Quality Grade: NA",
          "Date: 2020-03-21<br>Incremental Positive Rate: 8.6%<br>Data Quality Grade: NA",
          "Date: 2020-03-20<br>Incremental Positive Rate: 14.4%<br>Data Quality Grade: NA",
          "Date: 2020-03-19<br>Incremental Positive Rate: 12.2%<br>Data Quality Grade: NA",
          "Date: 2020-03-18<br>Incremental Positive Rate: 23.4%<br>Data Quality Grade: NA",
          "Date: 2020-03-17<br>Incremental Positive Rate: 13.9%<br>Data Quality Grade: NA",
          "Date: 2020-03-16<br>Incremental Positive Rate: 5.7%<br>Data Quality Grade: NA",
          "Date: 2020-03-15<br>Incremental Positive Rate: 11.9%<br>Data Quality Grade: NA",
          "Date: 2020-03-14<br>Incremental Positive Rate: 38.9%<br>Data Quality Grade: NA",
          "Date: 2020-03-13<br>Incremental Positive Rate: 20.0%<br>Data Quality Grade: NA",
          "Date: 2020-03-12<br>Incremental Positive Rate: 21.4%<br>Data Quality Grade: NA",
          "Date: 2020-03-11<br>Incremental Positive Rate: nan%<br>Data Quality Grade: NA",
          "Date: 2020-03-10<br>Incremental Positive Rate: 18.5%<br>Data Quality Grade: NA",
          "Date: 2020-03-09<br>Incremental Positive Rate: 100.0%<br>Data Quality Grade: NA",
          "Date: 2020-03-08<br>Incremental Positive Rate: nan%<br>Data Quality Grade: NA",
          "Date: 2020-03-07<br>Incremental Positive Rate: 8.3%<br>Data Quality Grade: NA",
          "Date: 2020-03-06<br>Incremental Positive Rate: 0.0%<br>Data Quality Grade: NA",
          "Date: 2020-03-05<br>Incremental Positive Rate: 2.4%<br>Data Quality Grade: NA",
          "Date: 2020-03-04<br>Incremental Positive Rate: nan%<br>Data Quality Grade: NA"
         ],
         "line": {
          "color": "#bae4b3"
         },
         "marker": {
          "color": [
           "#006d2c",
           "#006d2c",
           "#006d2c",
           "#006d2c",
           "#006d2c",
           "#006d2c",
           "#006d2c",
           "#31a354",
           "#006d2c",
           "#006d2c",
           "#006d2c",
           "#006d2c",
           "#006d2c",
           "#006d2c",
           "#006d2c",
           "#006d2c",
           "#006d2c",
           "#006d2c",
           "#006d2c",
           "#006d2c",
           "#006d2c",
           "#006d2c",
           "#006d2c",
           "#006d2c",
           "#006d2c",
           "#006d2c",
           "#006d2c",
           "#006d2c",
           "#006d2c",
           "#006d2c",
           "#006d2c",
           "#006d2c",
           "#006d2c",
           "#006d2c",
           "#006d2c",
           "#006d2c",
           "#006d2c",
           "#006d2c",
           "#006d2c",
           "#006d2c",
           "#006d2c",
           "#006d2c",
           "#006d2c",
           "#006d2c",
           "#006d2c",
           "#006d2c",
           "#006d2c",
           "#006d2c",
           "#006d2c",
           "#006d2c",
           "#006d2c",
           "#006d2c",
           "#006d2c",
           "#006d2c",
           "#006d2c",
           "#006d2c",
           "#006d2c",
           "#006d2c",
           "#006d2c",
           "#006d2c",
           "#006d2c",
           "#006d2c",
           "#006d2c",
           "#006d2c",
           "#006d2c",
           "#006d2c",
           "#006d2c",
           "#006d2c",
           "#006d2c",
           "#006d2c",
           "#006d2c",
           "#006d2c",
           "#006d2c",
           "#006d2c",
           "#006d2c",
           "#006d2c",
           "#006d2c",
           "#006d2c",
           "#006d2c",
           "#006d2c",
           "#006d2c",
           "#006d2c",
           "#006d2c",
           "#006d2c",
           "#006d2c",
           "#006d2c",
           "#006d2c",
           "#006d2c",
           "#edf8e9",
           "#edf8e9",
           "#edf8e9",
           "#edf8e9",
           "#edf8e9",
           "#edf8e9",
           "#edf8e9",
           "#edf8e9",
           "#edf8e9",
           "#edf8e9",
           "#edf8e9",
           "#edf8e9",
           "#edf8e9",
           "#edf8e9",
           "#edf8e9",
           "#edf8e9",
           "#edf8e9",
           "#edf8e9",
           "#edf8e9"
          ],
          "size": 4
         },
         "mode": "markers+lines",
         "showlegend": false,
         "type": "scatter",
         "x": [
          "2020-06-18",
          "2020-06-17",
          "2020-06-16",
          "2020-06-15",
          "2020-06-14",
          "2020-06-13",
          "2020-06-12",
          "2020-06-11",
          "2020-06-10",
          "2020-06-09",
          "2020-06-08",
          "2020-06-07",
          "2020-06-06",
          "2020-06-05",
          "2020-06-04",
          "2020-06-03",
          "2020-06-02",
          "2020-06-01",
          "2020-05-31",
          "2020-05-30",
          "2020-05-29",
          "2020-05-28",
          "2020-05-27",
          "2020-05-26",
          "2020-05-25",
          "2020-05-24",
          "2020-05-23",
          "2020-05-22",
          "2020-05-21",
          "2020-05-20",
          "2020-05-19",
          "2020-05-18",
          "2020-05-17",
          "2020-05-16",
          "2020-05-15",
          "2020-05-14",
          "2020-05-13",
          "2020-05-12",
          "2020-05-11",
          "2020-05-10",
          "2020-05-09",
          "2020-05-08",
          "2020-05-07",
          "2020-05-06",
          "2020-05-05",
          "2020-05-04",
          "2020-05-03",
          "2020-05-02",
          "2020-05-01",
          "2020-04-30",
          "2020-04-29",
          "2020-04-28",
          "2020-04-27",
          "2020-04-26",
          "2020-04-25",
          "2020-04-24",
          "2020-04-23",
          "2020-04-22",
          "2020-04-21",
          "2020-04-20",
          "2020-04-19",
          "2020-04-18",
          "2020-04-17",
          "2020-04-16",
          "2020-04-15",
          "2020-04-14",
          "2020-04-13",
          "2020-04-12",
          "2020-04-11",
          "2020-04-10",
          "2020-04-09",
          "2020-04-08",
          "2020-04-07",
          "2020-04-06",
          "2020-04-05",
          "2020-04-04",
          "2020-04-03",
          "2020-04-02",
          "2020-04-01",
          "2020-03-31",
          "2020-03-30",
          "2020-03-29",
          "2020-03-28",
          "2020-03-27",
          "2020-03-26",
          "2020-03-25",
          "2020-03-24",
          "2020-03-23",
          "2020-03-22",
          "2020-03-21",
          "2020-03-20",
          "2020-03-19",
          "2020-03-18",
          "2020-03-17",
          "2020-03-16",
          "2020-03-15",
          "2020-03-14",
          "2020-03-13",
          "2020-03-12",
          "2020-03-11",
          "2020-03-10",
          "2020-03-09",
          "2020-03-08",
          "2020-03-07",
          "2020-03-06",
          "2020-03-05",
          "2020-03-04"
         ],
         "y": [
          0.023251254705144293,
          0.018207890085703806,
          0.033263922259597414,
          0.02539324636280668,
          0.030490018148820328,
          0.030809375572239516,
          0.029384609208783267,
          0.034311310190369544,
          0.030019212295869357,
          0.039243685065734404,
          0.08214943826903644,
          0.04188405797101449,
          0.04608839517844481,
          0.06115431413003227,
          0.04067247493542314,
          0.04012913244248294,
          0.09822895745846266,
          0.04866593384630759,
          0.06348681100501087,
          0.05768851359349722,
          0.07441732427968435,
          0.05874658561920517,
          0.06467198323534548,
          0.06836912362159026,
          0.07914799242249226,
          0.09768637532133675,
          0.09365294258182687,
          0.1098235973400231,
          0.07738765482649196,
          0.11355746825811974,
          0.08377162066908854,
          0.10771470160116449,
          0.08543976348854397,
          0.09059747472556082,
          0.09154903067946546,
          0.14282564600052916,
          0.0949173647271904,
          0.1371557438666029,
          0.10176030865686038,
          0.12129202373104812,
          0.13991695251850514,
          0.13966426394465675,
          0.14851262441657764,
          0.1515960999065046,
          0.16150391962858665,
          0.16922076044527976,
          0.15419477777205542,
          0.16109942135718044,
          0.21165913231225963,
          0.19416666666666665,
          0.15561541649399088,
          0.1523933795755786,
          0.15620069422530766,
          0.15943007124109487,
          0.1768043387567793,
          0.16695268448149056,
          0.20356744704570792,
          0.21916782543587549,
          0.23361952101220063,
          0.22837301587301587,
          0.202401082177883,
          0.2188924181742853,
          0.24320042249801954,
          0.20141342756183744,
          0.21321083478536354,
          0.25206270627062705,
          0.233061792171667,
          0.1947356161192639,
          0.2797490263954998,
          0.21964017991004497,
          0.23208426869279916,
          0.24139564256394064,
          0.22227979274611398,
          0.2541045718615812,
          0.16641984450203628,
          0.2626061810952467,
          0.27527322404371585,
          0.21852078239608802,
          0.1911223105252956,
          0.19606612261979495,
          0.1717585692995529,
          0.4865697930427125,
          0.1177513294504938,
          0.0993687639991855,
          0.277869529314616,
          0.12043795620437957,
          0.1624302541847489,
          0.14583333333333334,
          0.14237614237614238,
          0.08571428571428572,
          0.1437389770723104,
          0.12226277372262774,
          0.23369565217391305,
          0.13924050632911392,
          0.056640625,
          0.11920529801324503,
          0.3888888888888889,
          0.2,
          0.21428571428571427,
          null,
          0.18461538461538463,
          1,
          null,
          0.08333333333333333,
          0,
          0.023809523809523808,
          null
         ]
        }
       ],
       "layout": {
        "autosize": true,
        "hovermode": "closest",
        "margin": {
         "b": 40,
         "l": 40,
         "r": 0,
         "t": 10
        },
        "template": {
         "data": {
          "bar": [
           {
            "error_x": {
             "color": "#2a3f5f"
            },
            "error_y": {
             "color": "#2a3f5f"
            },
            "marker": {
             "line": {
              "color": "#E5ECF6",
              "width": 0.5
             }
            },
            "type": "bar"
           }
          ],
          "barpolar": [
           {
            "marker": {
             "line": {
              "color": "#E5ECF6",
              "width": 0.5
             }
            },
            "type": "barpolar"
           }
          ],
          "carpet": [
           {
            "aaxis": {
             "endlinecolor": "#2a3f5f",
             "gridcolor": "white",
             "linecolor": "white",
             "minorgridcolor": "white",
             "startlinecolor": "#2a3f5f"
            },
            "baxis": {
             "endlinecolor": "#2a3f5f",
             "gridcolor": "white",
             "linecolor": "white",
             "minorgridcolor": "white",
             "startlinecolor": "#2a3f5f"
            },
            "type": "carpet"
           }
          ],
          "choropleth": [
           {
            "colorbar": {
             "outlinewidth": 0,
             "ticks": ""
            },
            "type": "choropleth"
           }
          ],
          "contour": [
           {
            "colorbar": {
             "outlinewidth": 0,
             "ticks": ""
            },
            "colorscale": [
             [
              0,
              "#0d0887"
             ],
             [
              0.1111111111111111,
              "#46039f"
             ],
             [
              0.2222222222222222,
              "#7201a8"
             ],
             [
              0.3333333333333333,
              "#9c179e"
             ],
             [
              0.4444444444444444,
              "#bd3786"
             ],
             [
              0.5555555555555556,
              "#d8576b"
             ],
             [
              0.6666666666666666,
              "#ed7953"
             ],
             [
              0.7777777777777778,
              "#fb9f3a"
             ],
             [
              0.8888888888888888,
              "#fdca26"
             ],
             [
              1,
              "#f0f921"
             ]
            ],
            "type": "contour"
           }
          ],
          "contourcarpet": [
           {
            "colorbar": {
             "outlinewidth": 0,
             "ticks": ""
            },
            "type": "contourcarpet"
           }
          ],
          "heatmap": [
           {
            "colorbar": {
             "outlinewidth": 0,
             "ticks": ""
            },
            "colorscale": [
             [
              0,
              "#0d0887"
             ],
             [
              0.1111111111111111,
              "#46039f"
             ],
             [
              0.2222222222222222,
              "#7201a8"
             ],
             [
              0.3333333333333333,
              "#9c179e"
             ],
             [
              0.4444444444444444,
              "#bd3786"
             ],
             [
              0.5555555555555556,
              "#d8576b"
             ],
             [
              0.6666666666666666,
              "#ed7953"
             ],
             [
              0.7777777777777778,
              "#fb9f3a"
             ],
             [
              0.8888888888888888,
              "#fdca26"
             ],
             [
              1,
              "#f0f921"
             ]
            ],
            "type": "heatmap"
           }
          ],
          "heatmapgl": [
           {
            "colorbar": {
             "outlinewidth": 0,
             "ticks": ""
            },
            "colorscale": [
             [
              0,
              "#0d0887"
             ],
             [
              0.1111111111111111,
              "#46039f"
             ],
             [
              0.2222222222222222,
              "#7201a8"
             ],
             [
              0.3333333333333333,
              "#9c179e"
             ],
             [
              0.4444444444444444,
              "#bd3786"
             ],
             [
              0.5555555555555556,
              "#d8576b"
             ],
             [
              0.6666666666666666,
              "#ed7953"
             ],
             [
              0.7777777777777778,
              "#fb9f3a"
             ],
             [
              0.8888888888888888,
              "#fdca26"
             ],
             [
              1,
              "#f0f921"
             ]
            ],
            "type": "heatmapgl"
           }
          ],
          "histogram": [
           {
            "marker": {
             "colorbar": {
              "outlinewidth": 0,
              "ticks": ""
             }
            },
            "type": "histogram"
           }
          ],
          "histogram2d": [
           {
            "colorbar": {
             "outlinewidth": 0,
             "ticks": ""
            },
            "colorscale": [
             [
              0,
              "#0d0887"
             ],
             [
              0.1111111111111111,
              "#46039f"
             ],
             [
              0.2222222222222222,
              "#7201a8"
             ],
             [
              0.3333333333333333,
              "#9c179e"
             ],
             [
              0.4444444444444444,
              "#bd3786"
             ],
             [
              0.5555555555555556,
              "#d8576b"
             ],
             [
              0.6666666666666666,
              "#ed7953"
             ],
             [
              0.7777777777777778,
              "#fb9f3a"
             ],
             [
              0.8888888888888888,
              "#fdca26"
             ],
             [
              1,
              "#f0f921"
             ]
            ],
            "type": "histogram2d"
           }
          ],
          "histogram2dcontour": [
           {
            "colorbar": {
             "outlinewidth": 0,
             "ticks": ""
            },
            "colorscale": [
             [
              0,
              "#0d0887"
             ],
             [
              0.1111111111111111,
              "#46039f"
             ],
             [
              0.2222222222222222,
              "#7201a8"
             ],
             [
              0.3333333333333333,
              "#9c179e"
             ],
             [
              0.4444444444444444,
              "#bd3786"
             ],
             [
              0.5555555555555556,
              "#d8576b"
             ],
             [
              0.6666666666666666,
              "#ed7953"
             ],
             [
              0.7777777777777778,
              "#fb9f3a"
             ],
             [
              0.8888888888888888,
              "#fdca26"
             ],
             [
              1,
              "#f0f921"
             ]
            ],
            "type": "histogram2dcontour"
           }
          ],
          "mesh3d": [
           {
            "colorbar": {
             "outlinewidth": 0,
             "ticks": ""
            },
            "type": "mesh3d"
           }
          ],
          "parcoords": [
           {
            "line": {
             "colorbar": {
              "outlinewidth": 0,
              "ticks": ""
             }
            },
            "type": "parcoords"
           }
          ],
          "pie": [
           {
            "automargin": true,
            "type": "pie"
           }
          ],
          "scatter": [
           {
            "marker": {
             "colorbar": {
              "outlinewidth": 0,
              "ticks": ""
             }
            },
            "type": "scatter"
           }
          ],
          "scatter3d": [
           {
            "line": {
             "colorbar": {
              "outlinewidth": 0,
              "ticks": ""
             }
            },
            "marker": {
             "colorbar": {
              "outlinewidth": 0,
              "ticks": ""
             }
            },
            "type": "scatter3d"
           }
          ],
          "scattercarpet": [
           {
            "marker": {
             "colorbar": {
              "outlinewidth": 0,
              "ticks": ""
             }
            },
            "type": "scattercarpet"
           }
          ],
          "scattergeo": [
           {
            "marker": {
             "colorbar": {
              "outlinewidth": 0,
              "ticks": ""
             }
            },
            "type": "scattergeo"
           }
          ],
          "scattergl": [
           {
            "marker": {
             "colorbar": {
              "outlinewidth": 0,
              "ticks": ""
             }
            },
            "type": "scattergl"
           }
          ],
          "scattermapbox": [
           {
            "marker": {
             "colorbar": {
              "outlinewidth": 0,
              "ticks": ""
             }
            },
            "type": "scattermapbox"
           }
          ],
          "scatterpolar": [
           {
            "marker": {
             "colorbar": {
              "outlinewidth": 0,
              "ticks": ""
             }
            },
            "type": "scatterpolar"
           }
          ],
          "scatterpolargl": [
           {
            "marker": {
             "colorbar": {
              "outlinewidth": 0,
              "ticks": ""
             }
            },
            "type": "scatterpolargl"
           }
          ],
          "scatterternary": [
           {
            "marker": {
             "colorbar": {
              "outlinewidth": 0,
              "ticks": ""
             }
            },
            "type": "scatterternary"
           }
          ],
          "surface": [
           {
            "colorbar": {
             "outlinewidth": 0,
             "ticks": ""
            },
            "colorscale": [
             [
              0,
              "#0d0887"
             ],
             [
              0.1111111111111111,
              "#46039f"
             ],
             [
              0.2222222222222222,
              "#7201a8"
             ],
             [
              0.3333333333333333,
              "#9c179e"
             ],
             [
              0.4444444444444444,
              "#bd3786"
             ],
             [
              0.5555555555555556,
              "#d8576b"
             ],
             [
              0.6666666666666666,
              "#ed7953"
             ],
             [
              0.7777777777777778,
              "#fb9f3a"
             ],
             [
              0.8888888888888888,
              "#fdca26"
             ],
             [
              1,
              "#f0f921"
             ]
            ],
            "type": "surface"
           }
          ],
          "table": [
           {
            "cells": {
             "fill": {
              "color": "#EBF0F8"
             },
             "line": {
              "color": "white"
             }
            },
            "header": {
             "fill": {
              "color": "#C8D4E3"
             },
             "line": {
              "color": "white"
             }
            },
            "type": "table"
           }
          ]
         },
         "layout": {
          "annotationdefaults": {
           "arrowcolor": "#2a3f5f",
           "arrowhead": 0,
           "arrowwidth": 1
          },
          "coloraxis": {
           "colorbar": {
            "outlinewidth": 0,
            "ticks": ""
           }
          },
          "colorscale": {
           "diverging": [
            [
             0,
             "#8e0152"
            ],
            [
             0.1,
             "#c51b7d"
            ],
            [
             0.2,
             "#de77ae"
            ],
            [
             0.3,
             "#f1b6da"
            ],
            [
             0.4,
             "#fde0ef"
            ],
            [
             0.5,
             "#f7f7f7"
            ],
            [
             0.6,
             "#e6f5d0"
            ],
            [
             0.7,
             "#b8e186"
            ],
            [
             0.8,
             "#7fbc41"
            ],
            [
             0.9,
             "#4d9221"
            ],
            [
             1,
             "#276419"
            ]
           ],
           "sequential": [
            [
             0,
             "#0d0887"
            ],
            [
             0.1111111111111111,
             "#46039f"
            ],
            [
             0.2222222222222222,
             "#7201a8"
            ],
            [
             0.3333333333333333,
             "#9c179e"
            ],
            [
             0.4444444444444444,
             "#bd3786"
            ],
            [
             0.5555555555555556,
             "#d8576b"
            ],
            [
             0.6666666666666666,
             "#ed7953"
            ],
            [
             0.7777777777777778,
             "#fb9f3a"
            ],
            [
             0.8888888888888888,
             "#fdca26"
            ],
            [
             1,
             "#f0f921"
            ]
           ],
           "sequentialminus": [
            [
             0,
             "#0d0887"
            ],
            [
             0.1111111111111111,
             "#46039f"
            ],
            [
             0.2222222222222222,
             "#7201a8"
            ],
            [
             0.3333333333333333,
             "#9c179e"
            ],
            [
             0.4444444444444444,
             "#bd3786"
            ],
            [
             0.5555555555555556,
             "#d8576b"
            ],
            [
             0.6666666666666666,
             "#ed7953"
            ],
            [
             0.7777777777777778,
             "#fb9f3a"
            ],
            [
             0.8888888888888888,
             "#fdca26"
            ],
            [
             1,
             "#f0f921"
            ]
           ]
          },
          "colorway": [
           "#636efa",
           "#EF553B",
           "#00cc96",
           "#ab63fa",
           "#FFA15A",
           "#19d3f3",
           "#FF6692",
           "#B6E880",
           "#FF97FF",
           "#FECB52"
          ],
          "font": {
           "color": "#2a3f5f"
          },
          "geo": {
           "bgcolor": "white",
           "lakecolor": "white",
           "landcolor": "#E5ECF6",
           "showlakes": true,
           "showland": true,
           "subunitcolor": "white"
          },
          "hoverlabel": {
           "align": "left"
          },
          "hovermode": "closest",
          "mapbox": {
           "style": "light"
          },
          "paper_bgcolor": "white",
          "plot_bgcolor": "#E5ECF6",
          "polar": {
           "angularaxis": {
            "gridcolor": "white",
            "linecolor": "white",
            "ticks": ""
           },
           "bgcolor": "#E5ECF6",
           "radialaxis": {
            "gridcolor": "white",
            "linecolor": "white",
            "ticks": ""
           }
          },
          "scene": {
           "xaxis": {
            "backgroundcolor": "#E5ECF6",
            "gridcolor": "white",
            "gridwidth": 2,
            "linecolor": "white",
            "showbackground": true,
            "ticks": "",
            "zerolinecolor": "white"
           },
           "yaxis": {
            "backgroundcolor": "#E5ECF6",
            "gridcolor": "white",
            "gridwidth": 2,
            "linecolor": "white",
            "showbackground": true,
            "ticks": "",
            "zerolinecolor": "white"
           },
           "zaxis": {
            "backgroundcolor": "#E5ECF6",
            "gridcolor": "white",
            "gridwidth": 2,
            "linecolor": "white",
            "showbackground": true,
            "ticks": "",
            "zerolinecolor": "white"
           }
          },
          "shapedefaults": {
           "line": {
            "color": "#2a3f5f"
           }
          },
          "ternary": {
           "aaxis": {
            "gridcolor": "white",
            "linecolor": "white",
            "ticks": ""
           },
           "baxis": {
            "gridcolor": "white",
            "linecolor": "white",
            "ticks": ""
           },
           "bgcolor": "#E5ECF6",
           "caxis": {
            "gridcolor": "white",
            "linecolor": "white",
            "ticks": ""
           }
          },
          "title": {
           "x": 0.05
          },
          "xaxis": {
           "automargin": true,
           "gridcolor": "white",
           "linecolor": "white",
           "ticks": "",
           "title": {
            "standoff": 15
           },
           "zerolinecolor": "white",
           "zerolinewidth": 2
          },
          "yaxis": {
           "automargin": true,
           "gridcolor": "white",
           "linecolor": "white",
           "ticks": "",
           "title": {
            "standoff": 15
           },
           "zerolinecolor": "white",
           "zerolinewidth": 2
          }
         }
        },
        "xaxis": {
         "autorange": true,
         "range": [
          "2020-02-26 16:29:34.6041",
          "2020-06-24 07:30:25.3959"
         ],
         "title": {
          "text": "Date"
         },
         "type": "date"
        },
        "yaxis": {
         "autorange": true,
         "range": [
          -0.06537102473498232,
          1.0653710247349824
         ],
         "title": {
          "text": "Positive Rate"
         },
         "type": "linear"
        }
       }
      },
      "image/png": "[encoded data removed]",
      "text/html": [
       "<div>\n",
       "        \n",
       "        \n",
       "            <div id=\"f01c88c6-252e-4f3f-9a69-5247770c6064\" class=\"plotly-graph-div\" style=\"height:525px; width:100%;\"></div>\n",
       "            <script type=\"text/javascript\">\n",
       "                require([\"plotly\"], function(Plotly) {\n",
       "                    window.PLOTLYENV=window.PLOTLYENV || {};\n",
       "                    \n",
       "                if (document.getElementById(\"f01c88c6-252e-4f3f-9a69-5247770c6064\")) {\n",
       "                    Plotly.newPlot(\n",
       "                        'f01c88c6-252e-4f3f-9a69-5247770c6064',\n",
       "                        [{\"hoverinfo\": \"text\", \"hovertext\": [\"Date: 2020-06-18<br>Cumulative Positive Rate: 10.6%<br>Data Quality Grade: A\", \"Date: 2020-06-17<br>Cumulative Positive Rate: 10.7%<br>Data Quality Grade: A\", \"Date: 2020-06-16<br>Cumulative Positive Rate: 10.9%<br>Data Quality Grade: A\", \"Date: 2020-06-15<br>Cumulative Positive Rate: 11.1%<br>Data Quality Grade: A\", \"Date: 2020-06-14<br>Cumulative Positive Rate: 11.2%<br>Data Quality Grade: A\", \"Date: 2020-06-13<br>Cumulative Positive Rate: 11.3%<br>Data Quality Grade: A\", \"Date: 2020-06-12<br>Cumulative Positive Rate: 11.5%<br>Data Quality Grade: A\", \"Date: 2020-06-11<br>Cumulative Positive Rate: 11.7%<br>Data Quality Grade: B\", \"Date: 2020-06-10<br>Cumulative Positive Rate: 11.9%<br>Data Quality Grade: A\", \"Date: 2020-06-09<br>Cumulative Positive Rate: 12.0%<br>Data Quality Grade: A\", \"Date: 2020-06-08<br>Cumulative Positive Rate: 12.2%<br>Data Quality Grade: A\", \"Date: 2020-06-07<br>Cumulative Positive Rate: 12.3%<br>Data Quality Grade: A\", \"Date: 2020-06-06<br>Cumulative Positive Rate: 12.4%<br>Data Quality Grade: A\", \"Date: 2020-06-05<br>Cumulative Positive Rate: 12.6%<br>Data Quality Grade: A\", \"Date: 2020-06-04<br>Cumulative Positive Rate: 12.7%<br>Data Quality Grade: A\", \"Date: 2020-06-03<br>Cumulative Positive Rate: 12.9%<br>Data Quality Grade: A\", \"Date: 2020-06-02<br>Cumulative Positive Rate: 13.1%<br>Data Quality Grade: A\", \"Date: 2020-06-01<br>Cumulative Positive Rate: 13.2%<br>Data Quality Grade: A\", \"Date: 2020-05-31<br>Cumulative Positive Rate: 13.4%<br>Data Quality Grade: A\", \"Date: 2020-05-30<br>Cumulative Positive Rate: 13.6%<br>Data Quality Grade: A\", \"Date: 2020-05-29<br>Cumulative Positive Rate: 13.8%<br>Data Quality Grade: A\", \"Date: 2020-05-28<br>Cumulative Positive Rate: 14.0%<br>Data Quality Grade: A\", \"Date: 2020-05-27<br>Cumulative Positive Rate: 14.2%<br>Data Quality Grade: A\", \"Date: 2020-05-26<br>Cumulative Positive Rate: 14.4%<br>Data Quality Grade: A\", \"Date: 2020-05-25<br>Cumulative Positive Rate: 14.6%<br>Data Quality Grade: A\", \"Date: 2020-05-24<br>Cumulative Positive Rate: 14.7%<br>Data Quality Grade: A\", \"Date: 2020-05-23<br>Cumulative Positive Rate: 14.9%<br>Data Quality Grade: A\", \"Date: 2020-05-22<br>Cumulative Positive Rate: 15.1%<br>Data Quality Grade: A\", \"Date: 2020-05-21<br>Cumulative Positive Rate: 15.3%<br>Data Quality Grade: A\", \"Date: 2020-05-20<br>Cumulative Positive Rate: 15.6%<br>Data Quality Grade: A\", \"Date: 2020-05-19<br>Cumulative Positive Rate: 15.8%<br>Data Quality Grade: A\", \"Date: 2020-05-18<br>Cumulative Positive Rate: 16.0%<br>Data Quality Grade: A\", \"Date: 2020-05-17<br>Cumulative Positive Rate: 16.2%<br>Data Quality Grade: A\", \"Date: 2020-05-16<br>Cumulative Positive Rate: 16.5%<br>Data Quality Grade: A\", \"Date: 2020-05-15<br>Cumulative Positive Rate: 16.8%<br>Data Quality Grade: A\", \"Date: 2020-05-14<br>Cumulative Positive Rate: 17.2%<br>Data Quality Grade: A\", \"Date: 2020-05-13<br>Cumulative Positive Rate: 17.3%<br>Data Quality Grade: A\", \"Date: 2020-05-12<br>Cumulative Positive Rate: 17.6%<br>Data Quality Grade: A\", \"Date: 2020-05-11<br>Cumulative Positive Rate: 17.9%<br>Data Quality Grade: A\", \"Date: 2020-05-10<br>Cumulative Positive Rate: 18.1%<br>Data Quality Grade: A\", \"Date: 2020-05-09<br>Cumulative Positive Rate: 18.3%<br>Data Quality Grade: A\", \"Date: 2020-05-08<br>Cumulative Positive Rate: 18.5%<br>Data Quality Grade: A\", \"Date: 2020-05-07<br>Cumulative Positive Rate: 18.7%<br>Data Quality Grade: A\", \"Date: 2020-05-06<br>Cumulative Positive Rate: 18.9%<br>Data Quality Grade: A\", \"Date: 2020-05-05<br>Cumulative Positive Rate: 19.0%<br>Data Quality Grade: A\", \"Date: 2020-05-04<br>Cumulative Positive Rate: 19.2%<br>Data Quality Grade: A\", \"Date: 2020-05-03<br>Cumulative Positive Rate: 19.3%<br>Data Quality Grade: A\", \"Date: 2020-05-02<br>Cumulative Positive Rate: 19.5%<br>Data Quality Grade: A\", \"Date: 2020-05-01<br>Cumulative Positive Rate: 19.7%<br>Data Quality Grade: A\", \"Date: 2020-04-30<br>Cumulative Positive Rate: 19.6%<br>Data Quality Grade: A\", \"Date: 2020-04-29<br>Cumulative Positive Rate: 19.6%<br>Data Quality Grade: A\", \"Date: 2020-04-28<br>Cumulative Positive Rate: 19.9%<br>Data Quality Grade: A\", \"Date: 2020-04-27<br>Cumulative Positive Rate: 20.2%<br>Data Quality Grade: A\", \"Date: 2020-04-26<br>Cumulative Positive Rate: 20.4%<br>Data Quality Grade: A\", \"Date: 2020-04-25<br>Cumulative Positive Rate: 20.7%<br>Data Quality Grade: A\", \"Date: 2020-04-24<br>Cumulative Positive Rate: 20.9%<br>Data Quality Grade: A\", \"Date: 2020-04-23<br>Cumulative Positive Rate: 21.3%<br>Data Quality Grade: A\", \"Date: 2020-04-22<br>Cumulative Positive Rate: 21.4%<br>Data Quality Grade: A\", \"Date: 2020-04-21<br>Cumulative Positive Rate: 21.3%<br>Data Quality Grade: A\", \"Date: 2020-04-20<br>Cumulative Positive Rate: 21.2%<br>Data Quality Grade: A\", \"Date: 2020-04-19<br>Cumulative Positive Rate: 21.2%<br>Data Quality Grade: A\", \"Date: 2020-04-18<br>Cumulative Positive Rate: 21.2%<br>Data Quality Grade: A\", \"Date: 2020-04-17<br>Cumulative Positive Rate: 21.2%<br>Data Quality Grade: A\", \"Date: 2020-04-16<br>Cumulative Positive Rate: 21.0%<br>Data Quality Grade: A\", \"Date: 2020-04-15<br>Cumulative Positive Rate: 21.0%<br>Data Quality Grade: A\", \"Date: 2020-04-14<br>Cumulative Positive Rate: 21.0%<br>Data Quality Grade: A\", \"Date: 2020-04-13<br>Cumulative Positive Rate: 20.8%<br>Data Quality Grade: A\", \"Date: 2020-04-12<br>Cumulative Positive Rate: 20.7%<br>Data Quality Grade: A\", \"Date: 2020-04-11<br>Cumulative Positive Rate: 20.8%<br>Data Quality Grade: A\", \"Date: 2020-04-10<br>Cumulative Positive Rate: 20.4%<br>Data Quality Grade: A\", \"Date: 2020-04-09<br>Cumulative Positive Rate: 20.3%<br>Data Quality Grade: A\", \"Date: 2020-04-08<br>Cumulative Positive Rate: 20.1%<br>Data Quality Grade: A\", \"Date: 2020-04-07<br>Cumulative Positive Rate: 19.7%<br>Data Quality Grade: A\", \"Date: 2020-04-06<br>Cumulative Positive Rate: 19.5%<br>Data Quality Grade: A\", \"Date: 2020-04-05<br>Cumulative Positive Rate: 19.1%<br>Data Quality Grade: A\", \"Date: 2020-04-04<br>Cumulative Positive Rate: 19.3%<br>Data Quality Grade: A\", \"Date: 2020-04-03<br>Cumulative Positive Rate: 18.5%<br>Data Quality Grade: A\", \"Date: 2020-04-02<br>Cumulative Positive Rate: 17.6%<br>Data Quality Grade: A\", \"Date: 2020-04-01<br>Cumulative Positive Rate: 17.3%<br>Data Quality Grade: A\", \"Date: 2020-03-31<br>Cumulative Positive Rate: 17.0%<br>Data Quality Grade: A\", \"Date: 2020-03-30<br>Cumulative Positive Rate: 16.6%<br>Data Quality Grade: A\", \"Date: 2020-03-29<br>Cumulative Positive Rate: 16.6%<br>Data Quality Grade: A\", \"Date: 2020-03-28<br>Cumulative Positive Rate: 13.7%<br>Data Quality Grade: A\", \"Date: 2020-03-27<br>Cumulative Positive Rate: 14.0%<br>Data Quality Grade: A\", \"Date: 2020-03-26<br>Cumulative Positive Rate: 15.3%<br>Data Quality Grade: A\", \"Date: 2020-03-25<br>Cumulative Positive Rate: 13.1%<br>Data Quality Grade: A\", \"Date: 2020-03-24<br>Cumulative Positive Rate: 13.4%<br>Data Quality Grade: A\", \"Date: 2020-03-23<br>Cumulative Positive Rate: 12.9%<br>Data Quality Grade: A\", \"Date: 2020-03-22<br>Cumulative Positive Rate: 12.6%<br>Data Quality Grade: NA\", \"Date: 2020-03-21<br>Cumulative Positive Rate: 12.1%<br>Data Quality Grade: NA\", \"Date: 2020-03-20<br>Cumulative Positive Rate: 13.7%<br>Data Quality Grade: NA\", \"Date: 2020-03-19<br>Cumulative Positive Rate: 13.4%<br>Data Quality Grade: NA\", \"Date: 2020-03-18<br>Cumulative Positive Rate: 14.0%<br>Data Quality Grade: NA\", \"Date: 2020-03-17<br>Cumulative Positive Rate: 10.6%<br>Data Quality Grade: NA\", \"Date: 2020-03-16<br>Cumulative Positive Rate: 9.1%<br>Data Quality Grade: NA\", \"Date: 2020-03-15<br>Cumulative Positive Rate: 12.5%<br>Data Quality Grade: NA\", \"Date: 2020-03-14<br>Cumulative Positive Rate: 12.7%<br>Data Quality Grade: NA\", \"Date: 2020-03-13<br>Cumulative Positive Rate: 9.8%<br>Data Quality Grade: NA\", \"Date: 2020-03-12<br>Cumulative Positive Rate: 8.6%<br>Data Quality Grade: NA\", \"Date: 2020-03-11<br>Cumulative Positive Rate: 7.2%<br>Data Quality Grade: NA\", \"Date: 2020-03-10<br>Cumulative Positive Rate: 7.2%<br>Data Quality Grade: NA\", \"Date: 2020-03-09<br>Cumulative Positive Rate: 3.5%<br>Data Quality Grade: NA\", \"Date: 2020-03-08<br>Cumulative Positive Rate: 3.0%<br>Data Quality Grade: NA\", \"Date: 2020-03-07<br>Cumulative Positive Rate: 3.0%<br>Data Quality Grade: NA\", \"Date: 2020-03-06<br>Cumulative Positive Rate: 2.7%<br>Data Quality Grade: NA\", \"Date: 2020-03-05<br>Cumulative Positive Rate: 2.9%<br>Data Quality Grade: NA\", \"Date: 2020-03-04<br>Cumulative Positive Rate: 3.1%<br>Data Quality Grade: NA\"], \"line\": {\"color\": \"#bdd7e7\"}, \"marker\": {\"color\": [\"#08519c\", \"#08519c\", \"#08519c\", \"#08519c\", \"#08519c\", \"#08519c\", \"#08519c\", \"#3182bd\", \"#08519c\", \"#08519c\", \"#08519c\", \"#08519c\", \"#08519c\", \"#08519c\", \"#08519c\", \"#08519c\", \"#08519c\", \"#08519c\", \"#08519c\", \"#08519c\", \"#08519c\", \"#08519c\", \"#08519c\", \"#08519c\", \"#08519c\", \"#08519c\", \"#08519c\", \"#08519c\", \"#08519c\", \"#08519c\", \"#08519c\", \"#08519c\", \"#08519c\", \"#08519c\", \"#08519c\", \"#08519c\", \"#08519c\", \"#08519c\", \"#08519c\", \"#08519c\", \"#08519c\", \"#08519c\", \"#08519c\", \"#08519c\", \"#08519c\", \"#08519c\", \"#08519c\", \"#08519c\", \"#08519c\", \"#08519c\", \"#08519c\", \"#08519c\", \"#08519c\", \"#08519c\", \"#08519c\", \"#08519c\", \"#08519c\", \"#08519c\", \"#08519c\", \"#08519c\", \"#08519c\", \"#08519c\", \"#08519c\", \"#08519c\", \"#08519c\", \"#08519c\", \"#08519c\", \"#08519c\", \"#08519c\", \"#08519c\", \"#08519c\", \"#08519c\", \"#08519c\", \"#08519c\", \"#08519c\", \"#08519c\", \"#08519c\", \"#08519c\", \"#08519c\", \"#08519c\", \"#08519c\", \"#08519c\", \"#08519c\", \"#08519c\", \"#08519c\", \"#08519c\", \"#08519c\", \"#08519c\", \"#eff3ff\", \"#eff3ff\", \"#eff3ff\", \"#eff3ff\", \"#eff3ff\", \"#eff3ff\", \"#eff3ff\", \"#eff3ff\", \"#eff3ff\", \"#eff3ff\", \"#eff3ff\", \"#eff3ff\", \"#eff3ff\", \"#eff3ff\", \"#eff3ff\", \"#eff3ff\", \"#eff3ff\", \"#eff3ff\", \"#eff3ff\"]}, \"mode\": \"markers+lines\", \"showlegend\": false, \"type\": \"scatter\", \"x\": [\"2020-06-18\", \"2020-06-17\", \"2020-06-16\", \"2020-06-15\", \"2020-06-14\", \"2020-06-13\", \"2020-06-12\", \"2020-06-11\", \"2020-06-10\", \"2020-06-09\", \"2020-06-08\", \"2020-06-07\", \"2020-06-06\", \"2020-06-05\", \"2020-06-04\", \"2020-06-03\", \"2020-06-02\", \"2020-06-01\", \"2020-05-31\", \"2020-05-30\", \"2020-05-29\", \"2020-05-28\", \"2020-05-27\", \"2020-05-26\", \"2020-05-25\", \"2020-05-24\", \"2020-05-23\", \"2020-05-22\", \"2020-05-21\", \"2020-05-20\", \"2020-05-19\", \"2020-05-18\", \"2020-05-17\", \"2020-05-16\", \"2020-05-15\", \"2020-05-14\", \"2020-05-13\", \"2020-05-12\", \"2020-05-11\", \"2020-05-10\", \"2020-05-09\", \"2020-05-08\", \"2020-05-07\", \"2020-05-06\", \"2020-05-05\", \"2020-05-04\", \"2020-05-03\", \"2020-05-02\", \"2020-05-01\", \"2020-04-30\", \"2020-04-29\", \"2020-04-28\", \"2020-04-27\", \"2020-04-26\", \"2020-04-25\", \"2020-04-24\", \"2020-04-23\", \"2020-04-22\", \"2020-04-21\", \"2020-04-20\", \"2020-04-19\", \"2020-04-18\", \"2020-04-17\", \"2020-04-16\", \"2020-04-15\", \"2020-04-14\", \"2020-04-13\", \"2020-04-12\", \"2020-04-11\", \"2020-04-10\", \"2020-04-09\", \"2020-04-08\", \"2020-04-07\", \"2020-04-06\", \"2020-04-05\", \"2020-04-04\", \"2020-04-03\", \"2020-04-02\", \"2020-04-01\", \"2020-03-31\", \"2020-03-30\", \"2020-03-29\", \"2020-03-28\", \"2020-03-27\", \"2020-03-26\", \"2020-03-25\", \"2020-03-24\", \"2020-03-23\", \"2020-03-22\", \"2020-03-21\", \"2020-03-20\", \"2020-03-19\", \"2020-03-18\", \"2020-03-17\", \"2020-03-16\", \"2020-03-15\", \"2020-03-14\", \"2020-03-13\", \"2020-03-12\", \"2020-03-11\", \"2020-03-10\", \"2020-03-09\", \"2020-03-08\", \"2020-03-07\", \"2020-03-06\", \"2020-03-05\", \"2020-03-04\"], \"y\": [0.10558086640154496, 0.10724839559430713, 0.1094205834354321, 0.11059891463915346, 0.1119305682109937, 0.11346496769549823, 0.11503777999620196, 0.11693769917839884, 0.11861353324987327, 0.12032158354523449, 0.1218755809991912, 0.12251648008101468, 0.12414952342002634, 0.12579939036025892, 0.12704375488790406, 0.1291005291005291, 0.13142984303052088, 0.13202391881281492, 0.133881207981217, 0.13557897857155074, 0.1378965016049084, 0.13956354838631943, 0.1421764163721916, 0.14386866193692377, 0.1455590438222162, 0.14748081682423678, 0.14925087954674784, 0.15125377797350004, 0.15280199994047797, 0.15624081043949634, 0.15768461147463986, 0.1599443671766342, 0.16185577993758848, 0.16461704730178456, 0.16778437510443706, 0.1717395422596414, 0.17307947743885368, 0.17600717418818676, 0.1785771599706165, 0.1807997506883977, 0.18275122438636565, 0.1845319403373412, 0.18697878604802093, 0.188872280352101, 0.19048416626718956, 0.19162711955983394, 0.19259785852752628, 0.19508429588924162, 0.196899763952116, 0.19608918467244976, 0.1961880568986274, 0.1986134795552234, 0.20157010561090902, 0.20424559901745507, 0.207209709498703, 0.2091313702328721, 0.2131020794387131, 0.2136224794032103, 0.21328799912256366, 0.21237816632739726, 0.2118156826079069, 0.2122208960437833, 0.21184975761161007, 0.20991279804876456, 0.21032421383916736, 0.21015947060099804, 0.2082387867786098, 0.20699856057973892, 0.20814116268217778, 0.20435979754818512, 0.20309929876201194, 0.20086324034849332, 0.1971279753244486, 0.1948142734581043, 0.19083464727124766, 0.19329613109124502, 0.1853146853146853, 0.17626443100604727, 0.1728407290015848, 0.17016323633782826, 0.16609735269000853, 0.16555003241841365, 0.13695029618296653, 0.14046977996472007, 0.15260657807708497, 0.13125483848265185, 0.13383904438050398, 0.1291599025974026, 0.12608173076923077, 0.12065374138759814, 0.13665031534688157, 0.13409596441054972, 0.14041930765480254, 0.10607071380920614, 0.09073170731707317, 0.12475633528265107, 0.1270718232044199, 0.09815950920245399, 0.0859106529209622, 0.07224334600760456, 0.07224334600760456, 0.03535353535353535, 0.030456852791878174, 0.030456852791878174, 0.02702702702702703, 0.029411764705882353, 0.03125]}, {\"hoverinfo\": \"text\", \"hovertext\": [\"Date: 2020-06-18<br>Incremental Positive Rate: 2.3%<br>Data Quality Grade: A\", \"Date: 2020-06-17<br>Incremental Positive Rate: 1.8%<br>Data Quality Grade: A\", \"Date: 2020-06-16<br>Incremental Positive Rate: 3.3%<br>Data Quality Grade: A\", \"Date: 2020-06-15<br>Incremental Positive Rate: 2.5%<br>Data Quality Grade: A\", \"Date: 2020-06-14<br>Incremental Positive Rate: 3.0%<br>Data Quality Grade: A\", \"Date: 2020-06-13<br>Incremental Positive Rate: 3.1%<br>Data Quality Grade: A\", \"Date: 2020-06-12<br>Incremental Positive Rate: 2.9%<br>Data Quality Grade: A\", \"Date: 2020-06-11<br>Incremental Positive Rate: 3.4%<br>Data Quality Grade: B\", \"Date: 2020-06-10<br>Incremental Positive Rate: 3.0%<br>Data Quality Grade: A\", \"Date: 2020-06-09<br>Incremental Positive Rate: 3.9%<br>Data Quality Grade: A\", \"Date: 2020-06-08<br>Incremental Positive Rate: 8.2%<br>Data Quality Grade: A\", \"Date: 2020-06-07<br>Incremental Positive Rate: 4.2%<br>Data Quality Grade: A\", \"Date: 2020-06-06<br>Incremental Positive Rate: 4.6%<br>Data Quality Grade: A\", \"Date: 2020-06-05<br>Incremental Positive Rate: 6.1%<br>Data Quality Grade: A\", \"Date: 2020-06-04<br>Incremental Positive Rate: 4.1%<br>Data Quality Grade: A\", \"Date: 2020-06-03<br>Incremental Positive Rate: 4.0%<br>Data Quality Grade: A\", \"Date: 2020-06-02<br>Incremental Positive Rate: 9.8%<br>Data Quality Grade: A\", \"Date: 2020-06-01<br>Incremental Positive Rate: 4.9%<br>Data Quality Grade: A\", \"Date: 2020-05-31<br>Incremental Positive Rate: 6.3%<br>Data Quality Grade: A\", \"Date: 2020-05-30<br>Incremental Positive Rate: 5.8%<br>Data Quality Grade: A\", \"Date: 2020-05-29<br>Incremental Positive Rate: 7.4%<br>Data Quality Grade: A\", \"Date: 2020-05-28<br>Incremental Positive Rate: 5.9%<br>Data Quality Grade: A\", \"Date: 2020-05-27<br>Incremental Positive Rate: 6.5%<br>Data Quality Grade: A\", \"Date: 2020-05-26<br>Incremental Positive Rate: 6.8%<br>Data Quality Grade: A\", \"Date: 2020-05-25<br>Incremental Positive Rate: 7.9%<br>Data Quality Grade: A\", \"Date: 2020-05-24<br>Incremental Positive Rate: 9.8%<br>Data Quality Grade: A\", \"Date: 2020-05-23<br>Incremental Positive Rate: 9.4%<br>Data Quality Grade: A\", \"Date: 2020-05-22<br>Incremental Positive Rate: 11.0%<br>Data Quality Grade: A\", \"Date: 2020-05-21<br>Incremental Positive Rate: 7.7%<br>Data Quality Grade: A\", \"Date: 2020-05-20<br>Incremental Positive Rate: 11.4%<br>Data Quality Grade: A\", \"Date: 2020-05-19<br>Incremental Positive Rate: 8.4%<br>Data Quality Grade: A\", \"Date: 2020-05-18<br>Incremental Positive Rate: 10.8%<br>Data Quality Grade: A\", \"Date: 2020-05-17<br>Incremental Positive Rate: 8.5%<br>Data Quality Grade: A\", \"Date: 2020-05-16<br>Incremental Positive Rate: 9.1%<br>Data Quality Grade: A\", \"Date: 2020-05-15<br>Incremental Positive Rate: 9.2%<br>Data Quality Grade: A\", \"Date: 2020-05-14<br>Incremental Positive Rate: 14.3%<br>Data Quality Grade: A\", \"Date: 2020-05-13<br>Incremental Positive Rate: 9.5%<br>Data Quality Grade: A\", \"Date: 2020-05-12<br>Incremental Positive Rate: 13.7%<br>Data Quality Grade: A\", \"Date: 2020-05-11<br>Incremental Positive Rate: 10.2%<br>Data Quality Grade: A\", \"Date: 2020-05-10<br>Incremental Positive Rate: 12.1%<br>Data Quality Grade: A\", \"Date: 2020-05-09<br>Incremental Positive Rate: 14.0%<br>Data Quality Grade: A\", \"Date: 2020-05-08<br>Incremental Positive Rate: 14.0%<br>Data Quality Grade: A\", \"Date: 2020-05-07<br>Incremental Positive Rate: 14.9%<br>Data Quality Grade: A\", \"Date: 2020-05-06<br>Incremental Positive Rate: 15.2%<br>Data Quality Grade: A\", \"Date: 2020-05-05<br>Incremental Positive Rate: 16.2%<br>Data Quality Grade: A\", \"Date: 2020-05-04<br>Incremental Positive Rate: 16.9%<br>Data Quality Grade: A\", \"Date: 2020-05-03<br>Incremental Positive Rate: 15.4%<br>Data Quality Grade: A\", \"Date: 2020-05-02<br>Incremental Positive Rate: 16.1%<br>Data Quality Grade: A\", \"Date: 2020-05-01<br>Incremental Positive Rate: 21.2%<br>Data Quality Grade: A\", \"Date: 2020-04-30<br>Incremental Positive Rate: 19.4%<br>Data Quality Grade: A\", \"Date: 2020-04-29<br>Incremental Positive Rate: 15.6%<br>Data Quality Grade: A\", \"Date: 2020-04-28<br>Incremental Positive Rate: 15.2%<br>Data Quality Grade: A\", \"Date: 2020-04-27<br>Incremental Positive Rate: 15.6%<br>Data Quality Grade: A\", \"Date: 2020-04-26<br>Incremental Positive Rate: 15.9%<br>Data Quality Grade: A\", \"Date: 2020-04-25<br>Incremental Positive Rate: 17.7%<br>Data Quality Grade: A\", \"Date: 2020-04-24<br>Incremental Positive Rate: 16.7%<br>Data Quality Grade: A\", \"Date: 2020-04-23<br>Incremental Positive Rate: 20.4%<br>Data Quality Grade: A\", \"Date: 2020-04-22<br>Incremental Positive Rate: 21.9%<br>Data Quality Grade: A\", \"Date: 2020-04-21<br>Incremental Positive Rate: 23.4%<br>Data Quality Grade: A\", \"Date: 2020-04-20<br>Incremental Positive Rate: 22.8%<br>Data Quality Grade: A\", \"Date: 2020-04-19<br>Incremental Positive Rate: 20.2%<br>Data Quality Grade: A\", \"Date: 2020-04-18<br>Incremental Positive Rate: 21.9%<br>Data Quality Grade: A\", \"Date: 2020-04-17<br>Incremental Positive Rate: 24.3%<br>Data Quality Grade: A\", \"Date: 2020-04-16<br>Incremental Positive Rate: 20.1%<br>Data Quality Grade: A\", \"Date: 2020-04-15<br>Incremental Positive Rate: 21.3%<br>Data Quality Grade: A\", \"Date: 2020-04-14<br>Incremental Positive Rate: 25.2%<br>Data Quality Grade: A\", \"Date: 2020-04-13<br>Incremental Positive Rate: 23.3%<br>Data Quality Grade: A\", \"Date: 2020-04-12<br>Incremental Positive Rate: 19.5%<br>Data Quality Grade: A\", \"Date: 2020-04-11<br>Incremental Positive Rate: 28.0%<br>Data Quality Grade: A\", \"Date: 2020-04-10<br>Incremental Positive Rate: 22.0%<br>Data Quality Grade: A\", \"Date: 2020-04-09<br>Incremental Positive Rate: 23.2%<br>Data Quality Grade: A\", \"Date: 2020-04-08<br>Incremental Positive Rate: 24.1%<br>Data Quality Grade: A\", \"Date: 2020-04-07<br>Incremental Positive Rate: 22.2%<br>Data Quality Grade: A\", \"Date: 2020-04-06<br>Incremental Positive Rate: 25.4%<br>Data Quality Grade: A\", \"Date: 2020-04-05<br>Incremental Positive Rate: 16.6%<br>Data Quality Grade: A\", \"Date: 2020-04-04<br>Incremental Positive Rate: 26.3%<br>Data Quality Grade: A\", \"Date: 2020-04-03<br>Incremental Positive Rate: 27.5%<br>Data Quality Grade: A\", \"Date: 2020-04-02<br>Incremental Positive Rate: 21.9%<br>Data Quality Grade: A\", \"Date: 2020-04-01<br>Incremental Positive Rate: 19.1%<br>Data Quality Grade: A\", \"Date: 2020-03-31<br>Incremental Positive Rate: 19.6%<br>Data Quality Grade: A\", \"Date: 2020-03-30<br>Incremental Positive Rate: 17.2%<br>Data Quality Grade: A\", \"Date: 2020-03-29<br>Incremental Positive Rate: 48.7%<br>Data Quality Grade: A\", \"Date: 2020-03-28<br>Incremental Positive Rate: 11.8%<br>Data Quality Grade: A\", \"Date: 2020-03-27<br>Incremental Positive Rate: 9.9%<br>Data Quality Grade: A\", \"Date: 2020-03-26<br>Incremental Positive Rate: 27.8%<br>Data Quality Grade: A\", \"Date: 2020-03-25<br>Incremental Positive Rate: 12.0%<br>Data Quality Grade: A\", \"Date: 2020-03-24<br>Incremental Positive Rate: 16.2%<br>Data Quality Grade: A\", \"Date: 2020-03-23<br>Incremental Positive Rate: 14.6%<br>Data Quality Grade: A\", \"Date: 2020-03-22<br>Incremental Positive Rate: 14.2%<br>Data Quality Grade: NA\", \"Date: 2020-03-21<br>Incremental Positive Rate: 8.6%<br>Data Quality Grade: NA\", \"Date: 2020-03-20<br>Incremental Positive Rate: 14.4%<br>Data Quality Grade: NA\", \"Date: 2020-03-19<br>Incremental Positive Rate: 12.2%<br>Data Quality Grade: NA\", \"Date: 2020-03-18<br>Incremental Positive Rate: 23.4%<br>Data Quality Grade: NA\", \"Date: 2020-03-17<br>Incremental Positive Rate: 13.9%<br>Data Quality Grade: NA\", \"Date: 2020-03-16<br>Incremental Positive Rate: 5.7%<br>Data Quality Grade: NA\", \"Date: 2020-03-15<br>Incremental Positive Rate: 11.9%<br>Data Quality Grade: NA\", \"Date: 2020-03-14<br>Incremental Positive Rate: 38.9%<br>Data Quality Grade: NA\", \"Date: 2020-03-13<br>Incremental Positive Rate: 20.0%<br>Data Quality Grade: NA\", \"Date: 2020-03-12<br>Incremental Positive Rate: 21.4%<br>Data Quality Grade: NA\", \"Date: 2020-03-11<br>Incremental Positive Rate: nan%<br>Data Quality Grade: NA\", \"Date: 2020-03-10<br>Incremental Positive Rate: 18.5%<br>Data Quality Grade: NA\", \"Date: 2020-03-09<br>Incremental Positive Rate: 100.0%<br>Data Quality Grade: NA\", \"Date: 2020-03-08<br>Incremental Positive Rate: nan%<br>Data Quality Grade: NA\", \"Date: 2020-03-07<br>Incremental Positive Rate: 8.3%<br>Data Quality Grade: NA\", \"Date: 2020-03-06<br>Incremental Positive Rate: 0.0%<br>Data Quality Grade: NA\", \"Date: 2020-03-05<br>Incremental Positive Rate: 2.4%<br>Data Quality Grade: NA\", \"Date: 2020-03-04<br>Incremental Positive Rate: nan%<br>Data Quality Grade: NA\"], \"line\": {\"color\": \"#bae4b3\"}, \"marker\": {\"color\": [\"#006d2c\", \"#006d2c\", \"#006d2c\", \"#006d2c\", \"#006d2c\", \"#006d2c\", \"#006d2c\", \"#31a354\", \"#006d2c\", \"#006d2c\", \"#006d2c\", \"#006d2c\", \"#006d2c\", \"#006d2c\", \"#006d2c\", \"#006d2c\", \"#006d2c\", \"#006d2c\", \"#006d2c\", \"#006d2c\", \"#006d2c\", \"#006d2c\", \"#006d2c\", \"#006d2c\", \"#006d2c\", \"#006d2c\", \"#006d2c\", \"#006d2c\", \"#006d2c\", \"#006d2c\", \"#006d2c\", \"#006d2c\", \"#006d2c\", \"#006d2c\", \"#006d2c\", \"#006d2c\", \"#006d2c\", \"#006d2c\", \"#006d2c\", \"#006d2c\", \"#006d2c\", \"#006d2c\", \"#006d2c\", \"#006d2c\", \"#006d2c\", \"#006d2c\", \"#006d2c\", \"#006d2c\", \"#006d2c\", \"#006d2c\", \"#006d2c\", \"#006d2c\", \"#006d2c\", \"#006d2c\", \"#006d2c\", \"#006d2c\", \"#006d2c\", \"#006d2c\", \"#006d2c\", \"#006d2c\", \"#006d2c\", \"#006d2c\", \"#006d2c\", \"#006d2c\", \"#006d2c\", \"#006d2c\", \"#006d2c\", \"#006d2c\", \"#006d2c\", \"#006d2c\", \"#006d2c\", \"#006d2c\", \"#006d2c\", \"#006d2c\", \"#006d2c\", \"#006d2c\", \"#006d2c\", \"#006d2c\", \"#006d2c\", \"#006d2c\", \"#006d2c\", \"#006d2c\", \"#006d2c\", \"#006d2c\", \"#006d2c\", \"#006d2c\", \"#006d2c\", \"#006d2c\", \"#edf8e9\", \"#edf8e9\", \"#edf8e9\", \"#edf8e9\", \"#edf8e9\", \"#edf8e9\", \"#edf8e9\", \"#edf8e9\", \"#edf8e9\", \"#edf8e9\", \"#edf8e9\", \"#edf8e9\", \"#edf8e9\", \"#edf8e9\", \"#edf8e9\", \"#edf8e9\", \"#edf8e9\", \"#edf8e9\", \"#edf8e9\"], \"size\": 4}, \"mode\": \"markers+lines\", \"showlegend\": false, \"type\": \"scatter\", \"x\": [\"2020-06-18\", \"2020-06-17\", \"2020-06-16\", \"2020-06-15\", \"2020-06-14\", \"2020-06-13\", \"2020-06-12\", \"2020-06-11\", \"2020-06-10\", \"2020-06-09\", \"2020-06-08\", \"2020-06-07\", \"2020-06-06\", \"2020-06-05\", \"2020-06-04\", \"2020-06-03\", \"2020-06-02\", \"2020-06-01\", \"2020-05-31\", \"2020-05-30\", \"2020-05-29\", \"2020-05-28\", \"2020-05-27\", \"2020-05-26\", \"2020-05-25\", \"2020-05-24\", \"2020-05-23\", \"2020-05-22\", \"2020-05-21\", \"2020-05-20\", \"2020-05-19\", \"2020-05-18\", \"2020-05-17\", \"2020-05-16\", \"2020-05-15\", \"2020-05-14\", \"2020-05-13\", \"2020-05-12\", \"2020-05-11\", \"2020-05-10\", \"2020-05-09\", \"2020-05-08\", \"2020-05-07\", \"2020-05-06\", \"2020-05-05\", \"2020-05-04\", \"2020-05-03\", \"2020-05-02\", \"2020-05-01\", \"2020-04-30\", \"2020-04-29\", \"2020-04-28\", \"2020-04-27\", \"2020-04-26\", \"2020-04-25\", \"2020-04-24\", \"2020-04-23\", \"2020-04-22\", \"2020-04-21\", \"2020-04-20\", \"2020-04-19\", \"2020-04-18\", \"2020-04-17\", \"2020-04-16\", \"2020-04-15\", \"2020-04-14\", \"2020-04-13\", \"2020-04-12\", \"2020-04-11\", \"2020-04-10\", \"2020-04-09\", \"2020-04-08\", \"2020-04-07\", \"2020-04-06\", \"2020-04-05\", \"2020-04-04\", \"2020-04-03\", \"2020-04-02\", \"2020-04-01\", \"2020-03-31\", \"2020-03-30\", \"2020-03-29\", \"2020-03-28\", \"2020-03-27\", \"2020-03-26\", \"2020-03-25\", \"2020-03-24\", \"2020-03-23\", \"2020-03-22\", \"2020-03-21\", \"2020-03-20\", \"2020-03-19\", \"2020-03-18\", \"2020-03-17\", \"2020-03-16\", \"2020-03-15\", \"2020-03-14\", \"2020-03-13\", \"2020-03-12\", \"2020-03-11\", \"2020-03-10\", \"2020-03-09\", \"2020-03-08\", \"2020-03-07\", \"2020-03-06\", \"2020-03-05\", \"2020-03-04\"], \"y\": [0.023251254705144293, 0.018207890085703806, 0.033263922259597414, 0.02539324636280668, 0.030490018148820328, 0.030809375572239516, 0.029384609208783267, 0.034311310190369544, 0.030019212295869357, 0.039243685065734404, 0.08214943826903644, 0.04188405797101449, 0.04608839517844481, 0.06115431413003227, 0.04067247493542314, 0.04012913244248294, 0.09822895745846266, 0.04866593384630759, 0.06348681100501087, 0.05768851359349722, 0.07441732427968435, 0.05874658561920517, 0.06467198323534548, 0.06836912362159026, 0.07914799242249226, 0.09768637532133675, 0.09365294258182687, 0.1098235973400231, 0.07738765482649196, 0.11355746825811974, 0.08377162066908854, 0.10771470160116449, 0.08543976348854397, 0.09059747472556082, 0.09154903067946546, 0.14282564600052916, 0.0949173647271904, 0.1371557438666029, 0.10176030865686038, 0.12129202373104812, 0.13991695251850514, 0.13966426394465675, 0.14851262441657764, 0.1515960999065046, 0.16150391962858665, 0.16922076044527976, 0.15419477777205542, 0.16109942135718044, 0.21165913231225963, 0.19416666666666665, 0.15561541649399088, 0.1523933795755786, 0.15620069422530766, 0.15943007124109487, 0.1768043387567793, 0.16695268448149056, 0.20356744704570792, 0.21916782543587549, 0.23361952101220063, 0.22837301587301587, 0.202401082177883, 0.2188924181742853, 0.24320042249801954, 0.20141342756183744, 0.21321083478536354, 0.25206270627062705, 0.233061792171667, 0.1947356161192639, 0.2797490263954998, 0.21964017991004497, 0.23208426869279916, 0.24139564256394064, 0.22227979274611398, 0.2541045718615812, 0.16641984450203628, 0.2626061810952467, 0.27527322404371585, 0.21852078239608802, 0.1911223105252956, 0.19606612261979495, 0.1717585692995529, 0.4865697930427125, 0.1177513294504938, 0.0993687639991855, 0.277869529314616, 0.12043795620437957, 0.1624302541847489, 0.14583333333333334, 0.14237614237614238, 0.08571428571428572, 0.1437389770723104, 0.12226277372262774, 0.23369565217391305, 0.13924050632911392, 0.056640625, 0.11920529801324503, 0.3888888888888889, 0.2, 0.21428571428571427, null, 0.18461538461538463, 1.0, null, 0.08333333333333333, 0.0, 0.023809523809523808, null]}],\n",
       "                        {\"hovermode\": \"closest\", \"margin\": {\"b\": 40, \"l\": 40, \"r\": 0, \"t\": 10}, \"template\": {\"data\": {\"bar\": [{\"error_x\": {\"color\": \"#2a3f5f\"}, \"error_y\": {\"color\": \"#2a3f5f\"}, \"marker\": {\"line\": {\"color\": \"#E5ECF6\", \"width\": 0.5}}, \"type\": \"bar\"}], \"barpolar\": [{\"marker\": {\"line\": {\"color\": \"#E5ECF6\", \"width\": 0.5}}, \"type\": \"barpolar\"}], \"carpet\": [{\"aaxis\": {\"endlinecolor\": \"#2a3f5f\", \"gridcolor\": \"white\", \"linecolor\": \"white\", \"minorgridcolor\": \"white\", \"startlinecolor\": \"#2a3f5f\"}, \"baxis\": {\"endlinecolor\": \"#2a3f5f\", \"gridcolor\": \"white\", \"linecolor\": \"white\", \"minorgridcolor\": \"white\", \"startlinecolor\": \"#2a3f5f\"}, \"type\": \"carpet\"}], \"choropleth\": [{\"colorbar\": {\"outlinewidth\": 0, \"ticks\": \"\"}, \"type\": \"choropleth\"}], \"contour\": [{\"colorbar\": {\"outlinewidth\": 0, \"ticks\": \"\"}, \"colorscale\": [[0.0, \"#0d0887\"], [0.1111111111111111, \"#46039f\"], [0.2222222222222222, \"#7201a8\"], [0.3333333333333333, \"#9c179e\"], [0.4444444444444444, \"#bd3786\"], [0.5555555555555556, \"#d8576b\"], [0.6666666666666666, \"#ed7953\"], [0.7777777777777778, \"#fb9f3a\"], [0.8888888888888888, \"#fdca26\"], [1.0, \"#f0f921\"]], \"type\": \"contour\"}], \"contourcarpet\": [{\"colorbar\": {\"outlinewidth\": 0, \"ticks\": \"\"}, \"type\": \"contourcarpet\"}], \"heatmap\": [{\"colorbar\": {\"outlinewidth\": 0, \"ticks\": \"\"}, \"colorscale\": [[0.0, \"#0d0887\"], [0.1111111111111111, \"#46039f\"], [0.2222222222222222, \"#7201a8\"], [0.3333333333333333, \"#9c179e\"], [0.4444444444444444, \"#bd3786\"], [0.5555555555555556, \"#d8576b\"], [0.6666666666666666, \"#ed7953\"], [0.7777777777777778, \"#fb9f3a\"], [0.8888888888888888, \"#fdca26\"], [1.0, \"#f0f921\"]], \"type\": \"heatmap\"}], \"heatmapgl\": [{\"colorbar\": {\"outlinewidth\": 0, \"ticks\": \"\"}, \"colorscale\": [[0.0, \"#0d0887\"], [0.1111111111111111, \"#46039f\"], [0.2222222222222222, \"#7201a8\"], [0.3333333333333333, \"#9c179e\"], [0.4444444444444444, \"#bd3786\"], [0.5555555555555556, \"#d8576b\"], [0.6666666666666666, \"#ed7953\"], [0.7777777777777778, \"#fb9f3a\"], [0.8888888888888888, \"#fdca26\"], [1.0, \"#f0f921\"]], \"type\": \"heatmapgl\"}], \"histogram\": [{\"marker\": {\"colorbar\": {\"outlinewidth\": 0, \"ticks\": \"\"}}, \"type\": \"histogram\"}], \"histogram2d\": [{\"colorbar\": {\"outlinewidth\": 0, \"ticks\": \"\"}, \"colorscale\": [[0.0, \"#0d0887\"], [0.1111111111111111, \"#46039f\"], [0.2222222222222222, \"#7201a8\"], [0.3333333333333333, \"#9c179e\"], [0.4444444444444444, \"#bd3786\"], [0.5555555555555556, \"#d8576b\"], [0.6666666666666666, \"#ed7953\"], [0.7777777777777778, \"#fb9f3a\"], [0.8888888888888888, \"#fdca26\"], [1.0, \"#f0f921\"]], \"type\": \"histogram2d\"}], \"histogram2dcontour\": [{\"colorbar\": {\"outlinewidth\": 0, \"ticks\": \"\"}, \"colorscale\": [[0.0, \"#0d0887\"], [0.1111111111111111, \"#46039f\"], [0.2222222222222222, \"#7201a8\"], [0.3333333333333333, \"#9c179e\"], [0.4444444444444444, \"#bd3786\"], [0.5555555555555556, \"#d8576b\"], [0.6666666666666666, \"#ed7953\"], [0.7777777777777778, \"#fb9f3a\"], [0.8888888888888888, \"#fdca26\"], [1.0, \"#f0f921\"]], \"type\": \"histogram2dcontour\"}], \"mesh3d\": [{\"colorbar\": {\"outlinewidth\": 0, \"ticks\": \"\"}, \"type\": \"mesh3d\"}], \"parcoords\": [{\"line\": {\"colorbar\": {\"outlinewidth\": 0, \"ticks\": \"\"}}, \"type\": \"parcoords\"}], \"pie\": [{\"automargin\": true, \"type\": \"pie\"}], \"scatter\": [{\"marker\": {\"colorbar\": {\"outlinewidth\": 0, \"ticks\": \"\"}}, \"type\": \"scatter\"}], \"scatter3d\": [{\"line\": {\"colorbar\": {\"outlinewidth\": 0, \"ticks\": \"\"}}, \"marker\": {\"colorbar\": {\"outlinewidth\": 0, \"ticks\": \"\"}}, \"type\": \"scatter3d\"}], \"scattercarpet\": [{\"marker\": {\"colorbar\": {\"outlinewidth\": 0, \"ticks\": \"\"}}, \"type\": \"scattercarpet\"}], \"scattergeo\": [{\"marker\": {\"colorbar\": {\"outlinewidth\": 0, \"ticks\": \"\"}}, \"type\": \"scattergeo\"}], \"scattergl\": [{\"marker\": {\"colorbar\": {\"outlinewidth\": 0, \"ticks\": \"\"}}, \"type\": \"scattergl\"}], \"scattermapbox\": [{\"marker\": {\"colorbar\": {\"outlinewidth\": 0, \"ticks\": \"\"}}, \"type\": \"scattermapbox\"}], \"scatterpolar\": [{\"marker\": {\"colorbar\": {\"outlinewidth\": 0, \"ticks\": \"\"}}, \"type\": \"scatterpolar\"}], \"scatterpolargl\": [{\"marker\": {\"colorbar\": {\"outlinewidth\": 0, \"ticks\": \"\"}}, \"type\": \"scatterpolargl\"}], \"scatterternary\": [{\"marker\": {\"colorbar\": {\"outlinewidth\": 0, \"ticks\": \"\"}}, \"type\": \"scatterternary\"}], \"surface\": [{\"colorbar\": {\"outlinewidth\": 0, \"ticks\": \"\"}, \"colorscale\": [[0.0, \"#0d0887\"], [0.1111111111111111, \"#46039f\"], [0.2222222222222222, \"#7201a8\"], [0.3333333333333333, \"#9c179e\"], [0.4444444444444444, \"#bd3786\"], [0.5555555555555556, \"#d8576b\"], [0.6666666666666666, \"#ed7953\"], [0.7777777777777778, \"#fb9f3a\"], [0.8888888888888888, \"#fdca26\"], [1.0, \"#f0f921\"]], \"type\": \"surface\"}], \"table\": [{\"cells\": {\"fill\": {\"color\": \"#EBF0F8\"}, \"line\": {\"color\": \"white\"}}, \"header\": {\"fill\": {\"color\": \"#C8D4E3\"}, \"line\": {\"color\": \"white\"}}, \"type\": \"table\"}]}, \"layout\": {\"annotationdefaults\": {\"arrowcolor\": \"#2a3f5f\", \"arrowhead\": 0, \"arrowwidth\": 1}, \"coloraxis\": {\"colorbar\": {\"outlinewidth\": 0, \"ticks\": \"\"}}, \"colorscale\": {\"diverging\": [[0, \"#8e0152\"], [0.1, \"#c51b7d\"], [0.2, \"#de77ae\"], [0.3, \"#f1b6da\"], [0.4, \"#fde0ef\"], [0.5, \"#f7f7f7\"], [0.6, \"#e6f5d0\"], [0.7, \"#b8e186\"], [0.8, \"#7fbc41\"], [0.9, \"#4d9221\"], [1, \"#276419\"]], \"sequential\": [[0.0, \"#0d0887\"], [0.1111111111111111, \"#46039f\"], [0.2222222222222222, \"#7201a8\"], [0.3333333333333333, \"#9c179e\"], [0.4444444444444444, \"#bd3786\"], [0.5555555555555556, \"#d8576b\"], [0.6666666666666666, \"#ed7953\"], [0.7777777777777778, \"#fb9f3a\"], [0.8888888888888888, \"#fdca26\"], [1.0, \"#f0f921\"]], \"sequentialminus\": [[0.0, \"#0d0887\"], [0.1111111111111111, \"#46039f\"], [0.2222222222222222, \"#7201a8\"], [0.3333333333333333, \"#9c179e\"], [0.4444444444444444, \"#bd3786\"], [0.5555555555555556, \"#d8576b\"], [0.6666666666666666, \"#ed7953\"], [0.7777777777777778, \"#fb9f3a\"], [0.8888888888888888, \"#fdca26\"], [1.0, \"#f0f921\"]]}, \"colorway\": [\"#636efa\", \"#EF553B\", \"#00cc96\", \"#ab63fa\", \"#FFA15A\", \"#19d3f3\", \"#FF6692\", \"#B6E880\", \"#FF97FF\", \"#FECB52\"], \"font\": {\"color\": \"#2a3f5f\"}, \"geo\": {\"bgcolor\": \"white\", \"lakecolor\": \"white\", \"landcolor\": \"#E5ECF6\", \"showlakes\": true, \"showland\": true, \"subunitcolor\": \"white\"}, \"hoverlabel\": {\"align\": \"left\"}, \"hovermode\": \"closest\", \"mapbox\": {\"style\": \"light\"}, \"paper_bgcolor\": \"white\", \"plot_bgcolor\": \"#E5ECF6\", \"polar\": {\"angularaxis\": {\"gridcolor\": \"white\", \"linecolor\": \"white\", \"ticks\": \"\"}, \"bgcolor\": \"#E5ECF6\", \"radialaxis\": {\"gridcolor\": \"white\", \"linecolor\": \"white\", \"ticks\": \"\"}}, \"scene\": {\"xaxis\": {\"backgroundcolor\": \"#E5ECF6\", \"gridcolor\": \"white\", \"gridwidth\": 2, \"linecolor\": \"white\", \"showbackground\": true, \"ticks\": \"\", \"zerolinecolor\": \"white\"}, \"yaxis\": {\"backgroundcolor\": \"#E5ECF6\", \"gridcolor\": \"white\", \"gridwidth\": 2, \"linecolor\": \"white\", \"showbackground\": true, \"ticks\": \"\", \"zerolinecolor\": \"white\"}, \"zaxis\": {\"backgroundcolor\": \"#E5ECF6\", \"gridcolor\": \"white\", \"gridwidth\": 2, \"linecolor\": \"white\", \"showbackground\": true, \"ticks\": \"\", \"zerolinecolor\": \"white\"}}, \"shapedefaults\": {\"line\": {\"color\": \"#2a3f5f\"}}, \"ternary\": {\"aaxis\": {\"gridcolor\": \"white\", \"linecolor\": \"white\", \"ticks\": \"\"}, \"baxis\": {\"gridcolor\": \"white\", \"linecolor\": \"white\", \"ticks\": \"\"}, \"bgcolor\": \"#E5ECF6\", \"caxis\": {\"gridcolor\": \"white\", \"linecolor\": \"white\", \"ticks\": \"\"}}, \"title\": {\"x\": 0.05}, \"xaxis\": {\"automargin\": true, \"gridcolor\": \"white\", \"linecolor\": \"white\", \"ticks\": \"\", \"title\": {\"standoff\": 15}, \"zerolinecolor\": \"white\", \"zerolinewidth\": 2}, \"yaxis\": {\"automargin\": true, \"gridcolor\": \"white\", \"linecolor\": \"white\", \"ticks\": \"\", \"title\": {\"standoff\": 15}, \"zerolinecolor\": \"white\", \"zerolinewidth\": 2}}}, \"xaxis\": {\"title\": {\"text\": \"Date\"}}, \"yaxis\": {\"title\": {\"text\": \"Positive Rate\"}, \"type\": \"linear\"}},\n",
       "                        {\"responsive\": true}\n",
       "                    ).then(function(){\n",
       "                            \n",
       "var gd = document.getElementById('f01c88c6-252e-4f3f-9a69-5247770c6064');\n",
       "var x = new MutationObserver(function (mutations, observer) {{\n",
       "        var display = window.getComputedStyle(gd).display;\n",
       "        if (!display || display === 'none') {{\n",
       "            console.log([gd, 'removed!']);\n",
       "            Plotly.purge(gd);\n",
       "            observer.disconnect();\n",
       "        }}\n",
       "}});\n",
       "\n",
       "// Listen for the removal of the full notebook cells\n",
       "var notebookContainer = gd.closest('#notebook-container');\n",
       "if (notebookContainer) {{\n",
       "    x.observe(notebookContainer, {childList: true});\n",
       "}}\n",
       "\n",
       "// Listen for the clearing of the current output cell\n",
       "var outputEl = gd.closest('.output');\n",
       "if (outputEl) {{\n",
       "    x.observe(outputEl, {childList: true});\n",
       "}}\n",
       "\n",
       "                        })\n",
       "                };\n",
       "                });\n",
       "            </script>\n",
       "        </div>"
      ]
     },
     "metadata": {},
     "output_type": "display_data"
    }
   ],
   "source": [
    "pio.show(create_testing_rate_plot(testing, example_json, \"Illinois\", \"cumulative\"))"
   ]
  },
  {
   "cell_type": "code",
   "execution_count": 315,
   "metadata": {},
   "outputs": [],
   "source": [
    "def create_tests_administered_plot(df, example_json, state, incremental):\n",
    "    df = df[df['state_full'] == state]\n",
    "    if incremental == 'incremental': \n",
    "        colors = df[\"incremental_positive_rate_color\"].tolist()\n",
    "        tests = df[\"incremental_tests\"].tolist()\n",
    "        flags = df[\"incremental_tests_flag\"].tolist()\n",
    "    else:\n",
    "        colors = df[\"positive_rate_color\"].tolist()\n",
    "        tests = df[\"tests\"].tolist()\n",
    "        flags = df[\"tests_flag\"].tolist()\n",
    "    \n",
    "    out_json = copy.deepcopy(example_json[\"incremental_plots\"][\"tests_administered\"])\n",
    "     \n",
    "    out_json['data'][0]['x'] = df[\"date\"].tolist()\n",
    "    out_json['data'][0]['y'] = tests\n",
    "    \n",
    "    out_json['data'][0][\"marker\"] = {}\n",
    "    out_json['data'][0][\"marker\"]['color'] = colors\n",
    "    out_json['data'][0][\"hoverinfo\"] = \"text\"\n",
    "    out_json['data'][0][\"hovertext\"] = flags\n",
    "    \n",
    "    return(out_json)"
   ]
  },
  {
   "cell_type": "code",
   "execution_count": 317,
   "metadata": {},
   "outputs": [
    {
     "data": {
      "application/vnd.plotly.v1+json": {
       "config": {
        "plotlyServerURL": "https://plot.ly"
       },
       "data": [
        {
         "hoverinfo": "text",
         "hovertext": [
          "Date: 2020-06-18<br>Incremental Tests: 25.504 K<br>Data Quality Grade: A",
          "Date: 2020-06-17<br>Incremental Tests: 29.987 K<br>Data Quality Grade: A",
          "Date: 2020-06-16<br>Incremental Tests: 18.729 K<br>Data Quality Grade: A",
          "Date: 2020-06-15<br>Incremental Tests: 18.627 K<br>Data Quality Grade: A",
          "Date: 2020-06-14<br>Incremental Tests: 22.04 K<br>Data Quality Grade: A",
          "Date: 2020-06-13<br>Incremental Tests: 21.844 K<br>Data Quality Grade: A",
          "Date: 2020-06-12<br>Incremental Tests: 24.911 K<br>Data Quality Grade: A",
          "Date: 2020-06-11<br>Incremental Tests: 22.325 K<br>Data Quality Grade: B",
          "Date: 2020-06-10<br>Incremental Tests: 20.82 K<br>Data Quality Grade: A",
          "Date: 2020-06-09<br>Incremental Tests: 20.309 K<br>Data Quality Grade: A",
          "Date: 2020-06-08<br>Incremental Tests: 16.823 K<br>Data Quality Grade: A",
          "Date: 2020-06-07<br>Incremental Tests: 20.7 K<br>Data Quality Grade: A",
          "Date: 2020-06-06<br>Incremental Tests: 21.155 K<br>Data Quality Grade: A",
          "Date: 2020-06-05<br>Incremental Tests: 18.903 K<br>Data Quality Grade: A",
          "Date: 2020-06-04<br>Incremental Tests: 22.841 K<br>Data Quality Grade: A",
          "Date: 2020-06-03<br>Incremental Tests: 24.471 K<br>Data Quality Grade: A",
          "Date: 2020-06-02<br>Incremental Tests: 16.431 K<br>Data Quality Grade: A",
          "Date: 2020-06-01<br>Incremental Tests: 20.014 K<br>Data Quality Grade: A",
          "Date: 2020-05-31<br>Incremental Tests: 21.154 K<br>Data Quality Grade: A",
          "Date: 2020-05-30<br>Incremental Tests: 25.343 K<br>Data Quality Grade: A",
          "Date: 2020-05-29<br>Incremental Tests: 21.796 K<br>Data Quality Grade: A",
          "Date: 2020-05-28<br>Incremental Tests: 25.993 K<br>Data Quality Grade: A",
          "Date: 2020-05-27<br>Incremental Tests: 17.179 K<br>Data Quality Grade: A",
          "Date: 2020-05-26<br>Incremental Tests: 17.23 K<br>Data Quality Grade: A",
          "Date: 2020-05-25<br>Incremental Tests: 21.643 K<br>Data Quality Grade: A",
          "Date: 2020-05-24<br>Incremental Tests: 25.674 K<br>Data Quality Grade: A",
          "Date: 2020-05-23<br>Incremental Tests: 25.114 K<br>Data Quality Grade: A",
          "Date: 2020-05-22<br>Incremental Tests: 25.113 K<br>Data Quality Grade: A",
          "Date: 2020-05-21<br>Incremental Tests: 29.307 K<br>Data Quality Grade: A",
          "Date: 2020-05-20<br>Incremental Tests: 21.029 K<br>Data Quality Grade: A",
          "Date: 2020-05-19<br>Incremental Tests: 18.443 K<br>Data Quality Grade: A",
          "Date: 2020-05-18<br>Incremental Tests: 21.297 K<br>Data Quality Grade: A",
          "Date: 2020-05-17<br>Incremental Tests: 20.295 K<br>Data Quality Grade: A",
          "Date: 2020-05-16<br>Incremental Tests: 23.047 K<br>Data Quality Grade: A",
          "Date: 2020-05-15<br>Incremental Tests: 26.565 K<br>Data Quality Grade: A",
          "Date: 2020-05-14<br>Incremental Tests: 22.678 K<br>Data Quality Grade: A",
          "Date: 2020-05-13<br>Incremental Tests: 17.668 K<br>Data Quality Grade: A",
          "Date: 2020-05-12<br>Incremental Tests: 29.266 K<br>Data Quality Grade: A",
          "Date: 2020-05-11<br>Incremental Tests: 12.441 K<br>Data Quality Grade: A",
          "Date: 2020-05-10<br>Incremental Tests: 13.653 K<br>Data Quality Grade: A",
          "Date: 2020-05-09<br>Incremental Tests: 16.617 K<br>Data Quality Grade: A",
          "Date: 2020-05-08<br>Incremental Tests: 20.671 K<br>Data Quality Grade: A",
          "Date: 2020-05-07<br>Incremental Tests: 17.783 K<br>Data Quality Grade: A",
          "Date: 2020-05-06<br>Incremental Tests: 14.974 K<br>Data Quality Grade: A",
          "Date: 2020-05-05<br>Incremental Tests: 13.139 K<br>Data Quality Grade: A",
          "Date: 2020-05-04<br>Incremental Tests: 13.834 K<br>Data Quality Grade: A",
          "Date: 2020-05-03<br>Incremental Tests: 19.417 K<br>Data Quality Grade: A",
          "Date: 2020-05-02<br>Incremental Tests: 15.208 K<br>Data Quality Grade: A",
          "Date: 2020-05-01<br>Incremental Tests: 14.821 K<br>Data Quality Grade: A",
          "Date: 2020-04-30<br>Incremental Tests: 13.2 K<br>Data Quality Grade: A",
          "Date: 2020-04-29<br>Incremental Tests: 14.478 K<br>Data Quality Grade: A",
          "Date: 2020-04-28<br>Incremental Tests: 14.561 K<br>Data Quality Grade: A",
          "Date: 2020-04-27<br>Incremental Tests: 12.676 K<br>Data Quality Grade: A",
          "Date: 2020-04-26<br>Incremental Tests: 13.335 K<br>Data Quality Grade: A",
          "Date: 2020-04-25<br>Incremental Tests: 11.985 K<br>Data Quality Grade: A",
          "Date: 2020-04-24<br>Incremental Tests: 16.316 K<br>Data Quality Grade: A",
          "Date: 2020-04-23<br>Incremental Tests: 8.97 K<br>Data Quality Grade: A",
          "Date: 2020-04-22<br>Incremental Tests: 9.349 K<br>Data Quality Grade: A",
          "Date: 2020-04-21<br>Incremental Tests: 6.639 K<br>Data Quality Grade: A",
          "Date: 2020-04-20<br>Incremental Tests: 5.04 K<br>Data Quality Grade: A",
          "Date: 2020-04-19<br>Incremental Tests: 5.914 K<br>Data Quality Grade: A",
          "Date: 2020-04-18<br>Incremental Tests: 7.241 K<br>Data Quality Grade: A",
          "Date: 2020-04-17<br>Incremental Tests: 7.574 K<br>Data Quality Grade: A",
          "Date: 2020-04-16<br>Incremental Tests: 5.66 K<br>Data Quality Grade: A",
          "Date: 2020-04-15<br>Incremental Tests: 6.313 K<br>Data Quality Grade: A",
          "Date: 2020-04-14<br>Incremental Tests: 4.848 K<br>Data Quality Grade: A",
          "Date: 2020-04-13<br>Incremental Tests: 5.033 K<br>Data Quality Grade: A",
          "Date: 2020-04-12<br>Incremental Tests: 8.586 K<br>Data Quality Grade: A",
          "Date: 2020-04-11<br>Incremental Tests: 4.622 K<br>Data Quality Grade: A",
          "Date: 2020-04-10<br>Incremental Tests: 6.67 K<br>Data Quality Grade: A",
          "Date: 2020-04-09<br>Incremental Tests: 5.791 K<br>Data Quality Grade: A",
          "Date: 2020-04-08<br>Incremental Tests: 6.334 K<br>Data Quality Grade: A",
          "Date: 2020-04-07<br>Incremental Tests: 5.79 K<br>Data Quality Grade: A",
          "Date: 2020-04-06<br>Incremental Tests: 3.959 K<br>Data Quality Grade: A",
          "Date: 2020-04-05<br>Incremental Tests: 5.402 K<br>Data Quality Grade: A",
          "Date: 2020-04-04<br>Incremental Tests: 5.533 K<br>Data Quality Grade: A",
          "Date: 2020-04-03<br>Incremental Tests: 4.392 K<br>Data Quality Grade: A",
          "Date: 2020-04-02<br>Incremental Tests: 3.272 K<br>Data Quality Grade: A",
          "Date: 2020-04-01<br>Incremental Tests: 5.159 K<br>Data Quality Grade: A",
          "Date: 2020-03-31<br>Incremental Tests: 4.779 K<br>Data Quality Grade: A",
          "Date: 2020-03-30<br>Incremental Tests: 2.684 K<br>Data Quality Grade: A",
          "Date: 2020-03-29<br>Incremental Tests: 2.271 K<br>Data Quality Grade: A",
          "Date: 2020-03-28<br>Incremental Tests: 3.949 K<br>Data Quality Grade: A",
          "Date: 2020-03-27<br>Incremental Tests: 4.911 K<br>Data Quality Grade: A",
          "Date: 2020-03-26<br>Incremental Tests: 2.422 K<br>Data Quality Grade: A",
          "Date: 2020-03-25<br>Incremental Tests: 2.74 K<br>Data Quality Grade: A",
          "Date: 2020-03-24<br>Incremental Tests: 1.613 K<br>Data Quality Grade: A",
          "Date: 2020-03-23<br>Incremental Tests: 1.536 K<br>Data Quality Grade: A",
          "Date: 2020-03-22<br>Incremental Tests: 2.079 K<br>Data Quality Grade: NA",
          "Date: 2020-03-21<br>Incremental Tests: 1.96 K<br>Data Quality Grade: NA",
          "Date: 2020-03-20<br>Incremental Tests: 1.134 K<br>Data Quality Grade: NA",
          "Date: 2020-03-19<br>Incremental Tests: 1.096 K<br>Data Quality Grade: NA",
          "Date: 2020-03-18<br>Incremental Tests: 0.552 K<br>Data Quality Grade: NA",
          "Date: 2020-03-17<br>Incremental Tests: 0.474 K<br>Data Quality Grade: NA",
          "Date: 2020-03-16<br>Incremental Tests: 0.512 K<br>Data Quality Grade: NA",
          "Date: 2020-03-15<br>Incremental Tests: 0.151 K<br>Data Quality Grade: NA",
          "Date: 2020-03-14<br>Incremental Tests: 0.036 K<br>Data Quality Grade: NA",
          "Date: 2020-03-13<br>Incremental Tests: 0.035 K<br>Data Quality Grade: NA",
          "Date: 2020-03-12<br>Incremental Tests: 0.028 K<br>Data Quality Grade: NA",
          "Date: 2020-03-11<br>Incremental Tests: 0.0 K<br>Data Quality Grade: NA",
          "Date: 2020-03-10<br>Incremental Tests: 0.065 K<br>Data Quality Grade: NA",
          "Date: 2020-03-09<br>Incremental Tests: 0.001 K<br>Data Quality Grade: NA",
          "Date: 2020-03-08<br>Incremental Tests: 0.0 K<br>Data Quality Grade: NA",
          "Date: 2020-03-07<br>Incremental Tests: 0.012 K<br>Data Quality Grade: NA",
          "Date: 2020-03-06<br>Incremental Tests: 0.015 K<br>Data Quality Grade: NA",
          "Date: 2020-03-05<br>Incremental Tests: 0.042 K<br>Data Quality Grade: NA",
          "Date: 2020-03-04<br>Incremental Tests: 0.0 K<br>Data Quality Grade: NA"
         ],
         "marker": {
          "color": [
           "#006d2c",
           "#006d2c",
           "#006d2c",
           "#006d2c",
           "#006d2c",
           "#006d2c",
           "#006d2c",
           "#31a354",
           "#006d2c",
           "#006d2c",
           "#006d2c",
           "#006d2c",
           "#006d2c",
           "#006d2c",
           "#006d2c",
           "#006d2c",
           "#006d2c",
           "#006d2c",
           "#006d2c",
           "#006d2c",
           "#006d2c",
           "#006d2c",
           "#006d2c",
           "#006d2c",
           "#006d2c",
           "#006d2c",
           "#006d2c",
           "#006d2c",
           "#006d2c",
           "#006d2c",
           "#006d2c",
           "#006d2c",
           "#006d2c",
           "#006d2c",
           "#006d2c",
           "#006d2c",
           "#006d2c",
           "#006d2c",
           "#006d2c",
           "#006d2c",
           "#006d2c",
           "#006d2c",
           "#006d2c",
           "#006d2c",
           "#006d2c",
           "#006d2c",
           "#006d2c",
           "#006d2c",
           "#006d2c",
           "#006d2c",
           "#006d2c",
           "#006d2c",
           "#006d2c",
           "#006d2c",
           "#006d2c",
           "#006d2c",
           "#006d2c",
           "#006d2c",
           "#006d2c",
           "#006d2c",
           "#006d2c",
           "#006d2c",
           "#006d2c",
           "#006d2c",
           "#006d2c",
           "#006d2c",
           "#006d2c",
           "#006d2c",
           "#006d2c",
           "#006d2c",
           "#006d2c",
           "#006d2c",
           "#006d2c",
           "#006d2c",
           "#006d2c",
           "#006d2c",
           "#006d2c",
           "#006d2c",
           "#006d2c",
           "#006d2c",
           "#006d2c",
           "#006d2c",
           "#006d2c",
           "#006d2c",
           "#006d2c",
           "#006d2c",
           "#006d2c",
           "#006d2c",
           "#edf8e9",
           "#edf8e9",
           "#edf8e9",
           "#edf8e9",
           "#edf8e9",
           "#edf8e9",
           "#edf8e9",
           "#edf8e9",
           "#edf8e9",
           "#edf8e9",
           "#edf8e9",
           "#edf8e9",
           "#edf8e9",
           "#edf8e9",
           "#edf8e9",
           "#edf8e9",
           "#edf8e9",
           "#edf8e9",
           "#edf8e9"
          ]
         },
         "type": "bar",
         "x": [
          "2020-06-18",
          "2020-06-17",
          "2020-06-16",
          "2020-06-15",
          "2020-06-14",
          "2020-06-13",
          "2020-06-12",
          "2020-06-11",
          "2020-06-10",
          "2020-06-09",
          "2020-06-08",
          "2020-06-07",
          "2020-06-06",
          "2020-06-05",
          "2020-06-04",
          "2020-06-03",
          "2020-06-02",
          "2020-06-01",
          "2020-05-31",
          "2020-05-30",
          "2020-05-29",
          "2020-05-28",
          "2020-05-27",
          "2020-05-26",
          "2020-05-25",
          "2020-05-24",
          "2020-05-23",
          "2020-05-22",
          "2020-05-21",
          "2020-05-20",
          "2020-05-19",
          "2020-05-18",
          "2020-05-17",
          "2020-05-16",
          "2020-05-15",
          "2020-05-14",
          "2020-05-13",
          "2020-05-12",
          "2020-05-11",
          "2020-05-10",
          "2020-05-09",
          "2020-05-08",
          "2020-05-07",
          "2020-05-06",
          "2020-05-05",
          "2020-05-04",
          "2020-05-03",
          "2020-05-02",
          "2020-05-01",
          "2020-04-30",
          "2020-04-29",
          "2020-04-28",
          "2020-04-27",
          "2020-04-26",
          "2020-04-25",
          "2020-04-24",
          "2020-04-23",
          "2020-04-22",
          "2020-04-21",
          "2020-04-20",
          "2020-04-19",
          "2020-04-18",
          "2020-04-17",
          "2020-04-16",
          "2020-04-15",
          "2020-04-14",
          "2020-04-13",
          "2020-04-12",
          "2020-04-11",
          "2020-04-10",
          "2020-04-09",
          "2020-04-08",
          "2020-04-07",
          "2020-04-06",
          "2020-04-05",
          "2020-04-04",
          "2020-04-03",
          "2020-04-02",
          "2020-04-01",
          "2020-03-31",
          "2020-03-30",
          "2020-03-29",
          "2020-03-28",
          "2020-03-27",
          "2020-03-26",
          "2020-03-25",
          "2020-03-24",
          "2020-03-23",
          "2020-03-22",
          "2020-03-21",
          "2020-03-20",
          "2020-03-19",
          "2020-03-18",
          "2020-03-17",
          "2020-03-16",
          "2020-03-15",
          "2020-03-14",
          "2020-03-13",
          "2020-03-12",
          "2020-03-11",
          "2020-03-10",
          "2020-03-09",
          "2020-03-08",
          "2020-03-07",
          "2020-03-06",
          "2020-03-05",
          "2020-03-04"
         ],
         "y": [
          25504,
          29987,
          18729,
          18627,
          22040,
          21844,
          24911,
          22325,
          20820,
          20309,
          16823,
          20700,
          21155,
          18903,
          22841,
          24471,
          16431,
          20014,
          21154,
          25343,
          21796,
          25993,
          17179,
          17230,
          21643,
          25674,
          25114,
          25113,
          29307,
          21029,
          18443,
          21297,
          20295,
          23047,
          26565,
          22678,
          17668,
          29266,
          12441,
          13653,
          16617,
          20671,
          17783,
          14974,
          13139,
          13834,
          19417,
          15208,
          14821,
          13200,
          14478,
          14561,
          12676,
          13335,
          11985,
          16316,
          8970,
          9349,
          6639,
          5040,
          5914,
          7241,
          7574,
          5660,
          6313,
          4848,
          5033,
          8586,
          4622,
          6670,
          5791,
          6334,
          5790,
          3959,
          5402,
          5533,
          4392,
          3272,
          5159,
          4779,
          2684,
          2271,
          3949,
          4911,
          2422,
          2740,
          1613,
          1536,
          2079,
          1960,
          1134,
          1096,
          552,
          474,
          512,
          151,
          36,
          35,
          28,
          0,
          65,
          1,
          0,
          12,
          15,
          42,
          0
         ]
        }
       ],
       "layout": {
        "autosize": true,
        "hovermode": "closest",
        "margin": {
         "b": 40,
         "l": 40,
         "r": 0,
         "t": 10
        },
        "template": {
         "data": {
          "bar": [
           {
            "error_x": {
             "color": "#2a3f5f"
            },
            "error_y": {
             "color": "#2a3f5f"
            },
            "marker": {
             "line": {
              "color": "#E5ECF6",
              "width": 0.5
             }
            },
            "type": "bar"
           }
          ],
          "barpolar": [
           {
            "marker": {
             "line": {
              "color": "#E5ECF6",
              "width": 0.5
             }
            },
            "type": "barpolar"
           }
          ],
          "carpet": [
           {
            "aaxis": {
             "endlinecolor": "#2a3f5f",
             "gridcolor": "white",
             "linecolor": "white",
             "minorgridcolor": "white",
             "startlinecolor": "#2a3f5f"
            },
            "baxis": {
             "endlinecolor": "#2a3f5f",
             "gridcolor": "white",
             "linecolor": "white",
             "minorgridcolor": "white",
             "startlinecolor": "#2a3f5f"
            },
            "type": "carpet"
           }
          ],
          "choropleth": [
           {
            "colorbar": {
             "outlinewidth": 0,
             "ticks": ""
            },
            "type": "choropleth"
           }
          ],
          "contour": [
           {
            "colorbar": {
             "outlinewidth": 0,
             "ticks": ""
            },
            "colorscale": [
             [
              0,
              "#0d0887"
             ],
             [
              0.1111111111111111,
              "#46039f"
             ],
             [
              0.2222222222222222,
              "#7201a8"
             ],
             [
              0.3333333333333333,
              "#9c179e"
             ],
             [
              0.4444444444444444,
              "#bd3786"
             ],
             [
              0.5555555555555556,
              "#d8576b"
             ],
             [
              0.6666666666666666,
              "#ed7953"
             ],
             [
              0.7777777777777778,
              "#fb9f3a"
             ],
             [
              0.8888888888888888,
              "#fdca26"
             ],
             [
              1,
              "#f0f921"
             ]
            ],
            "type": "contour"
           }
          ],
          "contourcarpet": [
           {
            "colorbar": {
             "outlinewidth": 0,
             "ticks": ""
            },
            "type": "contourcarpet"
           }
          ],
          "heatmap": [
           {
            "colorbar": {
             "outlinewidth": 0,
             "ticks": ""
            },
            "colorscale": [
             [
              0,
              "#0d0887"
             ],
             [
              0.1111111111111111,
              "#46039f"
             ],
             [
              0.2222222222222222,
              "#7201a8"
             ],
             [
              0.3333333333333333,
              "#9c179e"
             ],
             [
              0.4444444444444444,
              "#bd3786"
             ],
             [
              0.5555555555555556,
              "#d8576b"
             ],
             [
              0.6666666666666666,
              "#ed7953"
             ],
             [
              0.7777777777777778,
              "#fb9f3a"
             ],
             [
              0.8888888888888888,
              "#fdca26"
             ],
             [
              1,
              "#f0f921"
             ]
            ],
            "type": "heatmap"
           }
          ],
          "heatmapgl": [
           {
            "colorbar": {
             "outlinewidth": 0,
             "ticks": ""
            },
            "colorscale": [
             [
              0,
              "#0d0887"
             ],
             [
              0.1111111111111111,
              "#46039f"
             ],
             [
              0.2222222222222222,
              "#7201a8"
             ],
             [
              0.3333333333333333,
              "#9c179e"
             ],
             [
              0.4444444444444444,
              "#bd3786"
             ],
             [
              0.5555555555555556,
              "#d8576b"
             ],
             [
              0.6666666666666666,
              "#ed7953"
             ],
             [
              0.7777777777777778,
              "#fb9f3a"
             ],
             [
              0.8888888888888888,
              "#fdca26"
             ],
             [
              1,
              "#f0f921"
             ]
            ],
            "type": "heatmapgl"
           }
          ],
          "histogram": [
           {
            "marker": {
             "colorbar": {
              "outlinewidth": 0,
              "ticks": ""
             }
            },
            "type": "histogram"
           }
          ],
          "histogram2d": [
           {
            "colorbar": {
             "outlinewidth": 0,
             "ticks": ""
            },
            "colorscale": [
             [
              0,
              "#0d0887"
             ],
             [
              0.1111111111111111,
              "#46039f"
             ],
             [
              0.2222222222222222,
              "#7201a8"
             ],
             [
              0.3333333333333333,
              "#9c179e"
             ],
             [
              0.4444444444444444,
              "#bd3786"
             ],
             [
              0.5555555555555556,
              "#d8576b"
             ],
             [
              0.6666666666666666,
              "#ed7953"
             ],
             [
              0.7777777777777778,
              "#fb9f3a"
             ],
             [
              0.8888888888888888,
              "#fdca26"
             ],
             [
              1,
              "#f0f921"
             ]
            ],
            "type": "histogram2d"
           }
          ],
          "histogram2dcontour": [
           {
            "colorbar": {
             "outlinewidth": 0,
             "ticks": ""
            },
            "colorscale": [
             [
              0,
              "#0d0887"
             ],
             [
              0.1111111111111111,
              "#46039f"
             ],
             [
              0.2222222222222222,
              "#7201a8"
             ],
             [
              0.3333333333333333,
              "#9c179e"
             ],
             [
              0.4444444444444444,
              "#bd3786"
             ],
             [
              0.5555555555555556,
              "#d8576b"
             ],
             [
              0.6666666666666666,
              "#ed7953"
             ],
             [
              0.7777777777777778,
              "#fb9f3a"
             ],
             [
              0.8888888888888888,
              "#fdca26"
             ],
             [
              1,
              "#f0f921"
             ]
            ],
            "type": "histogram2dcontour"
           }
          ],
          "mesh3d": [
           {
            "colorbar": {
             "outlinewidth": 0,
             "ticks": ""
            },
            "type": "mesh3d"
           }
          ],
          "parcoords": [
           {
            "line": {
             "colorbar": {
              "outlinewidth": 0,
              "ticks": ""
             }
            },
            "type": "parcoords"
           }
          ],
          "pie": [
           {
            "automargin": true,
            "type": "pie"
           }
          ],
          "scatter": [
           {
            "marker": {
             "colorbar": {
              "outlinewidth": 0,
              "ticks": ""
             }
            },
            "type": "scatter"
           }
          ],
          "scatter3d": [
           {
            "line": {
             "colorbar": {
              "outlinewidth": 0,
              "ticks": ""
             }
            },
            "marker": {
             "colorbar": {
              "outlinewidth": 0,
              "ticks": ""
             }
            },
            "type": "scatter3d"
           }
          ],
          "scattercarpet": [
           {
            "marker": {
             "colorbar": {
              "outlinewidth": 0,
              "ticks": ""
             }
            },
            "type": "scattercarpet"
           }
          ],
          "scattergeo": [
           {
            "marker": {
             "colorbar": {
              "outlinewidth": 0,
              "ticks": ""
             }
            },
            "type": "scattergeo"
           }
          ],
          "scattergl": [
           {
            "marker": {
             "colorbar": {
              "outlinewidth": 0,
              "ticks": ""
             }
            },
            "type": "scattergl"
           }
          ],
          "scattermapbox": [
           {
            "marker": {
             "colorbar": {
              "outlinewidth": 0,
              "ticks": ""
             }
            },
            "type": "scattermapbox"
           }
          ],
          "scatterpolar": [
           {
            "marker": {
             "colorbar": {
              "outlinewidth": 0,
              "ticks": ""
             }
            },
            "type": "scatterpolar"
           }
          ],
          "scatterpolargl": [
           {
            "marker": {
             "colorbar": {
              "outlinewidth": 0,
              "ticks": ""
             }
            },
            "type": "scatterpolargl"
           }
          ],
          "scatterternary": [
           {
            "marker": {
             "colorbar": {
              "outlinewidth": 0,
              "ticks": ""
             }
            },
            "type": "scatterternary"
           }
          ],
          "surface": [
           {
            "colorbar": {
             "outlinewidth": 0,
             "ticks": ""
            },
            "colorscale": [
             [
              0,
              "#0d0887"
             ],
             [
              0.1111111111111111,
              "#46039f"
             ],
             [
              0.2222222222222222,
              "#7201a8"
             ],
             [
              0.3333333333333333,
              "#9c179e"
             ],
             [
              0.4444444444444444,
              "#bd3786"
             ],
             [
              0.5555555555555556,
              "#d8576b"
             ],
             [
              0.6666666666666666,
              "#ed7953"
             ],
             [
              0.7777777777777778,
              "#fb9f3a"
             ],
             [
              0.8888888888888888,
              "#fdca26"
             ],
             [
              1,
              "#f0f921"
             ]
            ],
            "type": "surface"
           }
          ],
          "table": [
           {
            "cells": {
             "fill": {
              "color": "#EBF0F8"
             },
             "line": {
              "color": "white"
             }
            },
            "header": {
             "fill": {
              "color": "#C8D4E3"
             },
             "line": {
              "color": "white"
             }
            },
            "type": "table"
           }
          ]
         },
         "layout": {
          "annotationdefaults": {
           "arrowcolor": "#2a3f5f",
           "arrowhead": 0,
           "arrowwidth": 1
          },
          "coloraxis": {
           "colorbar": {
            "outlinewidth": 0,
            "ticks": ""
           }
          },
          "colorscale": {
           "diverging": [
            [
             0,
             "#8e0152"
            ],
            [
             0.1,
             "#c51b7d"
            ],
            [
             0.2,
             "#de77ae"
            ],
            [
             0.3,
             "#f1b6da"
            ],
            [
             0.4,
             "#fde0ef"
            ],
            [
             0.5,
             "#f7f7f7"
            ],
            [
             0.6,
             "#e6f5d0"
            ],
            [
             0.7,
             "#b8e186"
            ],
            [
             0.8,
             "#7fbc41"
            ],
            [
             0.9,
             "#4d9221"
            ],
            [
             1,
             "#276419"
            ]
           ],
           "sequential": [
            [
             0,
             "#0d0887"
            ],
            [
             0.1111111111111111,
             "#46039f"
            ],
            [
             0.2222222222222222,
             "#7201a8"
            ],
            [
             0.3333333333333333,
             "#9c179e"
            ],
            [
             0.4444444444444444,
             "#bd3786"
            ],
            [
             0.5555555555555556,
             "#d8576b"
            ],
            [
             0.6666666666666666,
             "#ed7953"
            ],
            [
             0.7777777777777778,
             "#fb9f3a"
            ],
            [
             0.8888888888888888,
             "#fdca26"
            ],
            [
             1,
             "#f0f921"
            ]
           ],
           "sequentialminus": [
            [
             0,
             "#0d0887"
            ],
            [
             0.1111111111111111,
             "#46039f"
            ],
            [
             0.2222222222222222,
             "#7201a8"
            ],
            [
             0.3333333333333333,
             "#9c179e"
            ],
            [
             0.4444444444444444,
             "#bd3786"
            ],
            [
             0.5555555555555556,
             "#d8576b"
            ],
            [
             0.6666666666666666,
             "#ed7953"
            ],
            [
             0.7777777777777778,
             "#fb9f3a"
            ],
            [
             0.8888888888888888,
             "#fdca26"
            ],
            [
             1,
             "#f0f921"
            ]
           ]
          },
          "colorway": [
           "#636efa",
           "#EF553B",
           "#00cc96",
           "#ab63fa",
           "#FFA15A",
           "#19d3f3",
           "#FF6692",
           "#B6E880",
           "#FF97FF",
           "#FECB52"
          ],
          "font": {
           "color": "#2a3f5f"
          },
          "geo": {
           "bgcolor": "white",
           "lakecolor": "white",
           "landcolor": "#E5ECF6",
           "showlakes": true,
           "showland": true,
           "subunitcolor": "white"
          },
          "hoverlabel": {
           "align": "left"
          },
          "hovermode": "closest",
          "mapbox": {
           "style": "light"
          },
          "paper_bgcolor": "white",
          "plot_bgcolor": "#E5ECF6",
          "polar": {
           "angularaxis": {
            "gridcolor": "white",
            "linecolor": "white",
            "ticks": ""
           },
           "bgcolor": "#E5ECF6",
           "radialaxis": {
            "gridcolor": "white",
            "linecolor": "white",
            "ticks": ""
           }
          },
          "scene": {
           "xaxis": {
            "backgroundcolor": "#E5ECF6",
            "gridcolor": "white",
            "gridwidth": 2,
            "linecolor": "white",
            "showbackground": true,
            "ticks": "",
            "zerolinecolor": "white"
           },
           "yaxis": {
            "backgroundcolor": "#E5ECF6",
            "gridcolor": "white",
            "gridwidth": 2,
            "linecolor": "white",
            "showbackground": true,
            "ticks": "",
            "zerolinecolor": "white"
           },
           "zaxis": {
            "backgroundcolor": "#E5ECF6",
            "gridcolor": "white",
            "gridwidth": 2,
            "linecolor": "white",
            "showbackground": true,
            "ticks": "",
            "zerolinecolor": "white"
           }
          },
          "shapedefaults": {
           "line": {
            "color": "#2a3f5f"
           }
          },
          "ternary": {
           "aaxis": {
            "gridcolor": "white",
            "linecolor": "white",
            "ticks": ""
           },
           "baxis": {
            "gridcolor": "white",
            "linecolor": "white",
            "ticks": ""
           },
           "bgcolor": "#E5ECF6",
           "caxis": {
            "gridcolor": "white",
            "linecolor": "white",
            "ticks": ""
           }
          },
          "title": {
           "x": 0.05
          },
          "xaxis": {
           "automargin": true,
           "gridcolor": "white",
           "linecolor": "white",
           "ticks": "",
           "title": {
            "standoff": 15
           },
           "zerolinecolor": "white",
           "zerolinewidth": 2
          },
          "yaxis": {
           "automargin": true,
           "gridcolor": "white",
           "linecolor": "white",
           "ticks": "",
           "title": {
            "standoff": 15
           },
           "zerolinecolor": "white",
           "zerolinewidth": 2
          }
         }
        },
        "xaxis": {
         "autorange": true,
         "range": [
          "2020-03-03 12:00",
          "2020-06-18 12:00"
         ],
         "title": {
          "text": "Date"
         },
         "type": "date"
        },
        "yaxis": {
         "autorange": true,
         "range": [
          0,
          31565.263157894737
         ],
         "title": {
          "text": "Tests Administered"
         },
         "type": "linear"
        }
       }
      },
      "image/png": "[encoded data removed]",
      "text/html": [
       "<div>\n",
       "        \n",
       "        \n",
       "            <div id=\"1ba56f61-a402-48ba-8d66-7aa051cdb427\" class=\"plotly-graph-div\" style=\"height:525px; width:100%;\"></div>\n",
       "            <script type=\"text/javascript\">\n",
       "                require([\"plotly\"], function(Plotly) {\n",
       "                    window.PLOTLYENV=window.PLOTLYENV || {};\n",
       "                    \n",
       "                if (document.getElementById(\"1ba56f61-a402-48ba-8d66-7aa051cdb427\")) {\n",
       "                    Plotly.newPlot(\n",
       "                        '1ba56f61-a402-48ba-8d66-7aa051cdb427',\n",
       "                        [{\"hoverinfo\": \"text\", \"hovertext\": [\"Date: 2020-06-18<br>Incremental Tests: 25.504 K<br>Data Quality Grade: A\", \"Date: 2020-06-17<br>Incremental Tests: 29.987 K<br>Data Quality Grade: A\", \"Date: 2020-06-16<br>Incremental Tests: 18.729 K<br>Data Quality Grade: A\", \"Date: 2020-06-15<br>Incremental Tests: 18.627 K<br>Data Quality Grade: A\", \"Date: 2020-06-14<br>Incremental Tests: 22.04 K<br>Data Quality Grade: A\", \"Date: 2020-06-13<br>Incremental Tests: 21.844 K<br>Data Quality Grade: A\", \"Date: 2020-06-12<br>Incremental Tests: 24.911 K<br>Data Quality Grade: A\", \"Date: 2020-06-11<br>Incremental Tests: 22.325 K<br>Data Quality Grade: B\", \"Date: 2020-06-10<br>Incremental Tests: 20.82 K<br>Data Quality Grade: A\", \"Date: 2020-06-09<br>Incremental Tests: 20.309 K<br>Data Quality Grade: A\", \"Date: 2020-06-08<br>Incremental Tests: 16.823 K<br>Data Quality Grade: A\", \"Date: 2020-06-07<br>Incremental Tests: 20.7 K<br>Data Quality Grade: A\", \"Date: 2020-06-06<br>Incremental Tests: 21.155 K<br>Data Quality Grade: A\", \"Date: 2020-06-05<br>Incremental Tests: 18.903 K<br>Data Quality Grade: A\", \"Date: 2020-06-04<br>Incremental Tests: 22.841 K<br>Data Quality Grade: A\", \"Date: 2020-06-03<br>Incremental Tests: 24.471 K<br>Data Quality Grade: A\", \"Date: 2020-06-02<br>Incremental Tests: 16.431 K<br>Data Quality Grade: A\", \"Date: 2020-06-01<br>Incremental Tests: 20.014 K<br>Data Quality Grade: A\", \"Date: 2020-05-31<br>Incremental Tests: 21.154 K<br>Data Quality Grade: A\", \"Date: 2020-05-30<br>Incremental Tests: 25.343 K<br>Data Quality Grade: A\", \"Date: 2020-05-29<br>Incremental Tests: 21.796 K<br>Data Quality Grade: A\", \"Date: 2020-05-28<br>Incremental Tests: 25.993 K<br>Data Quality Grade: A\", \"Date: 2020-05-27<br>Incremental Tests: 17.179 K<br>Data Quality Grade: A\", \"Date: 2020-05-26<br>Incremental Tests: 17.23 K<br>Data Quality Grade: A\", \"Date: 2020-05-25<br>Incremental Tests: 21.643 K<br>Data Quality Grade: A\", \"Date: 2020-05-24<br>Incremental Tests: 25.674 K<br>Data Quality Grade: A\", \"Date: 2020-05-23<br>Incremental Tests: 25.114 K<br>Data Quality Grade: A\", \"Date: 2020-05-22<br>Incremental Tests: 25.113 K<br>Data Quality Grade: A\", \"Date: 2020-05-21<br>Incremental Tests: 29.307 K<br>Data Quality Grade: A\", \"Date: 2020-05-20<br>Incremental Tests: 21.029 K<br>Data Quality Grade: A\", \"Date: 2020-05-19<br>Incremental Tests: 18.443 K<br>Data Quality Grade: A\", \"Date: 2020-05-18<br>Incremental Tests: 21.297 K<br>Data Quality Grade: A\", \"Date: 2020-05-17<br>Incremental Tests: 20.295 K<br>Data Quality Grade: A\", \"Date: 2020-05-16<br>Incremental Tests: 23.047 K<br>Data Quality Grade: A\", \"Date: 2020-05-15<br>Incremental Tests: 26.565 K<br>Data Quality Grade: A\", \"Date: 2020-05-14<br>Incremental Tests: 22.678 K<br>Data Quality Grade: A\", \"Date: 2020-05-13<br>Incremental Tests: 17.668 K<br>Data Quality Grade: A\", \"Date: 2020-05-12<br>Incremental Tests: 29.266 K<br>Data Quality Grade: A\", \"Date: 2020-05-11<br>Incremental Tests: 12.441 K<br>Data Quality Grade: A\", \"Date: 2020-05-10<br>Incremental Tests: 13.653 K<br>Data Quality Grade: A\", \"Date: 2020-05-09<br>Incremental Tests: 16.617 K<br>Data Quality Grade: A\", \"Date: 2020-05-08<br>Incremental Tests: 20.671 K<br>Data Quality Grade: A\", \"Date: 2020-05-07<br>Incremental Tests: 17.783 K<br>Data Quality Grade: A\", \"Date: 2020-05-06<br>Incremental Tests: 14.974 K<br>Data Quality Grade: A\", \"Date: 2020-05-05<br>Incremental Tests: 13.139 K<br>Data Quality Grade: A\", \"Date: 2020-05-04<br>Incremental Tests: 13.834 K<br>Data Quality Grade: A\", \"Date: 2020-05-03<br>Incremental Tests: 19.417 K<br>Data Quality Grade: A\", \"Date: 2020-05-02<br>Incremental Tests: 15.208 K<br>Data Quality Grade: A\", \"Date: 2020-05-01<br>Incremental Tests: 14.821 K<br>Data Quality Grade: A\", \"Date: 2020-04-30<br>Incremental Tests: 13.2 K<br>Data Quality Grade: A\", \"Date: 2020-04-29<br>Incremental Tests: 14.478 K<br>Data Quality Grade: A\", \"Date: 2020-04-28<br>Incremental Tests: 14.561 K<br>Data Quality Grade: A\", \"Date: 2020-04-27<br>Incremental Tests: 12.676 K<br>Data Quality Grade: A\", \"Date: 2020-04-26<br>Incremental Tests: 13.335 K<br>Data Quality Grade: A\", \"Date: 2020-04-25<br>Incremental Tests: 11.985 K<br>Data Quality Grade: A\", \"Date: 2020-04-24<br>Incremental Tests: 16.316 K<br>Data Quality Grade: A\", \"Date: 2020-04-23<br>Incremental Tests: 8.97 K<br>Data Quality Grade: A\", \"Date: 2020-04-22<br>Incremental Tests: 9.349 K<br>Data Quality Grade: A\", \"Date: 2020-04-21<br>Incremental Tests: 6.639 K<br>Data Quality Grade: A\", \"Date: 2020-04-20<br>Incremental Tests: 5.04 K<br>Data Quality Grade: A\", \"Date: 2020-04-19<br>Incremental Tests: 5.914 K<br>Data Quality Grade: A\", \"Date: 2020-04-18<br>Incremental Tests: 7.241 K<br>Data Quality Grade: A\", \"Date: 2020-04-17<br>Incremental Tests: 7.574 K<br>Data Quality Grade: A\", \"Date: 2020-04-16<br>Incremental Tests: 5.66 K<br>Data Quality Grade: A\", \"Date: 2020-04-15<br>Incremental Tests: 6.313 K<br>Data Quality Grade: A\", \"Date: 2020-04-14<br>Incremental Tests: 4.848 K<br>Data Quality Grade: A\", \"Date: 2020-04-13<br>Incremental Tests: 5.033 K<br>Data Quality Grade: A\", \"Date: 2020-04-12<br>Incremental Tests: 8.586 K<br>Data Quality Grade: A\", \"Date: 2020-04-11<br>Incremental Tests: 4.622 K<br>Data Quality Grade: A\", \"Date: 2020-04-10<br>Incremental Tests: 6.67 K<br>Data Quality Grade: A\", \"Date: 2020-04-09<br>Incremental Tests: 5.791 K<br>Data Quality Grade: A\", \"Date: 2020-04-08<br>Incremental Tests: 6.334 K<br>Data Quality Grade: A\", \"Date: 2020-04-07<br>Incremental Tests: 5.79 K<br>Data Quality Grade: A\", \"Date: 2020-04-06<br>Incremental Tests: 3.959 K<br>Data Quality Grade: A\", \"Date: 2020-04-05<br>Incremental Tests: 5.402 K<br>Data Quality Grade: A\", \"Date: 2020-04-04<br>Incremental Tests: 5.533 K<br>Data Quality Grade: A\", \"Date: 2020-04-03<br>Incremental Tests: 4.392 K<br>Data Quality Grade: A\", \"Date: 2020-04-02<br>Incremental Tests: 3.272 K<br>Data Quality Grade: A\", \"Date: 2020-04-01<br>Incremental Tests: 5.159 K<br>Data Quality Grade: A\", \"Date: 2020-03-31<br>Incremental Tests: 4.779 K<br>Data Quality Grade: A\", \"Date: 2020-03-30<br>Incremental Tests: 2.684 K<br>Data Quality Grade: A\", \"Date: 2020-03-29<br>Incremental Tests: 2.271 K<br>Data Quality Grade: A\", \"Date: 2020-03-28<br>Incremental Tests: 3.949 K<br>Data Quality Grade: A\", \"Date: 2020-03-27<br>Incremental Tests: 4.911 K<br>Data Quality Grade: A\", \"Date: 2020-03-26<br>Incremental Tests: 2.422 K<br>Data Quality Grade: A\", \"Date: 2020-03-25<br>Incremental Tests: 2.74 K<br>Data Quality Grade: A\", \"Date: 2020-03-24<br>Incremental Tests: 1.613 K<br>Data Quality Grade: A\", \"Date: 2020-03-23<br>Incremental Tests: 1.536 K<br>Data Quality Grade: A\", \"Date: 2020-03-22<br>Incremental Tests: 2.079 K<br>Data Quality Grade: NA\", \"Date: 2020-03-21<br>Incremental Tests: 1.96 K<br>Data Quality Grade: NA\", \"Date: 2020-03-20<br>Incremental Tests: 1.134 K<br>Data Quality Grade: NA\", \"Date: 2020-03-19<br>Incremental Tests: 1.096 K<br>Data Quality Grade: NA\", \"Date: 2020-03-18<br>Incremental Tests: 0.552 K<br>Data Quality Grade: NA\", \"Date: 2020-03-17<br>Incremental Tests: 0.474 K<br>Data Quality Grade: NA\", \"Date: 2020-03-16<br>Incremental Tests: 0.512 K<br>Data Quality Grade: NA\", \"Date: 2020-03-15<br>Incremental Tests: 0.151 K<br>Data Quality Grade: NA\", \"Date: 2020-03-14<br>Incremental Tests: 0.036 K<br>Data Quality Grade: NA\", \"Date: 2020-03-13<br>Incremental Tests: 0.035 K<br>Data Quality Grade: NA\", \"Date: 2020-03-12<br>Incremental Tests: 0.028 K<br>Data Quality Grade: NA\", \"Date: 2020-03-11<br>Incremental Tests: 0.0 K<br>Data Quality Grade: NA\", \"Date: 2020-03-10<br>Incremental Tests: 0.065 K<br>Data Quality Grade: NA\", \"Date: 2020-03-09<br>Incremental Tests: 0.001 K<br>Data Quality Grade: NA\", \"Date: 2020-03-08<br>Incremental Tests: 0.0 K<br>Data Quality Grade: NA\", \"Date: 2020-03-07<br>Incremental Tests: 0.012 K<br>Data Quality Grade: NA\", \"Date: 2020-03-06<br>Incremental Tests: 0.015 K<br>Data Quality Grade: NA\", \"Date: 2020-03-05<br>Incremental Tests: 0.042 K<br>Data Quality Grade: NA\", \"Date: 2020-03-04<br>Incremental Tests: 0.0 K<br>Data Quality Grade: NA\"], \"marker\": {\"color\": [\"#006d2c\", \"#006d2c\", \"#006d2c\", \"#006d2c\", \"#006d2c\", \"#006d2c\", \"#006d2c\", \"#31a354\", \"#006d2c\", \"#006d2c\", \"#006d2c\", \"#006d2c\", \"#006d2c\", \"#006d2c\", \"#006d2c\", \"#006d2c\", \"#006d2c\", \"#006d2c\", \"#006d2c\", \"#006d2c\", \"#006d2c\", \"#006d2c\", \"#006d2c\", \"#006d2c\", \"#006d2c\", \"#006d2c\", \"#006d2c\", \"#006d2c\", \"#006d2c\", \"#006d2c\", \"#006d2c\", \"#006d2c\", \"#006d2c\", \"#006d2c\", \"#006d2c\", \"#006d2c\", \"#006d2c\", \"#006d2c\", \"#006d2c\", \"#006d2c\", \"#006d2c\", \"#006d2c\", \"#006d2c\", \"#006d2c\", \"#006d2c\", \"#006d2c\", \"#006d2c\", \"#006d2c\", \"#006d2c\", \"#006d2c\", \"#006d2c\", \"#006d2c\", \"#006d2c\", \"#006d2c\", \"#006d2c\", \"#006d2c\", \"#006d2c\", \"#006d2c\", \"#006d2c\", \"#006d2c\", \"#006d2c\", \"#006d2c\", \"#006d2c\", \"#006d2c\", \"#006d2c\", \"#006d2c\", \"#006d2c\", \"#006d2c\", \"#006d2c\", \"#006d2c\", \"#006d2c\", \"#006d2c\", \"#006d2c\", \"#006d2c\", \"#006d2c\", \"#006d2c\", \"#006d2c\", \"#006d2c\", \"#006d2c\", \"#006d2c\", \"#006d2c\", \"#006d2c\", \"#006d2c\", \"#006d2c\", \"#006d2c\", \"#006d2c\", \"#006d2c\", \"#006d2c\", \"#edf8e9\", \"#edf8e9\", \"#edf8e9\", \"#edf8e9\", \"#edf8e9\", \"#edf8e9\", \"#edf8e9\", \"#edf8e9\", \"#edf8e9\", \"#edf8e9\", \"#edf8e9\", \"#edf8e9\", \"#edf8e9\", \"#edf8e9\", \"#edf8e9\", \"#edf8e9\", \"#edf8e9\", \"#edf8e9\", \"#edf8e9\"]}, \"type\": \"bar\", \"x\": [\"2020-06-18\", \"2020-06-17\", \"2020-06-16\", \"2020-06-15\", \"2020-06-14\", \"2020-06-13\", \"2020-06-12\", \"2020-06-11\", \"2020-06-10\", \"2020-06-09\", \"2020-06-08\", \"2020-06-07\", \"2020-06-06\", \"2020-06-05\", \"2020-06-04\", \"2020-06-03\", \"2020-06-02\", \"2020-06-01\", \"2020-05-31\", \"2020-05-30\", \"2020-05-29\", \"2020-05-28\", \"2020-05-27\", \"2020-05-26\", \"2020-05-25\", \"2020-05-24\", \"2020-05-23\", \"2020-05-22\", \"2020-05-21\", \"2020-05-20\", \"2020-05-19\", \"2020-05-18\", \"2020-05-17\", \"2020-05-16\", \"2020-05-15\", \"2020-05-14\", \"2020-05-13\", \"2020-05-12\", \"2020-05-11\", \"2020-05-10\", \"2020-05-09\", \"2020-05-08\", \"2020-05-07\", \"2020-05-06\", \"2020-05-05\", \"2020-05-04\", \"2020-05-03\", \"2020-05-02\", \"2020-05-01\", \"2020-04-30\", \"2020-04-29\", \"2020-04-28\", \"2020-04-27\", \"2020-04-26\", \"2020-04-25\", \"2020-04-24\", \"2020-04-23\", \"2020-04-22\", \"2020-04-21\", \"2020-04-20\", \"2020-04-19\", \"2020-04-18\", \"2020-04-17\", \"2020-04-16\", \"2020-04-15\", \"2020-04-14\", \"2020-04-13\", \"2020-04-12\", \"2020-04-11\", \"2020-04-10\", \"2020-04-09\", \"2020-04-08\", \"2020-04-07\", \"2020-04-06\", \"2020-04-05\", \"2020-04-04\", \"2020-04-03\", \"2020-04-02\", \"2020-04-01\", \"2020-03-31\", \"2020-03-30\", \"2020-03-29\", \"2020-03-28\", \"2020-03-27\", \"2020-03-26\", \"2020-03-25\", \"2020-03-24\", \"2020-03-23\", \"2020-03-22\", \"2020-03-21\", \"2020-03-20\", \"2020-03-19\", \"2020-03-18\", \"2020-03-17\", \"2020-03-16\", \"2020-03-15\", \"2020-03-14\", \"2020-03-13\", \"2020-03-12\", \"2020-03-11\", \"2020-03-10\", \"2020-03-09\", \"2020-03-08\", \"2020-03-07\", \"2020-03-06\", \"2020-03-05\", \"2020-03-04\"], \"y\": [25504, 29987, 18729, 18627, 22040, 21844, 24911, 22325, 20820, 20309, 16823, 20700, 21155, 18903, 22841, 24471, 16431, 20014, 21154, 25343, 21796, 25993, 17179, 17230, 21643, 25674, 25114, 25113, 29307, 21029, 18443, 21297, 20295, 23047, 26565, 22678, 17668, 29266, 12441, 13653, 16617, 20671, 17783, 14974, 13139, 13834, 19417, 15208, 14821, 13200, 14478, 14561, 12676, 13335, 11985, 16316, 8970, 9349, 6639, 5040, 5914, 7241, 7574, 5660, 6313, 4848, 5033, 8586, 4622, 6670, 5791, 6334, 5790, 3959, 5402, 5533, 4392, 3272, 5159, 4779, 2684, 2271, 3949, 4911, 2422, 2740, 1613, 1536, 2079, 1960, 1134, 1096, 552, 474, 512, 151, 36, 35, 28, 0, 65, 1, 0, 12, 15, 42, 0]}],\n",
       "                        {\"hovermode\": \"closest\", \"margin\": {\"b\": 40, \"l\": 40, \"r\": 0, \"t\": 10}, \"template\": {\"data\": {\"bar\": [{\"error_x\": {\"color\": \"#2a3f5f\"}, \"error_y\": {\"color\": \"#2a3f5f\"}, \"marker\": {\"line\": {\"color\": \"#E5ECF6\", \"width\": 0.5}}, \"type\": \"bar\"}], \"barpolar\": [{\"marker\": {\"line\": {\"color\": \"#E5ECF6\", \"width\": 0.5}}, \"type\": \"barpolar\"}], \"carpet\": [{\"aaxis\": {\"endlinecolor\": \"#2a3f5f\", \"gridcolor\": \"white\", \"linecolor\": \"white\", \"minorgridcolor\": \"white\", \"startlinecolor\": \"#2a3f5f\"}, \"baxis\": {\"endlinecolor\": \"#2a3f5f\", \"gridcolor\": \"white\", \"linecolor\": \"white\", \"minorgridcolor\": \"white\", \"startlinecolor\": \"#2a3f5f\"}, \"type\": \"carpet\"}], \"choropleth\": [{\"colorbar\": {\"outlinewidth\": 0, \"ticks\": \"\"}, \"type\": \"choropleth\"}], \"contour\": [{\"colorbar\": {\"outlinewidth\": 0, \"ticks\": \"\"}, \"colorscale\": [[0.0, \"#0d0887\"], [0.1111111111111111, \"#46039f\"], [0.2222222222222222, \"#7201a8\"], [0.3333333333333333, \"#9c179e\"], [0.4444444444444444, \"#bd3786\"], [0.5555555555555556, \"#d8576b\"], [0.6666666666666666, \"#ed7953\"], [0.7777777777777778, \"#fb9f3a\"], [0.8888888888888888, \"#fdca26\"], [1.0, \"#f0f921\"]], \"type\": \"contour\"}], \"contourcarpet\": [{\"colorbar\": {\"outlinewidth\": 0, \"ticks\": \"\"}, \"type\": \"contourcarpet\"}], \"heatmap\": [{\"colorbar\": {\"outlinewidth\": 0, \"ticks\": \"\"}, \"colorscale\": [[0.0, \"#0d0887\"], [0.1111111111111111, \"#46039f\"], [0.2222222222222222, \"#7201a8\"], [0.3333333333333333, \"#9c179e\"], [0.4444444444444444, \"#bd3786\"], [0.5555555555555556, \"#d8576b\"], [0.6666666666666666, \"#ed7953\"], [0.7777777777777778, \"#fb9f3a\"], [0.8888888888888888, \"#fdca26\"], [1.0, \"#f0f921\"]], \"type\": \"heatmap\"}], \"heatmapgl\": [{\"colorbar\": {\"outlinewidth\": 0, \"ticks\": \"\"}, \"colorscale\": [[0.0, \"#0d0887\"], [0.1111111111111111, \"#46039f\"], [0.2222222222222222, \"#7201a8\"], [0.3333333333333333, \"#9c179e\"], [0.4444444444444444, \"#bd3786\"], [0.5555555555555556, \"#d8576b\"], [0.6666666666666666, \"#ed7953\"], [0.7777777777777778, \"#fb9f3a\"], [0.8888888888888888, \"#fdca26\"], [1.0, \"#f0f921\"]], \"type\": \"heatmapgl\"}], \"histogram\": [{\"marker\": {\"colorbar\": {\"outlinewidth\": 0, \"ticks\": \"\"}}, \"type\": \"histogram\"}], \"histogram2d\": [{\"colorbar\": {\"outlinewidth\": 0, \"ticks\": \"\"}, \"colorscale\": [[0.0, \"#0d0887\"], [0.1111111111111111, \"#46039f\"], [0.2222222222222222, \"#7201a8\"], [0.3333333333333333, \"#9c179e\"], [0.4444444444444444, \"#bd3786\"], [0.5555555555555556, \"#d8576b\"], [0.6666666666666666, \"#ed7953\"], [0.7777777777777778, \"#fb9f3a\"], [0.8888888888888888, \"#fdca26\"], [1.0, \"#f0f921\"]], \"type\": \"histogram2d\"}], \"histogram2dcontour\": [{\"colorbar\": {\"outlinewidth\": 0, \"ticks\": \"\"}, \"colorscale\": [[0.0, \"#0d0887\"], [0.1111111111111111, \"#46039f\"], [0.2222222222222222, \"#7201a8\"], [0.3333333333333333, \"#9c179e\"], [0.4444444444444444, \"#bd3786\"], [0.5555555555555556, \"#d8576b\"], [0.6666666666666666, \"#ed7953\"], [0.7777777777777778, \"#fb9f3a\"], [0.8888888888888888, \"#fdca26\"], [1.0, \"#f0f921\"]], \"type\": \"histogram2dcontour\"}], \"mesh3d\": [{\"colorbar\": {\"outlinewidth\": 0, \"ticks\": \"\"}, \"type\": \"mesh3d\"}], \"parcoords\": [{\"line\": {\"colorbar\": {\"outlinewidth\": 0, \"ticks\": \"\"}}, \"type\": \"parcoords\"}], \"pie\": [{\"automargin\": true, \"type\": \"pie\"}], \"scatter\": [{\"marker\": {\"colorbar\": {\"outlinewidth\": 0, \"ticks\": \"\"}}, \"type\": \"scatter\"}], \"scatter3d\": [{\"line\": {\"colorbar\": {\"outlinewidth\": 0, \"ticks\": \"\"}}, \"marker\": {\"colorbar\": {\"outlinewidth\": 0, \"ticks\": \"\"}}, \"type\": \"scatter3d\"}], \"scattercarpet\": [{\"marker\": {\"colorbar\": {\"outlinewidth\": 0, \"ticks\": \"\"}}, \"type\": \"scattercarpet\"}], \"scattergeo\": [{\"marker\": {\"colorbar\": {\"outlinewidth\": 0, \"ticks\": \"\"}}, \"type\": \"scattergeo\"}], \"scattergl\": [{\"marker\": {\"colorbar\": {\"outlinewidth\": 0, \"ticks\": \"\"}}, \"type\": \"scattergl\"}], \"scattermapbox\": [{\"marker\": {\"colorbar\": {\"outlinewidth\": 0, \"ticks\": \"\"}}, \"type\": \"scattermapbox\"}], \"scatterpolar\": [{\"marker\": {\"colorbar\": {\"outlinewidth\": 0, \"ticks\": \"\"}}, \"type\": \"scatterpolar\"}], \"scatterpolargl\": [{\"marker\": {\"colorbar\": {\"outlinewidth\": 0, \"ticks\": \"\"}}, \"type\": \"scatterpolargl\"}], \"scatterternary\": [{\"marker\": {\"colorbar\": {\"outlinewidth\": 0, \"ticks\": \"\"}}, \"type\": \"scatterternary\"}], \"surface\": [{\"colorbar\": {\"outlinewidth\": 0, \"ticks\": \"\"}, \"colorscale\": [[0.0, \"#0d0887\"], [0.1111111111111111, \"#46039f\"], [0.2222222222222222, \"#7201a8\"], [0.3333333333333333, \"#9c179e\"], [0.4444444444444444, \"#bd3786\"], [0.5555555555555556, \"#d8576b\"], [0.6666666666666666, \"#ed7953\"], [0.7777777777777778, \"#fb9f3a\"], [0.8888888888888888, \"#fdca26\"], [1.0, \"#f0f921\"]], \"type\": \"surface\"}], \"table\": [{\"cells\": {\"fill\": {\"color\": \"#EBF0F8\"}, \"line\": {\"color\": \"white\"}}, \"header\": {\"fill\": {\"color\": \"#C8D4E3\"}, \"line\": {\"color\": \"white\"}}, \"type\": \"table\"}]}, \"layout\": {\"annotationdefaults\": {\"arrowcolor\": \"#2a3f5f\", \"arrowhead\": 0, \"arrowwidth\": 1}, \"coloraxis\": {\"colorbar\": {\"outlinewidth\": 0, \"ticks\": \"\"}}, \"colorscale\": {\"diverging\": [[0, \"#8e0152\"], [0.1, \"#c51b7d\"], [0.2, \"#de77ae\"], [0.3, \"#f1b6da\"], [0.4, \"#fde0ef\"], [0.5, \"#f7f7f7\"], [0.6, \"#e6f5d0\"], [0.7, \"#b8e186\"], [0.8, \"#7fbc41\"], [0.9, \"#4d9221\"], [1, \"#276419\"]], \"sequential\": [[0.0, \"#0d0887\"], [0.1111111111111111, \"#46039f\"], [0.2222222222222222, \"#7201a8\"], [0.3333333333333333, \"#9c179e\"], [0.4444444444444444, \"#bd3786\"], [0.5555555555555556, \"#d8576b\"], [0.6666666666666666, \"#ed7953\"], [0.7777777777777778, \"#fb9f3a\"], [0.8888888888888888, \"#fdca26\"], [1.0, \"#f0f921\"]], \"sequentialminus\": [[0.0, \"#0d0887\"], [0.1111111111111111, \"#46039f\"], [0.2222222222222222, \"#7201a8\"], [0.3333333333333333, \"#9c179e\"], [0.4444444444444444, \"#bd3786\"], [0.5555555555555556, \"#d8576b\"], [0.6666666666666666, \"#ed7953\"], [0.7777777777777778, \"#fb9f3a\"], [0.8888888888888888, \"#fdca26\"], [1.0, \"#f0f921\"]]}, \"colorway\": [\"#636efa\", \"#EF553B\", \"#00cc96\", \"#ab63fa\", \"#FFA15A\", \"#19d3f3\", \"#FF6692\", \"#B6E880\", \"#FF97FF\", \"#FECB52\"], \"font\": {\"color\": \"#2a3f5f\"}, \"geo\": {\"bgcolor\": \"white\", \"lakecolor\": \"white\", \"landcolor\": \"#E5ECF6\", \"showlakes\": true, \"showland\": true, \"subunitcolor\": \"white\"}, \"hoverlabel\": {\"align\": \"left\"}, \"hovermode\": \"closest\", \"mapbox\": {\"style\": \"light\"}, \"paper_bgcolor\": \"white\", \"plot_bgcolor\": \"#E5ECF6\", \"polar\": {\"angularaxis\": {\"gridcolor\": \"white\", \"linecolor\": \"white\", \"ticks\": \"\"}, \"bgcolor\": \"#E5ECF6\", \"radialaxis\": {\"gridcolor\": \"white\", \"linecolor\": \"white\", \"ticks\": \"\"}}, \"scene\": {\"xaxis\": {\"backgroundcolor\": \"#E5ECF6\", \"gridcolor\": \"white\", \"gridwidth\": 2, \"linecolor\": \"white\", \"showbackground\": true, \"ticks\": \"\", \"zerolinecolor\": \"white\"}, \"yaxis\": {\"backgroundcolor\": \"#E5ECF6\", \"gridcolor\": \"white\", \"gridwidth\": 2, \"linecolor\": \"white\", \"showbackground\": true, \"ticks\": \"\", \"zerolinecolor\": \"white\"}, \"zaxis\": {\"backgroundcolor\": \"#E5ECF6\", \"gridcolor\": \"white\", \"gridwidth\": 2, \"linecolor\": \"white\", \"showbackground\": true, \"ticks\": \"\", \"zerolinecolor\": \"white\"}}, \"shapedefaults\": {\"line\": {\"color\": \"#2a3f5f\"}}, \"ternary\": {\"aaxis\": {\"gridcolor\": \"white\", \"linecolor\": \"white\", \"ticks\": \"\"}, \"baxis\": {\"gridcolor\": \"white\", \"linecolor\": \"white\", \"ticks\": \"\"}, \"bgcolor\": \"#E5ECF6\", \"caxis\": {\"gridcolor\": \"white\", \"linecolor\": \"white\", \"ticks\": \"\"}}, \"title\": {\"x\": 0.05}, \"xaxis\": {\"automargin\": true, \"gridcolor\": \"white\", \"linecolor\": \"white\", \"ticks\": \"\", \"title\": {\"standoff\": 15}, \"zerolinecolor\": \"white\", \"zerolinewidth\": 2}, \"yaxis\": {\"automargin\": true, \"gridcolor\": \"white\", \"linecolor\": \"white\", \"ticks\": \"\", \"title\": {\"standoff\": 15}, \"zerolinecolor\": \"white\", \"zerolinewidth\": 2}}}, \"xaxis\": {\"title\": {\"text\": \"Date\"}}, \"yaxis\": {\"title\": {\"text\": \"Tests Administered\"}, \"type\": \"linear\"}},\n",
       "                        {\"responsive\": true}\n",
       "                    ).then(function(){\n",
       "                            \n",
       "var gd = document.getElementById('1ba56f61-a402-48ba-8d66-7aa051cdb427');\n",
       "var x = new MutationObserver(function (mutations, observer) {{\n",
       "        var display = window.getComputedStyle(gd).display;\n",
       "        if (!display || display === 'none') {{\n",
       "            console.log([gd, 'removed!']);\n",
       "            Plotly.purge(gd);\n",
       "            observer.disconnect();\n",
       "        }}\n",
       "}});\n",
       "\n",
       "// Listen for the removal of the full notebook cells\n",
       "var notebookContainer = gd.closest('#notebook-container');\n",
       "if (notebookContainer) {{\n",
       "    x.observe(notebookContainer, {childList: true});\n",
       "}}\n",
       "\n",
       "// Listen for the clearing of the current output cell\n",
       "var outputEl = gd.closest('.output');\n",
       "if (outputEl) {{\n",
       "    x.observe(outputEl, {childList: true});\n",
       "}}\n",
       "\n",
       "                        })\n",
       "                };\n",
       "                });\n",
       "            </script>\n",
       "        </div>"
      ]
     },
     "metadata": {},
     "output_type": "display_data"
    }
   ],
   "source": [
    "pio.show(create_tests_administered_plot(testing, example_json, \"Illinois\", \"incremental\"))"
   ]
  },
  {
   "cell_type": "code",
   "execution_count": 331,
   "metadata": {},
   "outputs": [],
   "source": [
    "by_state = pd.read_csv(\"/Users/CharlesFederici/corona_python/data/by_state.csv\")\n",
    "by_state = by_state.iloc[:,1:-1].drop(['country_region', 'latitude', 'longitude',\n",
    "                                      'recovered_pd', 'confirmed_pd', 'deaths_pd'], axis = 1) \\\n",
    "                                .sort_values([\"province_state\", 'report_date'])\n",
    "\n",
    "states = by_state.province_state.unique().tolist()\n",
    "\n",
    "def create_plot_cases(df, example_json, state, confirmed_or_deaths, incremental):\n",
    "    df = df[df['province_state'] == state]\n",
    "    if confirmed_or_deaths == \"deaths\":\n",
    "        out_json = copy.deepcopy(example_json[\"incremental_plots\"][\"deaths\"])\n",
    "    else:\n",
    "        out_json = copy.deepcopy(example_json[\"incremental_plots\"][\"confirmed\"])\n",
    "\n",
    "    if incremental == \"incremental\": \n",
    "        confirmed_or_deaths = incremental + \"_\" + confirmed_or_deaths\n",
    "    \n",
    "    out_json[\"data\"][0][\"x\"] = df['report_date'].tolist()\n",
    "    out_json[\"data\"][0][\"y\"] = df[confirmed_or_deaths].tolist()\n",
    "    out_json['data'][0][\"marker\"] = {}\n",
    "    out_json['data'][0][\"marker\"]['color'] = '#494847'\n",
    "    return(out_json)"
   ]
  },
  {
   "cell_type": "code",
   "execution_count": 332,
   "metadata": {},
   "outputs": [
    {
     "data": {
      "application/vnd.plotly.v1+json": {
       "config": {
        "plotlyServerURL": "https://plot.ly"
       },
       "data": [
        {
         "marker": {
          "color": "#494847"
         },
         "type": "bar",
         "x": [
          "2020-01-26",
          "2020-01-27",
          "2020-01-28",
          "2020-01-29",
          "2020-01-30",
          "2020-01-31",
          "2020-03-11",
          "2020-03-12",
          "2020-03-13",
          "2020-03-14",
          "2020-03-15",
          "2020-03-16",
          "2020-03-17",
          "2020-03-18",
          "2020-03-19",
          "2020-03-20",
          "2020-03-21",
          "2020-03-22",
          "2020-03-23",
          "2020-03-24",
          "2020-03-25",
          "2020-03-26",
          "2020-03-27",
          "2020-03-28",
          "2020-03-29",
          "2020-03-30",
          "2020-03-31",
          "2020-04-01",
          "2020-04-02",
          "2020-04-03",
          "2020-04-04",
          "2020-04-05",
          "2020-04-06",
          "2020-04-07",
          "2020-04-08",
          "2020-04-09",
          "2020-04-10",
          "2020-04-11",
          "2020-04-12",
          "2020-04-13",
          "2020-04-14",
          "2020-04-15",
          "2020-04-16",
          "2020-04-17",
          "2020-04-18",
          "2020-04-19",
          "2020-04-20",
          "2020-04-21",
          "2020-04-22",
          "2020-04-23",
          "2020-04-24",
          "2020-04-25",
          "2020-04-26",
          "2020-04-27",
          "2020-04-28",
          "2020-04-29",
          "2020-04-30",
          "2020-05-01",
          "2020-05-02",
          "2020-05-03",
          "2020-05-04",
          "2020-05-05",
          "2020-05-06",
          "2020-05-07",
          "2020-05-08",
          "2020-05-09",
          "2020-05-10",
          "2020-05-11",
          "2020-05-12",
          "2020-05-13",
          "2020-05-14",
          "2020-05-15",
          "2020-05-16",
          "2020-05-17",
          "2020-05-18",
          "2020-05-19",
          "2020-05-20",
          "2020-05-21",
          "2020-05-22",
          "2020-05-23",
          "2020-05-24",
          "2020-05-25",
          "2020-05-26",
          "2020-05-27",
          "2020-05-28",
          "2020-05-29",
          "2020-05-30",
          "2020-05-31",
          "2020-06-01",
          "2020-06-02",
          "2020-06-03",
          "2020-06-04",
          "2020-06-05",
          "2020-06-06",
          "2020-06-07",
          "2020-06-08",
          "2020-06-09",
          "2020-06-10",
          "2020-06-11",
          "2020-06-12",
          "2020-06-13",
          "2020-06-14",
          "2020-06-15",
          "2020-06-16"
         ],
         "y": [
          0,
          0,
          0,
          0,
          0,
          1,
          13,
          7,
          14,
          18,
          29,
          12,
          56,
          1,
          260,
          163,
          168,
          296,
          236,
          252,
          328,
          673,
          486,
          467,
          1105,
          460,
          938,
          986,
          715,
          1209,
          1453,
          902,
          1003,
          9,
          2807,
          1,
          2808,
          1293,
          1672,
          1173,
          1223,
          1345,
          1141,
          1844,
          1582,
          1197,
          1156,
          1546,
          2048,
          1830,
          2721,
          2119,
          2126,
          1980,
          2219,
          2256,
          2560,
          3137,
          2450,
          2994,
          2278,
          2112,
          2343,
          2639,
          2889,
          2325,
          1656,
          1266,
          4014,
          1673,
          3243,
          2432,
          2088,
          1734,
          2294,
          1545,
          2388,
          2270,
          2756,
          2352,
          2508,
          1713,
          1178,
          1111,
          1527,
          1622,
          1462,
          1343,
          974,
          1614,
          982,
          929,
          1156,
          975,
          867,
          658,
          797,
          625,
          766,
          595,
          673,
          672,
          473,
          623
         ]
        }
       ],
       "layout": {
        "autosize": true,
        "hovermode": "closest",
        "margin": {
         "b": 40,
         "l": 40,
         "r": 0,
         "t": 10
        },
        "template": {
         "data": {
          "bar": [
           {
            "error_x": {
             "color": "#2a3f5f"
            },
            "error_y": {
             "color": "#2a3f5f"
            },
            "marker": {
             "line": {
              "color": "#E5ECF6",
              "width": 0.5
             }
            },
            "type": "bar"
           }
          ],
          "barpolar": [
           {
            "marker": {
             "line": {
              "color": "#E5ECF6",
              "width": 0.5
             }
            },
            "type": "barpolar"
           }
          ],
          "carpet": [
           {
            "aaxis": {
             "endlinecolor": "#2a3f5f",
             "gridcolor": "white",
             "linecolor": "white",
             "minorgridcolor": "white",
             "startlinecolor": "#2a3f5f"
            },
            "baxis": {
             "endlinecolor": "#2a3f5f",
             "gridcolor": "white",
             "linecolor": "white",
             "minorgridcolor": "white",
             "startlinecolor": "#2a3f5f"
            },
            "type": "carpet"
           }
          ],
          "choropleth": [
           {
            "colorbar": {
             "outlinewidth": 0,
             "ticks": ""
            },
            "type": "choropleth"
           }
          ],
          "contour": [
           {
            "colorbar": {
             "outlinewidth": 0,
             "ticks": ""
            },
            "colorscale": [
             [
              0,
              "#0d0887"
             ],
             [
              0.1111111111111111,
              "#46039f"
             ],
             [
              0.2222222222222222,
              "#7201a8"
             ],
             [
              0.3333333333333333,
              "#9c179e"
             ],
             [
              0.4444444444444444,
              "#bd3786"
             ],
             [
              0.5555555555555556,
              "#d8576b"
             ],
             [
              0.6666666666666666,
              "#ed7953"
             ],
             [
              0.7777777777777778,
              "#fb9f3a"
             ],
             [
              0.8888888888888888,
              "#fdca26"
             ],
             [
              1,
              "#f0f921"
             ]
            ],
            "type": "contour"
           }
          ],
          "contourcarpet": [
           {
            "colorbar": {
             "outlinewidth": 0,
             "ticks": ""
            },
            "type": "contourcarpet"
           }
          ],
          "heatmap": [
           {
            "colorbar": {
             "outlinewidth": 0,
             "ticks": ""
            },
            "colorscale": [
             [
              0,
              "#0d0887"
             ],
             [
              0.1111111111111111,
              "#46039f"
             ],
             [
              0.2222222222222222,
              "#7201a8"
             ],
             [
              0.3333333333333333,
              "#9c179e"
             ],
             [
              0.4444444444444444,
              "#bd3786"
             ],
             [
              0.5555555555555556,
              "#d8576b"
             ],
             [
              0.6666666666666666,
              "#ed7953"
             ],
             [
              0.7777777777777778,
              "#fb9f3a"
             ],
             [
              0.8888888888888888,
              "#fdca26"
             ],
             [
              1,
              "#f0f921"
             ]
            ],
            "type": "heatmap"
           }
          ],
          "heatmapgl": [
           {
            "colorbar": {
             "outlinewidth": 0,
             "ticks": ""
            },
            "colorscale": [
             [
              0,
              "#0d0887"
             ],
             [
              0.1111111111111111,
              "#46039f"
             ],
             [
              0.2222222222222222,
              "#7201a8"
             ],
             [
              0.3333333333333333,
              "#9c179e"
             ],
             [
              0.4444444444444444,
              "#bd3786"
             ],
             [
              0.5555555555555556,
              "#d8576b"
             ],
             [
              0.6666666666666666,
              "#ed7953"
             ],
             [
              0.7777777777777778,
              "#fb9f3a"
             ],
             [
              0.8888888888888888,
              "#fdca26"
             ],
             [
              1,
              "#f0f921"
             ]
            ],
            "type": "heatmapgl"
           }
          ],
          "histogram": [
           {
            "marker": {
             "colorbar": {
              "outlinewidth": 0,
              "ticks": ""
             }
            },
            "type": "histogram"
           }
          ],
          "histogram2d": [
           {
            "colorbar": {
             "outlinewidth": 0,
             "ticks": ""
            },
            "colorscale": [
             [
              0,
              "#0d0887"
             ],
             [
              0.1111111111111111,
              "#46039f"
             ],
             [
              0.2222222222222222,
              "#7201a8"
             ],
             [
              0.3333333333333333,
              "#9c179e"
             ],
             [
              0.4444444444444444,
              "#bd3786"
             ],
             [
              0.5555555555555556,
              "#d8576b"
             ],
             [
              0.6666666666666666,
              "#ed7953"
             ],
             [
              0.7777777777777778,
              "#fb9f3a"
             ],
             [
              0.8888888888888888,
              "#fdca26"
             ],
             [
              1,
              "#f0f921"
             ]
            ],
            "type": "histogram2d"
           }
          ],
          "histogram2dcontour": [
           {
            "colorbar": {
             "outlinewidth": 0,
             "ticks": ""
            },
            "colorscale": [
             [
              0,
              "#0d0887"
             ],
             [
              0.1111111111111111,
              "#46039f"
             ],
             [
              0.2222222222222222,
              "#7201a8"
             ],
             [
              0.3333333333333333,
              "#9c179e"
             ],
             [
              0.4444444444444444,
              "#bd3786"
             ],
             [
              0.5555555555555556,
              "#d8576b"
             ],
             [
              0.6666666666666666,
              "#ed7953"
             ],
             [
              0.7777777777777778,
              "#fb9f3a"
             ],
             [
              0.8888888888888888,
              "#fdca26"
             ],
             [
              1,
              "#f0f921"
             ]
            ],
            "type": "histogram2dcontour"
           }
          ],
          "mesh3d": [
           {
            "colorbar": {
             "outlinewidth": 0,
             "ticks": ""
            },
            "type": "mesh3d"
           }
          ],
          "parcoords": [
           {
            "line": {
             "colorbar": {
              "outlinewidth": 0,
              "ticks": ""
             }
            },
            "type": "parcoords"
           }
          ],
          "pie": [
           {
            "automargin": true,
            "type": "pie"
           }
          ],
          "scatter": [
           {
            "marker": {
             "colorbar": {
              "outlinewidth": 0,
              "ticks": ""
             }
            },
            "type": "scatter"
           }
          ],
          "scatter3d": [
           {
            "line": {
             "colorbar": {
              "outlinewidth": 0,
              "ticks": ""
             }
            },
            "marker": {
             "colorbar": {
              "outlinewidth": 0,
              "ticks": ""
             }
            },
            "type": "scatter3d"
           }
          ],
          "scattercarpet": [
           {
            "marker": {
             "colorbar": {
              "outlinewidth": 0,
              "ticks": ""
             }
            },
            "type": "scattercarpet"
           }
          ],
          "scattergeo": [
           {
            "marker": {
             "colorbar": {
              "outlinewidth": 0,
              "ticks": ""
             }
            },
            "type": "scattergeo"
           }
          ],
          "scattergl": [
           {
            "marker": {
             "colorbar": {
              "outlinewidth": 0,
              "ticks": ""
             }
            },
            "type": "scattergl"
           }
          ],
          "scattermapbox": [
           {
            "marker": {
             "colorbar": {
              "outlinewidth": 0,
              "ticks": ""
             }
            },
            "type": "scattermapbox"
           }
          ],
          "scatterpolar": [
           {
            "marker": {
             "colorbar": {
              "outlinewidth": 0,
              "ticks": ""
             }
            },
            "type": "scatterpolar"
           }
          ],
          "scatterpolargl": [
           {
            "marker": {
             "colorbar": {
              "outlinewidth": 0,
              "ticks": ""
             }
            },
            "type": "scatterpolargl"
           }
          ],
          "scatterternary": [
           {
            "marker": {
             "colorbar": {
              "outlinewidth": 0,
              "ticks": ""
             }
            },
            "type": "scatterternary"
           }
          ],
          "surface": [
           {
            "colorbar": {
             "outlinewidth": 0,
             "ticks": ""
            },
            "colorscale": [
             [
              0,
              "#0d0887"
             ],
             [
              0.1111111111111111,
              "#46039f"
             ],
             [
              0.2222222222222222,
              "#7201a8"
             ],
             [
              0.3333333333333333,
              "#9c179e"
             ],
             [
              0.4444444444444444,
              "#bd3786"
             ],
             [
              0.5555555555555556,
              "#d8576b"
             ],
             [
              0.6666666666666666,
              "#ed7953"
             ],
             [
              0.7777777777777778,
              "#fb9f3a"
             ],
             [
              0.8888888888888888,
              "#fdca26"
             ],
             [
              1,
              "#f0f921"
             ]
            ],
            "type": "surface"
           }
          ],
          "table": [
           {
            "cells": {
             "fill": {
              "color": "#EBF0F8"
             },
             "line": {
              "color": "white"
             }
            },
            "header": {
             "fill": {
              "color": "#C8D4E3"
             },
             "line": {
              "color": "white"
             }
            },
            "type": "table"
           }
          ]
         },
         "layout": {
          "annotationdefaults": {
           "arrowcolor": "#2a3f5f",
           "arrowhead": 0,
           "arrowwidth": 1
          },
          "coloraxis": {
           "colorbar": {
            "outlinewidth": 0,
            "ticks": ""
           }
          },
          "colorscale": {
           "diverging": [
            [
             0,
             "#8e0152"
            ],
            [
             0.1,
             "#c51b7d"
            ],
            [
             0.2,
             "#de77ae"
            ],
            [
             0.3,
             "#f1b6da"
            ],
            [
             0.4,
             "#fde0ef"
            ],
            [
             0.5,
             "#f7f7f7"
            ],
            [
             0.6,
             "#e6f5d0"
            ],
            [
             0.7,
             "#b8e186"
            ],
            [
             0.8,
             "#7fbc41"
            ],
            [
             0.9,
             "#4d9221"
            ],
            [
             1,
             "#276419"
            ]
           ],
           "sequential": [
            [
             0,
             "#0d0887"
            ],
            [
             0.1111111111111111,
             "#46039f"
            ],
            [
             0.2222222222222222,
             "#7201a8"
            ],
            [
             0.3333333333333333,
             "#9c179e"
            ],
            [
             0.4444444444444444,
             "#bd3786"
            ],
            [
             0.5555555555555556,
             "#d8576b"
            ],
            [
             0.6666666666666666,
             "#ed7953"
            ],
            [
             0.7777777777777778,
             "#fb9f3a"
            ],
            [
             0.8888888888888888,
             "#fdca26"
            ],
            [
             1,
             "#f0f921"
            ]
           ],
           "sequentialminus": [
            [
             0,
             "#0d0887"
            ],
            [
             0.1111111111111111,
             "#46039f"
            ],
            [
             0.2222222222222222,
             "#7201a8"
            ],
            [
             0.3333333333333333,
             "#9c179e"
            ],
            [
             0.4444444444444444,
             "#bd3786"
            ],
            [
             0.5555555555555556,
             "#d8576b"
            ],
            [
             0.6666666666666666,
             "#ed7953"
            ],
            [
             0.7777777777777778,
             "#fb9f3a"
            ],
            [
             0.8888888888888888,
             "#fdca26"
            ],
            [
             1,
             "#f0f921"
            ]
           ]
          },
          "colorway": [
           "#636efa",
           "#EF553B",
           "#00cc96",
           "#ab63fa",
           "#FFA15A",
           "#19d3f3",
           "#FF6692",
           "#B6E880",
           "#FF97FF",
           "#FECB52"
          ],
          "font": {
           "color": "#2a3f5f"
          },
          "geo": {
           "bgcolor": "white",
           "lakecolor": "white",
           "landcolor": "#E5ECF6",
           "showlakes": true,
           "showland": true,
           "subunitcolor": "white"
          },
          "hoverlabel": {
           "align": "left"
          },
          "hovermode": "closest",
          "mapbox": {
           "style": "light"
          },
          "paper_bgcolor": "white",
          "plot_bgcolor": "#E5ECF6",
          "polar": {
           "angularaxis": {
            "gridcolor": "white",
            "linecolor": "white",
            "ticks": ""
           },
           "bgcolor": "#E5ECF6",
           "radialaxis": {
            "gridcolor": "white",
            "linecolor": "white",
            "ticks": ""
           }
          },
          "scene": {
           "xaxis": {
            "backgroundcolor": "#E5ECF6",
            "gridcolor": "white",
            "gridwidth": 2,
            "linecolor": "white",
            "showbackground": true,
            "ticks": "",
            "zerolinecolor": "white"
           },
           "yaxis": {
            "backgroundcolor": "#E5ECF6",
            "gridcolor": "white",
            "gridwidth": 2,
            "linecolor": "white",
            "showbackground": true,
            "ticks": "",
            "zerolinecolor": "white"
           },
           "zaxis": {
            "backgroundcolor": "#E5ECF6",
            "gridcolor": "white",
            "gridwidth": 2,
            "linecolor": "white",
            "showbackground": true,
            "ticks": "",
            "zerolinecolor": "white"
           }
          },
          "shapedefaults": {
           "line": {
            "color": "#2a3f5f"
           }
          },
          "ternary": {
           "aaxis": {
            "gridcolor": "white",
            "linecolor": "white",
            "ticks": ""
           },
           "baxis": {
            "gridcolor": "white",
            "linecolor": "white",
            "ticks": ""
           },
           "bgcolor": "#E5ECF6",
           "caxis": {
            "gridcolor": "white",
            "linecolor": "white",
            "ticks": ""
           }
          },
          "title": {
           "x": 0.05
          },
          "xaxis": {
           "automargin": true,
           "gridcolor": "white",
           "linecolor": "white",
           "ticks": "",
           "title": {
            "standoff": 15
           },
           "zerolinecolor": "white",
           "zerolinewidth": 2
          },
          "yaxis": {
           "automargin": true,
           "gridcolor": "white",
           "linecolor": "white",
           "ticks": "",
           "title": {
            "standoff": 15
           },
           "zerolinecolor": "white",
           "zerolinewidth": 2
          }
         }
        },
        "xaxis": {
         "autorange": true,
         "range": [
          "2020-01-25 12:00",
          "2020-06-16 12:00"
         ],
         "title": {
          "text": "Date"
         },
         "type": "date"
        },
        "yaxis": {
         "autorange": true,
         "range": [
          0,
          4225.263157894737
         ],
         "title": {
          "text": "Cases"
         },
         "type": "linear"
        }
       }
      },
      "image/png": "[encoded data removed]",
      "text/html": [
       "<div>\n",
       "        \n",
       "        \n",
       "            <div id=\"2b16be2d-b505-4412-9927-1c12ecb14410\" class=\"plotly-graph-div\" style=\"height:525px; width:100%;\"></div>\n",
       "            <script type=\"text/javascript\">\n",
       "                require([\"plotly\"], function(Plotly) {\n",
       "                    window.PLOTLYENV=window.PLOTLYENV || {};\n",
       "                    \n",
       "                if (document.getElementById(\"2b16be2d-b505-4412-9927-1c12ecb14410\")) {\n",
       "                    Plotly.newPlot(\n",
       "                        '2b16be2d-b505-4412-9927-1c12ecb14410',\n",
       "                        [{\"marker\": {\"color\": \"#494847\"}, \"type\": \"bar\", \"x\": [\"2020-01-26\", \"2020-01-27\", \"2020-01-28\", \"2020-01-29\", \"2020-01-30\", \"2020-01-31\", \"2020-03-11\", \"2020-03-12\", \"2020-03-13\", \"2020-03-14\", \"2020-03-15\", \"2020-03-16\", \"2020-03-17\", \"2020-03-18\", \"2020-03-19\", \"2020-03-20\", \"2020-03-21\", \"2020-03-22\", \"2020-03-23\", \"2020-03-24\", \"2020-03-25\", \"2020-03-26\", \"2020-03-27\", \"2020-03-28\", \"2020-03-29\", \"2020-03-30\", \"2020-03-31\", \"2020-04-01\", \"2020-04-02\", \"2020-04-03\", \"2020-04-04\", \"2020-04-05\", \"2020-04-06\", \"2020-04-07\", \"2020-04-08\", \"2020-04-09\", \"2020-04-10\", \"2020-04-11\", \"2020-04-12\", \"2020-04-13\", \"2020-04-14\", \"2020-04-15\", \"2020-04-16\", \"2020-04-17\", \"2020-04-18\", \"2020-04-19\", \"2020-04-20\", \"2020-04-21\", \"2020-04-22\", \"2020-04-23\", \"2020-04-24\", \"2020-04-25\", \"2020-04-26\", \"2020-04-27\", \"2020-04-28\", \"2020-04-29\", \"2020-04-30\", \"2020-05-01\", \"2020-05-02\", \"2020-05-03\", \"2020-05-04\", \"2020-05-05\", \"2020-05-06\", \"2020-05-07\", \"2020-05-08\", \"2020-05-09\", \"2020-05-10\", \"2020-05-11\", \"2020-05-12\", \"2020-05-13\", \"2020-05-14\", \"2020-05-15\", \"2020-05-16\", \"2020-05-17\", \"2020-05-18\", \"2020-05-19\", \"2020-05-20\", \"2020-05-21\", \"2020-05-22\", \"2020-05-23\", \"2020-05-24\", \"2020-05-25\", \"2020-05-26\", \"2020-05-27\", \"2020-05-28\", \"2020-05-29\", \"2020-05-30\", \"2020-05-31\", \"2020-06-01\", \"2020-06-02\", \"2020-06-03\", \"2020-06-04\", \"2020-06-05\", \"2020-06-06\", \"2020-06-07\", \"2020-06-08\", \"2020-06-09\", \"2020-06-10\", \"2020-06-11\", \"2020-06-12\", \"2020-06-13\", \"2020-06-14\", \"2020-06-15\", \"2020-06-16\"], \"y\": [0.0, 0.0, 0.0, 0.0, 0.0, 1.0, 13.0, 7.0, 14.0, 18.0, 29.0, 12.0, 56.0, 1.0, 260.0, 163.0, 168.0, 296.0, 236.0, 252.0, 328.0, 673.0, 486.0, 467.0, 1105.0, 460.0, 938.0, 986.0, 715.0, 1209.0, 1453.0, 902.0, 1003.0, 9.0, 2807.0, 1.0, 2808.0, 1293.0, 1672.0, 1173.0, 1223.0, 1345.0, 1141.0, 1844.0, 1582.0, 1197.0, 1156.0, 1546.0, 2048.0, 1830.0, 2721.0, 2119.0, 2126.0, 1980.0, 2219.0, 2256.0, 2560.0, 3137.0, 2450.0, 2994.0, 2278.0, 2112.0, 2343.0, 2639.0, 2889.0, 2325.0, 1656.0, 1266.0, 4014.0, 1673.0, 3243.0, 2432.0, 2088.0, 1734.0, 2294.0, 1545.0, 2388.0, 2270.0, 2756.0, 2352.0, 2508.0, 1713.0, 1178.0, 1111.0, 1527.0, 1622.0, 1462.0, 1343.0, 974.0, 1614.0, 982.0, 929.0, 1156.0, 975.0, 867.0, 658.0, 797.0, 625.0, 766.0, 595.0, 673.0, 672.0, 473.0, 623.0]}],\n",
       "                        {\"hovermode\": \"closest\", \"margin\": {\"b\": 40, \"l\": 40, \"r\": 0, \"t\": 10}, \"template\": {\"data\": {\"bar\": [{\"error_x\": {\"color\": \"#2a3f5f\"}, \"error_y\": {\"color\": \"#2a3f5f\"}, \"marker\": {\"line\": {\"color\": \"#E5ECF6\", \"width\": 0.5}}, \"type\": \"bar\"}], \"barpolar\": [{\"marker\": {\"line\": {\"color\": \"#E5ECF6\", \"width\": 0.5}}, \"type\": \"barpolar\"}], \"carpet\": [{\"aaxis\": {\"endlinecolor\": \"#2a3f5f\", \"gridcolor\": \"white\", \"linecolor\": \"white\", \"minorgridcolor\": \"white\", \"startlinecolor\": \"#2a3f5f\"}, \"baxis\": {\"endlinecolor\": \"#2a3f5f\", \"gridcolor\": \"white\", \"linecolor\": \"white\", \"minorgridcolor\": \"white\", \"startlinecolor\": \"#2a3f5f\"}, \"type\": \"carpet\"}], \"choropleth\": [{\"colorbar\": {\"outlinewidth\": 0, \"ticks\": \"\"}, \"type\": \"choropleth\"}], \"contour\": [{\"colorbar\": {\"outlinewidth\": 0, \"ticks\": \"\"}, \"colorscale\": [[0.0, \"#0d0887\"], [0.1111111111111111, \"#46039f\"], [0.2222222222222222, \"#7201a8\"], [0.3333333333333333, \"#9c179e\"], [0.4444444444444444, \"#bd3786\"], [0.5555555555555556, \"#d8576b\"], [0.6666666666666666, \"#ed7953\"], [0.7777777777777778, \"#fb9f3a\"], [0.8888888888888888, \"#fdca26\"], [1.0, \"#f0f921\"]], \"type\": \"contour\"}], \"contourcarpet\": [{\"colorbar\": {\"outlinewidth\": 0, \"ticks\": \"\"}, \"type\": \"contourcarpet\"}], \"heatmap\": [{\"colorbar\": {\"outlinewidth\": 0, \"ticks\": \"\"}, \"colorscale\": [[0.0, \"#0d0887\"], [0.1111111111111111, \"#46039f\"], [0.2222222222222222, \"#7201a8\"], [0.3333333333333333, \"#9c179e\"], [0.4444444444444444, \"#bd3786\"], [0.5555555555555556, \"#d8576b\"], [0.6666666666666666, \"#ed7953\"], [0.7777777777777778, \"#fb9f3a\"], [0.8888888888888888, \"#fdca26\"], [1.0, \"#f0f921\"]], \"type\": \"heatmap\"}], \"heatmapgl\": [{\"colorbar\": {\"outlinewidth\": 0, \"ticks\": \"\"}, \"colorscale\": [[0.0, \"#0d0887\"], [0.1111111111111111, \"#46039f\"], [0.2222222222222222, \"#7201a8\"], [0.3333333333333333, \"#9c179e\"], [0.4444444444444444, \"#bd3786\"], [0.5555555555555556, \"#d8576b\"], [0.6666666666666666, \"#ed7953\"], [0.7777777777777778, \"#fb9f3a\"], [0.8888888888888888, \"#fdca26\"], [1.0, \"#f0f921\"]], \"type\": \"heatmapgl\"}], \"histogram\": [{\"marker\": {\"colorbar\": {\"outlinewidth\": 0, \"ticks\": \"\"}}, \"type\": \"histogram\"}], \"histogram2d\": [{\"colorbar\": {\"outlinewidth\": 0, \"ticks\": \"\"}, \"colorscale\": [[0.0, \"#0d0887\"], [0.1111111111111111, \"#46039f\"], [0.2222222222222222, \"#7201a8\"], [0.3333333333333333, \"#9c179e\"], [0.4444444444444444, \"#bd3786\"], [0.5555555555555556, \"#d8576b\"], [0.6666666666666666, \"#ed7953\"], [0.7777777777777778, \"#fb9f3a\"], [0.8888888888888888, \"#fdca26\"], [1.0, \"#f0f921\"]], \"type\": \"histogram2d\"}], \"histogram2dcontour\": [{\"colorbar\": {\"outlinewidth\": 0, \"ticks\": \"\"}, \"colorscale\": [[0.0, \"#0d0887\"], [0.1111111111111111, \"#46039f\"], [0.2222222222222222, \"#7201a8\"], [0.3333333333333333, \"#9c179e\"], [0.4444444444444444, \"#bd3786\"], [0.5555555555555556, \"#d8576b\"], [0.6666666666666666, \"#ed7953\"], [0.7777777777777778, \"#fb9f3a\"], [0.8888888888888888, \"#fdca26\"], [1.0, \"#f0f921\"]], \"type\": \"histogram2dcontour\"}], \"mesh3d\": [{\"colorbar\": {\"outlinewidth\": 0, \"ticks\": \"\"}, \"type\": \"mesh3d\"}], \"parcoords\": [{\"line\": {\"colorbar\": {\"outlinewidth\": 0, \"ticks\": \"\"}}, \"type\": \"parcoords\"}], \"pie\": [{\"automargin\": true, \"type\": \"pie\"}], \"scatter\": [{\"marker\": {\"colorbar\": {\"outlinewidth\": 0, \"ticks\": \"\"}}, \"type\": \"scatter\"}], \"scatter3d\": [{\"line\": {\"colorbar\": {\"outlinewidth\": 0, \"ticks\": \"\"}}, \"marker\": {\"colorbar\": {\"outlinewidth\": 0, \"ticks\": \"\"}}, \"type\": \"scatter3d\"}], \"scattercarpet\": [{\"marker\": {\"colorbar\": {\"outlinewidth\": 0, \"ticks\": \"\"}}, \"type\": \"scattercarpet\"}], \"scattergeo\": [{\"marker\": {\"colorbar\": {\"outlinewidth\": 0, \"ticks\": \"\"}}, \"type\": \"scattergeo\"}], \"scattergl\": [{\"marker\": {\"colorbar\": {\"outlinewidth\": 0, \"ticks\": \"\"}}, \"type\": \"scattergl\"}], \"scattermapbox\": [{\"marker\": {\"colorbar\": {\"outlinewidth\": 0, \"ticks\": \"\"}}, \"type\": \"scattermapbox\"}], \"scatterpolar\": [{\"marker\": {\"colorbar\": {\"outlinewidth\": 0, \"ticks\": \"\"}}, \"type\": \"scatterpolar\"}], \"scatterpolargl\": [{\"marker\": {\"colorbar\": {\"outlinewidth\": 0, \"ticks\": \"\"}}, \"type\": \"scatterpolargl\"}], \"scatterternary\": [{\"marker\": {\"colorbar\": {\"outlinewidth\": 0, \"ticks\": \"\"}}, \"type\": \"scatterternary\"}], \"surface\": [{\"colorbar\": {\"outlinewidth\": 0, \"ticks\": \"\"}, \"colorscale\": [[0.0, \"#0d0887\"], [0.1111111111111111, \"#46039f\"], [0.2222222222222222, \"#7201a8\"], [0.3333333333333333, \"#9c179e\"], [0.4444444444444444, \"#bd3786\"], [0.5555555555555556, \"#d8576b\"], [0.6666666666666666, \"#ed7953\"], [0.7777777777777778, \"#fb9f3a\"], [0.8888888888888888, \"#fdca26\"], [1.0, \"#f0f921\"]], \"type\": \"surface\"}], \"table\": [{\"cells\": {\"fill\": {\"color\": \"#EBF0F8\"}, \"line\": {\"color\": \"white\"}}, \"header\": {\"fill\": {\"color\": \"#C8D4E3\"}, \"line\": {\"color\": \"white\"}}, \"type\": \"table\"}]}, \"layout\": {\"annotationdefaults\": {\"arrowcolor\": \"#2a3f5f\", \"arrowhead\": 0, \"arrowwidth\": 1}, \"coloraxis\": {\"colorbar\": {\"outlinewidth\": 0, \"ticks\": \"\"}}, \"colorscale\": {\"diverging\": [[0, \"#8e0152\"], [0.1, \"#c51b7d\"], [0.2, \"#de77ae\"], [0.3, \"#f1b6da\"], [0.4, \"#fde0ef\"], [0.5, \"#f7f7f7\"], [0.6, \"#e6f5d0\"], [0.7, \"#b8e186\"], [0.8, \"#7fbc41\"], [0.9, \"#4d9221\"], [1, \"#276419\"]], \"sequential\": [[0.0, \"#0d0887\"], [0.1111111111111111, \"#46039f\"], [0.2222222222222222, \"#7201a8\"], [0.3333333333333333, \"#9c179e\"], [0.4444444444444444, \"#bd3786\"], [0.5555555555555556, \"#d8576b\"], [0.6666666666666666, \"#ed7953\"], [0.7777777777777778, \"#fb9f3a\"], [0.8888888888888888, \"#fdca26\"], [1.0, \"#f0f921\"]], \"sequentialminus\": [[0.0, \"#0d0887\"], [0.1111111111111111, \"#46039f\"], [0.2222222222222222, \"#7201a8\"], [0.3333333333333333, \"#9c179e\"], [0.4444444444444444, \"#bd3786\"], [0.5555555555555556, \"#d8576b\"], [0.6666666666666666, \"#ed7953\"], [0.7777777777777778, \"#fb9f3a\"], [0.8888888888888888, \"#fdca26\"], [1.0, \"#f0f921\"]]}, \"colorway\": [\"#636efa\", \"#EF553B\", \"#00cc96\", \"#ab63fa\", \"#FFA15A\", \"#19d3f3\", \"#FF6692\", \"#B6E880\", \"#FF97FF\", \"#FECB52\"], \"font\": {\"color\": \"#2a3f5f\"}, \"geo\": {\"bgcolor\": \"white\", \"lakecolor\": \"white\", \"landcolor\": \"#E5ECF6\", \"showlakes\": true, \"showland\": true, \"subunitcolor\": \"white\"}, \"hoverlabel\": {\"align\": \"left\"}, \"hovermode\": \"closest\", \"mapbox\": {\"style\": \"light\"}, \"paper_bgcolor\": \"white\", \"plot_bgcolor\": \"#E5ECF6\", \"polar\": {\"angularaxis\": {\"gridcolor\": \"white\", \"linecolor\": \"white\", \"ticks\": \"\"}, \"bgcolor\": \"#E5ECF6\", \"radialaxis\": {\"gridcolor\": \"white\", \"linecolor\": \"white\", \"ticks\": \"\"}}, \"scene\": {\"xaxis\": {\"backgroundcolor\": \"#E5ECF6\", \"gridcolor\": \"white\", \"gridwidth\": 2, \"linecolor\": \"white\", \"showbackground\": true, \"ticks\": \"\", \"zerolinecolor\": \"white\"}, \"yaxis\": {\"backgroundcolor\": \"#E5ECF6\", \"gridcolor\": \"white\", \"gridwidth\": 2, \"linecolor\": \"white\", \"showbackground\": true, \"ticks\": \"\", \"zerolinecolor\": \"white\"}, \"zaxis\": {\"backgroundcolor\": \"#E5ECF6\", \"gridcolor\": \"white\", \"gridwidth\": 2, \"linecolor\": \"white\", \"showbackground\": true, \"ticks\": \"\", \"zerolinecolor\": \"white\"}}, \"shapedefaults\": {\"line\": {\"color\": \"#2a3f5f\"}}, \"ternary\": {\"aaxis\": {\"gridcolor\": \"white\", \"linecolor\": \"white\", \"ticks\": \"\"}, \"baxis\": {\"gridcolor\": \"white\", \"linecolor\": \"white\", \"ticks\": \"\"}, \"bgcolor\": \"#E5ECF6\", \"caxis\": {\"gridcolor\": \"white\", \"linecolor\": \"white\", \"ticks\": \"\"}}, \"title\": {\"x\": 0.05}, \"xaxis\": {\"automargin\": true, \"gridcolor\": \"white\", \"linecolor\": \"white\", \"ticks\": \"\", \"title\": {\"standoff\": 15}, \"zerolinecolor\": \"white\", \"zerolinewidth\": 2}, \"yaxis\": {\"automargin\": true, \"gridcolor\": \"white\", \"linecolor\": \"white\", \"ticks\": \"\", \"title\": {\"standoff\": 15}, \"zerolinecolor\": \"white\", \"zerolinewidth\": 2}}}, \"xaxis\": {\"title\": {\"text\": \"Date\"}}, \"yaxis\": {\"title\": {\"text\": \"Cases\"}, \"type\": \"linear\"}},\n",
       "                        {\"responsive\": true}\n",
       "                    ).then(function(){\n",
       "                            \n",
       "var gd = document.getElementById('2b16be2d-b505-4412-9927-1c12ecb14410');\n",
       "var x = new MutationObserver(function (mutations, observer) {{\n",
       "        var display = window.getComputedStyle(gd).display;\n",
       "        if (!display || display === 'none') {{\n",
       "            console.log([gd, 'removed!']);\n",
       "            Plotly.purge(gd);\n",
       "            observer.disconnect();\n",
       "        }}\n",
       "}});\n",
       "\n",
       "// Listen for the removal of the full notebook cells\n",
       "var notebookContainer = gd.closest('#notebook-container');\n",
       "if (notebookContainer) {{\n",
       "    x.observe(notebookContainer, {childList: true});\n",
       "}}\n",
       "\n",
       "// Listen for the clearing of the current output cell\n",
       "var outputEl = gd.closest('.output');\n",
       "if (outputEl) {{\n",
       "    x.observe(outputEl, {childList: true});\n",
       "}}\n",
       "\n",
       "                        })\n",
       "                };\n",
       "                });\n",
       "            </script>\n",
       "        </div>"
      ]
     },
     "metadata": {},
     "output_type": "display_data"
    }
   ],
   "source": [
    "pio.show(create_plot_cases(by_state, example_json, \"Illinois\", \"confirmed\", \"incremental\"))"
   ]
  },
  {
   "cell_type": "code",
   "execution_count": 340,
   "metadata": {},
   "outputs": [],
   "source": [
    "\n",
    "\n",
    "state_for_mongo = []\n",
    "\n",
    "with open(\"example_master.json\", \"r\") as read_file:\n",
    "    example_json = json.load(read_file)\n",
    "\n",
    "for state in states:\n",
    "    state_json = copy.deepcopy(example_json)\n",
    "    state_json[\"state_name\"] = state\n",
    "    \n",
    "    for incremental in ['incremental', 'cumulative']:\n",
    "        plot_type = incremental + \"_plots\"\n",
    "        state_json[plot_type]['tests_administered'] = create_tests_administered_plot(testing, example_json, state, incremental)\n",
    "        state_json[plot_type]['testing_rate'] =create_testing_rate_plot(testing, example_json, state, incremental)\n",
    "        state_json[plot_type]['confirmed'] =create_plot_cases(by_state, example_json, state, \"confirmed\", incremental)\n",
    "        state_json[plot_type]['deaths'] =create_plot_cases(by_state, example_json, state, \"deaths\", incremental)\n",
    "    state_for_mongo.append(state_json)\n"
   ]
  },
  {
   "cell_type": "code",
   "execution_count": 341,
   "metadata": {},
   "outputs": [
    {
     "data": {
      "application/vnd.plotly.v1+json": {
       "config": {
        "plotlyServerURL": "https://plot.ly"
       },
       "data": [
        {
         "hoverinfo": "text",
         "hovertext": [
          "Date: 2020-06-18<br>Incremental Tests: 11.811 K<br>Data Quality Grade: B",
          "Date: 2020-06-17<br>Incremental Tests: 5.299 K<br>Data Quality Grade: B",
          "Date: 2020-06-16<br>Incremental Tests: 2.75 K<br>Data Quality Grade: B",
          "Date: 2020-06-15<br>Incremental Tests: 5.219 K<br>Data Quality Grade: B",
          "Date: 2020-06-14<br>Incremental Tests: 4.203 K<br>Data Quality Grade: B",
          "Date: 2020-06-13<br>Incremental Tests: 6.867 K<br>Data Quality Grade: B",
          "Date: 2020-06-12<br>Incremental Tests: 7.559 K<br>Data Quality Grade: B",
          "Date: 2020-06-11<br>Incremental Tests: 5.769 K<br>Data Quality Grade: B",
          "Date: 2020-06-10<br>Incremental Tests: 5.318 K<br>Data Quality Grade: B",
          "Date: 2020-06-09<br>Incremental Tests: 7.748 K<br>Data Quality Grade: B",
          "Date: 2020-06-08<br>Incremental Tests: 0.425 K<br>Data Quality Grade: B",
          "Date: 2020-06-07<br>Incremental Tests: 13.922 K<br>Data Quality Grade: B",
          "Date: 2020-06-06<br>Incremental Tests: 6.171 K<br>Data Quality Grade: B",
          "Date: 2020-06-05<br>Incremental Tests: 4.174 K<br>Data Quality Grade: B",
          "Date: 2020-06-04<br>Incremental Tests: 3.705 K<br>Data Quality Grade: B",
          "Date: 2020-06-03<br>Incremental Tests: 7.792 K<br>Data Quality Grade: B",
          "Date: 2020-06-02<br>Incremental Tests: 0.279 K<br>Data Quality Grade: B",
          "Date: 2020-06-01<br>Incremental Tests: 5.97 K<br>Data Quality Grade: B",
          "Date: 2020-05-31<br>Incremental Tests: 5.352 K<br>Data Quality Grade: B",
          "Date: 2020-05-30<br>Incremental Tests: 3.318 K<br>Data Quality Grade: B",
          "Date: 2020-05-29<br>Incremental Tests: 8.402 K<br>Data Quality Grade: B",
          "Date: 2020-05-28<br>Incremental Tests: 4.687 K<br>Data Quality Grade: B",
          "Date: 2020-05-27<br>Incremental Tests: 2.035 K<br>Data Quality Grade: B",
          "Date: 2020-05-26<br>Incremental Tests: 3.444 K<br>Data Quality Grade: B",
          "Date: 2020-05-25<br>Incremental Tests: 4.516 K<br>Data Quality Grade: B",
          "Date: 2020-05-24<br>Incremental Tests: 3.123 K<br>Data Quality Grade: B",
          "Date: 2020-05-23<br>Incremental Tests: 4.908 K<br>Data Quality Grade: B",
          "Date: 2020-05-22<br>Incremental Tests: 7.029 K<br>Data Quality Grade: B",
          "Date: 2020-05-21<br>Incremental Tests: 6.289 K<br>Data Quality Grade: B",
          "Date: 2020-05-20<br>Incremental Tests: 6.884 K<br>Data Quality Grade: B",
          "Date: 2020-05-19<br>Incremental Tests: 0.443 K<br>Data Quality Grade: B",
          "Date: 2020-05-18<br>Incremental Tests: 0.773 K<br>Data Quality Grade: B",
          "Date: 2020-05-17<br>Incremental Tests: 2.856 K<br>Data Quality Grade: B",
          "Date: 2020-05-16<br>Incremental Tests: 7.431 K<br>Data Quality Grade: B",
          "Date: 2020-05-15<br>Incremental Tests: 4.078 K<br>Data Quality Grade: B",
          "Date: 2020-05-14<br>Incremental Tests: 5.613 K<br>Data Quality Grade: B",
          "Date: 2020-05-13<br>Incremental Tests: 3.154 K<br>Data Quality Grade: B",
          "Date: 2020-05-12<br>Incremental Tests: 3.774 K<br>Data Quality Grade: B",
          "Date: 2020-05-11<br>Incremental Tests: 2.023 K<br>Data Quality Grade: B",
          "Date: 2020-05-10<br>Incremental Tests: 1.927 K<br>Data Quality Grade: B",
          "Date: 2020-05-09<br>Incremental Tests: 5.38 K<br>Data Quality Grade: B",
          "Date: 2020-05-08<br>Incremental Tests: 4.941 K<br>Data Quality Grade: B",
          "Date: 2020-05-07<br>Incremental Tests: 5.657 K<br>Data Quality Grade: B",
          "Date: 2020-05-06<br>Incremental Tests: 2.75 K<br>Data Quality Grade: B",
          "Date: 2020-05-05<br>Incremental Tests: 3.649 K<br>Data Quality Grade: B",
          "Date: 2020-05-04<br>Incremental Tests: 10.617 K<br>Data Quality Grade: B",
          "Date: 2020-05-03<br>Incremental Tests: 0.291 K<br>Data Quality Grade: B",
          "Date: 2020-05-02<br>Incremental Tests: 0.276 K<br>Data Quality Grade: B",
          "Date: 2020-05-01<br>Incremental Tests: 4.737 K<br>Data Quality Grade: B",
          "Date: 2020-04-30<br>Incremental Tests: 6.747 K<br>Data Quality Grade: B",
          "Date: 2020-04-29<br>Incremental Tests: 4.622 K<br>Data Quality Grade: B",
          "Date: 2020-04-28<br>Incremental Tests: 1.83 K<br>Data Quality Grade: B",
          "Date: 2020-04-27<br>Incremental Tests: 0.446 K<br>Data Quality Grade: B",
          "Date: 2020-04-26<br>Incremental Tests: 2.207 K<br>Data Quality Grade: B",
          "Date: 2020-04-25<br>Incremental Tests: 18.649 K<br>Data Quality Grade: B",
          "Date: 2020-04-24<br>Incremental Tests: 0.054 K<br>Data Quality Grade: B",
          "Date: 2020-04-23<br>Incremental Tests: 3.881 K<br>Data Quality Grade: B",
          "Date: 2020-04-22<br>Incremental Tests: 0.234 K<br>Data Quality Grade: B",
          "Date: 2020-04-21<br>Incremental Tests: 2.626 K<br>Data Quality Grade: B",
          "Date: 2020-04-20<br>Incremental Tests: 0.188 K<br>Data Quality Grade: B",
          "Date: 2020-04-19<br>Incremental Tests: 3.174 K<br>Data Quality Grade: B",
          "Date: 2020-04-18<br>Incremental Tests: 4.69 K<br>Data Quality Grade: B",
          "Date: 2020-04-17<br>Incremental Tests: 1.457 K<br>Data Quality Grade: B",
          "Date: 2020-04-16<br>Incremental Tests: 2.314 K<br>Data Quality Grade: B",
          "Date: 2020-04-15<br>Incremental Tests: 0.96 K<br>Data Quality Grade: B",
          "Date: 2020-04-14<br>Incremental Tests: 3.935 K<br>Data Quality Grade: B",
          "Date: 2020-04-13<br>Incremental Tests: 7.599 K<br>Data Quality Grade: B",
          "Date: 2020-04-12<br>Incremental Tests: 0.334 K<br>Data Quality Grade: B",
          "Date: 2020-04-11<br>Incremental Tests: 0.223 K<br>Data Quality Grade: B",
          "Date: 2020-04-10<br>Incremental Tests: 0.199 K<br>Data Quality Grade: B",
          "Date: 2020-04-09<br>Incremental Tests: 1.705 K<br>Data Quality Grade: B",
          "Date: 2020-04-08<br>Incremental Tests: 4.206 K<br>Data Quality Grade: B",
          "Date: 2020-04-07<br>Incremental Tests: 0.151 K<br>Data Quality Grade: B",
          "Date: 2020-04-06<br>Incremental Tests: 1.687 K<br>Data Quality Grade: B",
          "Date: 2020-04-05<br>Incremental Tests: 2.225 K<br>Data Quality Grade: B",
          "Date: 2020-04-04<br>Incremental Tests: 1.234 K<br>Data Quality Grade: B",
          "Date: 2020-04-03<br>Incremental Tests: 0.883 K<br>Data Quality Grade: B",
          "Date: 2020-04-02<br>Incremental Tests: 0.962 K<br>Data Quality Grade: B",
          "Date: 2020-04-01<br>Incremental Tests: 0.495 K<br>Data Quality Grade: B",
          "Date: 2020-03-31<br>Incremental Tests: 0.726 K<br>Data Quality Grade: B",
          "Date: 2020-03-30<br>Incremental Tests: 1.563 K<br>Data Quality Grade: B",
          "Date: 2020-03-29<br>Incremental Tests: 0.11 K<br>Data Quality Grade: B",
          "Date: 2020-03-28<br>Incremental Tests: 0.109 K<br>Data Quality Grade: B",
          "Date: 2020-03-27<br>Incremental Tests: 0.672 K<br>Data Quality Grade: B",
          "Date: 2020-03-26<br>Incremental Tests: 1.287 K<br>Data Quality Grade: C",
          "Date: 2020-03-25<br>Incremental Tests: 0.491 K<br>Data Quality Grade: C",
          "Date: 2020-03-24<br>Incremental Tests: 0.489 K<br>Data Quality Grade: C",
          "Date: 2020-03-23<br>Incremental Tests: 0.23 K<br>Data Quality Grade: C",
          "Date: 2020-03-22<br>Incremental Tests: 1.45 K<br>Data Quality Grade: NA",
          "Date: 2020-03-21<br>Incremental Tests: 0.043 K<br>Data Quality Grade: NA",
          "Date: 2020-03-20<br>Incremental Tests: 0.013 K<br>Data Quality Grade: NA",
          "Date: 2020-03-19<br>Incremental Tests: 0.022 K<br>Data Quality Grade: NA",
          "Date: 2020-03-18<br>Incremental Tests: 0.01 K<br>Data Quality Grade: NA",
          "Date: 2020-03-17<br>Incremental Tests: 0.008 K<br>Data Quality Grade: NA",
          "Date: 2020-03-16<br>Incremental Tests: 0.016 K<br>Data Quality Grade: NA",
          "Date: 2020-03-15<br>Incremental Tests: 0.012 K<br>Data Quality Grade: NA",
          "Date: 2020-03-14<br>Incremental Tests: 0.016 K<br>Data Quality Grade: NA",
          "Date: 2020-03-13<br>Incremental Tests: 0.002 K<br>Data Quality Grade: NA",
          "Date: 2020-03-12<br>Incremental Tests: 0.0 K<br>Data Quality Grade: NA",
          "Date: 2020-03-11<br>Incremental Tests: 0.01 K<br>Data Quality Grade: NA",
          "Date: 2020-03-10<br>Incremental Tests: 0.0 K<br>Data Quality Grade: NA",
          "Date: 2020-03-09<br>Incremental Tests: 0.0 K<br>Data Quality Grade: NA",
          "Date: 2020-03-08<br>Incremental Tests: 0.0 K<br>Data Quality Grade: NA",
          "Date: 2020-03-07<br>Incremental Tests: 0.0 K<br>Data Quality Grade: NA"
         ],
         "marker": {
          "color": [
           "#31a354",
           "#31a354",
           "#31a354",
           "#31a354",
           "#31a354",
           "#31a354",
           "#31a354",
           "#31a354",
           "#31a354",
           "#31a354",
           "#31a354",
           "#31a354",
           "#31a354",
           "#31a354",
           "#31a354",
           "#31a354",
           "#31a354",
           "#31a354",
           "#31a354",
           "#31a354",
           "#31a354",
           "#31a354",
           "#31a354",
           "#31a354",
           "#31a354",
           "#31a354",
           "#31a354",
           "#31a354",
           "#31a354",
           "#31a354",
           "#31a354",
           "#31a354",
           "#31a354",
           "#31a354",
           "#31a354",
           "#31a354",
           "#31a354",
           "#31a354",
           "#31a354",
           "#31a354",
           "#31a354",
           "#31a354",
           "#31a354",
           "#31a354",
           "#31a354",
           "#31a354",
           "#31a354",
           "#31a354",
           "#31a354",
           "#31a354",
           "#31a354",
           "#31a354",
           "#31a354",
           "#31a354",
           "#31a354",
           "#31a354",
           "#31a354",
           "#31a354",
           "#31a354",
           "#31a354",
           "#31a354",
           "#31a354",
           "#31a354",
           "#31a354",
           "#31a354",
           "#31a354",
           "#31a354",
           "#31a354",
           "#31a354",
           "#31a354",
           "#31a354",
           "#31a354",
           "#31a354",
           "#31a354",
           "#31a354",
           "#31a354",
           "#31a354",
           "#31a354",
           "#31a354",
           "#31a354",
           "#31a354",
           "#31a354",
           "#31a354",
           "#31a354",
           "#74c476",
           "#74c476",
           "#74c476",
           "#74c476",
           "#edf8e9",
           "#edf8e9",
           "#edf8e9",
           "#edf8e9",
           "#edf8e9",
           "#edf8e9",
           "#edf8e9",
           "#edf8e9",
           "#edf8e9",
           "#edf8e9",
           "#edf8e9",
           "#edf8e9",
           "#edf8e9",
           "#edf8e9",
           "#edf8e9",
           "#edf8e9"
          ]
         },
         "type": "bar",
         "x": [
          "2020-06-18",
          "2020-06-17",
          "2020-06-16",
          "2020-06-15",
          "2020-06-14",
          "2020-06-13",
          "2020-06-12",
          "2020-06-11",
          "2020-06-10",
          "2020-06-09",
          "2020-06-08",
          "2020-06-07",
          "2020-06-06",
          "2020-06-05",
          "2020-06-04",
          "2020-06-03",
          "2020-06-02",
          "2020-06-01",
          "2020-05-31",
          "2020-05-30",
          "2020-05-29",
          "2020-05-28",
          "2020-05-27",
          "2020-05-26",
          "2020-05-25",
          "2020-05-24",
          "2020-05-23",
          "2020-05-22",
          "2020-05-21",
          "2020-05-20",
          "2020-05-19",
          "2020-05-18",
          "2020-05-17",
          "2020-05-16",
          "2020-05-15",
          "2020-05-14",
          "2020-05-13",
          "2020-05-12",
          "2020-05-11",
          "2020-05-10",
          "2020-05-09",
          "2020-05-08",
          "2020-05-07",
          "2020-05-06",
          "2020-05-05",
          "2020-05-04",
          "2020-05-03",
          "2020-05-02",
          "2020-05-01",
          "2020-04-30",
          "2020-04-29",
          "2020-04-28",
          "2020-04-27",
          "2020-04-26",
          "2020-04-25",
          "2020-04-24",
          "2020-04-23",
          "2020-04-22",
          "2020-04-21",
          "2020-04-20",
          "2020-04-19",
          "2020-04-18",
          "2020-04-17",
          "2020-04-16",
          "2020-04-15",
          "2020-04-14",
          "2020-04-13",
          "2020-04-12",
          "2020-04-11",
          "2020-04-10",
          "2020-04-09",
          "2020-04-08",
          "2020-04-07",
          "2020-04-06",
          "2020-04-05",
          "2020-04-04",
          "2020-04-03",
          "2020-04-02",
          "2020-04-01",
          "2020-03-31",
          "2020-03-30",
          "2020-03-29",
          "2020-03-28",
          "2020-03-27",
          "2020-03-26",
          "2020-03-25",
          "2020-03-24",
          "2020-03-23",
          "2020-03-22",
          "2020-03-21",
          "2020-03-20",
          "2020-03-19",
          "2020-03-18",
          "2020-03-17",
          "2020-03-16",
          "2020-03-15",
          "2020-03-14",
          "2020-03-13",
          "2020-03-12",
          "2020-03-11",
          "2020-03-10",
          "2020-03-09",
          "2020-03-08",
          "2020-03-07"
         ],
         "y": [
          11811,
          5299,
          2750,
          5219,
          4203,
          6867,
          7559,
          5769,
          5318,
          7748,
          425,
          13922,
          6171,
          4174,
          3705,
          7792,
          279,
          5970,
          5352,
          3318,
          8402,
          4687,
          2035,
          3444,
          4516,
          3123,
          4908,
          7029,
          6289,
          6884,
          443,
          773,
          2856,
          7431,
          4078,
          5613,
          3154,
          3774,
          2023,
          1927,
          5380,
          4941,
          5657,
          2750,
          3649,
          10617,
          291,
          276,
          4737,
          6747,
          4622,
          1830,
          446,
          2207,
          18649,
          54,
          3881,
          234,
          2626,
          188,
          3174,
          4690,
          1457,
          2314,
          960,
          3935,
          7599,
          334,
          223,
          199,
          1705,
          4206,
          151,
          1687,
          2225,
          1234,
          883,
          962,
          495,
          726,
          1563,
          110,
          109,
          672,
          1287,
          491,
          489,
          230,
          1450,
          43,
          13,
          22,
          10,
          8,
          16,
          12,
          16,
          2,
          0,
          10,
          0,
          0,
          0,
          0
         ]
        }
       ],
       "layout": {
        "autosize": true,
        "hovermode": "closest",
        "margin": {
         "b": 40,
         "l": 40,
         "r": 0,
         "t": 10
        },
        "template": {
         "data": {
          "bar": [
           {
            "error_x": {
             "color": "#2a3f5f"
            },
            "error_y": {
             "color": "#2a3f5f"
            },
            "marker": {
             "line": {
              "color": "#E5ECF6",
              "width": 0.5
             }
            },
            "type": "bar"
           }
          ],
          "barpolar": [
           {
            "marker": {
             "line": {
              "color": "#E5ECF6",
              "width": 0.5
             }
            },
            "type": "barpolar"
           }
          ],
          "carpet": [
           {
            "aaxis": {
             "endlinecolor": "#2a3f5f",
             "gridcolor": "white",
             "linecolor": "white",
             "minorgridcolor": "white",
             "startlinecolor": "#2a3f5f"
            },
            "baxis": {
             "endlinecolor": "#2a3f5f",
             "gridcolor": "white",
             "linecolor": "white",
             "minorgridcolor": "white",
             "startlinecolor": "#2a3f5f"
            },
            "type": "carpet"
           }
          ],
          "choropleth": [
           {
            "colorbar": {
             "outlinewidth": 0,
             "ticks": ""
            },
            "type": "choropleth"
           }
          ],
          "contour": [
           {
            "colorbar": {
             "outlinewidth": 0,
             "ticks": ""
            },
            "colorscale": [
             [
              0,
              "#0d0887"
             ],
             [
              0.1111111111111111,
              "#46039f"
             ],
             [
              0.2222222222222222,
              "#7201a8"
             ],
             [
              0.3333333333333333,
              "#9c179e"
             ],
             [
              0.4444444444444444,
              "#bd3786"
             ],
             [
              0.5555555555555556,
              "#d8576b"
             ],
             [
              0.6666666666666666,
              "#ed7953"
             ],
             [
              0.7777777777777778,
              "#fb9f3a"
             ],
             [
              0.8888888888888888,
              "#fdca26"
             ],
             [
              1,
              "#f0f921"
             ]
            ],
            "type": "contour"
           }
          ],
          "contourcarpet": [
           {
            "colorbar": {
             "outlinewidth": 0,
             "ticks": ""
            },
            "type": "contourcarpet"
           }
          ],
          "heatmap": [
           {
            "colorbar": {
             "outlinewidth": 0,
             "ticks": ""
            },
            "colorscale": [
             [
              0,
              "#0d0887"
             ],
             [
              0.1111111111111111,
              "#46039f"
             ],
             [
              0.2222222222222222,
              "#7201a8"
             ],
             [
              0.3333333333333333,
              "#9c179e"
             ],
             [
              0.4444444444444444,
              "#bd3786"
             ],
             [
              0.5555555555555556,
              "#d8576b"
             ],
             [
              0.6666666666666666,
              "#ed7953"
             ],
             [
              0.7777777777777778,
              "#fb9f3a"
             ],
             [
              0.8888888888888888,
              "#fdca26"
             ],
             [
              1,
              "#f0f921"
             ]
            ],
            "type": "heatmap"
           }
          ],
          "heatmapgl": [
           {
            "colorbar": {
             "outlinewidth": 0,
             "ticks": ""
            },
            "colorscale": [
             [
              0,
              "#0d0887"
             ],
             [
              0.1111111111111111,
              "#46039f"
             ],
             [
              0.2222222222222222,
              "#7201a8"
             ],
             [
              0.3333333333333333,
              "#9c179e"
             ],
             [
              0.4444444444444444,
              "#bd3786"
             ],
             [
              0.5555555555555556,
              "#d8576b"
             ],
             [
              0.6666666666666666,
              "#ed7953"
             ],
             [
              0.7777777777777778,
              "#fb9f3a"
             ],
             [
              0.8888888888888888,
              "#fdca26"
             ],
             [
              1,
              "#f0f921"
             ]
            ],
            "type": "heatmapgl"
           }
          ],
          "histogram": [
           {
            "marker": {
             "colorbar": {
              "outlinewidth": 0,
              "ticks": ""
             }
            },
            "type": "histogram"
           }
          ],
          "histogram2d": [
           {
            "colorbar": {
             "outlinewidth": 0,
             "ticks": ""
            },
            "colorscale": [
             [
              0,
              "#0d0887"
             ],
             [
              0.1111111111111111,
              "#46039f"
             ],
             [
              0.2222222222222222,
              "#7201a8"
             ],
             [
              0.3333333333333333,
              "#9c179e"
             ],
             [
              0.4444444444444444,
              "#bd3786"
             ],
             [
              0.5555555555555556,
              "#d8576b"
             ],
             [
              0.6666666666666666,
              "#ed7953"
             ],
             [
              0.7777777777777778,
              "#fb9f3a"
             ],
             [
              0.8888888888888888,
              "#fdca26"
             ],
             [
              1,
              "#f0f921"
             ]
            ],
            "type": "histogram2d"
           }
          ],
          "histogram2dcontour": [
           {
            "colorbar": {
             "outlinewidth": 0,
             "ticks": ""
            },
            "colorscale": [
             [
              0,
              "#0d0887"
             ],
             [
              0.1111111111111111,
              "#46039f"
             ],
             [
              0.2222222222222222,
              "#7201a8"
             ],
             [
              0.3333333333333333,
              "#9c179e"
             ],
             [
              0.4444444444444444,
              "#bd3786"
             ],
             [
              0.5555555555555556,
              "#d8576b"
             ],
             [
              0.6666666666666666,
              "#ed7953"
             ],
             [
              0.7777777777777778,
              "#fb9f3a"
             ],
             [
              0.8888888888888888,
              "#fdca26"
             ],
             [
              1,
              "#f0f921"
             ]
            ],
            "type": "histogram2dcontour"
           }
          ],
          "mesh3d": [
           {
            "colorbar": {
             "outlinewidth": 0,
             "ticks": ""
            },
            "type": "mesh3d"
           }
          ],
          "parcoords": [
           {
            "line": {
             "colorbar": {
              "outlinewidth": 0,
              "ticks": ""
             }
            },
            "type": "parcoords"
           }
          ],
          "pie": [
           {
            "automargin": true,
            "type": "pie"
           }
          ],
          "scatter": [
           {
            "marker": {
             "colorbar": {
              "outlinewidth": 0,
              "ticks": ""
             }
            },
            "type": "scatter"
           }
          ],
          "scatter3d": [
           {
            "line": {
             "colorbar": {
              "outlinewidth": 0,
              "ticks": ""
             }
            },
            "marker": {
             "colorbar": {
              "outlinewidth": 0,
              "ticks": ""
             }
            },
            "type": "scatter3d"
           }
          ],
          "scattercarpet": [
           {
            "marker": {
             "colorbar": {
              "outlinewidth": 0,
              "ticks": ""
             }
            },
            "type": "scattercarpet"
           }
          ],
          "scattergeo": [
           {
            "marker": {
             "colorbar": {
              "outlinewidth": 0,
              "ticks": ""
             }
            },
            "type": "scattergeo"
           }
          ],
          "scattergl": [
           {
            "marker": {
             "colorbar": {
              "outlinewidth": 0,
              "ticks": ""
             }
            },
            "type": "scattergl"
           }
          ],
          "scattermapbox": [
           {
            "marker": {
             "colorbar": {
              "outlinewidth": 0,
              "ticks": ""
             }
            },
            "type": "scattermapbox"
           }
          ],
          "scatterpolar": [
           {
            "marker": {
             "colorbar": {
              "outlinewidth": 0,
              "ticks": ""
             }
            },
            "type": "scatterpolar"
           }
          ],
          "scatterpolargl": [
           {
            "marker": {
             "colorbar": {
              "outlinewidth": 0,
              "ticks": ""
             }
            },
            "type": "scatterpolargl"
           }
          ],
          "scatterternary": [
           {
            "marker": {
             "colorbar": {
              "outlinewidth": 0,
              "ticks": ""
             }
            },
            "type": "scatterternary"
           }
          ],
          "surface": [
           {
            "colorbar": {
             "outlinewidth": 0,
             "ticks": ""
            },
            "colorscale": [
             [
              0,
              "#0d0887"
             ],
             [
              0.1111111111111111,
              "#46039f"
             ],
             [
              0.2222222222222222,
              "#7201a8"
             ],
             [
              0.3333333333333333,
              "#9c179e"
             ],
             [
              0.4444444444444444,
              "#bd3786"
             ],
             [
              0.5555555555555556,
              "#d8576b"
             ],
             [
              0.6666666666666666,
              "#ed7953"
             ],
             [
              0.7777777777777778,
              "#fb9f3a"
             ],
             [
              0.8888888888888888,
              "#fdca26"
             ],
             [
              1,
              "#f0f921"
             ]
            ],
            "type": "surface"
           }
          ],
          "table": [
           {
            "cells": {
             "fill": {
              "color": "#EBF0F8"
             },
             "line": {
              "color": "white"
             }
            },
            "header": {
             "fill": {
              "color": "#C8D4E3"
             },
             "line": {
              "color": "white"
             }
            },
            "type": "table"
           }
          ]
         },
         "layout": {
          "annotationdefaults": {
           "arrowcolor": "#2a3f5f",
           "arrowhead": 0,
           "arrowwidth": 1
          },
          "coloraxis": {
           "colorbar": {
            "outlinewidth": 0,
            "ticks": ""
           }
          },
          "colorscale": {
           "diverging": [
            [
             0,
             "#8e0152"
            ],
            [
             0.1,
             "#c51b7d"
            ],
            [
             0.2,
             "#de77ae"
            ],
            [
             0.3,
             "#f1b6da"
            ],
            [
             0.4,
             "#fde0ef"
            ],
            [
             0.5,
             "#f7f7f7"
            ],
            [
             0.6,
             "#e6f5d0"
            ],
            [
             0.7,
             "#b8e186"
            ],
            [
             0.8,
             "#7fbc41"
            ],
            [
             0.9,
             "#4d9221"
            ],
            [
             1,
             "#276419"
            ]
           ],
           "sequential": [
            [
             0,
             "#0d0887"
            ],
            [
             0.1111111111111111,
             "#46039f"
            ],
            [
             0.2222222222222222,
             "#7201a8"
            ],
            [
             0.3333333333333333,
             "#9c179e"
            ],
            [
             0.4444444444444444,
             "#bd3786"
            ],
            [
             0.5555555555555556,
             "#d8576b"
            ],
            [
             0.6666666666666666,
             "#ed7953"
            ],
            [
             0.7777777777777778,
             "#fb9f3a"
            ],
            [
             0.8888888888888888,
             "#fdca26"
            ],
            [
             1,
             "#f0f921"
            ]
           ],
           "sequentialminus": [
            [
             0,
             "#0d0887"
            ],
            [
             0.1111111111111111,
             "#46039f"
            ],
            [
             0.2222222222222222,
             "#7201a8"
            ],
            [
             0.3333333333333333,
             "#9c179e"
            ],
            [
             0.4444444444444444,
             "#bd3786"
            ],
            [
             0.5555555555555556,
             "#d8576b"
            ],
            [
             0.6666666666666666,
             "#ed7953"
            ],
            [
             0.7777777777777778,
             "#fb9f3a"
            ],
            [
             0.8888888888888888,
             "#fdca26"
            ],
            [
             1,
             "#f0f921"
            ]
           ]
          },
          "colorway": [
           "#636efa",
           "#EF553B",
           "#00cc96",
           "#ab63fa",
           "#FFA15A",
           "#19d3f3",
           "#FF6692",
           "#B6E880",
           "#FF97FF",
           "#FECB52"
          ],
          "font": {
           "color": "#2a3f5f"
          },
          "geo": {
           "bgcolor": "white",
           "lakecolor": "white",
           "landcolor": "#E5ECF6",
           "showlakes": true,
           "showland": true,
           "subunitcolor": "white"
          },
          "hoverlabel": {
           "align": "left"
          },
          "hovermode": "closest",
          "mapbox": {
           "style": "light"
          },
          "paper_bgcolor": "white",
          "plot_bgcolor": "#E5ECF6",
          "polar": {
           "angularaxis": {
            "gridcolor": "white",
            "linecolor": "white",
            "ticks": ""
           },
           "bgcolor": "#E5ECF6",
           "radialaxis": {
            "gridcolor": "white",
            "linecolor": "white",
            "ticks": ""
           }
          },
          "scene": {
           "xaxis": {
            "backgroundcolor": "#E5ECF6",
            "gridcolor": "white",
            "gridwidth": 2,
            "linecolor": "white",
            "showbackground": true,
            "ticks": "",
            "zerolinecolor": "white"
           },
           "yaxis": {
            "backgroundcolor": "#E5ECF6",
            "gridcolor": "white",
            "gridwidth": 2,
            "linecolor": "white",
            "showbackground": true,
            "ticks": "",
            "zerolinecolor": "white"
           },
           "zaxis": {
            "backgroundcolor": "#E5ECF6",
            "gridcolor": "white",
            "gridwidth": 2,
            "linecolor": "white",
            "showbackground": true,
            "ticks": "",
            "zerolinecolor": "white"
           }
          },
          "shapedefaults": {
           "line": {
            "color": "#2a3f5f"
           }
          },
          "ternary": {
           "aaxis": {
            "gridcolor": "white",
            "linecolor": "white",
            "ticks": ""
           },
           "baxis": {
            "gridcolor": "white",
            "linecolor": "white",
            "ticks": ""
           },
           "bgcolor": "#E5ECF6",
           "caxis": {
            "gridcolor": "white",
            "linecolor": "white",
            "ticks": ""
           }
          },
          "title": {
           "x": 0.05
          },
          "xaxis": {
           "automargin": true,
           "gridcolor": "white",
           "linecolor": "white",
           "ticks": "",
           "title": {
            "standoff": 15
           },
           "zerolinecolor": "white",
           "zerolinewidth": 2
          },
          "yaxis": {
           "automargin": true,
           "gridcolor": "white",
           "linecolor": "white",
           "ticks": "",
           "title": {
            "standoff": 15
           },
           "zerolinecolor": "white",
           "zerolinewidth": 2
          }
         }
        },
        "xaxis": {
         "autorange": true,
         "range": [
          "2020-03-06 12:00",
          "2020-06-18 12:00"
         ],
         "title": {
          "text": "Date"
         },
         "type": "date"
        },
        "yaxis": {
         "autorange": true,
         "range": [
          0,
          19630.526315789473
         ],
         "title": {
          "text": "Tests Administered"
         },
         "type": "linear"
        }
       }
      },
      "image/png": "[encoded data removed]",
      "text/html": [
       "<div>\n",
       "        \n",
       "        \n",
       "            <div id=\"7eafe218-d43b-498c-a8e8-1f1ec76348e0\" class=\"plotly-graph-div\" style=\"height:525px; width:100%;\"></div>\n",
       "            <script type=\"text/javascript\">\n",
       "                require([\"plotly\"], function(Plotly) {\n",
       "                    window.PLOTLYENV=window.PLOTLYENV || {};\n",
       "                    \n",
       "                if (document.getElementById(\"7eafe218-d43b-498c-a8e8-1f1ec76348e0\")) {\n",
       "                    Plotly.newPlot(\n",
       "                        '7eafe218-d43b-498c-a8e8-1f1ec76348e0',\n",
       "                        [{\"hoverinfo\": \"text\", \"hovertext\": [\"Date: 2020-06-18<br>Incremental Tests: 11.811 K<br>Data Quality Grade: B\", \"Date: 2020-06-17<br>Incremental Tests: 5.299 K<br>Data Quality Grade: B\", \"Date: 2020-06-16<br>Incremental Tests: 2.75 K<br>Data Quality Grade: B\", \"Date: 2020-06-15<br>Incremental Tests: 5.219 K<br>Data Quality Grade: B\", \"Date: 2020-06-14<br>Incremental Tests: 4.203 K<br>Data Quality Grade: B\", \"Date: 2020-06-13<br>Incremental Tests: 6.867 K<br>Data Quality Grade: B\", \"Date: 2020-06-12<br>Incremental Tests: 7.559 K<br>Data Quality Grade: B\", \"Date: 2020-06-11<br>Incremental Tests: 5.769 K<br>Data Quality Grade: B\", \"Date: 2020-06-10<br>Incremental Tests: 5.318 K<br>Data Quality Grade: B\", \"Date: 2020-06-09<br>Incremental Tests: 7.748 K<br>Data Quality Grade: B\", \"Date: 2020-06-08<br>Incremental Tests: 0.425 K<br>Data Quality Grade: B\", \"Date: 2020-06-07<br>Incremental Tests: 13.922 K<br>Data Quality Grade: B\", \"Date: 2020-06-06<br>Incremental Tests: 6.171 K<br>Data Quality Grade: B\", \"Date: 2020-06-05<br>Incremental Tests: 4.174 K<br>Data Quality Grade: B\", \"Date: 2020-06-04<br>Incremental Tests: 3.705 K<br>Data Quality Grade: B\", \"Date: 2020-06-03<br>Incremental Tests: 7.792 K<br>Data Quality Grade: B\", \"Date: 2020-06-02<br>Incremental Tests: 0.279 K<br>Data Quality Grade: B\", \"Date: 2020-06-01<br>Incremental Tests: 5.97 K<br>Data Quality Grade: B\", \"Date: 2020-05-31<br>Incremental Tests: 5.352 K<br>Data Quality Grade: B\", \"Date: 2020-05-30<br>Incremental Tests: 3.318 K<br>Data Quality Grade: B\", \"Date: 2020-05-29<br>Incremental Tests: 8.402 K<br>Data Quality Grade: B\", \"Date: 2020-05-28<br>Incremental Tests: 4.687 K<br>Data Quality Grade: B\", \"Date: 2020-05-27<br>Incremental Tests: 2.035 K<br>Data Quality Grade: B\", \"Date: 2020-05-26<br>Incremental Tests: 3.444 K<br>Data Quality Grade: B\", \"Date: 2020-05-25<br>Incremental Tests: 4.516 K<br>Data Quality Grade: B\", \"Date: 2020-05-24<br>Incremental Tests: 3.123 K<br>Data Quality Grade: B\", \"Date: 2020-05-23<br>Incremental Tests: 4.908 K<br>Data Quality Grade: B\", \"Date: 2020-05-22<br>Incremental Tests: 7.029 K<br>Data Quality Grade: B\", \"Date: 2020-05-21<br>Incremental Tests: 6.289 K<br>Data Quality Grade: B\", \"Date: 2020-05-20<br>Incremental Tests: 6.884 K<br>Data Quality Grade: B\", \"Date: 2020-05-19<br>Incremental Tests: 0.443 K<br>Data Quality Grade: B\", \"Date: 2020-05-18<br>Incremental Tests: 0.773 K<br>Data Quality Grade: B\", \"Date: 2020-05-17<br>Incremental Tests: 2.856 K<br>Data Quality Grade: B\", \"Date: 2020-05-16<br>Incremental Tests: 7.431 K<br>Data Quality Grade: B\", \"Date: 2020-05-15<br>Incremental Tests: 4.078 K<br>Data Quality Grade: B\", \"Date: 2020-05-14<br>Incremental Tests: 5.613 K<br>Data Quality Grade: B\", \"Date: 2020-05-13<br>Incremental Tests: 3.154 K<br>Data Quality Grade: B\", \"Date: 2020-05-12<br>Incremental Tests: 3.774 K<br>Data Quality Grade: B\", \"Date: 2020-05-11<br>Incremental Tests: 2.023 K<br>Data Quality Grade: B\", \"Date: 2020-05-10<br>Incremental Tests: 1.927 K<br>Data Quality Grade: B\", \"Date: 2020-05-09<br>Incremental Tests: 5.38 K<br>Data Quality Grade: B\", \"Date: 2020-05-08<br>Incremental Tests: 4.941 K<br>Data Quality Grade: B\", \"Date: 2020-05-07<br>Incremental Tests: 5.657 K<br>Data Quality Grade: B\", \"Date: 2020-05-06<br>Incremental Tests: 2.75 K<br>Data Quality Grade: B\", \"Date: 2020-05-05<br>Incremental Tests: 3.649 K<br>Data Quality Grade: B\", \"Date: 2020-05-04<br>Incremental Tests: 10.617 K<br>Data Quality Grade: B\", \"Date: 2020-05-03<br>Incremental Tests: 0.291 K<br>Data Quality Grade: B\", \"Date: 2020-05-02<br>Incremental Tests: 0.276 K<br>Data Quality Grade: B\", \"Date: 2020-05-01<br>Incremental Tests: 4.737 K<br>Data Quality Grade: B\", \"Date: 2020-04-30<br>Incremental Tests: 6.747 K<br>Data Quality Grade: B\", \"Date: 2020-04-29<br>Incremental Tests: 4.622 K<br>Data Quality Grade: B\", \"Date: 2020-04-28<br>Incremental Tests: 1.83 K<br>Data Quality Grade: B\", \"Date: 2020-04-27<br>Incremental Tests: 0.446 K<br>Data Quality Grade: B\", \"Date: 2020-04-26<br>Incremental Tests: 2.207 K<br>Data Quality Grade: B\", \"Date: 2020-04-25<br>Incremental Tests: 18.649 K<br>Data Quality Grade: B\", \"Date: 2020-04-24<br>Incremental Tests: 0.054 K<br>Data Quality Grade: B\", \"Date: 2020-04-23<br>Incremental Tests: 3.881 K<br>Data Quality Grade: B\", \"Date: 2020-04-22<br>Incremental Tests: 0.234 K<br>Data Quality Grade: B\", \"Date: 2020-04-21<br>Incremental Tests: 2.626 K<br>Data Quality Grade: B\", \"Date: 2020-04-20<br>Incremental Tests: 0.188 K<br>Data Quality Grade: B\", \"Date: 2020-04-19<br>Incremental Tests: 3.174 K<br>Data Quality Grade: B\", \"Date: 2020-04-18<br>Incremental Tests: 4.69 K<br>Data Quality Grade: B\", \"Date: 2020-04-17<br>Incremental Tests: 1.457 K<br>Data Quality Grade: B\", \"Date: 2020-04-16<br>Incremental Tests: 2.314 K<br>Data Quality Grade: B\", \"Date: 2020-04-15<br>Incremental Tests: 0.96 K<br>Data Quality Grade: B\", \"Date: 2020-04-14<br>Incremental Tests: 3.935 K<br>Data Quality Grade: B\", \"Date: 2020-04-13<br>Incremental Tests: 7.599 K<br>Data Quality Grade: B\", \"Date: 2020-04-12<br>Incremental Tests: 0.334 K<br>Data Quality Grade: B\", \"Date: 2020-04-11<br>Incremental Tests: 0.223 K<br>Data Quality Grade: B\", \"Date: 2020-04-10<br>Incremental Tests: 0.199 K<br>Data Quality Grade: B\", \"Date: 2020-04-09<br>Incremental Tests: 1.705 K<br>Data Quality Grade: B\", \"Date: 2020-04-08<br>Incremental Tests: 4.206 K<br>Data Quality Grade: B\", \"Date: 2020-04-07<br>Incremental Tests: 0.151 K<br>Data Quality Grade: B\", \"Date: 2020-04-06<br>Incremental Tests: 1.687 K<br>Data Quality Grade: B\", \"Date: 2020-04-05<br>Incremental Tests: 2.225 K<br>Data Quality Grade: B\", \"Date: 2020-04-04<br>Incremental Tests: 1.234 K<br>Data Quality Grade: B\", \"Date: 2020-04-03<br>Incremental Tests: 0.883 K<br>Data Quality Grade: B\", \"Date: 2020-04-02<br>Incremental Tests: 0.962 K<br>Data Quality Grade: B\", \"Date: 2020-04-01<br>Incremental Tests: 0.495 K<br>Data Quality Grade: B\", \"Date: 2020-03-31<br>Incremental Tests: 0.726 K<br>Data Quality Grade: B\", \"Date: 2020-03-30<br>Incremental Tests: 1.563 K<br>Data Quality Grade: B\", \"Date: 2020-03-29<br>Incremental Tests: 0.11 K<br>Data Quality Grade: B\", \"Date: 2020-03-28<br>Incremental Tests: 0.109 K<br>Data Quality Grade: B\", \"Date: 2020-03-27<br>Incremental Tests: 0.672 K<br>Data Quality Grade: B\", \"Date: 2020-03-26<br>Incremental Tests: 1.287 K<br>Data Quality Grade: C\", \"Date: 2020-03-25<br>Incremental Tests: 0.491 K<br>Data Quality Grade: C\", \"Date: 2020-03-24<br>Incremental Tests: 0.489 K<br>Data Quality Grade: C\", \"Date: 2020-03-23<br>Incremental Tests: 0.23 K<br>Data Quality Grade: C\", \"Date: 2020-03-22<br>Incremental Tests: 1.45 K<br>Data Quality Grade: NA\", \"Date: 2020-03-21<br>Incremental Tests: 0.043 K<br>Data Quality Grade: NA\", \"Date: 2020-03-20<br>Incremental Tests: 0.013 K<br>Data Quality Grade: NA\", \"Date: 2020-03-19<br>Incremental Tests: 0.022 K<br>Data Quality Grade: NA\", \"Date: 2020-03-18<br>Incremental Tests: 0.01 K<br>Data Quality Grade: NA\", \"Date: 2020-03-17<br>Incremental Tests: 0.008 K<br>Data Quality Grade: NA\", \"Date: 2020-03-16<br>Incremental Tests: 0.016 K<br>Data Quality Grade: NA\", \"Date: 2020-03-15<br>Incremental Tests: 0.012 K<br>Data Quality Grade: NA\", \"Date: 2020-03-14<br>Incremental Tests: 0.016 K<br>Data Quality Grade: NA\", \"Date: 2020-03-13<br>Incremental Tests: 0.002 K<br>Data Quality Grade: NA\", \"Date: 2020-03-12<br>Incremental Tests: 0.0 K<br>Data Quality Grade: NA\", \"Date: 2020-03-11<br>Incremental Tests: 0.01 K<br>Data Quality Grade: NA\", \"Date: 2020-03-10<br>Incremental Tests: 0.0 K<br>Data Quality Grade: NA\", \"Date: 2020-03-09<br>Incremental Tests: 0.0 K<br>Data Quality Grade: NA\", \"Date: 2020-03-08<br>Incremental Tests: 0.0 K<br>Data Quality Grade: NA\", \"Date: 2020-03-07<br>Incremental Tests: 0.0 K<br>Data Quality Grade: NA\"], \"marker\": {\"color\": [\"#31a354\", \"#31a354\", \"#31a354\", \"#31a354\", \"#31a354\", \"#31a354\", \"#31a354\", \"#31a354\", \"#31a354\", \"#31a354\", \"#31a354\", \"#31a354\", \"#31a354\", \"#31a354\", \"#31a354\", \"#31a354\", \"#31a354\", \"#31a354\", \"#31a354\", \"#31a354\", \"#31a354\", \"#31a354\", \"#31a354\", \"#31a354\", \"#31a354\", \"#31a354\", \"#31a354\", \"#31a354\", \"#31a354\", \"#31a354\", \"#31a354\", \"#31a354\", \"#31a354\", \"#31a354\", \"#31a354\", \"#31a354\", \"#31a354\", \"#31a354\", \"#31a354\", \"#31a354\", \"#31a354\", \"#31a354\", \"#31a354\", \"#31a354\", \"#31a354\", \"#31a354\", \"#31a354\", \"#31a354\", \"#31a354\", \"#31a354\", \"#31a354\", \"#31a354\", \"#31a354\", \"#31a354\", \"#31a354\", \"#31a354\", \"#31a354\", \"#31a354\", \"#31a354\", \"#31a354\", \"#31a354\", \"#31a354\", \"#31a354\", \"#31a354\", \"#31a354\", \"#31a354\", \"#31a354\", \"#31a354\", \"#31a354\", \"#31a354\", \"#31a354\", \"#31a354\", \"#31a354\", \"#31a354\", \"#31a354\", \"#31a354\", \"#31a354\", \"#31a354\", \"#31a354\", \"#31a354\", \"#31a354\", \"#31a354\", \"#31a354\", \"#31a354\", \"#74c476\", \"#74c476\", \"#74c476\", \"#74c476\", \"#edf8e9\", \"#edf8e9\", \"#edf8e9\", \"#edf8e9\", \"#edf8e9\", \"#edf8e9\", \"#edf8e9\", \"#edf8e9\", \"#edf8e9\", \"#edf8e9\", \"#edf8e9\", \"#edf8e9\", \"#edf8e9\", \"#edf8e9\", \"#edf8e9\", \"#edf8e9\"]}, \"type\": \"bar\", \"x\": [\"2020-06-18\", \"2020-06-17\", \"2020-06-16\", \"2020-06-15\", \"2020-06-14\", \"2020-06-13\", \"2020-06-12\", \"2020-06-11\", \"2020-06-10\", \"2020-06-09\", \"2020-06-08\", \"2020-06-07\", \"2020-06-06\", \"2020-06-05\", \"2020-06-04\", \"2020-06-03\", \"2020-06-02\", \"2020-06-01\", \"2020-05-31\", \"2020-05-30\", \"2020-05-29\", \"2020-05-28\", \"2020-05-27\", \"2020-05-26\", \"2020-05-25\", \"2020-05-24\", \"2020-05-23\", \"2020-05-22\", \"2020-05-21\", \"2020-05-20\", \"2020-05-19\", \"2020-05-18\", \"2020-05-17\", \"2020-05-16\", \"2020-05-15\", \"2020-05-14\", \"2020-05-13\", \"2020-05-12\", \"2020-05-11\", \"2020-05-10\", \"2020-05-09\", \"2020-05-08\", \"2020-05-07\", \"2020-05-06\", \"2020-05-05\", \"2020-05-04\", \"2020-05-03\", \"2020-05-02\", \"2020-05-01\", \"2020-04-30\", \"2020-04-29\", \"2020-04-28\", \"2020-04-27\", \"2020-04-26\", \"2020-04-25\", \"2020-04-24\", \"2020-04-23\", \"2020-04-22\", \"2020-04-21\", \"2020-04-20\", \"2020-04-19\", \"2020-04-18\", \"2020-04-17\", \"2020-04-16\", \"2020-04-15\", \"2020-04-14\", \"2020-04-13\", \"2020-04-12\", \"2020-04-11\", \"2020-04-10\", \"2020-04-09\", \"2020-04-08\", \"2020-04-07\", \"2020-04-06\", \"2020-04-05\", \"2020-04-04\", \"2020-04-03\", \"2020-04-02\", \"2020-04-01\", \"2020-03-31\", \"2020-03-30\", \"2020-03-29\", \"2020-03-28\", \"2020-03-27\", \"2020-03-26\", \"2020-03-25\", \"2020-03-24\", \"2020-03-23\", \"2020-03-22\", \"2020-03-21\", \"2020-03-20\", \"2020-03-19\", \"2020-03-18\", \"2020-03-17\", \"2020-03-16\", \"2020-03-15\", \"2020-03-14\", \"2020-03-13\", \"2020-03-12\", \"2020-03-11\", \"2020-03-10\", \"2020-03-09\", \"2020-03-08\", \"2020-03-07\"], \"y\": [11811, 5299, 2750, 5219, 4203, 6867, 7559, 5769, 5318, 7748, 425, 13922, 6171, 4174, 3705, 7792, 279, 5970, 5352, 3318, 8402, 4687, 2035, 3444, 4516, 3123, 4908, 7029, 6289, 6884, 443, 773, 2856, 7431, 4078, 5613, 3154, 3774, 2023, 1927, 5380, 4941, 5657, 2750, 3649, 10617, 291, 276, 4737, 6747, 4622, 1830, 446, 2207, 18649, 54, 3881, 234, 2626, 188, 3174, 4690, 1457, 2314, 960, 3935, 7599, 334, 223, 199, 1705, 4206, 151, 1687, 2225, 1234, 883, 962, 495, 726, 1563, 110, 109, 672, 1287, 491, 489, 230, 1450, 43, 13, 22, 10, 8, 16, 12, 16, 2, 0, 10, 0, 0, 0, 0]}],\n",
       "                        {\"hovermode\": \"closest\", \"margin\": {\"b\": 40, \"l\": 40, \"r\": 0, \"t\": 10}, \"template\": {\"data\": {\"bar\": [{\"error_x\": {\"color\": \"#2a3f5f\"}, \"error_y\": {\"color\": \"#2a3f5f\"}, \"marker\": {\"line\": {\"color\": \"#E5ECF6\", \"width\": 0.5}}, \"type\": \"bar\"}], \"barpolar\": [{\"marker\": {\"line\": {\"color\": \"#E5ECF6\", \"width\": 0.5}}, \"type\": \"barpolar\"}], \"carpet\": [{\"aaxis\": {\"endlinecolor\": \"#2a3f5f\", \"gridcolor\": \"white\", \"linecolor\": \"white\", \"minorgridcolor\": \"white\", \"startlinecolor\": \"#2a3f5f\"}, \"baxis\": {\"endlinecolor\": \"#2a3f5f\", \"gridcolor\": \"white\", \"linecolor\": \"white\", \"minorgridcolor\": \"white\", \"startlinecolor\": \"#2a3f5f\"}, \"type\": \"carpet\"}], \"choropleth\": [{\"colorbar\": {\"outlinewidth\": 0, \"ticks\": \"\"}, \"type\": \"choropleth\"}], \"contour\": [{\"colorbar\": {\"outlinewidth\": 0, \"ticks\": \"\"}, \"colorscale\": [[0.0, \"#0d0887\"], [0.1111111111111111, \"#46039f\"], [0.2222222222222222, \"#7201a8\"], [0.3333333333333333, \"#9c179e\"], [0.4444444444444444, \"#bd3786\"], [0.5555555555555556, \"#d8576b\"], [0.6666666666666666, \"#ed7953\"], [0.7777777777777778, \"#fb9f3a\"], [0.8888888888888888, \"#fdca26\"], [1.0, \"#f0f921\"]], \"type\": \"contour\"}], \"contourcarpet\": [{\"colorbar\": {\"outlinewidth\": 0, \"ticks\": \"\"}, \"type\": \"contourcarpet\"}], \"heatmap\": [{\"colorbar\": {\"outlinewidth\": 0, \"ticks\": \"\"}, \"colorscale\": [[0.0, \"#0d0887\"], [0.1111111111111111, \"#46039f\"], [0.2222222222222222, \"#7201a8\"], [0.3333333333333333, \"#9c179e\"], [0.4444444444444444, \"#bd3786\"], [0.5555555555555556, \"#d8576b\"], [0.6666666666666666, \"#ed7953\"], [0.7777777777777778, \"#fb9f3a\"], [0.8888888888888888, \"#fdca26\"], [1.0, \"#f0f921\"]], \"type\": \"heatmap\"}], \"heatmapgl\": [{\"colorbar\": {\"outlinewidth\": 0, \"ticks\": \"\"}, \"colorscale\": [[0.0, \"#0d0887\"], [0.1111111111111111, \"#46039f\"], [0.2222222222222222, \"#7201a8\"], [0.3333333333333333, \"#9c179e\"], [0.4444444444444444, \"#bd3786\"], [0.5555555555555556, \"#d8576b\"], [0.6666666666666666, \"#ed7953\"], [0.7777777777777778, \"#fb9f3a\"], [0.8888888888888888, \"#fdca26\"], [1.0, \"#f0f921\"]], \"type\": \"heatmapgl\"}], \"histogram\": [{\"marker\": {\"colorbar\": {\"outlinewidth\": 0, \"ticks\": \"\"}}, \"type\": \"histogram\"}], \"histogram2d\": [{\"colorbar\": {\"outlinewidth\": 0, \"ticks\": \"\"}, \"colorscale\": [[0.0, \"#0d0887\"], [0.1111111111111111, \"#46039f\"], [0.2222222222222222, \"#7201a8\"], [0.3333333333333333, \"#9c179e\"], [0.4444444444444444, \"#bd3786\"], [0.5555555555555556, \"#d8576b\"], [0.6666666666666666, \"#ed7953\"], [0.7777777777777778, \"#fb9f3a\"], [0.8888888888888888, \"#fdca26\"], [1.0, \"#f0f921\"]], \"type\": \"histogram2d\"}], \"histogram2dcontour\": [{\"colorbar\": {\"outlinewidth\": 0, \"ticks\": \"\"}, \"colorscale\": [[0.0, \"#0d0887\"], [0.1111111111111111, \"#46039f\"], [0.2222222222222222, \"#7201a8\"], [0.3333333333333333, \"#9c179e\"], [0.4444444444444444, \"#bd3786\"], [0.5555555555555556, \"#d8576b\"], [0.6666666666666666, \"#ed7953\"], [0.7777777777777778, \"#fb9f3a\"], [0.8888888888888888, \"#fdca26\"], [1.0, \"#f0f921\"]], \"type\": \"histogram2dcontour\"}], \"mesh3d\": [{\"colorbar\": {\"outlinewidth\": 0, \"ticks\": \"\"}, \"type\": \"mesh3d\"}], \"parcoords\": [{\"line\": {\"colorbar\": {\"outlinewidth\": 0, \"ticks\": \"\"}}, \"type\": \"parcoords\"}], \"pie\": [{\"automargin\": true, \"type\": \"pie\"}], \"scatter\": [{\"marker\": {\"colorbar\": {\"outlinewidth\": 0, \"ticks\": \"\"}}, \"type\": \"scatter\"}], \"scatter3d\": [{\"line\": {\"colorbar\": {\"outlinewidth\": 0, \"ticks\": \"\"}}, \"marker\": {\"colorbar\": {\"outlinewidth\": 0, \"ticks\": \"\"}}, \"type\": \"scatter3d\"}], \"scattercarpet\": [{\"marker\": {\"colorbar\": {\"outlinewidth\": 0, \"ticks\": \"\"}}, \"type\": \"scattercarpet\"}], \"scattergeo\": [{\"marker\": {\"colorbar\": {\"outlinewidth\": 0, \"ticks\": \"\"}}, \"type\": \"scattergeo\"}], \"scattergl\": [{\"marker\": {\"colorbar\": {\"outlinewidth\": 0, \"ticks\": \"\"}}, \"type\": \"scattergl\"}], \"scattermapbox\": [{\"marker\": {\"colorbar\": {\"outlinewidth\": 0, \"ticks\": \"\"}}, \"type\": \"scattermapbox\"}], \"scatterpolar\": [{\"marker\": {\"colorbar\": {\"outlinewidth\": 0, \"ticks\": \"\"}}, \"type\": \"scatterpolar\"}], \"scatterpolargl\": [{\"marker\": {\"colorbar\": {\"outlinewidth\": 0, \"ticks\": \"\"}}, \"type\": \"scatterpolargl\"}], \"scatterternary\": [{\"marker\": {\"colorbar\": {\"outlinewidth\": 0, \"ticks\": \"\"}}, \"type\": \"scatterternary\"}], \"surface\": [{\"colorbar\": {\"outlinewidth\": 0, \"ticks\": \"\"}, \"colorscale\": [[0.0, \"#0d0887\"], [0.1111111111111111, \"#46039f\"], [0.2222222222222222, \"#7201a8\"], [0.3333333333333333, \"#9c179e\"], [0.4444444444444444, \"#bd3786\"], [0.5555555555555556, \"#d8576b\"], [0.6666666666666666, \"#ed7953\"], [0.7777777777777778, \"#fb9f3a\"], [0.8888888888888888, \"#fdca26\"], [1.0, \"#f0f921\"]], \"type\": \"surface\"}], \"table\": [{\"cells\": {\"fill\": {\"color\": \"#EBF0F8\"}, \"line\": {\"color\": \"white\"}}, \"header\": {\"fill\": {\"color\": \"#C8D4E3\"}, \"line\": {\"color\": \"white\"}}, \"type\": \"table\"}]}, \"layout\": {\"annotationdefaults\": {\"arrowcolor\": \"#2a3f5f\", \"arrowhead\": 0, \"arrowwidth\": 1}, \"coloraxis\": {\"colorbar\": {\"outlinewidth\": 0, \"ticks\": \"\"}}, \"colorscale\": {\"diverging\": [[0, \"#8e0152\"], [0.1, \"#c51b7d\"], [0.2, \"#de77ae\"], [0.3, \"#f1b6da\"], [0.4, \"#fde0ef\"], [0.5, \"#f7f7f7\"], [0.6, \"#e6f5d0\"], [0.7, \"#b8e186\"], [0.8, \"#7fbc41\"], [0.9, \"#4d9221\"], [1, \"#276419\"]], \"sequential\": [[0.0, \"#0d0887\"], [0.1111111111111111, \"#46039f\"], [0.2222222222222222, \"#7201a8\"], [0.3333333333333333, \"#9c179e\"], [0.4444444444444444, \"#bd3786\"], [0.5555555555555556, \"#d8576b\"], [0.6666666666666666, \"#ed7953\"], [0.7777777777777778, \"#fb9f3a\"], [0.8888888888888888, \"#fdca26\"], [1.0, \"#f0f921\"]], \"sequentialminus\": [[0.0, \"#0d0887\"], [0.1111111111111111, \"#46039f\"], [0.2222222222222222, \"#7201a8\"], [0.3333333333333333, \"#9c179e\"], [0.4444444444444444, \"#bd3786\"], [0.5555555555555556, \"#d8576b\"], [0.6666666666666666, \"#ed7953\"], [0.7777777777777778, \"#fb9f3a\"], [0.8888888888888888, \"#fdca26\"], [1.0, \"#f0f921\"]]}, \"colorway\": [\"#636efa\", \"#EF553B\", \"#00cc96\", \"#ab63fa\", \"#FFA15A\", \"#19d3f3\", \"#FF6692\", \"#B6E880\", \"#FF97FF\", \"#FECB52\"], \"font\": {\"color\": \"#2a3f5f\"}, \"geo\": {\"bgcolor\": \"white\", \"lakecolor\": \"white\", \"landcolor\": \"#E5ECF6\", \"showlakes\": true, \"showland\": true, \"subunitcolor\": \"white\"}, \"hoverlabel\": {\"align\": \"left\"}, \"hovermode\": \"closest\", \"mapbox\": {\"style\": \"light\"}, \"paper_bgcolor\": \"white\", \"plot_bgcolor\": \"#E5ECF6\", \"polar\": {\"angularaxis\": {\"gridcolor\": \"white\", \"linecolor\": \"white\", \"ticks\": \"\"}, \"bgcolor\": \"#E5ECF6\", \"radialaxis\": {\"gridcolor\": \"white\", \"linecolor\": \"white\", \"ticks\": \"\"}}, \"scene\": {\"xaxis\": {\"backgroundcolor\": \"#E5ECF6\", \"gridcolor\": \"white\", \"gridwidth\": 2, \"linecolor\": \"white\", \"showbackground\": true, \"ticks\": \"\", \"zerolinecolor\": \"white\"}, \"yaxis\": {\"backgroundcolor\": \"#E5ECF6\", \"gridcolor\": \"white\", \"gridwidth\": 2, \"linecolor\": \"white\", \"showbackground\": true, \"ticks\": \"\", \"zerolinecolor\": \"white\"}, \"zaxis\": {\"backgroundcolor\": \"#E5ECF6\", \"gridcolor\": \"white\", \"gridwidth\": 2, \"linecolor\": \"white\", \"showbackground\": true, \"ticks\": \"\", \"zerolinecolor\": \"white\"}}, \"shapedefaults\": {\"line\": {\"color\": \"#2a3f5f\"}}, \"ternary\": {\"aaxis\": {\"gridcolor\": \"white\", \"linecolor\": \"white\", \"ticks\": \"\"}, \"baxis\": {\"gridcolor\": \"white\", \"linecolor\": \"white\", \"ticks\": \"\"}, \"bgcolor\": \"#E5ECF6\", \"caxis\": {\"gridcolor\": \"white\", \"linecolor\": \"white\", \"ticks\": \"\"}}, \"title\": {\"x\": 0.05}, \"xaxis\": {\"automargin\": true, \"gridcolor\": \"white\", \"linecolor\": \"white\", \"ticks\": \"\", \"title\": {\"standoff\": 15}, \"zerolinecolor\": \"white\", \"zerolinewidth\": 2}, \"yaxis\": {\"automargin\": true, \"gridcolor\": \"white\", \"linecolor\": \"white\", \"ticks\": \"\", \"title\": {\"standoff\": 15}, \"zerolinecolor\": \"white\", \"zerolinewidth\": 2}}}, \"xaxis\": {\"title\": {\"text\": \"Date\"}}, \"yaxis\": {\"title\": {\"text\": \"Tests Administered\"}, \"type\": \"linear\"}},\n",
       "                        {\"responsive\": true}\n",
       "                    ).then(function(){\n",
       "                            \n",
       "var gd = document.getElementById('7eafe218-d43b-498c-a8e8-1f1ec76348e0');\n",
       "var x = new MutationObserver(function (mutations, observer) {{\n",
       "        var display = window.getComputedStyle(gd).display;\n",
       "        if (!display || display === 'none') {{\n",
       "            console.log([gd, 'removed!']);\n",
       "            Plotly.purge(gd);\n",
       "            observer.disconnect();\n",
       "        }}\n",
       "}});\n",
       "\n",
       "// Listen for the removal of the full notebook cells\n",
       "var notebookContainer = gd.closest('#notebook-container');\n",
       "if (notebookContainer) {{\n",
       "    x.observe(notebookContainer, {childList: true});\n",
       "}}\n",
       "\n",
       "// Listen for the clearing of the current output cell\n",
       "var outputEl = gd.closest('.output');\n",
       "if (outputEl) {{\n",
       "    x.observe(outputEl, {childList: true});\n",
       "}}\n",
       "\n",
       "                        })\n",
       "                };\n",
       "                });\n",
       "            </script>\n",
       "        </div>"
      ]
     },
     "metadata": {},
     "output_type": "display_data"
    }
   ],
   "source": [
    "pio.show(state_for_mongo[0][\"incremental_plots\"][\"tests_administered\"])"
   ]
  },
  {
   "cell_type": "markdown",
   "metadata": {},
   "source": [
    "# Begin Country Plots"
   ]
  },
  {
   "cell_type": "code",
   "execution_count": 362,
   "metadata": {},
   "outputs": [],
   "source": [
    "by_country = pd.read_csv(\"/Users/CharlesFederici/corona_python/data/by_country.csv\")\n",
    "by_country = by_country.iloc[:,1:].sort_values([\"country_region\", 'report_date'])"
   ]
  },
  {
   "cell_type": "code",
   "execution_count": 363,
   "metadata": {},
   "outputs": [
    {
     "data": {
      "text/html": [
       "<div>\n",
       "<style scoped>\n",
       "    .dataframe tbody tr th:only-of-type {\n",
       "        vertical-align: middle;\n",
       "    }\n",
       "\n",
       "    .dataframe tbody tr th {\n",
       "        vertical-align: top;\n",
       "    }\n",
       "\n",
       "    .dataframe thead th {\n",
       "        text-align: right;\n",
       "    }\n",
       "</style>\n",
       "<table border=\"1\" class=\"dataframe\">\n",
       "  <thead>\n",
       "    <tr style=\"text-align: right;\">\n",
       "      <th></th>\n",
       "      <th>country_region</th>\n",
       "      <th>report_date</th>\n",
       "      <th>confirmed</th>\n",
       "      <th>deaths</th>\n",
       "      <th>recovered</th>\n",
       "      <th>incremental_confirmed</th>\n",
       "      <th>incremental_deaths</th>\n",
       "      <th>incremental_recovered</th>\n",
       "      <th>active</th>\n",
       "      <th>incremental_active</th>\n",
       "    </tr>\n",
       "  </thead>\n",
       "  <tbody>\n",
       "    <tr>\n",
       "      <th>0</th>\n",
       "      <td>Afghanistan</td>\n",
       "      <td>2020-03-23</td>\n",
       "      <td>40.0</td>\n",
       "      <td>1.0</td>\n",
       "      <td>1.0</td>\n",
       "      <td>0.0</td>\n",
       "      <td>0.0</td>\n",
       "      <td>0.0</td>\n",
       "      <td>38.0</td>\n",
       "      <td>0.0</td>\n",
       "    </tr>\n",
       "    <tr>\n",
       "      <th>1</th>\n",
       "      <td>Afghanistan</td>\n",
       "      <td>2020-03-24</td>\n",
       "      <td>74.0</td>\n",
       "      <td>1.0</td>\n",
       "      <td>1.0</td>\n",
       "      <td>34.0</td>\n",
       "      <td>0.0</td>\n",
       "      <td>0.0</td>\n",
       "      <td>72.0</td>\n",
       "      <td>34.0</td>\n",
       "    </tr>\n",
       "    <tr>\n",
       "      <th>2</th>\n",
       "      <td>Afghanistan</td>\n",
       "      <td>2020-03-25</td>\n",
       "      <td>84.0</td>\n",
       "      <td>2.0</td>\n",
       "      <td>2.0</td>\n",
       "      <td>10.0</td>\n",
       "      <td>1.0</td>\n",
       "      <td>1.0</td>\n",
       "      <td>80.0</td>\n",
       "      <td>8.0</td>\n",
       "    </tr>\n",
       "    <tr>\n",
       "      <th>3</th>\n",
       "      <td>Afghanistan</td>\n",
       "      <td>2020-03-26</td>\n",
       "      <td>94.0</td>\n",
       "      <td>4.0</td>\n",
       "      <td>2.0</td>\n",
       "      <td>10.0</td>\n",
       "      <td>2.0</td>\n",
       "      <td>0.0</td>\n",
       "      <td>88.0</td>\n",
       "      <td>8.0</td>\n",
       "    </tr>\n",
       "    <tr>\n",
       "      <th>4</th>\n",
       "      <td>Afghanistan</td>\n",
       "      <td>2020-03-27</td>\n",
       "      <td>110.0</td>\n",
       "      <td>4.0</td>\n",
       "      <td>2.0</td>\n",
       "      <td>16.0</td>\n",
       "      <td>0.0</td>\n",
       "      <td>0.0</td>\n",
       "      <td>104.0</td>\n",
       "      <td>16.0</td>\n",
       "    </tr>\n",
       "    <tr>\n",
       "      <th>...</th>\n",
       "      <td>...</td>\n",
       "      <td>...</td>\n",
       "      <td>...</td>\n",
       "      <td>...</td>\n",
       "      <td>...</td>\n",
       "      <td>...</td>\n",
       "      <td>...</td>\n",
       "      <td>...</td>\n",
       "      <td>...</td>\n",
       "      <td>...</td>\n",
       "    </tr>\n",
       "    <tr>\n",
       "      <th>16870</th>\n",
       "      <td>Zimbabwe</td>\n",
       "      <td>2020-06-15</td>\n",
       "      <td>387.0</td>\n",
       "      <td>4.0</td>\n",
       "      <td>54.0</td>\n",
       "      <td>4.0</td>\n",
       "      <td>0.0</td>\n",
       "      <td>0.0</td>\n",
       "      <td>329.0</td>\n",
       "      <td>4.0</td>\n",
       "    </tr>\n",
       "    <tr>\n",
       "      <th>16871</th>\n",
       "      <td>Zimbabwe</td>\n",
       "      <td>2020-06-16</td>\n",
       "      <td>391.0</td>\n",
       "      <td>4.0</td>\n",
       "      <td>62.0</td>\n",
       "      <td>4.0</td>\n",
       "      <td>0.0</td>\n",
       "      <td>8.0</td>\n",
       "      <td>325.0</td>\n",
       "      <td>-4.0</td>\n",
       "    </tr>\n",
       "    <tr>\n",
       "      <th>16872</th>\n",
       "      <td>Zimbabwe</td>\n",
       "      <td>2020-06-17</td>\n",
       "      <td>401.0</td>\n",
       "      <td>4.0</td>\n",
       "      <td>63.0</td>\n",
       "      <td>10.0</td>\n",
       "      <td>0.0</td>\n",
       "      <td>1.0</td>\n",
       "      <td>334.0</td>\n",
       "      <td>9.0</td>\n",
       "    </tr>\n",
       "    <tr>\n",
       "      <th>16873</th>\n",
       "      <td>Zimbabwe</td>\n",
       "      <td>2020-06-18</td>\n",
       "      <td>463.0</td>\n",
       "      <td>4.0</td>\n",
       "      <td>63.0</td>\n",
       "      <td>62.0</td>\n",
       "      <td>0.0</td>\n",
       "      <td>0.0</td>\n",
       "      <td>396.0</td>\n",
       "      <td>62.0</td>\n",
       "    </tr>\n",
       "    <tr>\n",
       "      <th>16874</th>\n",
       "      <td>Zimbabwe</td>\n",
       "      <td>2020-06-19</td>\n",
       "      <td>479.0</td>\n",
       "      <td>4.0</td>\n",
       "      <td>63.0</td>\n",
       "      <td>16.0</td>\n",
       "      <td>0.0</td>\n",
       "      <td>0.0</td>\n",
       "      <td>412.0</td>\n",
       "      <td>16.0</td>\n",
       "    </tr>\n",
       "  </tbody>\n",
       "</table>\n",
       "<p>16875 rows × 10 columns</p>\n",
       "</div>"
      ],
      "text/plain": [
       "      country_region report_date  confirmed  deaths  recovered  \\\n",
       "0        Afghanistan  2020-03-23       40.0     1.0        1.0   \n",
       "1        Afghanistan  2020-03-24       74.0     1.0        1.0   \n",
       "2        Afghanistan  2020-03-25       84.0     2.0        2.0   \n",
       "3        Afghanistan  2020-03-26       94.0     4.0        2.0   \n",
       "4        Afghanistan  2020-03-27      110.0     4.0        2.0   \n",
       "...              ...         ...        ...     ...        ...   \n",
       "16870       Zimbabwe  2020-06-15      387.0     4.0       54.0   \n",
       "16871       Zimbabwe  2020-06-16      391.0     4.0       62.0   \n",
       "16872       Zimbabwe  2020-06-17      401.0     4.0       63.0   \n",
       "16873       Zimbabwe  2020-06-18      463.0     4.0       63.0   \n",
       "16874       Zimbabwe  2020-06-19      479.0     4.0       63.0   \n",
       "\n",
       "       incremental_confirmed  incremental_deaths  incremental_recovered  \\\n",
       "0                        0.0                 0.0                    0.0   \n",
       "1                       34.0                 0.0                    0.0   \n",
       "2                       10.0                 1.0                    1.0   \n",
       "3                       10.0                 2.0                    0.0   \n",
       "4                       16.0                 0.0                    0.0   \n",
       "...                      ...                 ...                    ...   \n",
       "16870                    4.0                 0.0                    0.0   \n",
       "16871                    4.0                 0.0                    8.0   \n",
       "16872                   10.0                 0.0                    1.0   \n",
       "16873                   62.0                 0.0                    0.0   \n",
       "16874                   16.0                 0.0                    0.0   \n",
       "\n",
       "       active  incremental_active  \n",
       "0        38.0                 0.0  \n",
       "1        72.0                34.0  \n",
       "2        80.0                 8.0  \n",
       "3        88.0                 8.0  \n",
       "4       104.0                16.0  \n",
       "...       ...                 ...  \n",
       "16870   329.0                 4.0  \n",
       "16871   325.0                -4.0  \n",
       "16872   334.0                 9.0  \n",
       "16873   396.0                62.0  \n",
       "16874   412.0                16.0  \n",
       "\n",
       "[16875 rows x 10 columns]"
      ]
     },
     "execution_count": 363,
     "metadata": {},
     "output_type": "execute_result"
    }
   ],
   "source": [
    "by_country"
   ]
  },
  {
   "cell_type": "code",
   "execution_count": 454,
   "metadata": {},
   "outputs": [],
   "source": [
    "with open(\"/Users/CharlesFederici/corona_python/example_master.json\", \"r\") as read_file:\n",
    "    example_json = json.load(read_file)"
   ]
  },
  {
   "cell_type": "code",
   "execution_count": 463,
   "metadata": {},
   "outputs": [],
   "source": [
    "def create_plot_cases_us(df, example_json, country, confirmed_or_deaths, incremental):\n",
    "    df = df[df['country_region'] == country]\n",
    "\n",
    "    out_json = copy.deepcopy(example_json[\"incremental_plots\"][\"deaths\"])\n",
    "    \n",
    "    if incremental == \"incremental\":\n",
    "        out_json[\"data\"][0][\"y\"] = df[\"incremental_\"+confirmed_or_deaths].tolist()\n",
    "    else:\n",
    "        out_json[\"data\"][0][\"y\"] = df[confirmed_or_deaths].tolist()\n",
    "    \n",
    "    out_json[\"data\"][0][\"x\"] = df['report_date'].tolist()\n",
    "    out_json['data'][0][\"marker\"] = {}\n",
    "    out_json['data'][0][\"marker\"]['color'] = '#494847'\n",
    "    \n",
    "    if confirmed_or_deaths == 'confirmed':\n",
    "        out_json[\"layout\"]['yaxis']['title'] = \"Confirmed Cases\"\n",
    "    elif confirmed_or_deaths == 'deaths':\n",
    "        out_json[\"layout\"]['yaxis']['title'] = \"Deaths\"\n",
    "    elif confirmed_or_deaths == 'recovered':\n",
    "        out_json[\"layout\"]['yaxis']['title'] = \"Recovered\"\n",
    "    elif confirmed_or_deaths == 'active':\n",
    "        out_json[\"layout\"]['yaxis']['title'] = \"Active Cases\"\n",
    "    \n",
    "    return(out_json)"
   ]
  },
  {
   "cell_type": "code",
   "execution_count": 464,
   "metadata": {},
   "outputs": [],
   "source": [
    "metrics = ['confirmed', 'deaths', 'recovered', 'active']\n",
    "\n",
    "incrementals = {metric:create_plot_cases_us(by_country, example_json, \"US\", metric, \"incremental\") for metric in metrics}\n",
    "cumulatives = {metric:create_plot_cases_us(by_country, example_json, \"US\", metric, \"cumulative\") for metric in metrics}\n",
    "\n",
    "country_plots = {'country_name':\"US\",'incremental_plots':incrementals, 'cumulative_plots':cumulatives}"
   ]
  },
  {
   "cell_type": "code",
   "execution_count": 467,
   "metadata": {},
   "outputs": [
    {
     "data": {
      "application/vnd.plotly.v1+json": {
       "config": {
        "plotlyServerURL": "https://plot.ly"
       },
       "data": [
        {
         "marker": {
          "color": "#494847"
         },
         "type": "bar",
         "x": [
          "2020-01-23",
          "2020-01-24",
          "2020-01-25",
          "2020-01-26",
          "2020-01-27",
          "2020-01-28",
          "2020-01-29",
          "2020-01-30",
          "2020-01-31",
          "2020-03-11",
          "2020-03-12",
          "2020-03-13",
          "2020-03-14",
          "2020-03-15",
          "2020-03-16",
          "2020-03-17",
          "2020-03-18",
          "2020-03-19",
          "2020-03-20",
          "2020-03-21",
          "2020-03-22",
          "2020-03-23",
          "2020-03-24",
          "2020-03-25",
          "2020-03-26",
          "2020-03-27",
          "2020-03-28",
          "2020-03-29",
          "2020-03-30",
          "2020-03-31",
          "2020-04-01",
          "2020-04-02",
          "2020-04-03",
          "2020-04-04",
          "2020-04-05",
          "2020-04-06",
          "2020-04-07",
          "2020-04-08",
          "2020-04-09",
          "2020-04-10",
          "2020-04-11",
          "2020-04-12",
          "2020-04-13",
          "2020-04-14",
          "2020-04-15",
          "2020-04-16",
          "2020-04-17",
          "2020-04-18",
          "2020-04-19",
          "2020-04-20",
          "2020-04-21",
          "2020-04-22",
          "2020-04-23",
          "2020-04-24",
          "2020-04-25",
          "2020-04-26",
          "2020-04-27",
          "2020-04-28",
          "2020-04-29",
          "2020-04-30",
          "2020-05-01",
          "2020-05-02",
          "2020-05-03",
          "2020-05-04",
          "2020-05-05",
          "2020-05-06",
          "2020-05-07",
          "2020-05-08",
          "2020-05-09",
          "2020-05-10",
          "2020-05-11",
          "2020-05-12",
          "2020-05-13",
          "2020-05-14",
          "2020-05-15",
          "2020-05-16",
          "2020-05-17",
          "2020-05-18",
          "2020-05-19",
          "2020-05-20",
          "2020-05-21",
          "2020-05-22",
          "2020-05-23",
          "2020-05-24",
          "2020-05-25",
          "2020-05-26",
          "2020-05-27",
          "2020-05-28",
          "2020-05-29",
          "2020-05-30",
          "2020-05-31",
          "2020-06-01",
          "2020-06-02",
          "2020-06-03",
          "2020-06-04",
          "2020-06-05",
          "2020-06-06",
          "2020-06-07",
          "2020-06-08",
          "2020-06-09",
          "2020-06-10",
          "2020-06-11",
          "2020-06-12",
          "2020-06-13",
          "2020-06-14",
          "2020-06-15",
          "2020-06-16",
          "2020-06-17",
          "2020-06-18",
          "2020-06-19"
         ],
         "y": [
          1,
          1,
          1,
          2,
          5,
          5,
          5,
          5,
          6,
          1214,
          1596,
          2107,
          2655,
          3422,
          4556,
          6343,
          7703,
          13588,
          18997,
          25399,
          33709,
          43519,
          53571,
          65596,
          83633,
          101431,
          121136,
          140551,
          161417,
          187680,
          212821,
          243013,
          274989,
          308108,
          336283,
          365838,
          395326,
          428103,
          460418,
          495467,
          525261,
          554069,
          579369,
          606400,
          635025,
          666407,
          698286,
          730724,
          757518,
          782719,
          810212,
          838612,
          867395,
          903696,
          936485,
          964048,
          986444,
          1010818,
          1038112,
          1067508,
          1101509,
          1130405,
          1155855,
          1178155,
          1202050,
          1226253,
          1254610,
          1281387,
          1306990,
          1326674,
          1345234,
          1366883,
          1387685,
          1414955,
          1439888,
          1464835,
          1483715,
          1505202,
          1525367,
          1548591,
          1573826,
          1597499,
          1619104,
          1639648,
          1658633,
          1677179,
          1695366,
          1717853,
          1741957,
          1766032,
          1785981,
          1806728,
          1827466,
          1847074,
          1867724,
          1897584,
          1920422,
          1938466,
          1955952,
          1973871,
          1994701,
          2017558,
          2043013,
          2068399,
          2087810,
          2107697,
          2131340,
          2156844,
          2184495,
          2214312
         ]
        }
       ],
       "layout": {
        "autosize": true,
        "hovermode": "closest",
        "margin": {
         "b": 40,
         "l": 40,
         "r": 0,
         "t": 10
        },
        "template": {
         "data": {
          "bar": [
           {
            "error_x": {
             "color": "#2a3f5f"
            },
            "error_y": {
             "color": "#2a3f5f"
            },
            "marker": {
             "line": {
              "color": "#E5ECF6",
              "width": 0.5
             }
            },
            "type": "bar"
           }
          ],
          "barpolar": [
           {
            "marker": {
             "line": {
              "color": "#E5ECF6",
              "width": 0.5
             }
            },
            "type": "barpolar"
           }
          ],
          "carpet": [
           {
            "aaxis": {
             "endlinecolor": "#2a3f5f",
             "gridcolor": "white",
             "linecolor": "white",
             "minorgridcolor": "white",
             "startlinecolor": "#2a3f5f"
            },
            "baxis": {
             "endlinecolor": "#2a3f5f",
             "gridcolor": "white",
             "linecolor": "white",
             "minorgridcolor": "white",
             "startlinecolor": "#2a3f5f"
            },
            "type": "carpet"
           }
          ],
          "choropleth": [
           {
            "colorbar": {
             "outlinewidth": 0,
             "ticks": ""
            },
            "type": "choropleth"
           }
          ],
          "contour": [
           {
            "colorbar": {
             "outlinewidth": 0,
             "ticks": ""
            },
            "colorscale": [
             [
              0,
              "#0d0887"
             ],
             [
              0.1111111111111111,
              "#46039f"
             ],
             [
              0.2222222222222222,
              "#7201a8"
             ],
             [
              0.3333333333333333,
              "#9c179e"
             ],
             [
              0.4444444444444444,
              "#bd3786"
             ],
             [
              0.5555555555555556,
              "#d8576b"
             ],
             [
              0.6666666666666666,
              "#ed7953"
             ],
             [
              0.7777777777777778,
              "#fb9f3a"
             ],
             [
              0.8888888888888888,
              "#fdca26"
             ],
             [
              1,
              "#f0f921"
             ]
            ],
            "type": "contour"
           }
          ],
          "contourcarpet": [
           {
            "colorbar": {
             "outlinewidth": 0,
             "ticks": ""
            },
            "type": "contourcarpet"
           }
          ],
          "heatmap": [
           {
            "colorbar": {
             "outlinewidth": 0,
             "ticks": ""
            },
            "colorscale": [
             [
              0,
              "#0d0887"
             ],
             [
              0.1111111111111111,
              "#46039f"
             ],
             [
              0.2222222222222222,
              "#7201a8"
             ],
             [
              0.3333333333333333,
              "#9c179e"
             ],
             [
              0.4444444444444444,
              "#bd3786"
             ],
             [
              0.5555555555555556,
              "#d8576b"
             ],
             [
              0.6666666666666666,
              "#ed7953"
             ],
             [
              0.7777777777777778,
              "#fb9f3a"
             ],
             [
              0.8888888888888888,
              "#fdca26"
             ],
             [
              1,
              "#f0f921"
             ]
            ],
            "type": "heatmap"
           }
          ],
          "heatmapgl": [
           {
            "colorbar": {
             "outlinewidth": 0,
             "ticks": ""
            },
            "colorscale": [
             [
              0,
              "#0d0887"
             ],
             [
              0.1111111111111111,
              "#46039f"
             ],
             [
              0.2222222222222222,
              "#7201a8"
             ],
             [
              0.3333333333333333,
              "#9c179e"
             ],
             [
              0.4444444444444444,
              "#bd3786"
             ],
             [
              0.5555555555555556,
              "#d8576b"
             ],
             [
              0.6666666666666666,
              "#ed7953"
             ],
             [
              0.7777777777777778,
              "#fb9f3a"
             ],
             [
              0.8888888888888888,
              "#fdca26"
             ],
             [
              1,
              "#f0f921"
             ]
            ],
            "type": "heatmapgl"
           }
          ],
          "histogram": [
           {
            "marker": {
             "colorbar": {
              "outlinewidth": 0,
              "ticks": ""
             }
            },
            "type": "histogram"
           }
          ],
          "histogram2d": [
           {
            "colorbar": {
             "outlinewidth": 0,
             "ticks": ""
            },
            "colorscale": [
             [
              0,
              "#0d0887"
             ],
             [
              0.1111111111111111,
              "#46039f"
             ],
             [
              0.2222222222222222,
              "#7201a8"
             ],
             [
              0.3333333333333333,
              "#9c179e"
             ],
             [
              0.4444444444444444,
              "#bd3786"
             ],
             [
              0.5555555555555556,
              "#d8576b"
             ],
             [
              0.6666666666666666,
              "#ed7953"
             ],
             [
              0.7777777777777778,
              "#fb9f3a"
             ],
             [
              0.8888888888888888,
              "#fdca26"
             ],
             [
              1,
              "#f0f921"
             ]
            ],
            "type": "histogram2d"
           }
          ],
          "histogram2dcontour": [
           {
            "colorbar": {
             "outlinewidth": 0,
             "ticks": ""
            },
            "colorscale": [
             [
              0,
              "#0d0887"
             ],
             [
              0.1111111111111111,
              "#46039f"
             ],
             [
              0.2222222222222222,
              "#7201a8"
             ],
             [
              0.3333333333333333,
              "#9c179e"
             ],
             [
              0.4444444444444444,
              "#bd3786"
             ],
             [
              0.5555555555555556,
              "#d8576b"
             ],
             [
              0.6666666666666666,
              "#ed7953"
             ],
             [
              0.7777777777777778,
              "#fb9f3a"
             ],
             [
              0.8888888888888888,
              "#fdca26"
             ],
             [
              1,
              "#f0f921"
             ]
            ],
            "type": "histogram2dcontour"
           }
          ],
          "mesh3d": [
           {
            "colorbar": {
             "outlinewidth": 0,
             "ticks": ""
            },
            "type": "mesh3d"
           }
          ],
          "parcoords": [
           {
            "line": {
             "colorbar": {
              "outlinewidth": 0,
              "ticks": ""
             }
            },
            "type": "parcoords"
           }
          ],
          "pie": [
           {
            "automargin": true,
            "type": "pie"
           }
          ],
          "scatter": [
           {
            "marker": {
             "colorbar": {
              "outlinewidth": 0,
              "ticks": ""
             }
            },
            "type": "scatter"
           }
          ],
          "scatter3d": [
           {
            "line": {
             "colorbar": {
              "outlinewidth": 0,
              "ticks": ""
             }
            },
            "marker": {
             "colorbar": {
              "outlinewidth": 0,
              "ticks": ""
             }
            },
            "type": "scatter3d"
           }
          ],
          "scattercarpet": [
           {
            "marker": {
             "colorbar": {
              "outlinewidth": 0,
              "ticks": ""
             }
            },
            "type": "scattercarpet"
           }
          ],
          "scattergeo": [
           {
            "marker": {
             "colorbar": {
              "outlinewidth": 0,
              "ticks": ""
             }
            },
            "type": "scattergeo"
           }
          ],
          "scattergl": [
           {
            "marker": {
             "colorbar": {
              "outlinewidth": 0,
              "ticks": ""
             }
            },
            "type": "scattergl"
           }
          ],
          "scattermapbox": [
           {
            "marker": {
             "colorbar": {
              "outlinewidth": 0,
              "ticks": ""
             }
            },
            "type": "scattermapbox"
           }
          ],
          "scatterpolar": [
           {
            "marker": {
             "colorbar": {
              "outlinewidth": 0,
              "ticks": ""
             }
            },
            "type": "scatterpolar"
           }
          ],
          "scatterpolargl": [
           {
            "marker": {
             "colorbar": {
              "outlinewidth": 0,
              "ticks": ""
             }
            },
            "type": "scatterpolargl"
           }
          ],
          "scatterternary": [
           {
            "marker": {
             "colorbar": {
              "outlinewidth": 0,
              "ticks": ""
             }
            },
            "type": "scatterternary"
           }
          ],
          "surface": [
           {
            "colorbar": {
             "outlinewidth": 0,
             "ticks": ""
            },
            "colorscale": [
             [
              0,
              "#0d0887"
             ],
             [
              0.1111111111111111,
              "#46039f"
             ],
             [
              0.2222222222222222,
              "#7201a8"
             ],
             [
              0.3333333333333333,
              "#9c179e"
             ],
             [
              0.4444444444444444,
              "#bd3786"
             ],
             [
              0.5555555555555556,
              "#d8576b"
             ],
             [
              0.6666666666666666,
              "#ed7953"
             ],
             [
              0.7777777777777778,
              "#fb9f3a"
             ],
             [
              0.8888888888888888,
              "#fdca26"
             ],
             [
              1,
              "#f0f921"
             ]
            ],
            "type": "surface"
           }
          ],
          "table": [
           {
            "cells": {
             "fill": {
              "color": "#EBF0F8"
             },
             "line": {
              "color": "white"
             }
            },
            "header": {
             "fill": {
              "color": "#C8D4E3"
             },
             "line": {
              "color": "white"
             }
            },
            "type": "table"
           }
          ]
         },
         "layout": {
          "annotationdefaults": {
           "arrowcolor": "#2a3f5f",
           "arrowhead": 0,
           "arrowwidth": 1
          },
          "coloraxis": {
           "colorbar": {
            "outlinewidth": 0,
            "ticks": ""
           }
          },
          "colorscale": {
           "diverging": [
            [
             0,
             "#8e0152"
            ],
            [
             0.1,
             "#c51b7d"
            ],
            [
             0.2,
             "#de77ae"
            ],
            [
             0.3,
             "#f1b6da"
            ],
            [
             0.4,
             "#fde0ef"
            ],
            [
             0.5,
             "#f7f7f7"
            ],
            [
             0.6,
             "#e6f5d0"
            ],
            [
             0.7,
             "#b8e186"
            ],
            [
             0.8,
             "#7fbc41"
            ],
            [
             0.9,
             "#4d9221"
            ],
            [
             1,
             "#276419"
            ]
           ],
           "sequential": [
            [
             0,
             "#0d0887"
            ],
            [
             0.1111111111111111,
             "#46039f"
            ],
            [
             0.2222222222222222,
             "#7201a8"
            ],
            [
             0.3333333333333333,
             "#9c179e"
            ],
            [
             0.4444444444444444,
             "#bd3786"
            ],
            [
             0.5555555555555556,
             "#d8576b"
            ],
            [
             0.6666666666666666,
             "#ed7953"
            ],
            [
             0.7777777777777778,
             "#fb9f3a"
            ],
            [
             0.8888888888888888,
             "#fdca26"
            ],
            [
             1,
             "#f0f921"
            ]
           ],
           "sequentialminus": [
            [
             0,
             "#0d0887"
            ],
            [
             0.1111111111111111,
             "#46039f"
            ],
            [
             0.2222222222222222,
             "#7201a8"
            ],
            [
             0.3333333333333333,
             "#9c179e"
            ],
            [
             0.4444444444444444,
             "#bd3786"
            ],
            [
             0.5555555555555556,
             "#d8576b"
            ],
            [
             0.6666666666666666,
             "#ed7953"
            ],
            [
             0.7777777777777778,
             "#fb9f3a"
            ],
            [
             0.8888888888888888,
             "#fdca26"
            ],
            [
             1,
             "#f0f921"
            ]
           ]
          },
          "colorway": [
           "#636efa",
           "#EF553B",
           "#00cc96",
           "#ab63fa",
           "#FFA15A",
           "#19d3f3",
           "#FF6692",
           "#B6E880",
           "#FF97FF",
           "#FECB52"
          ],
          "font": {
           "color": "#2a3f5f"
          },
          "geo": {
           "bgcolor": "white",
           "lakecolor": "white",
           "landcolor": "#E5ECF6",
           "showlakes": true,
           "showland": true,
           "subunitcolor": "white"
          },
          "hoverlabel": {
           "align": "left"
          },
          "hovermode": "closest",
          "mapbox": {
           "style": "light"
          },
          "paper_bgcolor": "white",
          "plot_bgcolor": "#E5ECF6",
          "polar": {
           "angularaxis": {
            "gridcolor": "white",
            "linecolor": "white",
            "ticks": ""
           },
           "bgcolor": "#E5ECF6",
           "radialaxis": {
            "gridcolor": "white",
            "linecolor": "white",
            "ticks": ""
           }
          },
          "scene": {
           "xaxis": {
            "backgroundcolor": "#E5ECF6",
            "gridcolor": "white",
            "gridwidth": 2,
            "linecolor": "white",
            "showbackground": true,
            "ticks": "",
            "zerolinecolor": "white"
           },
           "yaxis": {
            "backgroundcolor": "#E5ECF6",
            "gridcolor": "white",
            "gridwidth": 2,
            "linecolor": "white",
            "showbackground": true,
            "ticks": "",
            "zerolinecolor": "white"
           },
           "zaxis": {
            "backgroundcolor": "#E5ECF6",
            "gridcolor": "white",
            "gridwidth": 2,
            "linecolor": "white",
            "showbackground": true,
            "ticks": "",
            "zerolinecolor": "white"
           }
          },
          "shapedefaults": {
           "line": {
            "color": "#2a3f5f"
           }
          },
          "ternary": {
           "aaxis": {
            "gridcolor": "white",
            "linecolor": "white",
            "ticks": ""
           },
           "baxis": {
            "gridcolor": "white",
            "linecolor": "white",
            "ticks": ""
           },
           "bgcolor": "#E5ECF6",
           "caxis": {
            "gridcolor": "white",
            "linecolor": "white",
            "ticks": ""
           }
          },
          "title": {
           "x": 0.05
          },
          "xaxis": {
           "automargin": true,
           "gridcolor": "white",
           "linecolor": "white",
           "ticks": "",
           "title": {
            "standoff": 15
           },
           "zerolinecolor": "white",
           "zerolinewidth": 2
          },
          "yaxis": {
           "automargin": true,
           "gridcolor": "white",
           "linecolor": "white",
           "ticks": "",
           "title": {
            "standoff": 15
           },
           "zerolinecolor": "white",
           "zerolinewidth": 2
          }
         }
        },
        "xaxis": {
         "autorange": true,
         "range": [
          "2020-01-22 12:00",
          "2020-06-19 12:00"
         ],
         "title": {
          "text": "Date"
         },
         "type": "date"
        },
        "yaxis": {
         "autorange": true,
         "range": [
          0,
          2330854.736842105
         ],
         "rangemode": "nonnegative",
         "title": {
          "text": "Confirmed Cases"
         },
         "type": "linear"
        }
       }
      },
      "image/png": "[encoded data removed]",
      "text/html": [
       "<div>\n",
       "        \n",
       "        \n",
       "            <div id=\"f595d5d9-743c-407d-a129-11eb72a971e5\" class=\"plotly-graph-div\" style=\"height:525px; width:100%;\"></div>\n",
       "            <script type=\"text/javascript\">\n",
       "                require([\"plotly\"], function(Plotly) {\n",
       "                    window.PLOTLYENV=window.PLOTLYENV || {};\n",
       "                    \n",
       "                if (document.getElementById(\"f595d5d9-743c-407d-a129-11eb72a971e5\")) {\n",
       "                    Plotly.newPlot(\n",
       "                        'f595d5d9-743c-407d-a129-11eb72a971e5',\n",
       "                        [{\"marker\": {\"color\": \"#494847\"}, \"type\": \"bar\", \"x\": [\"2020-01-23\", \"2020-01-24\", \"2020-01-25\", \"2020-01-26\", \"2020-01-27\", \"2020-01-28\", \"2020-01-29\", \"2020-01-30\", \"2020-01-31\", \"2020-03-11\", \"2020-03-12\", \"2020-03-13\", \"2020-03-14\", \"2020-03-15\", \"2020-03-16\", \"2020-03-17\", \"2020-03-18\", \"2020-03-19\", \"2020-03-20\", \"2020-03-21\", \"2020-03-22\", \"2020-03-23\", \"2020-03-24\", \"2020-03-25\", \"2020-03-26\", \"2020-03-27\", \"2020-03-28\", \"2020-03-29\", \"2020-03-30\", \"2020-03-31\", \"2020-04-01\", \"2020-04-02\", \"2020-04-03\", \"2020-04-04\", \"2020-04-05\", \"2020-04-06\", \"2020-04-07\", \"2020-04-08\", \"2020-04-09\", \"2020-04-10\", \"2020-04-11\", \"2020-04-12\", \"2020-04-13\", \"2020-04-14\", \"2020-04-15\", \"2020-04-16\", \"2020-04-17\", \"2020-04-18\", \"2020-04-19\", \"2020-04-20\", \"2020-04-21\", \"2020-04-22\", \"2020-04-23\", \"2020-04-24\", \"2020-04-25\", \"2020-04-26\", \"2020-04-27\", \"2020-04-28\", \"2020-04-29\", \"2020-04-30\", \"2020-05-01\", \"2020-05-02\", \"2020-05-03\", \"2020-05-04\", \"2020-05-05\", \"2020-05-06\", \"2020-05-07\", \"2020-05-08\", \"2020-05-09\", \"2020-05-10\", \"2020-05-11\", \"2020-05-12\", \"2020-05-13\", \"2020-05-14\", \"2020-05-15\", \"2020-05-16\", \"2020-05-17\", \"2020-05-18\", \"2020-05-19\", \"2020-05-20\", \"2020-05-21\", \"2020-05-22\", \"2020-05-23\", \"2020-05-24\", \"2020-05-25\", \"2020-05-26\", \"2020-05-27\", \"2020-05-28\", \"2020-05-29\", \"2020-05-30\", \"2020-05-31\", \"2020-06-01\", \"2020-06-02\", \"2020-06-03\", \"2020-06-04\", \"2020-06-05\", \"2020-06-06\", \"2020-06-07\", \"2020-06-08\", \"2020-06-09\", \"2020-06-10\", \"2020-06-11\", \"2020-06-12\", \"2020-06-13\", \"2020-06-14\", \"2020-06-15\", \"2020-06-16\", \"2020-06-17\", \"2020-06-18\", \"2020-06-19\"], \"y\": [1.0, 1.0, 1.0, 2.0, 5.0, 5.0, 5.0, 5.0, 6.0, 1214.0, 1596.0, 2107.0, 2655.0, 3422.0, 4556.0, 6343.0, 7703.0, 13588.0, 18997.0, 25399.0, 33709.0, 43519.0, 53571.0, 65596.0, 83633.0, 101431.0, 121136.0, 140551.0, 161417.0, 187680.0, 212821.0, 243013.0, 274989.0, 308108.0, 336283.0, 365838.0, 395326.0, 428103.0, 460418.0, 495467.0, 525261.0, 554069.0, 579369.0, 606400.0, 635025.0, 666407.0, 698286.0, 730724.0, 757518.0, 782719.0, 810212.0, 838612.0, 867395.0, 903696.0, 936485.0, 964048.0, 986444.0, 1010818.0, 1038112.0, 1067508.0, 1101509.0, 1130405.0, 1155855.0, 1178155.0, 1202050.0, 1226253.0, 1254610.0, 1281387.0, 1306990.0, 1326674.0, 1345234.0, 1366883.0, 1387685.0, 1414955.0, 1439888.0, 1464835.0, 1483715.0, 1505202.0, 1525367.0, 1548591.0, 1573826.0, 1597499.0, 1619104.0, 1639648.0, 1658633.0, 1677179.0, 1695366.0, 1717853.0, 1741957.0, 1766032.0, 1785981.0, 1806728.0, 1827466.0, 1847074.0, 1867724.0, 1897584.0, 1920422.0, 1938466.0, 1955952.0, 1973871.0, 1994701.0, 2017558.0, 2043013.0, 2068399.0, 2087810.0, 2107697.0, 2131340.0, 2156844.0, 2184495.0, 2214312.0]}],\n",
       "                        {\"hovermode\": \"closest\", \"margin\": {\"b\": 40, \"l\": 40, \"r\": 0, \"t\": 10}, \"template\": {\"data\": {\"bar\": [{\"error_x\": {\"color\": \"#2a3f5f\"}, \"error_y\": {\"color\": \"#2a3f5f\"}, \"marker\": {\"line\": {\"color\": \"#E5ECF6\", \"width\": 0.5}}, \"type\": \"bar\"}], \"barpolar\": [{\"marker\": {\"line\": {\"color\": \"#E5ECF6\", \"width\": 0.5}}, \"type\": \"barpolar\"}], \"carpet\": [{\"aaxis\": {\"endlinecolor\": \"#2a3f5f\", \"gridcolor\": \"white\", \"linecolor\": \"white\", \"minorgridcolor\": \"white\", \"startlinecolor\": \"#2a3f5f\"}, \"baxis\": {\"endlinecolor\": \"#2a3f5f\", \"gridcolor\": \"white\", \"linecolor\": \"white\", \"minorgridcolor\": \"white\", \"startlinecolor\": \"#2a3f5f\"}, \"type\": \"carpet\"}], \"choropleth\": [{\"colorbar\": {\"outlinewidth\": 0, \"ticks\": \"\"}, \"type\": \"choropleth\"}], \"contour\": [{\"colorbar\": {\"outlinewidth\": 0, \"ticks\": \"\"}, \"colorscale\": [[0.0, \"#0d0887\"], [0.1111111111111111, \"#46039f\"], [0.2222222222222222, \"#7201a8\"], [0.3333333333333333, \"#9c179e\"], [0.4444444444444444, \"#bd3786\"], [0.5555555555555556, \"#d8576b\"], [0.6666666666666666, \"#ed7953\"], [0.7777777777777778, \"#fb9f3a\"], [0.8888888888888888, \"#fdca26\"], [1.0, \"#f0f921\"]], \"type\": \"contour\"}], \"contourcarpet\": [{\"colorbar\": {\"outlinewidth\": 0, \"ticks\": \"\"}, \"type\": \"contourcarpet\"}], \"heatmap\": [{\"colorbar\": {\"outlinewidth\": 0, \"ticks\": \"\"}, \"colorscale\": [[0.0, \"#0d0887\"], [0.1111111111111111, \"#46039f\"], [0.2222222222222222, \"#7201a8\"], [0.3333333333333333, \"#9c179e\"], [0.4444444444444444, \"#bd3786\"], [0.5555555555555556, \"#d8576b\"], [0.6666666666666666, \"#ed7953\"], [0.7777777777777778, \"#fb9f3a\"], [0.8888888888888888, \"#fdca26\"], [1.0, \"#f0f921\"]], \"type\": \"heatmap\"}], \"heatmapgl\": [{\"colorbar\": {\"outlinewidth\": 0, \"ticks\": \"\"}, \"colorscale\": [[0.0, \"#0d0887\"], [0.1111111111111111, \"#46039f\"], [0.2222222222222222, \"#7201a8\"], [0.3333333333333333, \"#9c179e\"], [0.4444444444444444, \"#bd3786\"], [0.5555555555555556, \"#d8576b\"], [0.6666666666666666, \"#ed7953\"], [0.7777777777777778, \"#fb9f3a\"], [0.8888888888888888, \"#fdca26\"], [1.0, \"#f0f921\"]], \"type\": \"heatmapgl\"}], \"histogram\": [{\"marker\": {\"colorbar\": {\"outlinewidth\": 0, \"ticks\": \"\"}}, \"type\": \"histogram\"}], \"histogram2d\": [{\"colorbar\": {\"outlinewidth\": 0, \"ticks\": \"\"}, \"colorscale\": [[0.0, \"#0d0887\"], [0.1111111111111111, \"#46039f\"], [0.2222222222222222, \"#7201a8\"], [0.3333333333333333, \"#9c179e\"], [0.4444444444444444, \"#bd3786\"], [0.5555555555555556, \"#d8576b\"], [0.6666666666666666, \"#ed7953\"], [0.7777777777777778, \"#fb9f3a\"], [0.8888888888888888, \"#fdca26\"], [1.0, \"#f0f921\"]], \"type\": \"histogram2d\"}], \"histogram2dcontour\": [{\"colorbar\": {\"outlinewidth\": 0, \"ticks\": \"\"}, \"colorscale\": [[0.0, \"#0d0887\"], [0.1111111111111111, \"#46039f\"], [0.2222222222222222, \"#7201a8\"], [0.3333333333333333, \"#9c179e\"], [0.4444444444444444, \"#bd3786\"], [0.5555555555555556, \"#d8576b\"], [0.6666666666666666, \"#ed7953\"], [0.7777777777777778, \"#fb9f3a\"], [0.8888888888888888, \"#fdca26\"], [1.0, \"#f0f921\"]], \"type\": \"histogram2dcontour\"}], \"mesh3d\": [{\"colorbar\": {\"outlinewidth\": 0, \"ticks\": \"\"}, \"type\": \"mesh3d\"}], \"parcoords\": [{\"line\": {\"colorbar\": {\"outlinewidth\": 0, \"ticks\": \"\"}}, \"type\": \"parcoords\"}], \"pie\": [{\"automargin\": true, \"type\": \"pie\"}], \"scatter\": [{\"marker\": {\"colorbar\": {\"outlinewidth\": 0, \"ticks\": \"\"}}, \"type\": \"scatter\"}], \"scatter3d\": [{\"line\": {\"colorbar\": {\"outlinewidth\": 0, \"ticks\": \"\"}}, \"marker\": {\"colorbar\": {\"outlinewidth\": 0, \"ticks\": \"\"}}, \"type\": \"scatter3d\"}], \"scattercarpet\": [{\"marker\": {\"colorbar\": {\"outlinewidth\": 0, \"ticks\": \"\"}}, \"type\": \"scattercarpet\"}], \"scattergeo\": [{\"marker\": {\"colorbar\": {\"outlinewidth\": 0, \"ticks\": \"\"}}, \"type\": \"scattergeo\"}], \"scattergl\": [{\"marker\": {\"colorbar\": {\"outlinewidth\": 0, \"ticks\": \"\"}}, \"type\": \"scattergl\"}], \"scattermapbox\": [{\"marker\": {\"colorbar\": {\"outlinewidth\": 0, \"ticks\": \"\"}}, \"type\": \"scattermapbox\"}], \"scatterpolar\": [{\"marker\": {\"colorbar\": {\"outlinewidth\": 0, \"ticks\": \"\"}}, \"type\": \"scatterpolar\"}], \"scatterpolargl\": [{\"marker\": {\"colorbar\": {\"outlinewidth\": 0, \"ticks\": \"\"}}, \"type\": \"scatterpolargl\"}], \"scatterternary\": [{\"marker\": {\"colorbar\": {\"outlinewidth\": 0, \"ticks\": \"\"}}, \"type\": \"scatterternary\"}], \"surface\": [{\"colorbar\": {\"outlinewidth\": 0, \"ticks\": \"\"}, \"colorscale\": [[0.0, \"#0d0887\"], [0.1111111111111111, \"#46039f\"], [0.2222222222222222, \"#7201a8\"], [0.3333333333333333, \"#9c179e\"], [0.4444444444444444, \"#bd3786\"], [0.5555555555555556, \"#d8576b\"], [0.6666666666666666, \"#ed7953\"], [0.7777777777777778, \"#fb9f3a\"], [0.8888888888888888, \"#fdca26\"], [1.0, \"#f0f921\"]], \"type\": \"surface\"}], \"table\": [{\"cells\": {\"fill\": {\"color\": \"#EBF0F8\"}, \"line\": {\"color\": \"white\"}}, \"header\": {\"fill\": {\"color\": \"#C8D4E3\"}, \"line\": {\"color\": \"white\"}}, \"type\": \"table\"}]}, \"layout\": {\"annotationdefaults\": {\"arrowcolor\": \"#2a3f5f\", \"arrowhead\": 0, \"arrowwidth\": 1}, \"coloraxis\": {\"colorbar\": {\"outlinewidth\": 0, \"ticks\": \"\"}}, \"colorscale\": {\"diverging\": [[0, \"#8e0152\"], [0.1, \"#c51b7d\"], [0.2, \"#de77ae\"], [0.3, \"#f1b6da\"], [0.4, \"#fde0ef\"], [0.5, \"#f7f7f7\"], [0.6, \"#e6f5d0\"], [0.7, \"#b8e186\"], [0.8, \"#7fbc41\"], [0.9, \"#4d9221\"], [1, \"#276419\"]], \"sequential\": [[0.0, \"#0d0887\"], [0.1111111111111111, \"#46039f\"], [0.2222222222222222, \"#7201a8\"], [0.3333333333333333, \"#9c179e\"], [0.4444444444444444, \"#bd3786\"], [0.5555555555555556, \"#d8576b\"], [0.6666666666666666, \"#ed7953\"], [0.7777777777777778, \"#fb9f3a\"], [0.8888888888888888, \"#fdca26\"], [1.0, \"#f0f921\"]], \"sequentialminus\": [[0.0, \"#0d0887\"], [0.1111111111111111, \"#46039f\"], [0.2222222222222222, \"#7201a8\"], [0.3333333333333333, \"#9c179e\"], [0.4444444444444444, \"#bd3786\"], [0.5555555555555556, \"#d8576b\"], [0.6666666666666666, \"#ed7953\"], [0.7777777777777778, \"#fb9f3a\"], [0.8888888888888888, \"#fdca26\"], [1.0, \"#f0f921\"]]}, \"colorway\": [\"#636efa\", \"#EF553B\", \"#00cc96\", \"#ab63fa\", \"#FFA15A\", \"#19d3f3\", \"#FF6692\", \"#B6E880\", \"#FF97FF\", \"#FECB52\"], \"font\": {\"color\": \"#2a3f5f\"}, \"geo\": {\"bgcolor\": \"white\", \"lakecolor\": \"white\", \"landcolor\": \"#E5ECF6\", \"showlakes\": true, \"showland\": true, \"subunitcolor\": \"white\"}, \"hoverlabel\": {\"align\": \"left\"}, \"hovermode\": \"closest\", \"mapbox\": {\"style\": \"light\"}, \"paper_bgcolor\": \"white\", \"plot_bgcolor\": \"#E5ECF6\", \"polar\": {\"angularaxis\": {\"gridcolor\": \"white\", \"linecolor\": \"white\", \"ticks\": \"\"}, \"bgcolor\": \"#E5ECF6\", \"radialaxis\": {\"gridcolor\": \"white\", \"linecolor\": \"white\", \"ticks\": \"\"}}, \"scene\": {\"xaxis\": {\"backgroundcolor\": \"#E5ECF6\", \"gridcolor\": \"white\", \"gridwidth\": 2, \"linecolor\": \"white\", \"showbackground\": true, \"ticks\": \"\", \"zerolinecolor\": \"white\"}, \"yaxis\": {\"backgroundcolor\": \"#E5ECF6\", \"gridcolor\": \"white\", \"gridwidth\": 2, \"linecolor\": \"white\", \"showbackground\": true, \"ticks\": \"\", \"zerolinecolor\": \"white\"}, \"zaxis\": {\"backgroundcolor\": \"#E5ECF6\", \"gridcolor\": \"white\", \"gridwidth\": 2, \"linecolor\": \"white\", \"showbackground\": true, \"ticks\": \"\", \"zerolinecolor\": \"white\"}}, \"shapedefaults\": {\"line\": {\"color\": \"#2a3f5f\"}}, \"ternary\": {\"aaxis\": {\"gridcolor\": \"white\", \"linecolor\": \"white\", \"ticks\": \"\"}, \"baxis\": {\"gridcolor\": \"white\", \"linecolor\": \"white\", \"ticks\": \"\"}, \"bgcolor\": \"#E5ECF6\", \"caxis\": {\"gridcolor\": \"white\", \"linecolor\": \"white\", \"ticks\": \"\"}}, \"title\": {\"x\": 0.05}, \"xaxis\": {\"automargin\": true, \"gridcolor\": \"white\", \"linecolor\": \"white\", \"ticks\": \"\", \"title\": {\"standoff\": 15}, \"zerolinecolor\": \"white\", \"zerolinewidth\": 2}, \"yaxis\": {\"automargin\": true, \"gridcolor\": \"white\", \"linecolor\": \"white\", \"ticks\": \"\", \"title\": {\"standoff\": 15}, \"zerolinecolor\": \"white\", \"zerolinewidth\": 2}}}, \"xaxis\": {\"title\": {\"text\": \"Date\"}}, \"yaxis\": {\"rangemode\": \"nonnegative\", \"title\": {\"text\": \"Confirmed Cases\"}, \"type\": \"linear\"}},\n",
       "                        {\"responsive\": true}\n",
       "                    ).then(function(){\n",
       "                            \n",
       "var gd = document.getElementById('f595d5d9-743c-407d-a129-11eb72a971e5');\n",
       "var x = new MutationObserver(function (mutations, observer) {{\n",
       "        var display = window.getComputedStyle(gd).display;\n",
       "        if (!display || display === 'none') {{\n",
       "            console.log([gd, 'removed!']);\n",
       "            Plotly.purge(gd);\n",
       "            observer.disconnect();\n",
       "        }}\n",
       "}});\n",
       "\n",
       "// Listen for the removal of the full notebook cells\n",
       "var notebookContainer = gd.closest('#notebook-container');\n",
       "if (notebookContainer) {{\n",
       "    x.observe(notebookContainer, {childList: true});\n",
       "}}\n",
       "\n",
       "// Listen for the clearing of the current output cell\n",
       "var outputEl = gd.closest('.output');\n",
       "if (outputEl) {{\n",
       "    x.observe(outputEl, {childList: true});\n",
       "}}\n",
       "\n",
       "                        })\n",
       "                };\n",
       "                });\n",
       "            </script>\n",
       "        </div>"
      ]
     },
     "metadata": {},
     "output_type": "display_data"
    }
   ],
   "source": [
    "pio.show(country_plots[\"cumulative_plots\"][\"confirmed\"])"
   ]
  },
  {
   "cell_type": "code",
   "execution_count": 387,
   "metadata": {},
   "outputs": [],
   "source": [
    "state_table = by_state.merge(testing.iloc[:,1:], how=\"left\", left_on=[\"province_state\", 'report_date'], right_on=['state_full', 'date'])"
   ]
  },
  {
   "cell_type": "code",
   "execution_count": 418,
   "metadata": {},
   "outputs": [
    {
     "name": "stdout",
     "output_type": "stream",
     "text": [
      "          State        Date     Cases  Deaths %Positive Testing-Data-Quality  \\\n",
      "94      Alabama  2020-06-16   26912.0   785.0      8.8%                    B   \n",
      "190      Alaska  2020-06-16     675.0    12.0      0.9%                    A   \n",
      "293     Arizona  2020-06-16   39185.0  1228.0     11.0%                    A   \n",
      "391    Arkansas  2020-06-16   13191.0   188.0      6.4%                    A   \n",
      "494  California  2020-06-16  158961.0  5200.0      5.2%                    B   \n",
      "\n",
      "    Incremental  \n",
      "94   Cumulative  \n",
      "190  Cumulative  \n",
      "293  Cumulative  \n",
      "391  Cumulative  \n",
      "494  Cumulative  \n",
      "          State        Date   Cases  Deaths %Positive Testing-Data-Quality  \\\n",
      "94      Alabama  2020-06-16   640.0    11.0     23.3%                    B   \n",
      "190      Alaska  2020-06-16    12.0     0.0      0.7%                    A   \n",
      "293     Arizona  2020-06-16  2341.0    25.0     26.4%                    A   \n",
      "391    Arkansas  2020-06-16   274.0     6.0     19.2%                    A   \n",
      "494  California  2020-06-16  3235.0    86.0      3.0%                    B   \n",
      "\n",
      "     Incremental  \n",
      "94   Incremental  \n",
      "190  Incremental  \n",
      "293  Incremental  \n",
      "391  Incremental  \n",
      "494  Incremental  \n"
     ]
    }
   ],
   "source": [
    "date_filter = min([max(by_state['report_date']), max(testing['date'])])\n",
    "\n",
    "cumulative_table = state_table[state_table['date'] == date_filter][['province_state', 'report_date','confirmed', 'deaths', 'positive_rate', 'dataQualityGrade']]\n",
    "cumulative_table['positive_rate'] = np.round_(cumulative_table['positive_rate']*100, 1).astype(str) + \"%\"\n",
    "cumulative_table = cumulative_table.rename({'province_state':'State', 'report_date':\"Date\", 'confirmed':'Cases', 'deaths':'Deaths', 'positive_rate':'%Positive', 'dataQualityGrade':'Testing-Data-Quality'},axis='columns')\n",
    "cumulative_table['Incremental'] = \"Cumulative\"\n",
    "print(cumulative_table.head())\n",
    "\n",
    "incremental_table = state_table[state_table['date'] == date_filter][['province_state', 'report_date','incremental_confirmed', 'incremental_deaths', 'incremental_positive_rate', 'dataQualityGrade']]\n",
    "incremental_table['incremental_positive_rate'] = np.round_(incremental_table['incremental_positive_rate']*100, 1).astype(str) + \"%\"\n",
    "incremental_table = incremental_table.rename({'province_state':'State', 'report_date':\"Date\", 'incremental_confirmed':'Cases', 'incremental_deaths':'Deaths', 'incremental_positive_rate':'%Positive', 'dataQualityGrade':'Testing-Data-Quality'},axis='columns')\n",
    "incremental_table['Incremental'] = \"Incremental\"\n",
    "print(incremental_table.head())"
   ]
  },
  {
   "cell_type": "code",
   "execution_count": 480,
   "metadata": {},
   "outputs": [
    {
     "ename": "TypeError",
     "evalue": "Object of type Layout is not JSON serializable",
     "output_type": "error",
     "traceback": [
      "\u001b[0;31m---------------------------------------------------------------------------\u001b[0m",
      "\u001b[0;31mTypeError\u001b[0m                                 Traceback (most recent call last)",
      "\u001b[0;32m<ipython-input-480-6911c3b745ef>\u001b[0m in \u001b[0;36m<module>\u001b[0;34m\u001b[0m\n\u001b[1;32m     15\u001b[0m \u001b[0mfig\u001b[0m\u001b[0;34m.\u001b[0m\u001b[0mupdate_layout\u001b[0m\u001b[0;34m(\u001b[0m\u001b[0mcoloraxis_showscale\u001b[0m\u001b[0;34m=\u001b[0m\u001b[0;32mFalse\u001b[0m\u001b[0;34m,\u001b[0m \u001b[0mmargin_t\u001b[0m\u001b[0;34m=\u001b[0m\u001b[0;36m10\u001b[0m\u001b[0;34m,\u001b[0m \u001b[0mmargin_b\u001b[0m\u001b[0;34m=\u001b[0m\u001b[0;36m10\u001b[0m\u001b[0;34m,\u001b[0m \u001b[0mmargin_l\u001b[0m\u001b[0;34m=\u001b[0m\u001b[0;36m10\u001b[0m\u001b[0;34m,\u001b[0m \u001b[0mmargin_r\u001b[0m\u001b[0;34m=\u001b[0m\u001b[0;36m10\u001b[0m\u001b[0;34m)\u001b[0m\u001b[0;34m\u001b[0m\u001b[0;34m\u001b[0m\u001b[0m\n\u001b[1;32m     16\u001b[0m \u001b[0;34m\u001b[0m\u001b[0m\n\u001b[0;32m---> 17\u001b[0;31m \u001b[0mjson\u001b[0m\u001b[0;34m.\u001b[0m\u001b[0mdumps\u001b[0m\u001b[0;34m(\u001b[0m\u001b[0mfig\u001b[0m\u001b[0;34m.\u001b[0m\u001b[0mlayout\u001b[0m\u001b[0;34m)\u001b[0m\u001b[0;34m\u001b[0m\u001b[0;34m\u001b[0m\u001b[0m\n\u001b[0m",
      "\u001b[0;32m~/opt/anaconda3/lib/python3.7/json/__init__.py\u001b[0m in \u001b[0;36mdumps\u001b[0;34m(obj, skipkeys, ensure_ascii, check_circular, allow_nan, cls, indent, separators, default, sort_keys, **kw)\u001b[0m\n\u001b[1;32m    229\u001b[0m         \u001b[0mcls\u001b[0m \u001b[0;32mis\u001b[0m \u001b[0;32mNone\u001b[0m \u001b[0;32mand\u001b[0m \u001b[0mindent\u001b[0m \u001b[0;32mis\u001b[0m \u001b[0;32mNone\u001b[0m \u001b[0;32mand\u001b[0m \u001b[0mseparators\u001b[0m \u001b[0;32mis\u001b[0m \u001b[0;32mNone\u001b[0m \u001b[0;32mand\u001b[0m\u001b[0;34m\u001b[0m\u001b[0;34m\u001b[0m\u001b[0m\n\u001b[1;32m    230\u001b[0m         default is None and not sort_keys and not kw):\n\u001b[0;32m--> 231\u001b[0;31m         \u001b[0;32mreturn\u001b[0m \u001b[0m_default_encoder\u001b[0m\u001b[0;34m.\u001b[0m\u001b[0mencode\u001b[0m\u001b[0;34m(\u001b[0m\u001b[0mobj\u001b[0m\u001b[0;34m)\u001b[0m\u001b[0;34m\u001b[0m\u001b[0;34m\u001b[0m\u001b[0m\n\u001b[0m\u001b[1;32m    232\u001b[0m     \u001b[0;32mif\u001b[0m \u001b[0mcls\u001b[0m \u001b[0;32mis\u001b[0m \u001b[0;32mNone\u001b[0m\u001b[0;34m:\u001b[0m\u001b[0;34m\u001b[0m\u001b[0;34m\u001b[0m\u001b[0m\n\u001b[1;32m    233\u001b[0m         \u001b[0mcls\u001b[0m \u001b[0;34m=\u001b[0m \u001b[0mJSONEncoder\u001b[0m\u001b[0;34m\u001b[0m\u001b[0;34m\u001b[0m\u001b[0m\n",
      "\u001b[0;32m~/opt/anaconda3/lib/python3.7/json/encoder.py\u001b[0m in \u001b[0;36mencode\u001b[0;34m(self, o)\u001b[0m\n\u001b[1;32m    197\u001b[0m         \u001b[0;31m# exceptions aren't as detailed.  The list call should be roughly\u001b[0m\u001b[0;34m\u001b[0m\u001b[0;34m\u001b[0m\u001b[0;34m\u001b[0m\u001b[0m\n\u001b[1;32m    198\u001b[0m         \u001b[0;31m# equivalent to the PySequence_Fast that ''.join() would do.\u001b[0m\u001b[0;34m\u001b[0m\u001b[0;34m\u001b[0m\u001b[0;34m\u001b[0m\u001b[0m\n\u001b[0;32m--> 199\u001b[0;31m         \u001b[0mchunks\u001b[0m \u001b[0;34m=\u001b[0m \u001b[0mself\u001b[0m\u001b[0;34m.\u001b[0m\u001b[0miterencode\u001b[0m\u001b[0;34m(\u001b[0m\u001b[0mo\u001b[0m\u001b[0;34m,\u001b[0m \u001b[0m_one_shot\u001b[0m\u001b[0;34m=\u001b[0m\u001b[0;32mTrue\u001b[0m\u001b[0;34m)\u001b[0m\u001b[0;34m\u001b[0m\u001b[0;34m\u001b[0m\u001b[0m\n\u001b[0m\u001b[1;32m    200\u001b[0m         \u001b[0;32mif\u001b[0m \u001b[0;32mnot\u001b[0m \u001b[0misinstance\u001b[0m\u001b[0;34m(\u001b[0m\u001b[0mchunks\u001b[0m\u001b[0;34m,\u001b[0m \u001b[0;34m(\u001b[0m\u001b[0mlist\u001b[0m\u001b[0;34m,\u001b[0m \u001b[0mtuple\u001b[0m\u001b[0;34m)\u001b[0m\u001b[0;34m)\u001b[0m\u001b[0;34m:\u001b[0m\u001b[0;34m\u001b[0m\u001b[0;34m\u001b[0m\u001b[0m\n\u001b[1;32m    201\u001b[0m             \u001b[0mchunks\u001b[0m \u001b[0;34m=\u001b[0m \u001b[0mlist\u001b[0m\u001b[0;34m(\u001b[0m\u001b[0mchunks\u001b[0m\u001b[0;34m)\u001b[0m\u001b[0;34m\u001b[0m\u001b[0;34m\u001b[0m\u001b[0m\n",
      "\u001b[0;32m~/opt/anaconda3/lib/python3.7/json/encoder.py\u001b[0m in \u001b[0;36miterencode\u001b[0;34m(self, o, _one_shot)\u001b[0m\n\u001b[1;32m    255\u001b[0m                 \u001b[0mself\u001b[0m\u001b[0;34m.\u001b[0m\u001b[0mkey_separator\u001b[0m\u001b[0;34m,\u001b[0m \u001b[0mself\u001b[0m\u001b[0;34m.\u001b[0m\u001b[0mitem_separator\u001b[0m\u001b[0;34m,\u001b[0m \u001b[0mself\u001b[0m\u001b[0;34m.\u001b[0m\u001b[0msort_keys\u001b[0m\u001b[0;34m,\u001b[0m\u001b[0;34m\u001b[0m\u001b[0;34m\u001b[0m\u001b[0m\n\u001b[1;32m    256\u001b[0m                 self.skipkeys, _one_shot)\n\u001b[0;32m--> 257\u001b[0;31m         \u001b[0;32mreturn\u001b[0m \u001b[0m_iterencode\u001b[0m\u001b[0;34m(\u001b[0m\u001b[0mo\u001b[0m\u001b[0;34m,\u001b[0m \u001b[0;36m0\u001b[0m\u001b[0;34m)\u001b[0m\u001b[0;34m\u001b[0m\u001b[0;34m\u001b[0m\u001b[0m\n\u001b[0m\u001b[1;32m    258\u001b[0m \u001b[0;34m\u001b[0m\u001b[0m\n\u001b[1;32m    259\u001b[0m def _make_iterencode(markers, _default, _encoder, _indent, _floatstr,\n",
      "\u001b[0;32m~/opt/anaconda3/lib/python3.7/json/encoder.py\u001b[0m in \u001b[0;36mdefault\u001b[0;34m(self, o)\u001b[0m\n\u001b[1;32m    177\u001b[0m \u001b[0;34m\u001b[0m\u001b[0m\n\u001b[1;32m    178\u001b[0m         \"\"\"\n\u001b[0;32m--> 179\u001b[0;31m         raise TypeError(f'Object of type {o.__class__.__name__} '\n\u001b[0m\u001b[1;32m    180\u001b[0m                         f'is not JSON serializable')\n\u001b[1;32m    181\u001b[0m \u001b[0;34m\u001b[0m\u001b[0m\n",
      "\u001b[0;31mTypeError\u001b[0m: Object of type Layout is not JSON serializable"
     ]
    }
   ],
   "source": [
    "df = pd.DataFrame(cumulative_table.append(incremental_table).to_dict(\"records\"))\n",
    "df = df[df[\"Incremental\"] == \"Incremental\"]\n",
    "\n",
    "states_df = pd.read_csv(\"/Users/CharlesFederici/corona_python/dash_app/states.csv\").rename({\"State\":'state_full'}, axis=\"columns\")\n",
    "df = df.merge(states_df, how='left', left_on=['State'], right_on=[\"state_full\"])\n",
    "df['color_field'] = df['Cases']/max(df['Cases'])\n",
    "\n",
    "\n",
    "fig = px.choropleth(df, locations=\"Abbreviation\",\n",
    "                    locationmode='USA-states',\n",
    "                    scope=\"usa\",\n",
    "                    color='color_field', # lifeExp is a column of gapminder\n",
    "                    hover_name=\"State\", # column to add to hover information\n",
    "                    color_continuous_scale=px.colors.sequential.Plasma)\n",
    "fig.update_layout(coloraxis_showscale=False, margin_t=10, margin_b=10, margin_l=10, margin_r=10)\n",
    "\n"
   ]
  },
  {
   "cell_type": "code",
   "execution_count": 483,
   "metadata": {},
   "outputs": [
    {
     "data": {
      "text/plain": [
       "[{'apple': '1', 'banana': '2'}]"
      ]
     },
     "execution_count": 483,
     "metadata": {},
     "output_type": "execute_result"
    }
   ],
   "source": [
    "json.loads(json.dumps([{\"apple\":\"1\", \"banana\":\"2\"}]))"
   ]
  },
  {
   "cell_type": "code",
   "execution_count": null,
   "metadata": {},
   "outputs": [],
   "source": []
  },
  {
   "cell_type": "code",
   "execution_count": 426,
   "metadata": {},
   "outputs": [
    {
     "data": {
      "text/html": [
       "<div>\n",
       "<style scoped>\n",
       "    .dataframe tbody tr th:only-of-type {\n",
       "        vertical-align: middle;\n",
       "    }\n",
       "\n",
       "    .dataframe tbody tr th {\n",
       "        vertical-align: top;\n",
       "    }\n",
       "\n",
       "    .dataframe thead th {\n",
       "        text-align: right;\n",
       "    }\n",
       "</style>\n",
       "<table border=\"1\" class=\"dataframe\">\n",
       "  <thead>\n",
       "    <tr style=\"text-align: right;\">\n",
       "      <th></th>\n",
       "      <th>State</th>\n",
       "      <th>Date</th>\n",
       "      <th>Cases</th>\n",
       "      <th>Deaths</th>\n",
       "      <th>%Positive</th>\n",
       "      <th>Testing-Data-Quality</th>\n",
       "      <th>Incremental</th>\n",
       "    </tr>\n",
       "  </thead>\n",
       "  <tbody>\n",
       "    <tr>\n",
       "      <th>0</th>\n",
       "      <td>Alabama</td>\n",
       "      <td>2020-06-16</td>\n",
       "      <td>26912.0</td>\n",
       "      <td>785.0</td>\n",
       "      <td>8.8%</td>\n",
       "      <td>B</td>\n",
       "      <td>Cumulative</td>\n",
       "    </tr>\n",
       "    <tr>\n",
       "      <th>1</th>\n",
       "      <td>Alaska</td>\n",
       "      <td>2020-06-16</td>\n",
       "      <td>675.0</td>\n",
       "      <td>12.0</td>\n",
       "      <td>0.9%</td>\n",
       "      <td>A</td>\n",
       "      <td>Cumulative</td>\n",
       "    </tr>\n",
       "    <tr>\n",
       "      <th>2</th>\n",
       "      <td>Arizona</td>\n",
       "      <td>2020-06-16</td>\n",
       "      <td>39185.0</td>\n",
       "      <td>1228.0</td>\n",
       "      <td>11.0%</td>\n",
       "      <td>A</td>\n",
       "      <td>Cumulative</td>\n",
       "    </tr>\n",
       "    <tr>\n",
       "      <th>3</th>\n",
       "      <td>Arkansas</td>\n",
       "      <td>2020-06-16</td>\n",
       "      <td>13191.0</td>\n",
       "      <td>188.0</td>\n",
       "      <td>6.4%</td>\n",
       "      <td>A</td>\n",
       "      <td>Cumulative</td>\n",
       "    </tr>\n",
       "    <tr>\n",
       "      <th>4</th>\n",
       "      <td>California</td>\n",
       "      <td>2020-06-16</td>\n",
       "      <td>158961.0</td>\n",
       "      <td>5200.0</td>\n",
       "      <td>5.2%</td>\n",
       "      <td>B</td>\n",
       "      <td>Cumulative</td>\n",
       "    </tr>\n",
       "    <tr>\n",
       "      <th>...</th>\n",
       "      <td>...</td>\n",
       "      <td>...</td>\n",
       "      <td>...</td>\n",
       "      <td>...</td>\n",
       "      <td>...</td>\n",
       "      <td>...</td>\n",
       "      <td>...</td>\n",
       "    </tr>\n",
       "    <tr>\n",
       "      <th>97</th>\n",
       "      <td>Virginia</td>\n",
       "      <td>2020-06-16</td>\n",
       "      <td>445.0</td>\n",
       "      <td>18.0</td>\n",
       "      <td>6.9%</td>\n",
       "      <td>A</td>\n",
       "      <td>Incremental</td>\n",
       "    </tr>\n",
       "    <tr>\n",
       "      <th>98</th>\n",
       "      <td>Washington</td>\n",
       "      <td>2020-06-16</td>\n",
       "      <td>373.0</td>\n",
       "      <td>11.0</td>\n",
       "      <td>3.7%</td>\n",
       "      <td>B</td>\n",
       "      <td>Incremental</td>\n",
       "    </tr>\n",
       "    <tr>\n",
       "      <th>99</th>\n",
       "      <td>West Virginia</td>\n",
       "      <td>2020-06-16</td>\n",
       "      <td>19.0</td>\n",
       "      <td>0.0</td>\n",
       "      <td>0.8%</td>\n",
       "      <td>B</td>\n",
       "      <td>Incremental</td>\n",
       "    </tr>\n",
       "    <tr>\n",
       "      <th>100</th>\n",
       "      <td>Wisconsin</td>\n",
       "      <td>2020-06-16</td>\n",
       "      <td>266.0</td>\n",
       "      <td>9.0</td>\n",
       "      <td>2.4%</td>\n",
       "      <td>A</td>\n",
       "      <td>Incremental</td>\n",
       "    </tr>\n",
       "    <tr>\n",
       "      <th>101</th>\n",
       "      <td>Wyoming</td>\n",
       "      <td>2020-06-16</td>\n",
       "      <td>10.0</td>\n",
       "      <td>0.0</td>\n",
       "      <td>1.6%</td>\n",
       "      <td>C</td>\n",
       "      <td>Incremental</td>\n",
       "    </tr>\n",
       "  </tbody>\n",
       "</table>\n",
       "<p>102 rows × 7 columns</p>\n",
       "</div>"
      ],
      "text/plain": [
       "             State        Date     Cases  Deaths %Positive  \\\n",
       "0          Alabama  2020-06-16   26912.0   785.0      8.8%   \n",
       "1           Alaska  2020-06-16     675.0    12.0      0.9%   \n",
       "2          Arizona  2020-06-16   39185.0  1228.0     11.0%   \n",
       "3         Arkansas  2020-06-16   13191.0   188.0      6.4%   \n",
       "4       California  2020-06-16  158961.0  5200.0      5.2%   \n",
       "..             ...         ...       ...     ...       ...   \n",
       "97        Virginia  2020-06-16     445.0    18.0      6.9%   \n",
       "98      Washington  2020-06-16     373.0    11.0      3.7%   \n",
       "99   West Virginia  2020-06-16      19.0     0.0      0.8%   \n",
       "100      Wisconsin  2020-06-16     266.0     9.0      2.4%   \n",
       "101        Wyoming  2020-06-16      10.0     0.0      1.6%   \n",
       "\n",
       "    Testing-Data-Quality  Incremental  \n",
       "0                      B   Cumulative  \n",
       "1                      A   Cumulative  \n",
       "2                      A   Cumulative  \n",
       "3                      A   Cumulative  \n",
       "4                      B   Cumulative  \n",
       "..                   ...          ...  \n",
       "97                     A  Incremental  \n",
       "98                     B  Incremental  \n",
       "99                     B  Incremental  \n",
       "100                    A  Incremental  \n",
       "101                    C  Incremental  \n",
       "\n",
       "[102 rows x 7 columns]"
      ]
     },
     "execution_count": 426,
     "metadata": {},
     "output_type": "execute_result"
    }
   ],
   "source": [
    "state_table_dict_list = cumulative_table.append(incremental_table).to_dict(\"records\")\n",
    "pd.DataFrame(state_table_dict_list)"
   ]
  },
  {
   "cell_type": "code",
   "execution_count": null,
   "metadata": {},
   "outputs": [],
   "source": []
  }
 ],
 "metadata": {
  "kernelspec": {
   "display_name": "Python 3",
   "language": "python",
   "name": "python3"
  },
  "language_info": {
   "codemirror_mode": {
    "name": "ipython",
    "version": 3
   },
   "file_extension": ".py",
   "mimetype": "text/x-python",
   "name": "python",
   "nbconvert_exporter": "python",
   "pygments_lexer": "ipython3",
   "version": "3.7.6"
  }
 },
 "nbformat": 4,
 "nbformat_minor": 4
}
